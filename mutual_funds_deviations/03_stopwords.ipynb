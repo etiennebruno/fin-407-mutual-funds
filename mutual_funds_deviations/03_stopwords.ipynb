{
 "cells": [
  {
   "cell_type": "markdown",
   "id": "66ad139f",
   "metadata": {},
   "source": [
    "### STOP WORDS LIST COMPLETION"
   ]
  },
  {
   "cell_type": "code",
   "execution_count": null,
   "id": "3c8c6b30",
   "metadata": {},
   "outputs": [],
   "source": [
    "import os\n",
    "import nltk\n",
    "import pickle"
   ]
  },
  {
   "cell_type": "code",
   "execution_count": null,
   "id": "2b6e3991",
   "metadata": {},
   "outputs": [],
   "source": [
    "# Load stopwords and save them into a pickle file\n",
    "path_init = os.path.join('data', 'stopwords', 'stopwords.txt')\n",
    "with open(path_init, 'r') as f:\n",
    "    stop_words = f.read().split('\\n')\n",
    "print(f'Length of initial stop_words : {len(stop_words)}')\n",
    "\n",
    "# Load nltk stop_words list and add difference to our list\n",
    "nltk.download('stopwords')\n",
    "from nltk.corpus import stopwords\n",
    "cachedStopWords = stopwords.words('english')\n",
    "\n",
    "for elem in cachedStopWords:\n",
    "    if elem not in stop_words:\n",
    "        stop_words.append(elem)\n",
    "stop_words = sorted(stop_words)\n",
    "print(f'Length stop_words to be cached as pkl file : {len(stop_words)}')\n",
    "\n",
    "path_pkl = os.path.join('data', 'stopwords', 'stop_words_long.pkl')\n",
    "with open(path_pkl, 'wb') as f:\n",
    "    pickle.dump(stop_words, f)\n",
    "    \n",
    "unpickleFile = open(path_pkl, 'rb')\n",
    "stop_words = pickle.load(unpickleFile)\n",
    "print(f'Length of loaded stop_words list : {len(stop_words)}')"
   ]
  },
  {
   "cell_type": "code",
   "execution_count": null,
   "id": "93f0259f",
   "metadata": {},
   "outputs": [],
   "source": []
  }
 ],
 "metadata": {
  "kernelspec": {
   "display_name": "Python 3 (ipykernel)",
   "language": "python",
   "name": "python3"
  },
  "language_info": {
   "codemirror_mode": {
    "name": "ipython",
    "version": 3
   },
   "file_extension": ".py",
   "mimetype": "text/x-python",
   "name": "python",
   "nbconvert_exporter": "python",
   "pygments_lexer": "ipython3",
   "version": "3.9.12"
  }
 },
 "nbformat": 4,
 "nbformat_minor": 5
}
