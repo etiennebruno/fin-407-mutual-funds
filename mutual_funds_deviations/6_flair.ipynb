{
 "cells": [
  {
   "cell_type": "code",
   "execution_count": 1,
   "outputs": [
    {
     "name": "stderr",
     "output_type": "stream",
     "text": [
      "/opt/anaconda3/lib/python3.8/site-packages/gensim/similarities/__init__.py:15: UserWarning: The gensim.similarities.levenshtein submodule is disabled, because the optional Levenshtein package <https://pypi.org/project/python-Levenshtein/> is unavailable. Install Levenhstein (e.g. `pip install python-Levenshtein`) to suppress this warning.\n",
      "  warnings.warn(msg)\n"
     ]
    }
   ],
   "source": [
    "import flair"
   ],
   "metadata": {
    "collapsed": false,
    "pycharm": {
     "name": "#%%\n"
    }
   }
  },
  {
   "cell_type": "code",
   "execution_count": null,
   "outputs": [],
   "source": [
    "\n",
    "flair_sentiment = flair.models.TextClassifier.load('en-sentiment')\n",
    "s = flair.data.Sentence(txt)\n",
    "flair_sentiment.predict(s)\n",
    "total_sentiment = s.labels\n",
    "total_sentiment\n",
    "s.tag, s.score\n",
    "flair_sentiment.predict(s);\n",
    "s.labels\n",
    "# from flair.data_fetcher import NLPTask\n",
    "from flair.embeddings import WordEmbeddings, FlairEmbeddings, DocumentRNNEmbeddings\n",
    "from flair.models import TextClassifier\n",
    "from flair.trainers import ModelTrainer\n",
    "\n",
    "sec_corpus = flair.datasets.NER_ENGLISH_SEC_FILLINGS()\n",
    "print(sec_corpus.obtain_statistics())\n",
    "word_embeddings = [WordEmbeddings('glove'),\n",
    "                   FlairEmbeddings('news-forward'),\n",
    "                   FlairEmbeddings('news-backward'),\n",
    "                   ]\n",
    "from flair.embeddings import WordEmbeddings, FlairEmbeddings, DocumentPoolEmbeddings  #, Sentence\n",
    "\n",
    "glove_embedding = WordEmbeddings('glove')\n",
    "flair_embedding_forward = FlairEmbeddings('news-forward')\n",
    "flair_embedding_backward = FlairEmbeddings('news-backward')\n",
    "\n",
    "document_embeddings = DocumentPoolEmbeddings([glove_embedding,\n",
    "                                              flair_embedding_backward,\n",
    "                                              flair_embedding_backward],\n",
    "                                             mode='min')\n",
    "document_embeddings: DocumentRNNEmbeddings = DocumentRNNEmbeddings(word_embeddings,\n",
    "                                                                   hidden_size=512,\n",
    "                                                                   reproject_words=True,\n",
    "                                                                   reproject_words_dimension=256,\n",
    "                                                                   )\n",
    "\n",
    "classifier = TextClassifier(document_embeddings, label_type=, multi_label=False)\n",
    "\n",
    "from flair.embeddings import WordEmbeddings, DocumentRNNEmbeddings\n",
    "\n",
    "glove_embedding = WordEmbeddings('glove')\n",
    "\n",
    "document_embeddings = DocumentRNNEmbeddings([glove_embedding])\n",
    "sentence = Sentence('The grass is green . And the sky is blue .')\n",
    "\n",
    "document_embeddings.embed(sentence)\n",
    "\n",
    "print(sentence.get_embedding())\n",
    "df"
   ],
   "metadata": {
    "collapsed": false,
    "pycharm": {
     "name": "#%%\n"
    }
   }
  },
  {
   "cell_type": "code",
   "execution_count": 2,
   "outputs": [],
   "source": [
    "from flair.datasets import UD_ENGLISH\n",
    "from flair.embeddings import WordEmbeddings, StackedEmbeddings\n",
    "from flair.models import SequenceTagger\n",
    "from flair.trainers import ModelTrainer"
   ],
   "metadata": {
    "collapsed": false,
    "pycharm": {
     "name": "#%%\n"
    }
   }
  },
  {
   "cell_type": "code",
   "execution_count": 3,
   "outputs": [
    {
     "name": "stdout",
     "output_type": "stream",
     "text": [
      "2022-05-30 19:59:30,852 Reading data from /Users/zad/.flair/datasets/ner_english_sec_fillings\n",
      "2022-05-30 19:59:30,853 Train: /Users/zad/.flair/datasets/ner_english_sec_fillings/FIN5.txt\n",
      "2022-05-30 19:59:30,854 Dev: None\n",
      "2022-05-30 19:59:30,855 Test: /Users/zad/.flair/datasets/ner_english_sec_fillings/FIN3.txt\n"
     ]
    }
   ],
   "source": [
    "corpus = flair.datasets.NER_ENGLISH_SEC_FILLINGS()"
   ],
   "metadata": {
    "collapsed": false,
    "pycharm": {
     "name": "#%%\n"
    }
   }
  },
  {
   "cell_type": "code",
   "execution_count": 6,
   "outputs": [],
   "source": [
    "label_type = 'pos'"
   ],
   "metadata": {
    "collapsed": false,
    "pycharm": {
     "name": "#%%\n"
    }
   }
  },
  {
   "cell_type": "code",
   "execution_count": 7,
   "outputs": [
    {
     "name": "stdout",
     "output_type": "stream",
     "text": [
      "2022-05-30 20:10:39,500 Computing label dictionary. Progress:\n"
     ]
    },
    {
     "name": "stderr",
     "output_type": "stream",
     "text": [
      "1051it [00:00, 7905.41it/s]"
     ]
    },
    {
     "name": "stdout",
     "output_type": "stream",
     "text": [
      "2022-05-30 20:10:39,637 Dictionary created for label 'pos' with 42 values: NNP (seen 5463 times), NN (seen 4962 times), IN (seen 4239 times), DT (seen 3761 times), CC (seen 2055 times), NNS (seen 2039 times), , (seen 1866 times), JJ (seen 1706 times), CD (seen 1349 times), : (seen 1240 times), . (seen 1218 times), VB (seen 925 times), VBN (seen 915 times), TO (seen 885 times), VBZ (seen 678 times), RB (seen 613 times), MD (seen 440 times), VBG (seen 430 times), VBD (seen 330 times), VBP (seen 291 times)\n"
     ]
    },
    {
     "name": "stderr",
     "output_type": "stream",
     "text": [
      "\n"
     ]
    }
   ],
   "source": [
    "label_dict = corpus.make_label_dictionary(label_type=label_type)"
   ],
   "metadata": {
    "collapsed": false,
    "pycharm": {
     "name": "#%%\n"
    }
   }
  },
  {
   "cell_type": "code",
   "execution_count": 9,
   "outputs": [],
   "source": [
    "# 4. initialize embeddings\n",
    "embedding_types = [\n",
    "\n",
    "    WordEmbeddings('glove'),\n",
    "\n",
    "    # comment in this line to use character embeddings\n",
    "    # CharacterEmbeddings(),\n",
    "\n",
    "    # comment in these lines to use flair embeddings\n",
    "    # FlairEmbeddings('news-forward'),\n",
    "    # FlairEmbeddings('news-backward'),\n",
    "]"
   ],
   "metadata": {
    "collapsed": false,
    "pycharm": {
     "name": "#%%\n"
    }
   }
  },
  {
   "cell_type": "code",
   "execution_count": 10,
   "outputs": [],
   "source": [
    "embeddings = StackedEmbeddings(embeddings=embedding_types)"
   ],
   "metadata": {
    "collapsed": false,
    "pycharm": {
     "name": "#%%\n"
    }
   }
  },
  {
   "cell_type": "code",
   "execution_count": 12,
   "outputs": [
    {
     "name": "stdout",
     "output_type": "stream",
     "text": [
      "2022-05-30 20:11:14,066 SequenceTagger predicts: Dictionary with 42 tags: <unk>, NNP, NN, IN, DT, CC, NNS, ,, JJ, CD, :, ., VB, VBN, TO, VBZ, RB, MD, VBG, VBD, VBP, PRP$, POS, WDT, LS, PRP, NNPS, '', JJR, WRB, JJS, $, ``, -NONE-, PDT, EX, RBR, RP, WP$, -X-, WP, RBS\n"
     ]
    }
   ],
   "source": [
    "# 5. initialize sequence tagger\n",
    "tagger = SequenceTagger(hidden_size=256,\n",
    "                        embeddings=embeddings,\n",
    "                        tag_dictionary=label_dict,\n",
    "                        tag_type=label_type,\n",
    "                        use_crf=True)"
   ],
   "metadata": {
    "collapsed": false,
    "pycharm": {
     "name": "#%%\n"
    }
   }
  },
  {
   "cell_type": "code",
   "execution_count": 13,
   "outputs": [],
   "source": [
    "# 6. initialize trainer\n",
    "trainer = ModelTrainer(tagger, corpus)"
   ],
   "metadata": {
    "collapsed": false,
    "pycharm": {
     "name": "#%%\n"
    }
   }
  },
  {
   "cell_type": "code",
   "execution_count": null,
   "outputs": [
    {
     "name": "stdout",
     "output_type": "stream",
     "text": [
      "2022-05-30 20:11:32,340 ----------------------------------------------------------------------------------------------------\n",
      "2022-05-30 20:11:32,341 Model: \"SequenceTagger(\n",
      "  (embeddings): StackedEmbeddings(\n",
      "    (list_embedding_0): WordEmbeddings(\n",
      "      'glove'\n",
      "      (embedding): Embedding(400001, 100)\n",
      "    )\n",
      "  )\n",
      "  (word_dropout): WordDropout(p=0.05)\n",
      "  (locked_dropout): LockedDropout(p=0.5)\n",
      "  (embedding2nn): Linear(in_features=100, out_features=100, bias=True)\n",
      "  (rnn): LSTM(100, 256, batch_first=True, bidirectional=True)\n",
      "  (linear): Linear(in_features=512, out_features=44, bias=True)\n",
      "  (loss_function): ViterbiLoss()\n",
      "  (crf): CRF()\n",
      ")\"\n",
      "2022-05-30 20:11:32,342 ----------------------------------------------------------------------------------------------------\n",
      "2022-05-30 20:11:32,343 Corpus: \"Corpus: 1051 train + 117 dev + 305 test sentences\"\n",
      "2022-05-30 20:11:32,344 ----------------------------------------------------------------------------------------------------\n",
      "2022-05-30 20:11:32,345 Parameters:\n",
      "2022-05-30 20:11:32,346  - learning_rate: \"0.100000\"\n",
      "2022-05-30 20:11:32,347  - mini_batch_size: \"32\"\n",
      "2022-05-30 20:11:32,348  - patience: \"3\"\n",
      "2022-05-30 20:11:32,349  - anneal_factor: \"0.5\"\n",
      "2022-05-30 20:11:32,352  - max_epochs: \"10\"\n",
      "2022-05-30 20:11:32,355  - shuffle: \"True\"\n",
      "2022-05-30 20:11:32,356  - train_with_dev: \"False\"\n",
      "2022-05-30 20:11:32,357  - batch_growth_annealing: \"False\"\n",
      "2022-05-30 20:11:32,359 ----------------------------------------------------------------------------------------------------\n",
      "2022-05-30 20:11:32,366 Model training base path: \"resources/taggers/example-upos\"\n",
      "2022-05-30 20:11:32,368 ----------------------------------------------------------------------------------------------------\n",
      "2022-05-30 20:11:32,370 Device: cpu\n",
      "2022-05-30 20:11:32,372 ----------------------------------------------------------------------------------------------------\n",
      "2022-05-30 20:11:32,376 Embeddings storage mode: cpu\n",
      "2022-05-30 20:11:32,379 ----------------------------------------------------------------------------------------------------\n",
      "2022-05-30 20:11:38,003 epoch 1 - iter 3/33 - loss 4.07447703 - samples/sec: 17.09 - lr: 0.100000\n",
      "2022-05-30 20:11:49,119 epoch 1 - iter 6/33 - loss 3.73019140 - samples/sec: 8.64 - lr: 0.100000\n",
      "2022-05-30 20:11:53,448 epoch 1 - iter 9/33 - loss 3.58966484 - samples/sec: 22.19 - lr: 0.100000\n",
      "2022-05-30 20:12:00,940 epoch 1 - iter 12/33 - loss 3.46719963 - samples/sec: 12.82 - lr: 0.100000\n",
      "2022-05-30 20:12:07,478 epoch 1 - iter 15/33 - loss 3.38192490 - samples/sec: 14.69 - lr: 0.100000\n",
      "2022-05-30 20:12:09,769 epoch 1 - iter 18/33 - loss 3.35312441 - samples/sec: 41.92 - lr: 0.100000\n"
     ]
    }
   ],
   "source": [
    "# 7. start training\n",
    "trainer.train('resources/taggers/example-upos',\n",
    "              learning_rate=0.1,\n",
    "              mini_batch_size=32,\n",
    "              max_epochs=10)"
   ],
   "metadata": {
    "collapsed": false,
    "pycharm": {
     "name": "#%%\n",
     "is_executing": true
    }
   }
  },
  {
   "cell_type": "code",
   "execution_count": null,
   "outputs": [],
   "source": [
    "# load the model you trained\n",
    "model = SequenceTagger.load('resources/taggers/example-upos/final-model.pt')\n",
    "\n",
    "# create example sentence\n",
    "sentence = Sentence('I love Berlin')\n",
    "\n",
    "# predict tags and print\n",
    "model.predict(sentence)\n",
    "\n",
    "print(sentence.to_tagged_string())"
   ],
   "metadata": {
    "collapsed": false,
    "pycharm": {
     "name": "#%%\n"
    }
   }
  }
 ],
 "metadata": {
  "kernelspec": {
   "display_name": "Python 3",
   "language": "python",
   "name": "python3"
  },
  "language_info": {
   "codemirror_mode": {
    "name": "ipython",
    "version": 2
   },
   "file_extension": ".py",
   "mimetype": "text/x-python",
   "name": "python",
   "nbconvert_exporter": "python",
   "pygments_lexer": "ipython2",
   "version": "2.7.6"
  }
 },
 "nbformat": 4,
 "nbformat_minor": 0
}