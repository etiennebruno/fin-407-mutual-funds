{
 "cells": [
  {
   "cell_type": "code",
   "execution_count": null,
   "outputs": [],
   "source": [
    "from utils import *"
   ],
   "metadata": {
    "collapsed": false,
    "pycharm": {
     "name": "#%%\n"
    }
   }
  },
  {
   "cell_type": "code",
   "execution_count": null,
   "outputs": [],
   "source": [
    "import flair"
   ],
   "metadata": {
    "collapsed": false,
    "pycharm": {
     "name": "#%%\n"
    }
   }
  },
  {
   "cell_type": "code",
   "execution_count": null,
   "outputs": [],
   "source": [
    "\n",
    "flair_sentiment = flair.models.TextClassifier.load('en-sentiment')\n",
    "s = flair.data.Sentence(txt)\n",
    "flair_sentiment.predict(s)\n",
    "total_sentiment = s.labels\n",
    "total_sentiment\n",
    "s.tag, s.score\n",
    "flair_sentiment.predict(s);\n",
    "s.labels\n",
    "# from flair.data_fetcher import NLPTask\n",
    "from flair.embeddings import WordEmbeddings, FlairEmbeddings, DocumentRNNEmbeddings\n",
    "from flair.models import TextClassifier\n",
    "from flair.trainers import ModelTrainer\n",
    "\n",
    "sec_corpus = flair.datasets.NER_ENGLISH_SEC_FILLINGS()\n",
    "print(sec_corpus.obtain_statistics())\n",
    "word_embeddings = [WordEmbeddings('glove'),\n",
    "                   FlairEmbeddings('news-forward'),\n",
    "                   FlairEmbeddings('news-backward'),\n",
    "                   ]\n",
    "from flair.embeddings import WordEmbeddings, FlairEmbeddings, DocumentPoolEmbeddings  #, Sentence\n",
    "\n",
    "glove_embedding = WordEmbeddings('glove')\n",
    "flair_embedding_forward = FlairEmbeddings('news-forward')\n",
    "flair_embedding_backward = FlairEmbeddings('news-backward')\n",
    "\n",
    "document_embeddings = DocumentPoolEmbeddings([glove_embedding,\n",
    "                                              flair_embedding_backward,\n",
    "                                              flair_embedding_backward],\n",
    "                                             mode='min')\n",
    "document_embeddings: DocumentRNNEmbeddings = DocumentRNNEmbeddings(word_embeddings,\n",
    "                                                                   hidden_size=512,\n",
    "                                                                   reproject_words=True,\n",
    "                                                                   reproject_words_dimension=256,\n",
    "                                                                   )\n",
    "\n",
    "classifier = TextClassifier(document_embeddings, label_type=, multi_label=False)\n",
    "\n",
    "from flair.embeddings import WordEmbeddings, DocumentRNNEmbeddings\n",
    "\n",
    "glove_embedding = WordEmbeddings('glove')\n",
    "\n",
    "document_embeddings = DocumentRNNEmbeddings([glove_embedding])\n",
    "sentence = Sentence('The grass is green . And the sky is blue .')\n",
    "\n",
    "document_embeddings.embed(sentence)\n",
    "\n",
    "print(sentence.get_embedding())\n",
    "df"
   ],
   "metadata": {
    "collapsed": false,
    "pycharm": {
     "name": "#%%\n"
    }
   }
  },
  {
   "cell_type": "code",
   "execution_count": null,
   "outputs": [],
   "source": [
    "from flair.datasets import UD_ENGLISH\n",
    "from flair.embeddings import WordEmbeddings, StackedEmbeddings\n",
    "from flair.models import SequenceTagger\n",
    "from flair.trainers import ModelTrainer"
   ],
   "metadata": {
    "collapsed": false,
    "pycharm": {
     "name": "#%%\n"
    }
   }
  },
  {
   "cell_type": "code",
   "execution_count": null,
   "outputs": [],
   "source": [
    "corpus = flair.datasets.NER_ENGLISH_SEC_FILLINGS()"
   ],
   "metadata": {
    "collapsed": false,
    "pycharm": {
     "name": "#%%\n"
    }
   }
  },
  {
   "cell_type": "code",
   "execution_count": null,
   "outputs": [],
   "source": [
    "label_type = 'pos'"
   ],
   "metadata": {
    "collapsed": false,
    "pycharm": {
     "name": "#%%\n"
    }
   }
  },
  {
   "cell_type": "code",
   "execution_count": null,
   "outputs": [],
   "source": [
    "label_dict = corpus.make_label_dictionary(label_type=label_type)"
   ],
   "metadata": {
    "collapsed": false,
    "pycharm": {
     "name": "#%%\n"
    }
   }
  },
  {
   "cell_type": "code",
   "execution_count": null,
   "outputs": [],
   "source": [
    "# 4. initialize embeddings\n",
    "embedding_types = [\n",
    "\n",
    "    WordEmbeddings('glove'),\n",
    "\n",
    "    # comment in this line to use character embeddings\n",
    "    # CharacterEmbeddings(),\n",
    "\n",
    "    # comment in these lines to use flair embeddings\n",
    "    # FlairEmbeddings('news-forward'),\n",
    "    # FlairEmbeddings('news-backward'),\n",
    "]"
   ],
   "metadata": {
    "collapsed": false,
    "pycharm": {
     "name": "#%%\n"
    }
   }
  },
  {
   "cell_type": "code",
   "execution_count": null,
   "outputs": [],
   "source": [
    "embeddings = StackedEmbeddings(embeddings=embedding_types)"
   ],
   "metadata": {
    "collapsed": false,
    "pycharm": {
     "name": "#%%\n"
    }
   }
  },
  {
   "cell_type": "code",
   "execution_count": null,
   "outputs": [],
   "source": [
    "# 5. initialize sequence tagger\n",
    "tagger = TextClassifier(hidden_size=256,\n",
    "                        # embeddings=embeddings,\n",
    "                        # tag_dictionary=label_dict,\n",
    "                        # tag_type=label_type,\n",
    "                        # use_crf=True)"
   ],
   "metadata": {
    "collapsed": false,
    "pycharm": {
     "name": "#%%\n"
    }
   }
  },
  {
   "cell_type": "code",
   "execution_count": null,
   "outputs": [],
   "source": [
    "# 6. initialize trainer\n",
    "trainer = ModelTrainer(tagger, corpus)"
   ],
   "metadata": {
    "collapsed": false,
    "pycharm": {
     "name": "#%%\n"
    }
   }
  },
  {
   "cell_type": "code",
   "execution_count": null,
   "outputs": [],
   "source": [
    "# 7. start training\n",
    "trainer.train('resources/taggers/example-upos',\n",
    "              learning_rate=0.1,\n",
    "              mini_batch_size=32,\n",
    "              max_epochs=10)"
   ],
   "metadata": {
    "collapsed": false,
    "pycharm": {
     "name": "#%%\n"
    }
   }
  },
  {
   "cell_type": "code",
   "execution_count": null,
   "outputs": [],
   "source": [
    "df = df_from_filings()"
   ],
   "metadata": {
    "collapsed": false,
    "pycharm": {
     "name": "#%%\n"
    }
   }
  },
  {
   "cell_type": "code",
   "execution_count": null,
   "outputs": [],
   "source": [
    "df"
   ],
   "metadata": {
    "collapsed": false,
    "pycharm": {
     "name": "#%%\n"
    }
   }
  },
  {
   "cell_type": "code",
   "execution_count": null,
   "outputs": [],
   "source": [
    "from textblob import TextBlob\n",
    "from flair.data import Sentence\n",
    "# load the model you trained\n",
    "model = TextClassifier.load('resources/taggers/example-upos/final-model.pt')\n",
    "\n"
   ],
   "metadata": {
    "collapsed": false,
    "pycharm": {
     "name": "#%%\n"
    }
   }
  },
  {
   "cell_type": "code",
   "execution_count": null,
   "outputs": [],
   "source": [
    "import nltk\n",
    "nltk.download('averaged_perceptron_tagger')"
   ],
   "metadata": {
    "collapsed": false,
    "pycharm": {
     "name": "#%%\n"
    }
   }
  },
  {
   "cell_type": "code",
   "execution_count": null,
   "outputs": [],
   "source": [
    "# create example sentence\n",
    "for sentence in TextBlob(df.text[0]).sentences:\n",
    "    s = Sentence(sentence)\n",
    "    # predict tags and print\n",
    "    model.predict(s)\n",
    "\n",
    "\n",
    "    print(s.tag, s.score)"
   ],
   "metadata": {
    "collapsed": false,
    "pycharm": {
     "name": "#%%\n"
    }
   }
  },
  {
   "cell_type": "code",
   "execution_count": null,
   "outputs": [],
   "source": [
    "sentence.score\n"
   ],
   "metadata": {
    "collapsed": false,
    "pycharm": {
     "name": "#%%\n"
    }
   }
  },
  {
   "cell_type": "code",
   "execution_count": null,
   "outputs": [],
   "source": [
    "TextBlob(df.text[0]).sentences[0]"
   ],
   "metadata": {
    "collapsed": false,
    "pycharm": {
     "name": "#%%\n"
    }
   }
  },
  {
   "cell_type": "code",
   "execution_count": 46,
   "outputs": [
    {
     "name": "stdout",
     "output_type": "stream",
     "text": [
      "LS 0.5226038098335266\n",
      "NNP 0.452282577753067\n",
      "NN 0.592628002166748\n",
      "NN 0.5850546956062317\n",
      "PRP 0.5451674461364746\n",
      "NN 0.5405938029289246\n",
      "NN 0.5732719898223877\n",
      "PRP 0.5248014330863953\n",
      "PRP 0.5237467288970947\n",
      "NN 0.602861762046814\n",
      "PRP 0.523640513420105\n",
      "NNP 0.44740673899650574\n",
      "NNP 0.4598245620727539\n",
      "NN 0.45448875427246094\n",
      "PRP 0.5236288905143738\n",
      "NN 0.5979695320129395\n",
      "DT 0.9386390447616577\n",
      "NN 0.5036590695381165\n",
      "NNP 0.5517086386680603\n",
      "NNP 0.41828852891921997\n",
      "NNP 0.4273374676704407\n",
      "NN 0.5882295370101929\n",
      "NN 0.42913687229156494\n",
      "PRP 0.5331946015357971\n",
      "NN 0.42279863357543945\n",
      "NN 0.5979107022285461\n",
      "PRP 0.5258358716964722\n",
      "NN 0.5056564807891846\n",
      "NN 0.4682164490222931\n",
      "DT 0.9423786401748657\n",
      "NN 0.6137647032737732\n",
      "PRP 0.49864640831947327\n",
      "NNP 0.43346765637397766\n",
      "PRP 0.5430770516395569\n",
      "NNP 0.43728509545326233\n",
      "NN 0.4322200119495392\n",
      "NN 0.4860096871852875\n",
      "NN 0.6079819798469543\n",
      "DT 0.9345417022705078\n",
      "NN 0.4322192966938019\n",
      "NNP 0.4234294295310974\n",
      "NN 0.5196259021759033\n",
      "NN 0.39640605449676514\n",
      "NNP 0.4187186658382416\n",
      "DT 0.948324978351593\n",
      "NN 0.5647856593132019\n",
      "NNP 0.4135495722293854\n",
      "NN 0.6481320261955261\n",
      "NNP 0.45148420333862305\n",
      "NN 0.6126755475997925\n",
      "NNP 0.39035382866859436\n",
      "NN 0.5088720917701721\n",
      "NNP 0.6162674427032471\n",
      "NN 0.559476912021637\n",
      "DT 0.9345417022705078\n",
      "NN 0.5850440263748169\n",
      "CD 0.5536673665046692\n",
      "CD 0.6271578669548035\n",
      "NNP 0.42590466141700745\n",
      "CD 0.5937138795852661\n",
      "CD 0.6230281591415405\n",
      "CD 0.6532461643218994\n",
      "NN 0.6841249465942383\n",
      "NN 0.4322449862957001\n",
      "PRP 0.523640513420105\n",
      "NNP 0.44740673899650574\n",
      "NNP 0.4598245620727539\n",
      "NN 0.4544888138771057\n",
      "NN 0.5979061126708984\n",
      "DT 0.9386390447616577\n",
      "NN 0.5036590695381165\n",
      "NNP 0.5517086386680603\n",
      "DT 0.9345417022705078\n",
      "PRP 0.5427764058113098\n",
      "NNP 0.44726285338401794\n",
      "NNP 0.35427725315093994\n",
      "NN 0.5961350798606873\n",
      "NN 0.44815245270729065\n",
      "NN 0.5227053761482239\n",
      "NN 0.448152631521225\n",
      "NN 0.6492502093315125\n",
      "CD 0.6517797708511353\n",
      "NN 0.4310825765132904\n",
      "CD 0.6899343729019165\n",
      "NN 0.4585062861442566\n",
      "NN 0.4310820400714874\n",
      "CD 0.6425681710243225\n",
      "CD 0.6528735756874084\n",
      "NN 0.4146762192249298\n",
      "NNP 0.6465380191802979\n",
      "NNP 0.5470125079154968\n",
      "CD 0.6516740322113037\n",
      "CD 0.6858533024787903\n",
      "NNP 0.5470125079154968\n",
      "NNP 0.547012448310852\n",
      "NN 0.594917893409729\n",
      "NN 0.553631603717804\n",
      "NN 0.581345796585083\n",
      "NNP 0.42056459188461304\n",
      "NNP 0.41841623187065125\n",
      "NN 0.4188079237937927\n",
      "NN 0.43630319833755493\n",
      "NNP 0.4330786466598511\n",
      "NNP 0.4180922508239746\n",
      "NN 0.5131296515464783\n",
      "NN 0.6740504503250122\n",
      "NN 0.5719956159591675\n",
      "NNP 0.5865075588226318\n",
      "CD 0.46891483664512634\n",
      "NNP 0.4690339267253876\n",
      "NNP 0.42160406708717346\n",
      "DT 0.9340707063674927\n",
      "NNP 0.4183698296546936\n",
      "NNP 0.5510468482971191\n",
      "NN 0.6632978916168213\n",
      "PRP 0.5492669939994812\n",
      "PRP 0.5201753377914429\n",
      "NN 0.47093600034713745\n",
      "NN 0.5865516066551208\n",
      "NN 0.5833806991577148\n",
      "DT 0.9345417022705078\n",
      "NN 0.5368961095809937\n",
      "NN 0.6439853310585022\n",
      "NNP 0.41823941469192505\n",
      "NNP 0.4347672164440155\n",
      "CD 0.5157138109207153\n",
      "NN 0.4932202994823456\n",
      "NNP 0.4243198335170746\n",
      "NN 0.44368240237236023\n",
      "NNP 0.5141161680221558\n",
      "NNP 0.5456736087799072\n",
      "NN 0.48366448283195496\n",
      "NN 0.4404994547367096\n",
      "NN 0.5028715133666992\n",
      "NNP 0.5456802248954773\n",
      "NN 0.5064507722854614\n",
      "NN 0.42922040820121765\n",
      "NN 0.5902587175369263\n",
      "NNP 0.5540876984596252\n",
      "NNP 0.44740650057792664\n",
      "NNP 0.6567325592041016\n",
      "DT 0.9345417022705078\n",
      "NNP 0.44740617275238037\n",
      "NNP 0.44075366854667664\n",
      "NNP 0.44075360894203186\n",
      "NNP 0.41821321845054626\n",
      "NNP 0.4187188744544983\n",
      "NN 0.6962091326713562\n",
      "NN 0.5968839526176453\n",
      "NN 0.5929965972900391\n",
      "NN 0.5929576754570007\n",
      "NN 0.43113741278648376\n",
      "NN 0.5983749628067017\n",
      "DT 0.9365270733833313\n",
      "CD 0.5428130626678467\n",
      "NNP 0.5833209753036499\n",
      "NN 0.46836575865745544\n",
      "PRP 0.524886965751648\n",
      "NN 0.5576789379119873\n",
      "PRP 0.5595962405204773\n",
      "NN 0.5847414135932922\n",
      "NN 0.5546242594718933\n",
      "NN 0.6107989549636841\n",
      "NN 0.5043208599090576\n",
      "NNP 0.41871878504753113\n",
      "PRP 0.524894118309021\n",
      "DT 0.9588728547096252\n",
      "PRP 0.5331946015357971\n",
      "NN 0.42198267579078674\n",
      "PRP 0.524894118309021\n",
      "PRP 0.518503725528717\n",
      "DT 0.9345417022705078\n",
      "DT 0.9292635321617126\n",
      "NNP 0.5543285012245178\n",
      "PRP 0.5248820185661316\n",
      "PRP 0.5214952826499939\n",
      "PRP 0.5428284406661987\n",
      "NNP 0.43645504117012024\n",
      "PRP 0.5248180031776428\n",
      "NNP 0.41956356167793274\n",
      "NNP 0.5540474653244019\n",
      "NNP 0.44423407316207886\n",
      "NN 0.47909387946128845\n",
      "NN 0.5022386908531189\n",
      "NNP 0.45472148060798645\n",
      "CD 0.5422607660293579\n",
      "NN 0.6157850027084351\n",
      "NNP 0.4837735891342163\n",
      "NN 0.6152633428573608\n",
      "NN 0.663303792476654\n",
      "PRP 0.5214923620223999\n",
      "NNP 0.43987563252449036\n",
      "NNP 0.41871902346611023\n",
      "NNP 0.5813479423522949\n",
      "NNP 0.48377466201782227\n",
      "NN 0.45168235898017883\n",
      "NN 0.6152633428573608\n",
      "NNP 0.4192918539047241\n",
      "NNP 0.4186983108520508\n",
      "NN 0.6211046576499939\n",
      "DT 0.9345417022705078\n",
      "NN 0.5893449187278748\n",
      "NNP 0.4209732711315155\n",
      "NN 0.614894688129425\n",
      "CD 0.5407547354698181\n",
      "NN 0.5090482831001282\n",
      "NNP 0.42054563760757446\n",
      "NN 0.4147096872329712\n",
      "DT 0.9575381875038147\n",
      "NNP 0.41871169209480286\n",
      "NN 0.6341188549995422\n",
      "NNP 0.42054569721221924\n",
      "NN 0.5627979040145874\n",
      "NNP 0.6224373579025269\n",
      "NNP 0.42392751574516296\n",
      "NNP 0.4373658001422882\n",
      "NN 0.4192142188549042\n",
      "NN 0.6341008543968201\n",
      "DT 0.9346915483474731\n",
      "NNP 0.4192647337913513\n",
      "NN 0.6043095588684082\n",
      "CD 0.5639162063598633\n",
      "NN 0.6439733505249023\n",
      "NN 0.6158318519592285\n",
      "PRP 0.5239893198013306\n",
      "NNP 0.41613662242889404\n",
      "NN 0.5959619879722595\n",
      "NN 0.5749773383140564\n",
      "NNP 0.45982229709625244\n",
      "NN 0.5959619879722595\n",
      "NN 0.5833806991577148\n",
      "NNP 0.4348042905330658\n",
      "NN 0.4888644516468048\n",
      "NN 0.42460837960243225\n",
      "PRP 0.5485953688621521\n",
      "DT 0.9505072832107544\n",
      "NNP 0.43308666348457336\n",
      "NN 0.5988234877586365\n",
      "NNP 0.41977086663246155\n",
      "DT 0.9561214447021484\n",
      "NN 0.5720404386520386\n",
      "NNP 0.4200073778629303\n",
      "PRP 0.5595358610153198\n",
      "DT 0.9365752935409546\n",
      "NNP 0.42000865936279297\n",
      "NN 0.48931169509887695\n",
      "CD 0.5034782290458679\n",
      "NN 0.42645263671875\n",
      "NNP 0.4176959991455078\n",
      "NNP 0.4215466380119324\n",
      "NN 0.42737582325935364\n",
      "NN 0.5959619879722595\n",
      "NNP 0.3709997534751892\n",
      "NN 0.4463633894920349\n",
      "NN 0.4139387607574463\n",
      "NNP 0.425057053565979\n",
      "NN 0.4464251399040222\n",
      "DT 0.9341652989387512\n",
      "NN 0.6152763366699219\n",
      "CD 0.5495291948318481\n",
      "NN 0.6346886157989502\n",
      "NNP 0.3709997534751892\n",
      "DT 0.9346915483474731\n",
      "PRP 0.5237282514572144\n",
      "NN 0.574975848197937\n",
      "NNP 0.42005476355552673\n",
      "NN 0.5949002504348755\n",
      "NNP 0.43139544129371643\n",
      "NNP 0.4172711968421936\n",
      "LS 0.5094321370124817\n",
      "NN 0.5106489658355713\n",
      "NNP 0.41793307662010193\n",
      "DT 0.9365270733833313\n",
      "DT 0.9295164346694946\n",
      "NN 0.5886202454566956\n",
      "DT 0.9346915483474731\n",
      "CD 0.5768033266067505\n",
      "CD 0.6195476055145264\n",
      "NN 0.6343008279800415\n",
      "CD 0.7108191251754761\n",
      "PRP 0.5223603248596191\n",
      "CD 0.6491593718528748\n",
      "CD 0.6850184798240662\n",
      "CD 0.723281979560852\n",
      "CD 0.6598764657974243\n",
      "CD 0.7070501446723938\n",
      "CD 0.5060104727745056\n",
      "NNP 0.5469307899475098\n",
      "NNP 0.4232262670993805\n",
      "NNP 0.5415700078010559\n",
      "NN 0.5903979539871216\n",
      "NNP 0.40661948919296265\n",
      "DT 0.951962947845459\n",
      "NNP 0.611571192741394\n",
      "NN 0.6813951134681702\n",
      "NNP 0.4559057950973511\n",
      "NN 0.42882251739501953\n",
      "DT 0.9338222146034241\n",
      "NN 0.5432147979736328\n",
      "NNP 0.4579782485961914\n",
      "NN 0.5281878709793091\n",
      "NNP 0.42135336995124817\n",
      "NNP 0.4266655445098877\n",
      "NN 0.5552681088447571\n",
      "PRP 0.5595197677612305\n",
      "NN 0.5460641384124756\n",
      "PRP 0.5595171451568604\n",
      "NN 0.5592084527015686\n",
      "NN 0.4145112633705139\n",
      "PRP 0.5595338940620422\n",
      "NNP 0.6363711953163147\n",
      "NNP 0.3562135398387909\n",
      "NNP 0.44631427526474\n",
      "DT 0.9346915483474731\n",
      "NNP 0.5019720196723938\n",
      "NN 0.5187656283378601\n",
      "NNP 0.5556990504264832\n",
      "NN 0.4510176479816437\n",
      "DT 0.9346915483474731\n",
      "NN 0.5810447931289673\n",
      "NN 0.47177189588546753\n",
      "NN 0.5714558362960815\n",
      "NN 0.6158816814422607\n",
      "NN 0.4656018912792206\n",
      "CD 0.5787031054496765\n",
      "CD 0.6214556694030762\n",
      "CD 0.665550172328949\n",
      "CD 0.7065322399139404\n",
      "CD 0.6420886516571045\n",
      "DT 0.9345417022705078\n",
      "NN 0.6770938634872437\n",
      "NN 0.5829735994338989\n",
      "NN 0.5846800208091736\n",
      "NNP 0.4647507965564728\n",
      "NN 0.5440483689308167\n",
      "NN 0.6808509826660156\n",
      "NNP 0.41941022872924805\n",
      "NNP 0.4237934350967407\n",
      "DT 0.9345417022705078\n",
      "NNP 0.46172648668289185\n",
      "NN 0.5440904498100281\n",
      "DT 0.9472761750221252\n",
      "NNP 0.4547692537307739\n",
      "PRP 0.5082356333732605\n",
      "DT 0.9345417022705078\n",
      "NNP 0.5436502695083618\n",
      "DT 0.9284737706184387\n",
      "NN 0.5375790596008301\n",
      "CD 0.5541082620620728\n",
      "NN 0.6699694395065308\n",
      "DT 0.9479500651359558\n",
      "NNP 0.513727605342865\n",
      "NNP 0.5509019494056702\n",
      "CD 0.574504017829895\n",
      "CD 0.5855464339256287\n",
      "CD 0.6147980093955994\n",
      "NNP 0.6884825825691223\n",
      "CD 0.663362979888916\n",
      "NN 0.59767085313797\n",
      "NN 0.6359685063362122\n",
      "NN 0.3982689678668976\n",
      "NNP 0.4306292235851288\n",
      "NN 0.5155015587806702\n",
      "PRP 0.5350980758666992\n",
      "NNP 0.45687609910964966\n",
      "NN 0.4229110777378082\n",
      "PRP 0.5340306162834167\n",
      "NN 0.6624804735183716\n",
      "NN 0.6624802947044373\n",
      "DT 0.9521328806877136\n",
      "NN 0.4246576428413391\n",
      "NNP 0.43037939071655273\n",
      "NNP 0.430360347032547\n",
      "DT 0.9298110008239746\n",
      "NN 0.4246576428413391\n",
      "NN 0.42465493083000183\n",
      "DT 0.9295288324356079\n",
      "NN 0.4240553081035614\n",
      "PRP 0.5349444150924683\n",
      "PRP 0.534017026424408\n",
      "PRP 0.534000039100647\n",
      "PRP 0.5338733196258545\n",
      "PRP 0.5341159105300903\n",
      "PRP 0.5329713225364685\n",
      "NN 0.4230092167854309\n",
      "NNP 0.4306301474571228\n",
      "NNP 0.4303482174873352\n",
      "NNP 0.5779271721839905\n",
      "NNP 0.5164836645126343\n",
      "PRP 0.5330549478530884\n",
      "NN 0.49533891677856445\n",
      "PRP 0.5328832864761353\n",
      "NN 0.5725613236427307\n",
      "NNP 0.4709489047527313\n",
      "DT 0.9345417022705078\n",
      "NN 0.590440571308136\n",
      "NN 0.4970974624156952\n",
      "NN 0.46043282747268677\n",
      "NNP 0.35089951753616333\n",
      "NNP 0.3508996367454529\n",
      "NN 0.4768850803375244\n",
      "NN 0.48423928022384644\n",
      "NN 0.4694744944572449\n",
      "NN 0.593716561794281\n",
      "PRP 0.5584860444068909\n",
      "NN 0.6541399359703064\n",
      "NN 0.6541395783424377\n",
      "NNP 0.43062907457351685\n",
      "NNP 0.43062907457351685\n",
      "NN 0.6774258613586426\n",
      "PRP 0.5584860444068909\n",
      "NN 0.6541399359703064\n",
      "NN 0.6541395783424377\n",
      "NNP 0.43062907457351685\n",
      "NNP 0.43062907457351685\n",
      "NN 0.6774258613586426\n",
      "NNP 0.5628798604011536\n",
      "NN 0.6000223159790039\n",
      "NN 0.6872175931930542\n",
      "NNP 0.45713552832603455\n",
      "NNP 0.562679648399353\n",
      "NN 0.5694998502731323\n"
     ]
    }
   ],
   "source": [
    "# create example sentence\n",
    "for sentence in TextBlob(df.text[0]).sentences:\n",
    "    s = Sentence(sentence)\n",
    "    # predict tags and print\n",
    "    model.predict(s)\n",
    "\n",
    "\n",
    "    print(s.tag, s.score)"
   ],
   "metadata": {
    "collapsed": false,
    "pycharm": {
     "name": "#%%\n"
    }
   }
  },
  {
   "cell_type": "code",
   "execution_count": 45,
   "outputs": [
    {
     "ename": "AttributeError",
     "evalue": "'Sentence' object has no attribute 'score'",
     "output_type": "error",
     "traceback": [
      "\u001B[0;31m---------------------------------------------------------------------------\u001B[0m",
      "\u001B[0;31mAttributeError\u001B[0m                            Traceback (most recent call last)",
      "\u001B[0;32m<ipython-input-45-f33580314f09>\u001B[0m in \u001B[0;36m<module>\u001B[0;34m\u001B[0m\n\u001B[0;32m----> 1\u001B[0;31m \u001B[0msentence\u001B[0m\u001B[0;34m.\u001B[0m\u001B[0mscore\u001B[0m\u001B[0;34m\u001B[0m\u001B[0;34m\u001B[0m\u001B[0m\n\u001B[0m\u001B[1;32m      2\u001B[0m \u001B[0;34m\u001B[0m\u001B[0m\n",
      "\u001B[0;31mAttributeError\u001B[0m: 'Sentence' object has no attribute 'score'"
     ]
    }
   ],
   "source": [
    "sentence.score\n"
   ],
   "metadata": {
    "collapsed": false,
    "pycharm": {
     "name": "#%%\n"
    }
   }
  },
  {
   "cell_type": "code",
   "execution_count": 36,
   "outputs": [
    {
     "data": {
      "text/plain": "Sentence(\"0000051931-14-000113.txt : 20140131 0000051931-14-000113.hdr.sgml : 20140131 20140131142327ACCESSION NUMBER:0000051931-14-000113CONFORMED SUBMISSION TYPE:N-CSRPUBLIC DOCUMENT COUNT:12CONFORMED PERIOD OF REPORT:20131130FILED AS OF DATE:20140131DATE AS OF CHANGE:20140131EFFECTIVENESS DATE:20140131FILER:COMPANY DATA:COMPANY CONFORMED NAME:AMERICAN FUNDS INFLATION LINKED BOND FUNDCENTRAL INDEX KEY:0001553197IRS NUMBER:000000000STATE OF INCORPORATION:DEFILING VALUES:FORM TYPE:N-CSRSEC ACT:1940 ActSEC FILE NUMBER:811-22746FILM NUMBER:14564185BUSINESS ADDRESS:STREET 1:333 SOUTH HOPE STREET, 55TH FLOORCITY:LOS ANGELESSTATE:CAZIP:90071BUSINESS PHONE:213-486-9200MAIL ADDRESS:STREET 1:333 SOUTH HOPE STREET, 55TH FLOORCITY:LOS ANGELESSTATE:CAZIP:90071 0001553197 S000039115 AMERICAN FUNDS INFLATION LINKED BOND FUND C000120322 Class A C000120323 Class 529-F-1 C000120324 Class R-1 C000120325 Class R-2 C000120326 Class R-3 C000120327 Class R-4 C000120328 Class R-5 C000120329 Class R-6 C000120330 Class B C000120331 Class C C000120332 Class F-1 C000120333 Class F-2 C000120334 Class 529-A C000120335 Class 529-B C000120336 Class 529-C C000120337 Class 529-E N-CSR 1 ilbf_ncsr.htm N-CSR UNITED STATES SECURITIES AND EXCHANGE COMMISSION Washington, D.C. 20549 FORM N-CSR Certified Shareholder Report of Registered Management Investment Companies Investment Company Act File Number: 811-22746 American Funds Inflation Linked Bond Fund (Exact Name of Registrant as Specified in Charter) 6455 Irvine Center Drive Irvine, California 92618 (Address of Principal Executive Offices) Registrant's telephone number, including areacode: (949) 975-5000 Date of fiscal year end: November 30 Date of reporting period: November 30, 2013 Courtney R. Taylor American Funds Inflation Linked Bond Fund 6455 Irvine Center Drive Irvine, California 92618 (Name and Address of Agent for Service) Copies to: Michael Glazer Bingham McCutchen LLP 355 South Grand Avenue, Suite 4400 Los Angeles, California 90071 (Counsel for the Registrant) ITEM 1 – Reports to Stockholders American        Funds Inflation Linked Bond Fund SM Annual        report for the period ended November 30, 2013 American Funds Inflation Linked Bond Fund seeks to provide inflationprotection and income consistent with investment in inflation linked securities.\")"
     },
     "execution_count": 36,
     "metadata": {},
     "output_type": "execute_result"
    }
   ],
   "source": [
    "TextBlob(df.text[0]).sentences[0]"
   ],
   "metadata": {
    "collapsed": false,
    "pycharm": {
     "name": "#%%\n"
    }
   }
  }
 ],
 "metadata": {
  "kernelspec": {
   "display_name": "Python 3",
   "language": "python",
   "name": "python3"
  },
  "language_info": {
   "codemirror_mode": {
    "name": "ipython",
    "version": 2
   },
   "file_extension": ".py",
   "mimetype": "text/x-python",
   "name": "python",
   "nbconvert_exporter": "python",
   "pygments_lexer": "ipython2",
   "version": "2.7.6"
  }
 },
 "nbformat": 4,
 "nbformat_minor": 0
}