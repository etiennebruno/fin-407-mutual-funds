{
 "cells": [
  {
   "cell_type": "code",
   "execution_count": null,
   "id": "ec18039b",
   "metadata": {},
   "outputs": [],
   "source": [
    "from IPython.display import display, HTML\n",
    "display(HTML(\"<style>.container { width:80% !important; }</style>\"))"
   ]
  },
  {
   "cell_type": "markdown",
   "id": "42b07b34",
   "metadata": {},
   "source": [
    "## GET (SEMI-)ANNUAL AVERAGE RETURNS OVER TIME OF THE AVAILABLE FUNDS"
   ]
  },
  {
   "cell_type": "code",
   "execution_count": null,
   "id": "ba6a0c00",
   "metadata": {},
   "outputs": [],
   "source": [
    "import numpy as np"
   ]
  },
  {
   "cell_type": "code",
   "execution_count": null,
   "id": "916c4f53",
   "metadata": {},
   "outputs": [],
   "source": [
    "# Import CIKs from the dataframe of all cleaned filings\n",
    "from utils import *\n",
    "ciks = ', '.join(list(df_from_filings().cik.unique()))"
   ]
  },
  {
   "cell_type": "code",
   "execution_count": null,
   "id": "768ca24e",
   "metadata": {},
   "outputs": [],
   "source": [
    "# Get all cik number available (intersection between our dataframe and the data on CRSP)\n",
    "ciks_data = db.raw_sql(f'''\n",
    "        select distinct comp_cik\n",
    "        from crsp_q_mutualfunds.crsp_cik_map\n",
    "        where comp_cik in ({ciks})\n",
    "''')\n",
    "cik_available = list(ciks_data.comp_cik)\n",
    "cik_available = ', '.join([str(i) for i in cik_available])"
   ]
  },
  {
   "cell_type": "code",
   "execution_count": null,
   "id": "f0984ff5",
   "metadata": {},
   "outputs": [],
   "source": [
    "# With the mapping table of CRSP, get all companies' fund number\n",
    "crsp_fundno_available = db.raw_sql(f'''\n",
    "        select *\n",
    "        from crsp_q_mutualfunds.crsp_cik_map\n",
    "        where comp_cik in ({cik_available})\n",
    "''')\n",
    "crsp_fundno_available"
   ]
  },
  {
   "cell_type": "code",
   "execution_count": null,
   "id": "90850dc7",
   "metadata": {},
   "outputs": [],
   "source": [
    "print(len(crsp_fundno_available['crsp_fundno'].unique()))\n",
    "\n",
    "print(len(crsp_fundno_available['comp_cik'].unique()))"
   ]
  },
  {
   "cell_type": "code",
   "execution_count": null,
   "id": "38c6b42c",
   "metadata": {},
   "outputs": [],
   "source": [
    "# Convert the list of fund numbers to a list of string type for future SQL queries\n",
    "list_float_fundnos = list(crsp_fundno_available.crsp_fundno.unique())\n",
    "crsp_fundno_available_list_str = ', '.join([str(i) for i in list_float_fundnos])"
   ]
  },
  {
   "cell_type": "code",
   "execution_count": null,
   "id": "d2350e42",
   "metadata": {},
   "outputs": [],
   "source": [
    "# Get all available returns for each fund\n",
    "monthly_returns_all_funds = db.raw_sql(f'''\n",
    "        select *\n",
    "        from crsp_q_mutualfunds.monthly_returns\n",
    "        where crsp_fundno in ({crsp_fundno_available_list_str})\n",
    "        order by caldt desc\n",
    "''')\n",
    "monthly_returns_all_funds = pd.merge(left=monthly_returns_all_funds,right=crsp_fundno_available, how='inner', left_on='crsp_fundno', right_on='crsp_fundno')\n",
    "monthly_returns_all_funds"
   ]
  },
  {
   "cell_type": "code",
   "execution_count": null,
   "id": "38646a84",
   "metadata": {},
   "outputs": [],
   "source": [
    "# Create a new dataframe with some statistic and the average return\n",
    "monthly_returns_all_funds_aggregated = monthly_returns_all_funds[['caldt', 'mret', 'comp_cik', 'crsp_fundno']].groupby(by=['comp_cik','caldt']).agg(\n",
    "    count=('crsp_fundno', 'count'),\n",
    "    mret=('mret', 'mean'),\n",
    ")\n",
    "\n",
    "monthly_returns_all_funds_aggregated.sort_values(by=['comp_cik', 'caldt'], inplace=True)\n",
    "\n",
    "# Create temporary column to compute later the cumulative return\n",
    "monthly_returns_all_funds_aggregated['mret_add_1']=monthly_returns_all_funds_aggregated['mret']+1\n",
    "\n",
    "# Compite the cumulative return of each CIK number\n",
    "monthly_returns_all_funds_aggregated['cum_return']=monthly_returns_all_funds_aggregated.groupby(['comp_cik'])['mret_add_1'].cumprod()-1\n",
    "\n",
    "# Display dataframe\n",
    "display(monthly_returns_all_funds_aggregated)"
   ]
  },
  {
   "cell_type": "code",
   "execution_count": null,
   "id": "750e5fc0",
   "metadata": {},
   "outputs": [],
   "source": [
    "df_from_filings()"
   ]
  },
  {
   "cell_type": "code",
   "execution_count": null,
   "id": "5c4aee29",
   "metadata": {},
   "outputs": [],
   "source": [
    "df = monthly_returns_all_funds_aggregated.reset_index()\n",
    "df[df['caldt'].dt.month ==6]"
   ]
  },
  {
   "cell_type": "code",
   "execution_count": null,
   "id": "1cf6a5b9",
   "metadata": {},
   "outputs": [],
   "source": [
    "monthly_returns_all_funds_aggregated.reset_index()['caldt'][0]"
   ]
  },
  {
   "cell_type": "code",
   "execution_count": null,
   "id": "9c76e785",
   "metadata": {},
   "outputs": [],
   "source": []
  }
 ],
 "metadata": {
  "kernelspec": {
   "display_name": "Python 3 (ipykernel)",
   "language": "python",
   "name": "python3"
  },
  "language_info": {
   "codemirror_mode": {
    "name": "ipython",
    "version": 3
   },
   "file_extension": ".py",
   "mimetype": "text/x-python",
   "name": "python",
   "nbconvert_exporter": "python",
   "pygments_lexer": "ipython3",
   "version": "3.9.12"
  }
 },
 "nbformat": 4,
 "nbformat_minor": 5
}
