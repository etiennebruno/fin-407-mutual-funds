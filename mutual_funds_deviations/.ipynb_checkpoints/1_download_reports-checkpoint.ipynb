{
 "cells": [
  {
   "cell_type": "code",
   "execution_count": 1,
   "metadata": {},
   "outputs": [
    {
     "data": {
      "text/html": [
       "<style>.container { width:90% !important; }</style>"
      ],
      "text/plain": [
       "<IPython.core.display.HTML object>"
      ]
     },
     "metadata": {},
     "output_type": "display_data"
    }
   ],
   "source": [
    "import warnings\n",
    "warnings.filterwarnings('ignore')\n",
    "\n",
    "from IPython.core.display import display, HTML\n",
    "display(HTML(\"<style>.container { width:90% !important; }</style>\"))"
   ]
  },
  {
   "cell_type": "code",
   "execution_count": 2,
   "metadata": {
    "pycharm": {
     "name": "#%%\n"
    }
   },
   "outputs": [],
   "source": [
    "from sec_edgar_downloader import Downloader # https://pypi.org/project/sec-edgar-downloader/\n",
    "import pandas as pd\n",
    "import os"
   ]
  },
  {
   "cell_type": "code",
   "execution_count": 3,
   "metadata": {
    "pycharm": {
     "name": "#%%\n"
    }
   },
   "outputs": [],
   "source": [
    "# Save row_data_index\n",
    "download_directory_root = \"/Users/etiennebruno/Library/CloudStorage/OneDrive-epfl.ch/ETIENNE/EPFL/EPFL_Master/MA2_EPFL/fin_407_financial_econometrics/FINE_project/mutual_funds_deviations/data/\"\n",
    "download_directory_index = download_directory_root+\"row_data_index/\""
   ]
  },
  {
   "cell_type": "code",
   "execution_count": 4,
   "metadata": {
    "pycharm": {
     "name": "#%%\n"
    }
   },
   "outputs": [],
   "source": [
    "df = pd.read_csv(download_directory_root+\"/mutual_funds_data.csv\")"
   ]
  },
  {
   "cell_type": "code",
   "execution_count": 5,
   "metadata": {
    "pycharm": {
     "name": "#%%\n"
    }
   },
   "outputs": [
    {
     "data": {
      "text/html": [
       "<div>\n",
       "<style scoped>\n",
       "    .dataframe tbody tr th:only-of-type {\n",
       "        vertical-align: middle;\n",
       "    }\n",
       "\n",
       "    .dataframe tbody tr th {\n",
       "        vertical-align: top;\n",
       "    }\n",
       "\n",
       "    .dataframe thead th {\n",
       "        text-align: right;\n",
       "    }\n",
       "</style>\n",
       "<table border=\"1\" class=\"dataframe\">\n",
       "  <thead>\n",
       "    <tr style=\"text-align: right;\">\n",
       "      <th></th>\n",
       "      <th>CIK</th>\n",
       "      <th>CNAME</th>\n",
       "      <th>FORM_TYPE</th>\n",
       "      <th>FILLING_DATE</th>\n",
       "      <th>TXT_URL</th>\n",
       "      <th>HTML_URL</th>\n",
       "    </tr>\n",
       "  </thead>\n",
       "  <tbody>\n",
       "    <tr>\n",
       "      <th>0</th>\n",
       "      <td>1005942</td>\n",
       "      <td>PUTNAM FUNDS TRUST</td>\n",
       "      <td>N-CSRS</td>\n",
       "      <td>2022-04-28</td>\n",
       "      <td>edgar/data/1005942/0000928816-22-000487.txt</td>\n",
       "      <td>edgar/data/1005942/0000928816-22-000487-index....</td>\n",
       "    </tr>\n",
       "    <tr>\n",
       "      <th>1</th>\n",
       "      <td>1005942</td>\n",
       "      <td>PUTNAM FUNDS TRUST</td>\n",
       "      <td>N-CSRS</td>\n",
       "      <td>2022-04-28</td>\n",
       "      <td>edgar/data/1005942/0000928816-22-000490.txt</td>\n",
       "      <td>edgar/data/1005942/0000928816-22-000490-index....</td>\n",
       "    </tr>\n",
       "    <tr>\n",
       "      <th>2</th>\n",
       "      <td>1005942</td>\n",
       "      <td>PUTNAM FUNDS TRUST</td>\n",
       "      <td>N-CSRS</td>\n",
       "      <td>2022-04-28</td>\n",
       "      <td>edgar/data/1005942/0000928816-22-000492.txt</td>\n",
       "      <td>edgar/data/1005942/0000928816-22-000492-index....</td>\n",
       "    </tr>\n",
       "    <tr>\n",
       "      <th>3</th>\n",
       "      <td>1005942</td>\n",
       "      <td>PUTNAM FUNDS TRUST</td>\n",
       "      <td>N-CSR</td>\n",
       "      <td>2022-04-28</td>\n",
       "      <td>edgar/data/1005942/0000928816-22-000485.txt</td>\n",
       "      <td>edgar/data/1005942/0000928816-22-000485-index....</td>\n",
       "    </tr>\n",
       "    <tr>\n",
       "      <th>4</th>\n",
       "      <td>1021882</td>\n",
       "      <td>VANGUARD SCOTTSDALE FUNDS</td>\n",
       "      <td>N-CSRS</td>\n",
       "      <td>2022-04-27</td>\n",
       "      <td>edgar/data/1021882/0001104659-22-051082.txt</td>\n",
       "      <td>edgar/data/1021882/0001104659-22-051082-index....</td>\n",
       "    </tr>\n",
       "  </tbody>\n",
       "</table>\n",
       "</div>"
      ],
      "text/plain": [
       "       CIK                      CNAME FORM_TYPE FILLING_DATE  \\\n",
       "0  1005942         PUTNAM FUNDS TRUST    N-CSRS   2022-04-28   \n",
       "1  1005942         PUTNAM FUNDS TRUST    N-CSRS   2022-04-28   \n",
       "2  1005942         PUTNAM FUNDS TRUST    N-CSRS   2022-04-28   \n",
       "3  1005942         PUTNAM FUNDS TRUST     N-CSR   2022-04-28   \n",
       "4  1021882  VANGUARD SCOTTSDALE FUNDS    N-CSRS   2022-04-27   \n",
       "\n",
       "                                       TXT_URL  \\\n",
       "0  edgar/data/1005942/0000928816-22-000487.txt   \n",
       "1  edgar/data/1005942/0000928816-22-000490.txt   \n",
       "2  edgar/data/1005942/0000928816-22-000492.txt   \n",
       "3  edgar/data/1005942/0000928816-22-000485.txt   \n",
       "4  edgar/data/1021882/0001104659-22-051082.txt   \n",
       "\n",
       "                                            HTML_URL  \n",
       "0  edgar/data/1005942/0000928816-22-000487-index....  \n",
       "1  edgar/data/1005942/0000928816-22-000490-index....  \n",
       "2  edgar/data/1005942/0000928816-22-000492-index....  \n",
       "3  edgar/data/1005942/0000928816-22-000485-index....  \n",
       "4  edgar/data/1021882/0001104659-22-051082-index....  "
      ]
     },
     "execution_count": 5,
     "metadata": {},
     "output_type": "execute_result"
    }
   ],
   "source": [
    "df.head()"
   ]
  },
  {
   "cell_type": "code",
   "execution_count": 6,
   "metadata": {
    "pycharm": {
     "name": "#%%\n"
    }
   },
   "outputs": [],
   "source": [
    "# Initialize a downloader instance. If no argument is passed\n",
    "# to the constructor, the package will download filings to\n",
    "# the current working directory.\n",
    "dl = Downloader(download_directory_root)"
   ]
  },
  {
   "cell_type": "code",
   "execution_count": 16,
   "metadata": {
    "pycharm": {
     "name": "#%%\n"
    }
   },
   "outputs": [],
   "source": [
    "cik_list = df[\"CIK\"].unique()\n",
    "cik_list_sorted = sorted(cik_list, reverse=True)"
   ]
  },
  {
   "cell_type": "code",
   "execution_count": 34,
   "metadata": {
    "pycharm": {
     "name": "#%%\n"
    }
   },
   "outputs": [
    {
     "name": "stdout",
     "output_type": "stream",
     "text": [
      "471\n"
     ]
    },
    {
     "name": "stderr",
     "output_type": "stream",
     "text": [
      "100%|███████████████████████████████████████████████████████████████████████████████████| 42/42 [04:49<00:00,  6.90s/it]"
     ]
    },
    {
     "name": "stdout",
     "output_type": "stream",
     "text": [
      "CPU times: user 11.4 s, sys: 2.29 s, total: 13.7 s\n",
      "Wall time: 4min 49s\n"
     ]
    },
    {
     "name": "stderr",
     "output_type": "stream",
     "text": [
      "\n"
     ]
    }
   ],
   "source": [
    "%%time\n",
    "\n",
    "DS_STORE = '.DS_Store'\n",
    "\n",
    "try:\n",
    "    fillings_cik = os.listdir('data/sec-edgar-filings')\n",
    "    if DS_STORE in fillings_cik : fillings_cik.remove(DS_STORE)\n",
    "    nb_elem = len(fillings_cik)\n",
    "except:\n",
    "    nb_elem = 0\n",
    "    \n",
    "print(nb_elem)\n",
    "\n",
    "\n",
    "from tqdm import tqdm\n",
    "for cik in tqdm(cik_list_sorted[nb_elem:600]):\n",
    "    dl.get(\"N-CSR\", cik, amount=5, query=\"benchmark\", download_details=False)\n",
    "    dl.get(\"N-CSRS\", cik, amount=5, query=\"benchmark\", download_details=False)"
   ]
  },
  {
   "cell_type": "code",
   "execution_count": null,
   "metadata": {},
   "outputs": [],
   "source": []
  }
 ],
 "metadata": {
  "kernelspec": {
   "display_name": "Python 3 (ipykernel)",
   "language": "python",
   "name": "python3"
  },
  "language_info": {
   "codemirror_mode": {
    "name": "ipython",
    "version": 3
   },
   "file_extension": ".py",
   "mimetype": "text/x-python",
   "name": "python",
   "nbconvert_exporter": "python",
   "pygments_lexer": "ipython3",
   "version": "3.9.12"
  }
 },
 "nbformat": 4,
 "nbformat_minor": 1
}
