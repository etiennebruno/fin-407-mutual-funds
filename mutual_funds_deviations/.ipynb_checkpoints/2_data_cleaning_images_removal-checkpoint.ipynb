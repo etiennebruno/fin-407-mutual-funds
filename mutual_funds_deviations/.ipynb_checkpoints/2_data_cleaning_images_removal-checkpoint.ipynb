{
 "cells": [
  {
   "cell_type": "markdown",
   "id": "5cd73cf5",
   "metadata": {},
   "source": [
    "#### Not working - need \"agent id\""
   ]
  },
  {
   "cell_type": "code",
   "execution_count": null,
   "id": "049cdbd2",
   "metadata": {},
   "outputs": [],
   "source": [
    "from bs4 import BeautifulSoup\n",
    "import requests"
   ]
  },
  {
   "cell_type": "code",
   "execution_count": null,
   "id": "0c5a7668",
   "metadata": {},
   "outputs": [],
   "source": [
    "url = \"https://www.sec.gov/Archives/edgar/data/1041673/0001193125-20-135785.txt\"\n",
    "req = requests.get(url)\n",
    "soup = BeautifulSoup(req.text, \"html.parser\")\n",
    "print(soup.title)"
   ]
  },
  {
   "cell_type": "code",
   "execution_count": null,
   "id": "af3741ba",
   "metadata": {},
   "outputs": [],
   "source": [
    "for link in soup.find_all('a'):\n",
    "    print(link.get('href'))"
   ]
  },
  {
   "cell_type": "markdown",
   "id": "bc06a238",
   "metadata": {},
   "source": [
    "#### Iterate over each filling and clean html data to readible text"
   ]
  },
  {
   "cell_type": "code",
   "execution_count": null,
   "id": "e6da401d",
   "metadata": {},
   "outputs": [],
   "source": [
    "import os\n",
    "from bs4 import BeautifulSoup\n",
    "import re"
   ]
  },
  {
   "cell_type": "code",
   "execution_count": null,
   "id": "7d85dd57",
   "metadata": {
    "pycharm": {
     "name": "#%%\n"
    }
   },
   "outputs": [],
   "source": [
    "# Clean fillings by removing html tags, images and some characters\n",
    "def remove_tags(html):\n",
    "    try:\n",
    "        # parse html content\n",
    "        soup = BeautifulSoup(html, \"html.parser\")\n",
    "        for data in soup(['style', 'script']):\n",
    "            # Remove tags\n",
    "            data.decompose()\n",
    "        #soup = ''.join( c for c in line if  c not in [u'\\t', u'\\n', u'\\xa0'] )\n",
    "        soup = ' '.join(soup.stripped_strings)\n",
    "        soup = re.sub(u'[\\t\\n\\xa0]', '', soup)\n",
    "        extensions_to_remove = ['.gif', '.jpg', '.jpeg', '.png']\n",
    "        for ext in extensions_to_remove:\n",
    "            if ext in soup:\n",
    "                soup_wo_images = soup[:soup.index(ext)]\n",
    "        return soup_wo_images\n",
    "    except :\n",
    "        return None"
   ]
  },
  {
   "cell_type": "code",
   "execution_count": null,
   "id": "0204cd64",
   "metadata": {},
   "outputs": [],
   "source": [
    "import warnings\n",
    "warnings.filterwarnings('ignore')"
   ]
  },
  {
   "cell_type": "code",
   "execution_count": null,
   "id": "76ecf93e",
   "metadata": {},
   "outputs": [],
   "source": [
    "DS_STORE = '.DS_Store'\n",
    "\n",
    "fillings_cik_cleaned=[]\n",
    "try:\n",
    "    fillings_cik_cleaned = os.listdir('data/sec-edgar-filings-cleaned')\n",
    "    if DS_STORE in fillings_cik_cleaned : fillings_cik_cleaned.remove(DS_STORE)\n",
    "    nb_elem = len(fillings_cik_cleaned)\n",
    "except:\n",
    "    nb_elem = 0\n",
    "    \n",
    "print(nb_elem)"
   ]
  },
  {
   "cell_type": "code",
   "execution_count": null,
   "id": "a20915f1",
   "metadata": {
    "pycharm": {
     "is_executing": true
    }
   },
   "outputs": [],
   "source": [
    "fillings_cik = os.listdir('data/sec-edgar-filings')\n",
    "DS_STORE = '.DS_Store'\n",
    "\n",
    "if DS_STORE in fillings_cik : fillings_cik.remove(DS_STORE)\n",
    "n = len(fillings_cik)\n",
    "for i, cik in enumerate(sorted(fillings_cik)) : # all fillings\n",
    "    if cik in fillings_cik_cleaned:\n",
    "        continue\n",
    "    print(f\"{cik} --- {i}/{n} ({i/n*100:.4}%)\", end='\\r')\n",
    "    \n",
    "    path_cik = 'data/sec-edgar-filings/'+str(cik)\n",
    "    report_type = os.listdir(path_cik)\n",
    "    if DS_STORE in report_type : report_type.remove(DS_STORE)\n",
    "    \n",
    "    for rt in report_type : # N-CSR and N-CSRS\n",
    "        path_report_type = path_cik+'/'+str(rt)\n",
    "        report_folder = os.listdir(path_report_type)\n",
    "        if DS_STORE in report_folder : report_folder.remove(DS_STORE)\n",
    "        \n",
    "        for rf in report_folder: # report identity\n",
    "            path_report_folder = path_report_type+'/'+rf\n",
    "            filling = os.listdir(path_report_folder)\n",
    "            \n",
    "            for file in filling: # file submission text\n",
    "                path_file = path_report_folder+'/'+str(file)\n",
    "                #print(\"before\")\n",
    "                with open(path_file, 'r') as f:\n",
    "                    # Prepare new directory where to save the clean / parsed version of the report\n",
    "                    path_clean = \"data/sec-edgar-filings-cleaned/\"+'/'.join(path_file.split('/')[2:-1])\n",
    "                    if not os.path.exists(path_clean):\n",
    "                         os.makedirs(path_clean)\n",
    "                    #print(\"right before\")\n",
    "                    text = remove_tags(f.read())\n",
    "                    #print(\"after\")\n",
    "                    if text is not None:\n",
    "                        #print(\"none ??\")\n",
    "                        # Save in txt file the new SEC report filling\n",
    "                        with open(path_clean+\"/full-submission.txt\", 'w') as f:\n",
    "                            f.write(text)"
   ]
  },
  {
   "cell_type": "markdown",
   "id": "3e27d739",
   "metadata": {},
   "source": [
    "#### Find benchmarks candidates"
   ]
  },
  {
   "cell_type": "code",
   "execution_count": null,
   "id": "89cb22b6",
   "metadata": {},
   "outputs": [],
   "source": [
    "with open('beautifulsoup.txt', 'w') as f:\n",
    "    f.write(text)"
   ]
  },
  {
   "cell_type": "code",
   "execution_count": null,
   "id": "2dd02883",
   "metadata": {},
   "outputs": [],
   "source": [
    "import numpy as np\n",
    "words = text.split()\n",
    "\n",
    "indices = [ i for i, w in enumerate(words) if w.lower() == 'benchmark']\n",
    "\n",
    "for i in indices:\n",
    "    potential = words[i-15:i+15]\n",
    "    potential = [p for p in potential if not p.islower() or p == 'benchmark']\n",
    "    print(' '.join(words[i-15:i+15]), end='\\n\\n')"
   ]
  },
  {
   "cell_type": "code",
   "execution_count": null,
   "id": "db2eb38c",
   "metadata": {},
   "outputs": [],
   "source": [
    "  # Print the extracted data\n",
    "print(remove_tags(req.content))"
   ]
  }
 ],
 "metadata": {
  "kernelspec": {
   "display_name": "Python 3 (ipykernel)",
   "language": "python",
   "name": "python3"
  },
  "language_info": {
   "codemirror_mode": {
    "name": "ipython",
    "version": 3
   },
   "file_extension": ".py",
   "mimetype": "text/x-python",
   "name": "python",
   "nbconvert_exporter": "python",
   "pygments_lexer": "ipython3",
   "version": "3.9.12"
  }
 },
 "nbformat": 4,
 "nbformat_minor": 5
}
