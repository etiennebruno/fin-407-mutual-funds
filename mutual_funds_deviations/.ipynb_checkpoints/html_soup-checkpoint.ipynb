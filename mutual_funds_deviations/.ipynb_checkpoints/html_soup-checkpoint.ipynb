{
 "cells": [
  {
   "cell_type": "code",
   "execution_count": 1,
   "id": "049cdbd2",
   "metadata": {},
   "outputs": [],
   "source": [
    "from bs4 import BeautifulSoup\n",
    "import requests"
   ]
  },
  {
   "cell_type": "code",
   "execution_count": 15,
   "id": "0c5a7668",
   "metadata": {},
   "outputs": [
    {
     "name": "stdout",
     "output_type": "stream",
     "text": [
      "<title>SEC.gov | Request Rate Threshold Exceeded</title>\n"
     ]
    }
   ],
   "source": [
    "url = \"https://www.sec.gov/Archives/edgar/data/1041673/0001193125-20-135785.txt\"\n",
    "req = requests.get(url)\n",
    "soup = BeautifulSoup(req.text, \"html.parser\")\n",
    "print(soup.title)"
   ]
  },
  {
   "cell_type": "code",
   "execution_count": 10,
   "id": "1b7f48e3",
   "metadata": {},
   "outputs": [
    {
     "name": "stdout",
     "output_type": "stream",
     "text": [
      "https://www.sec.gov/developer\n",
      "https://public.govdelivery.com/accounts/USSEC/subscriber/new?topic_id=USSEC_260\n",
      "mailto:opendata@sec.gov\n",
      "#internet\n",
      "None\n"
     ]
    }
   ],
   "source": [
    "for link in soup.find_all('a'):\n",
    "    print(link.get('href'))"
   ]
  },
  {
   "cell_type": "code",
   "execution_count": 1,
   "id": "e6da401d",
   "metadata": {},
   "outputs": [],
   "source": [
    "import os"
   ]
  },
  {
   "cell_type": "code",
   "execution_count": 15,
   "id": "a20915f1",
   "metadata": {},
   "outputs": [
    {
     "name": "stdout",
     "output_type": "stream",
     "text": [
      "0001862971\n",
      "0001796383\n",
      "0001821080\n",
      "0001818105\n",
      "0001798618\n",
      "0001795351\n",
      "0001862970\n",
      "0001804196\n",
      "0001835531\n",
      "0001843181\n",
      "0001793129\n",
      "0001847517\n",
      "0001812923\n",
      "0001857314\n",
      "0001847516\n",
      "0001819559\n",
      "0001847518\n",
      "0001847309\n",
      "0001847307\n",
      "0001855299\n",
      "0001796242\n",
      "0001855066\n",
      "0001845809\n",
      "0001847308\n",
      "0001864208\n",
      "0001847287\n",
      "0001864290\n",
      "0001865389\n",
      "0001860434\n",
      "0001815493\n",
      "0001817159\n",
      "0001833936\n",
      "0001847286\n",
      "0001861115\n",
      "0001847281\n",
      "0001847288\n",
      "0001810523\n",
      "0001850862\n",
      "0001835068\n",
      "0001842754\n",
      "0001814390\n",
      "0001843263\n",
      "0001806095\n",
      "0001864843\n",
      "0001823387\n",
      "0001847290\n",
      "0001794287\n",
      "0001793855\n",
      "0001852344\n",
      "0001836057\n",
      "0001821505\n",
      "0001816389\n",
      "0001818416\n",
      "0001815558\n",
      "0001841440\n",
      "0001833032\n",
      "0001811168\n",
      "0001816125\n",
      "0001847303\n",
      "0001854370\n",
      "0001847304\n",
      "0001829774\n",
      "0001870714\n",
      "0001847305\n",
      "0001847302\n",
      "0001866278\n",
      "0001809541\n",
      "0001830437\n",
      "0001831313\n",
      "0001843995\n",
      "0001807486\n",
      "0001810747\n",
      "0001820378\n",
      "0001807333\n",
      "0001807334\n",
      "0001847284\n",
      "0001847283\n",
      "0001793882\n",
      "0001803958\n",
      "0001847282\n",
      "0001843841\n"
     ]
    }
   ],
   "source": [
    "fillings_cik = os.listdir('data/sec-edgar-filings')\n",
    "DS_STORE = '.DS_Store'\n",
    "\n",
    "for cik in fillings_cik :\n",
    "    if cik == DS_STORE:\n",
    "        continue\n",
    "    report_type = os.listdir('data/sec-edgar-filings/'+str(cik))\n",
    "    for type in "
   ]
  },
  {
   "cell_type": "code",
   "execution_count": 23,
   "id": "9cdc414b",
   "metadata": {},
   "outputs": [],
   "source": [
    "# Import Module\n",
    "from bs4 import BeautifulSoup\n",
    "  \n",
    "# HTML Document\n",
    "HTML_DOC = \"\"\"\n",
    "              <html>\n",
    "                <head>\n",
    "                    <title> Geeksforgeeks </title>\n",
    "                    <style>.call {background-color:black;} </style>\n",
    "                    <script>getit</script>\n",
    "                </head>\n",
    "                <body>\n",
    "                    is a\n",
    "                    <div>Computer Science portal.</div>\n",
    "                </body>\n",
    "              </html>\n",
    "            \"\"\"\n",
    "  \n",
    "# Function to remove tags\n",
    "def remove_tags(html):\n",
    "  \n",
    "    # parse html content\n",
    "    soup = BeautifulSoup(html, \"html.parser\")\n",
    "  \n",
    "    for data in soup(['style', 'script']):\n",
    "        # Remove tags\n",
    "        data.decompose()\n",
    "  \n",
    "    # return data by retrieving the tag content\n",
    "    return ' '.join(soup.stripped_strings)"
   ]
  },
  {
   "cell_type": "code",
   "execution_count": 28,
   "id": "db2eb38c",
   "metadata": {},
   "outputs": [
    {
     "name": "stdout",
     "output_type": "stream",
     "text": [
      "SEC.gov | Request Rate Threshold Exceeded U.S. Securities and Exchange Commission Your Request Originates from an Undeclared Automated Tool To allow for equitable access to all users, SEC reserves the right to limit requests originating from undeclared automated tools. Your request has been identified as part of a network of automated tools outside of the acceptable policy and will be managed until action is taken to declare your traffic. Please declare your traffic by updating your user agent to include company specific information. For best practices on efficiently downloading information from SEC.gov, including the latest EDGAR filings, visit sec.gov/developer . You can also sign up for email updates on the SEC open data program, including best practices that make it more efficient to download data, and SEC.gov enhancements that may impact scripted downloading processes. For more information, contact opendata@sec.gov . For more information, please see the SEC’s Web Site Privacy and Security Policy . Thank you for your interest in the U.S. Securities and Exchange Commission. Reference ID: 0.87ae0017.1651167755.2509b66a More Information Internet Security Policy By using this site, you are agreeing to security monitoring and auditing. For security purposes, and to ensure that the public service remains available to users, this government computer system employs programs to monitor network traffic to identify unauthorized attempts to upload or change information or to otherwise cause damage, including attempts to deny service to users. Unauthorized attempts to upload information and/or change information on any portion of this site are strictly prohibited and are subject to prosecution under the Computer Fraud and Abuse Act of 1986 and the National Information Infrastructure Protection Act of 1996 (see Title 18 U.S.C. §§ 1001 and 1030). To ensure our website performs well for all users, the SEC monitors the frequency of requests for SEC.gov content to ensure automated searches do not impact the ability of others to access SEC.gov content. We reserve the right to block IP addresses that submit excessive requests.  Current guidelines limit users to a total of no more than 10 requests per second, regardless of the number of machines used to submit requests. If a user or application submits more than 10 requests per second, further requests from the IP address(es) may be limited for a brief period. Once the rate of requests has dropped below the threshold for 10 minutes, the user may resume accessing content on SEC.gov. This SEC practice is designed to limit excessive automated searches on SEC.gov and is not intended or expected to impact individuals browsing the SEC.gov website. Note that this policy may change as the SEC manages SEC.gov to ensure that the website performs efficiently and remains available to all users. Note: We do not offer technical support for developing or debugging scripted downloading processes.\n"
     ]
    }
   ],
   "source": [
    "  \n",
    "# Print the extracted data\n",
    "print(remove_tags(req.content))"
   ]
  },
  {
   "cell_type": "code",
   "execution_count": null,
   "id": "c80e1567",
   "metadata": {},
   "outputs": [],
   "source": []
  }
 ],
 "metadata": {
  "kernelspec": {
   "display_name": "Python 3 (ipykernel)",
   "language": "python",
   "name": "python3"
  },
  "language_info": {
   "codemirror_mode": {
    "name": "ipython",
    "version": 3
   },
   "file_extension": ".py",
   "mimetype": "text/x-python",
   "name": "python",
   "nbconvert_exporter": "python",
   "pygments_lexer": "ipython3",
   "version": "3.9.12"
  }
 },
 "nbformat": 4,
 "nbformat_minor": 5
}
