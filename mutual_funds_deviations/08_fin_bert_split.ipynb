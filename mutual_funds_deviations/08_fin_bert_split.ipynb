{
 "cells": [
  {
   "cell_type": "markdown",
   "metadata": {
    "pycharm": {
     "name": "#%% md\n"
    }
   },
   "source": [
    "Reference: [Apply Transformers to Any Length of Text](https://towardsdatascience.com/how-to-apply-transformers-to-any-length-of-text-a5601410af7f)"
   ]
  },
  {
   "cell_type": "markdown",
   "metadata": {
    "pycharm": {
     "name": "#%% md\n"
    }
   },
   "source": [
    "## IMPORT FIN-BERT MODEL"
   ]
  },
  {
   "cell_type": "code",
   "execution_count": null,
   "metadata": {
    "pycharm": {
     "name": "#%%\n"
    }
   },
   "outputs": [],
   "source": [
    "from utils import *\n",
    "from transformers import BertForSequenceClassification, BertTokenizer\n",
    "import torch\n",
    "\n",
    "tokenizer = BertTokenizer.from_pretrained('ProsusAI/finbert')\n",
    "model = BertForSequenceClassification.from_pretrained('ProsusAI/finbert')"
   ]
  },
  {
   "cell_type": "code",
   "execution_count": null,
   "metadata": {
    "pycharm": {
     "name": "#%%\n"
    }
   },
   "outputs": [],
   "source": [
    "def predict_finbert(txt):\n",
    "    # tokenizer = BertTokenizer.from_pretrained('ProsusAI/finbert')\n",
    "    # model = BertForSequenceClassification.from_pretrained('ProsusAI/finbert')\n",
    "    ### Tokenizer\n",
    "    # Standard way (does not split, not what we want)\n",
    "    # tokens = tokenizer.encode_plus(\n",
    "    #     txt, add_special_tokens=True,\n",
    "    #     max_length=512, truncation=True,\n",
    "    #     padding=\"max_length\"\n",
    "    # )\n",
    "    # Modified tokenizer (the one we need)\n",
    "    tokens = tokenizer.encode_plus(txt, add_special_tokens=False,\n",
    "                                   return_tensors='pt')\n",
    "\n",
    "    ### Split\n",
    "    #chunks of 510 not 512 to leave two places spare to add our [CLS] and [SEP] tokens.\n",
    "    # input_id_chunks = tokens['input_ids'][0].split(510)\n",
    "    # mask_chunks = tokens['attention_mask'][0].split(510)\n",
    "\n",
    "    # 'Chunk lengths: ' + ', '.join([str(len(_)) for _ in input_id_chunks])\n",
    "    ### Padding\n",
    "    # define target chunksize\n",
    "    chunksize = 512\n",
    "\n",
    "    # split into chunks of 510 tokens, we also convert to list (default is tuple which is immutable)\n",
    "    input_id_chunks = list(tokens['input_ids'][0].split(chunksize - 2))\n",
    "    mask_chunks = list(tokens['attention_mask'][0].split(chunksize - 2))\n",
    "\n",
    "    # loop through each chunk\n",
    "    for i in range(len(input_id_chunks)):\n",
    "        # add CLS and SEP tokens to input IDs\n",
    "        input_id_chunks[i] = torch.cat([\n",
    "            torch.tensor([101]), input_id_chunks[i], torch.tensor([102])\n",
    "        ])\n",
    "        # add attention tokens to attention mask\n",
    "        mask_chunks[i] = torch.cat([\n",
    "            torch.tensor([1]), mask_chunks[i], torch.tensor([1])\n",
    "        ])\n",
    "        # get required padding length\n",
    "        pad_len = chunksize - input_id_chunks[i].shape[0]\n",
    "        # check if tensor length satisfies required chunk size\n",
    "        if pad_len > 0:\n",
    "            # if padding length is more than 0, we must add padding\n",
    "            input_id_chunks[i] = torch.cat([\n",
    "                input_id_chunks[i], torch.Tensor([0] * pad_len)\n",
    "            ])\n",
    "            mask_chunks[i] = torch.cat([\n",
    "                mask_chunks[i], torch.Tensor([0] * pad_len)\n",
    "            ])\n",
    "\n",
    "    # check length of each tensor\n",
    "    # for chunk in input_id_chunks:\n",
    "    #     print(len(chunk))\n",
    "    # print final chunk so we can see 101, 102, and 0 (PAD) tokens are all correctly placed\n",
    "    \n",
    "    input_ids = torch.stack(input_id_chunks)\n",
    "    attention_mask = torch.stack(mask_chunks)\n",
    "\n",
    "    input_dict = {\n",
    "        'input_ids': input_ids.long(),\n",
    "        'attention_mask': attention_mask.int()\n",
    "    }\n",
    "    input_dict\n",
    "    outputs = model(**input_dict)\n",
    "    probs = torch.nn.functional.softmax(outputs[0], dim=-1)\n",
    "    probs = probs.mean(dim=0)\n",
    "    probs = probs.tolist() #outputs: positive negative neutral\n",
    "    print(probs)\n",
    "    return probs"
   ]
  },
  {
   "cell_type": "code",
   "execution_count": null,
   "metadata": {},
   "outputs": [],
   "source": [
    "path_finbert_df = os.path.join('data', 'sentiment_analysis', 'df_finbert_predictions.pkl')"
   ]
  },
  {
   "cell_type": "code",
   "execution_count": null,
   "metadata": {},
   "outputs": [],
   "source": [
    "# Reset FINBERT analysis results\n",
    "\n",
    "#df = df_from_filings()\n",
    "#df['finbert_positive'], df['finbert_negative'], df['finbert_neutral'] = zip(*df.text.apply(lambda x : [None, None, None]))\n",
    "#df.to_pickle(path_finbert_df)"
   ]
  },
  {
   "cell_type": "code",
   "execution_count": null,
   "metadata": {
    "pycharm": {
     "name": "#%%\n"
    }
   },
   "outputs": [],
   "source": [
    "# Load pickle file with analysis results of FINBERT\n",
    "# df = load_pkl(path_finbert_df)"
   ]
  },
  {
   "cell_type": "code",
   "execution_count": null,
   "metadata": {
    "pycharm": {
     "is_executing": true,
     "name": "#%%\n"
    }
   },
   "outputs": [],
   "source": [
    "# %%time\n",
    "# df['finbert_positive'], df['finbert_negative'], df['finbert_neutral'] = zip(*df.text.apply(lambda txt: predict_finbert(txt)))"
   ]
  },
  {
   "cell_type": "code",
   "execution_count": null,
   "metadata": {
    "pycharm": {
     "name": "#%%\n"
    }
   },
   "outputs": [],
   "source": [
    "%%time\n",
    "from IPython.display import clear_output\n",
    "\n",
    "step = 5\n",
    "for i in range (0, 2000, step):\n",
    "    df = load_pkl(path_finbert_df)\n",
    "    mask = df.finbert_positive.isna()\n",
    "    nb_analzed = len(mask[mask==False])\n",
    "    mask = mask & mask.nlargest(step)\n",
    "    print(f'Number of analyzed texts : {nb_analzed}')\n",
    "    df.loc[mask,'finbert_positive'], df.loc[mask,'finbert_negative'], df.loc[mask,'finbert_neutral'] = zip(*df[mask].apply(lambda row: predict_finbert(row['text']) if not row['finbert_positive'] else [row['finbert_positive'], row['finbert_negative'], row['finbert_neutral']], axis=1))\n",
    "    df.to_pickle(path_finbert_df)\n",
    "    clear_output(wait=False)"
   ]
  },
  {
   "cell_type": "code",
   "execution_count": null,
   "metadata": {},
   "outputs": [],
   "source": [
    "# Eliminate text data from the dataframe to save space and reduce the size of file containing the predictions\n",
    "df = df.drop(['text'], axis=1)\n",
    "save_pkl(df, path_finbert_df)"
   ]
  }
 ],
 "metadata": {
  "kernelspec": {
   "display_name": "Python 3 (ipykernel)",
   "language": "python",
   "name": "python3"
  },
  "language_info": {
   "codemirror_mode": {
    "name": "ipython",
    "version": 3
   },
   "file_extension": ".py",
   "mimetype": "text/x-python",
   "name": "python",
   "nbconvert_exporter": "python",
   "pygments_lexer": "ipython3",
   "version": "3.9.12"
  }
 },
 "nbformat": 4,
 "nbformat_minor": 1
}
