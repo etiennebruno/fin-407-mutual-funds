{
 "cells": [
  {
   "cell_type": "code",
   "execution_count": 1,
   "metadata": {
    "pycharm": {
     "name": "#%%\n"
    }
   },
   "outputs": [
    {
     "data": {
      "text/html": [
       "<style>.container { width:90% !important; }</style>"
      ],
      "text/plain": [
       "<IPython.core.display.HTML object>"
      ]
     },
     "metadata": {},
     "output_type": "display_data"
    }
   ],
   "source": [
    "import warnings\n",
    "warnings.filterwarnings('ignore')\n",
    "\n",
    "from IPython.core.display import display, HTML\n",
    "display(HTML(\"<style>.container { width:90% !important; }</style>\"))\n",
    "\n",
    "from sec_edgar_downloader import Downloader # https://pypi.org/project/sec-edgar-downloader/\n",
    "import pandas as pd\n",
    "import os"
   ]
  },
  {
   "cell_type": "code",
   "execution_count": 2,
   "metadata": {
    "pycharm": {
     "name": "#%%\n"
    }
   },
   "outputs": [],
   "source": [
    "# Save row_data_index\n",
    "download_directory_root = os.path.join(os.getcwd(), 'data')\n",
    "download_directory_index = os.path.join(download_directory_root, 'row_data_index')"
   ]
  },
  {
   "cell_type": "code",
   "execution_count": 3,
   "metadata": {
    "pycharm": {
     "name": "#%%\n"
    }
   },
   "outputs": [],
   "source": [
    "# Initialize a downloader instance. If no argument is passed\n",
    "# to the constructor, the package will download filings to\n",
    "# the current working directory.\n",
    "dl = Downloader(download_directory_root)"
   ]
  },
  {
   "cell_type": "markdown",
   "metadata": {},
   "source": [
    "## LOAD INDEX FILE"
   ]
  },
  {
   "cell_type": "code",
   "execution_count": 4,
   "metadata": {
    "pycharm": {
     "name": "#%%\n"
    }
   },
   "outputs": [],
   "source": [
    "path = os.path.join(download_directory_root, 'mutual_funds_data.csv')\n",
    "df = pd.read_csv(path)"
   ]
  },
  {
   "cell_type": "code",
   "execution_count": 5,
   "metadata": {
    "pycharm": {
     "name": "#%%\n"
    }
   },
   "outputs": [
    {
     "data": {
      "text/html": [
       "<div>\n",
       "<style scoped>\n",
       "    .dataframe tbody tr th:only-of-type {\n",
       "        vertical-align: middle;\n",
       "    }\n",
       "\n",
       "    .dataframe tbody tr th {\n",
       "        vertical-align: top;\n",
       "    }\n",
       "\n",
       "    .dataframe thead th {\n",
       "        text-align: right;\n",
       "    }\n",
       "</style>\n",
       "<table border=\"1\" class=\"dataframe\">\n",
       "  <thead>\n",
       "    <tr style=\"text-align: right;\">\n",
       "      <th></th>\n",
       "      <th>CIK</th>\n",
       "      <th>CNAME</th>\n",
       "      <th>FORM_TYPE</th>\n",
       "      <th>FILLING_DATE</th>\n",
       "      <th>TXT_URL</th>\n",
       "      <th>HTML_URL</th>\n",
       "    </tr>\n",
       "  </thead>\n",
       "  <tbody>\n",
       "    <tr>\n",
       "      <th>0</th>\n",
       "      <td>1000351</td>\n",
       "      <td>LEUTHOLD FUNDS INC</td>\n",
       "      <td>N-CSRS</td>\n",
       "      <td>2022-06-02</td>\n",
       "      <td>edgar/data/1000351/0000894189-22-004153.txt</td>\n",
       "      <td>edgar/data/1000351/0000894189-22-004153-index....</td>\n",
       "    </tr>\n",
       "    <tr>\n",
       "      <th>1</th>\n",
       "      <td>1003239</td>\n",
       "      <td>SEASONS SERIES TRUST</td>\n",
       "      <td>N-CSR</td>\n",
       "      <td>2022-06-08</td>\n",
       "      <td>edgar/data/1003239/0001104659-22-069195.txt</td>\n",
       "      <td>edgar/data/1003239/0001104659-22-069195-index....</td>\n",
       "    </tr>\n",
       "    <tr>\n",
       "      <th>2</th>\n",
       "      <td>1003632</td>\n",
       "      <td>SEI ASSET ALLOCATION TRUST</td>\n",
       "      <td>N-CSR</td>\n",
       "      <td>2022-06-08</td>\n",
       "      <td>edgar/data/1003632/0001398344-22-011683.txt</td>\n",
       "      <td>edgar/data/1003632/0001398344-22-011683-index....</td>\n",
       "    </tr>\n",
       "    <tr>\n",
       "      <th>3</th>\n",
       "      <td>1005020</td>\n",
       "      <td>VIRTUS OPPORTUNITIES TRUST</td>\n",
       "      <td>N-CSRS</td>\n",
       "      <td>2022-06-03</td>\n",
       "      <td>edgar/data/1005020/0001193125-22-166941.txt</td>\n",
       "      <td>edgar/data/1005020/0001193125-22-166941-index....</td>\n",
       "    </tr>\n",
       "    <tr>\n",
       "      <th>4</th>\n",
       "      <td>1005942</td>\n",
       "      <td>PUTNAM FUNDS TRUST</td>\n",
       "      <td>N-CSRS</td>\n",
       "      <td>2022-04-28</td>\n",
       "      <td>edgar/data/1005942/0000928816-22-000487.txt</td>\n",
       "      <td>edgar/data/1005942/0000928816-22-000487-index....</td>\n",
       "    </tr>\n",
       "  </tbody>\n",
       "</table>\n",
       "</div>"
      ],
      "text/plain": [
       "       CIK                       CNAME FORM_TYPE FILLING_DATE  \\\n",
       "0  1000351          LEUTHOLD FUNDS INC    N-CSRS   2022-06-02   \n",
       "1  1003239        SEASONS SERIES TRUST     N-CSR   2022-06-08   \n",
       "2  1003632  SEI ASSET ALLOCATION TRUST     N-CSR   2022-06-08   \n",
       "3  1005020  VIRTUS OPPORTUNITIES TRUST    N-CSRS   2022-06-03   \n",
       "4  1005942          PUTNAM FUNDS TRUST    N-CSRS   2022-04-28   \n",
       "\n",
       "                                       TXT_URL  \\\n",
       "0  edgar/data/1000351/0000894189-22-004153.txt   \n",
       "1  edgar/data/1003239/0001104659-22-069195.txt   \n",
       "2  edgar/data/1003632/0001398344-22-011683.txt   \n",
       "3  edgar/data/1005020/0001193125-22-166941.txt   \n",
       "4  edgar/data/1005942/0000928816-22-000487.txt   \n",
       "\n",
       "                                            HTML_URL  \n",
       "0  edgar/data/1000351/0000894189-22-004153-index....  \n",
       "1  edgar/data/1003239/0001104659-22-069195-index....  \n",
       "2  edgar/data/1003632/0001398344-22-011683-index....  \n",
       "3  edgar/data/1005020/0001193125-22-166941-index....  \n",
       "4  edgar/data/1005942/0000928816-22-000487-index....  "
      ]
     },
     "execution_count": 5,
     "metadata": {},
     "output_type": "execute_result"
    }
   ],
   "source": [
    "df.head()"
   ]
  },
  {
   "cell_type": "code",
   "execution_count": 6,
   "metadata": {},
   "outputs": [
    {
     "data": {
      "text/plain": [
       "4350"
      ]
     },
     "execution_count": 6,
     "metadata": {},
     "output_type": "execute_result"
    }
   ],
   "source": [
    "df.CIK.unique().size"
   ]
  },
  {
   "cell_type": "markdown",
   "metadata": {},
   "source": [
    "<div class=\"alert alert-block alert-info\">\n",
    "<b>IMPROVEMENT COMPARED TO PREVIOUS VERSION:</b> In this situation, we check that the CIK of files we are going to downlaod are also available on the CRSP database. So we only download report for which we can find performances / returns online. In addition, we also filter out the companies which have more than 1 mutual fund. This is to ensure that we get the return of the fund for which we have performed the sentiment analysis.\n",
    "</div>"
   ]
  },
  {
   "cell_type": "code",
   "execution_count": 7,
   "metadata": {},
   "outputs": [
    {
     "name": "stdout",
     "output_type": "stream",
     "text": [
      "Loading library list...\n",
      "Done\n"
     ]
    }
   ],
   "source": [
    "# Connection to WRDS\n",
    "import wrds\n",
    "db = wrds.Connection(wrds_username='etiennebruno')\n",
    "\n",
    "from utils import save_pkl"
   ]
  },
  {
   "cell_type": "code",
   "execution_count": 8,
   "metadata": {
    "pycharm": {
     "name": "#%%\n"
    }
   },
   "outputs": [],
   "source": [
    "cik_list = df[\"CIK\"].unique()\n",
    "cik_list_sorted = sorted(cik_list, reverse=True)\n",
    "cik_list_sorted_str = ', '.join([str(i) for i in cik_list_sorted])"
   ]
  },
  {
   "cell_type": "code",
   "execution_count": 9,
   "metadata": {},
   "outputs": [
    {
     "name": "stdout",
     "output_type": "stream",
     "text": [
      "Number of CIK available to download : 1610\n"
     ]
    }
   ],
   "source": [
    "# Get all cik number available (intersection between our data and the data on CRSP)\n",
    "ciks_data = db.raw_sql(f'''\n",
    "        select distinct comp_cik\n",
    "        from crsp_q_mutualfunds.crsp_cik_map\n",
    "        where comp_cik in ({cik_list_sorted_str})\n",
    "''')\n",
    "cik_available = list(ciks_data.comp_cik)\n",
    "save_pkl(cik_available, 'data/cik_available_crsp.pkl')\n",
    "cik_available_str = ', '.join([str(i) for i in cik_available])\n",
    "\n",
    "print(f'Number of CIK available to download : {len(cik_available)}')"
   ]
  },
  {
   "cell_type": "code",
   "execution_count": 10,
   "metadata": {},
   "outputs": [
    {
     "data": {
      "text/html": [
       "<div>\n",
       "<style scoped>\n",
       "    .dataframe tbody tr th:only-of-type {\n",
       "        vertical-align: middle;\n",
       "    }\n",
       "\n",
       "    .dataframe tbody tr th {\n",
       "        vertical-align: top;\n",
       "    }\n",
       "\n",
       "    .dataframe thead th {\n",
       "        text-align: right;\n",
       "    }\n",
       "</style>\n",
       "<table border=\"1\" class=\"dataframe\">\n",
       "  <thead>\n",
       "    <tr style=\"text-align: right;\">\n",
       "      <th></th>\n",
       "      <th>crsp_fundno</th>\n",
       "      <th>comp_cik</th>\n",
       "      <th>series_cik</th>\n",
       "      <th>contract_cik</th>\n",
       "    </tr>\n",
       "  </thead>\n",
       "  <tbody>\n",
       "    <tr>\n",
       "      <th>0</th>\n",
       "      <td>3.0</td>\n",
       "      <td>912036.0</td>\n",
       "      <td>None</td>\n",
       "      <td>None</td>\n",
       "    </tr>\n",
       "    <tr>\n",
       "      <th>1</th>\n",
       "      <td>5.0</td>\n",
       "      <td>351895.0</td>\n",
       "      <td>S000004050</td>\n",
       "      <td>C000011336</td>\n",
       "    </tr>\n",
       "    <tr>\n",
       "      <th>2</th>\n",
       "      <td>7.0</td>\n",
       "      <td>1113914.0</td>\n",
       "      <td>None</td>\n",
       "      <td>None</td>\n",
       "    </tr>\n",
       "    <tr>\n",
       "      <th>3</th>\n",
       "      <td>8.0</td>\n",
       "      <td>812015.0</td>\n",
       "      <td>None</td>\n",
       "      <td>None</td>\n",
       "    </tr>\n",
       "    <tr>\n",
       "      <th>4</th>\n",
       "      <td>9.0</td>\n",
       "      <td>812015.0</td>\n",
       "      <td>None</td>\n",
       "      <td>None</td>\n",
       "    </tr>\n",
       "    <tr>\n",
       "      <th>...</th>\n",
       "      <td>...</td>\n",
       "      <td>...</td>\n",
       "      <td>...</td>\n",
       "      <td>...</td>\n",
       "    </tr>\n",
       "    <tr>\n",
       "      <th>41532</th>\n",
       "      <td>99720.0</td>\n",
       "      <td>1139819.0</td>\n",
       "      <td>S000073854</td>\n",
       "      <td>C000231080</td>\n",
       "    </tr>\n",
       "    <tr>\n",
       "      <th>41533</th>\n",
       "      <td>99721.0</td>\n",
       "      <td>1139819.0</td>\n",
       "      <td>S000073854</td>\n",
       "      <td>C000231079</td>\n",
       "    </tr>\n",
       "    <tr>\n",
       "      <th>41534</th>\n",
       "      <td>99722.0</td>\n",
       "      <td>1139819.0</td>\n",
       "      <td>S000073854</td>\n",
       "      <td>C000231074</td>\n",
       "    </tr>\n",
       "    <tr>\n",
       "      <th>41535</th>\n",
       "      <td>99726.0</td>\n",
       "      <td>908186.0</td>\n",
       "      <td>S000005778</td>\n",
       "      <td>C000236300</td>\n",
       "    </tr>\n",
       "    <tr>\n",
       "      <th>41536</th>\n",
       "      <td>99735.0</td>\n",
       "      <td>1174610.0</td>\n",
       "      <td>S000075552</td>\n",
       "      <td>C000234747</td>\n",
       "    </tr>\n",
       "  </tbody>\n",
       "</table>\n",
       "<p>41537 rows × 4 columns</p>\n",
       "</div>"
      ],
      "text/plain": [
       "       crsp_fundno   comp_cik  series_cik contract_cik\n",
       "0              3.0   912036.0        None         None\n",
       "1              5.0   351895.0  S000004050   C000011336\n",
       "2              7.0  1113914.0        None         None\n",
       "3              8.0   812015.0        None         None\n",
       "4              9.0   812015.0        None         None\n",
       "...            ...        ...         ...          ...\n",
       "41532      99720.0  1139819.0  S000073854   C000231080\n",
       "41533      99721.0  1139819.0  S000073854   C000231079\n",
       "41534      99722.0  1139819.0  S000073854   C000231074\n",
       "41535      99726.0   908186.0  S000005778   C000236300\n",
       "41536      99735.0  1174610.0  S000075552   C000234747\n",
       "\n",
       "[41537 rows x 4 columns]"
      ]
     },
     "execution_count": 10,
     "metadata": {},
     "output_type": "execute_result"
    }
   ],
   "source": [
    "# With the mapping table of CRSP, get all companies' fund number\n",
    "crsp_fundno_available = db.raw_sql(f'''\n",
    "        select *\n",
    "        from crsp_q_mutualfunds.crsp_cik_map\n",
    "        where comp_cik in ({cik_available_str})\n",
    "''')\n",
    "crsp_fundno_available"
   ]
  },
  {
   "cell_type": "code",
   "execution_count": 11,
   "metadata": {},
   "outputs": [
    {
     "name": "stdout",
     "output_type": "stream",
     "text": [
      "41537\n",
      "1610\n",
      "Number of companies (CIK) having exactly 1 fund (186)\n"
     ]
    }
   ],
   "source": [
    "print(len(crsp_fundno_available['crsp_fundno'].unique()))\n",
    "print(len(crsp_fundno_available['comp_cik'].unique()))\n",
    "\n",
    "ret = sum(crsp_fundno_available['comp_cik'].value_counts() == 1)\n",
    "print(f'Number of companies (CIK) having exactly 1 fund ({ret})')"
   ]
  },
  {
   "cell_type": "code",
   "execution_count": 12,
   "metadata": {},
   "outputs": [
    {
     "data": {
      "text/html": [
       "<div>\n",
       "<style scoped>\n",
       "    .dataframe tbody tr th:only-of-type {\n",
       "        vertical-align: middle;\n",
       "    }\n",
       "\n",
       "    .dataframe tbody tr th {\n",
       "        vertical-align: top;\n",
       "    }\n",
       "\n",
       "    .dataframe thead th {\n",
       "        text-align: right;\n",
       "    }\n",
       "</style>\n",
       "<table border=\"1\" class=\"dataframe\">\n",
       "  <thead>\n",
       "    <tr style=\"text-align: right;\">\n",
       "      <th></th>\n",
       "      <th>crsp_fundno</th>\n",
       "      <th>comp_cik</th>\n",
       "      <th>series_cik</th>\n",
       "      <th>contract_cik</th>\n",
       "    </tr>\n",
       "  </thead>\n",
       "  <tbody>\n",
       "    <tr>\n",
       "      <th>1</th>\n",
       "      <td>5.0</td>\n",
       "      <td>351895.0</td>\n",
       "      <td>S000004050</td>\n",
       "      <td>C000011336</td>\n",
       "    </tr>\n",
       "    <tr>\n",
       "      <th>28</th>\n",
       "      <td>357.0</td>\n",
       "      <td>883496.0</td>\n",
       "      <td>None</td>\n",
       "      <td>None</td>\n",
       "    </tr>\n",
       "    <tr>\n",
       "      <th>33</th>\n",
       "      <td>743.0</td>\n",
       "      <td>848012.0</td>\n",
       "      <td>S000006084</td>\n",
       "      <td>C000016714</td>\n",
       "    </tr>\n",
       "    <tr>\n",
       "      <th>444</th>\n",
       "      <td>3537.0</td>\n",
       "      <td>1311981.0</td>\n",
       "      <td>S000004764</td>\n",
       "      <td>C000012957</td>\n",
       "    </tr>\n",
       "    <tr>\n",
       "      <th>905</th>\n",
       "      <td>4456.0</td>\n",
       "      <td>1105877.0</td>\n",
       "      <td>S000005190</td>\n",
       "      <td>C000014168</td>\n",
       "    </tr>\n",
       "    <tr>\n",
       "      <th>...</th>\n",
       "      <td>...</td>\n",
       "      <td>...</td>\n",
       "      <td>...</td>\n",
       "      <td>...</td>\n",
       "    </tr>\n",
       "    <tr>\n",
       "      <th>40930</th>\n",
       "      <td>98751.0</td>\n",
       "      <td>1848758.0</td>\n",
       "      <td>S000071907</td>\n",
       "      <td>None</td>\n",
       "    </tr>\n",
       "    <tr>\n",
       "      <th>41000</th>\n",
       "      <td>98870.0</td>\n",
       "      <td>1760588.0</td>\n",
       "      <td>S000066608</td>\n",
       "      <td>None</td>\n",
       "    </tr>\n",
       "    <tr>\n",
       "      <th>41220</th>\n",
       "      <td>99118.0</td>\n",
       "      <td>1508033.0</td>\n",
       "      <td>S000072822</td>\n",
       "      <td>C000229393</td>\n",
       "    </tr>\n",
       "    <tr>\n",
       "      <th>41321</th>\n",
       "      <td>99243.0</td>\n",
       "      <td>1849998.0</td>\n",
       "      <td>S000074173</td>\n",
       "      <td>None</td>\n",
       "    </tr>\n",
       "    <tr>\n",
       "      <th>41458</th>\n",
       "      <td>99523.0</td>\n",
       "      <td>1873280.0</td>\n",
       "      <td>S000073959</td>\n",
       "      <td>C000231235</td>\n",
       "    </tr>\n",
       "  </tbody>\n",
       "</table>\n",
       "<p>186 rows × 4 columns</p>\n",
       "</div>"
      ],
      "text/plain": [
       "       crsp_fundno   comp_cik  series_cik contract_cik\n",
       "1              5.0   351895.0  S000004050   C000011336\n",
       "28           357.0   883496.0        None         None\n",
       "33           743.0   848012.0  S000006084   C000016714\n",
       "444         3537.0  1311981.0  S000004764   C000012957\n",
       "905         4456.0  1105877.0  S000005190   C000014168\n",
       "...            ...        ...         ...          ...\n",
       "40930      98751.0  1848758.0  S000071907         None\n",
       "41000      98870.0  1760588.0  S000066608         None\n",
       "41220      99118.0  1508033.0  S000072822   C000229393\n",
       "41321      99243.0  1849998.0  S000074173         None\n",
       "41458      99523.0  1873280.0  S000073959   C000231235\n",
       "\n",
       "[186 rows x 4 columns]"
      ]
     },
     "metadata": {},
     "output_type": "display_data"
    }
   ],
   "source": [
    "# Filter by keeping only CIK which have exactly one fund\n",
    "\n",
    "# Solution 1\n",
    "#crsp_fundno_available[crsp_fundno_available.groupby(\"comp_cik\").transform(len)[\"crsp_fundno\"] == 1]\n",
    "\n",
    "# Solution 2 - more explicit\n",
    "s = crsp_fundno_available['comp_cik'].value_counts()\n",
    "crsp_fundno_available = crsp_fundno_available[crsp_fundno_available['comp_cik'].map(s) == 1]\n",
    "display(crsp_fundno_available)\n",
    "\n",
    "cik_list_sorted_to_download = sorted(list(crsp_fundno_available.comp_cik))\n",
    "cik_list_sorted_to_download_str = ['000'+str(int(i)) for i in cik_list_sorted_to_download]"
   ]
  },
  {
   "cell_type": "code",
   "execution_count": null,
   "metadata": {
    "pycharm": {
     "name": "#%%\n"
    }
   },
   "outputs": [],
   "source": [
    "%%time\n",
    "\n",
    "DS_STORE = '.DS_Store'\n",
    "\n",
    "try:\n",
    "    path = os.path.join('data', 'sec-edgar-filings')\n",
    "    fillings_cik = os.listdir(path)\n",
    "    if DS_STORE in fillings_cik : fillings_cik.remove(DS_STORE)\n",
    "    nb_elem = len(fillings_cik)\n",
    "except:\n",
    "    nb_elem = 0\n",
    "    \n",
    "print(nb_elem)\n",
    "\n",
    "\n",
    "from tqdm import tqdm\n",
    "for cik in tqdm(cik_list_sorted_to_download_str):\n",
    "    dl.get(\"N-CSR\", cik, amount=15, download_details=False)\n",
    "    dl.get(\"N-CSRS\", cik, amount=15, download_details=False)"
   ]
  }
 ],
 "metadata": {
  "kernelspec": {
   "display_name": "Python 3 (ipykernel)",
   "language": "python",
   "name": "python3"
  },
  "language_info": {
   "codemirror_mode": {
    "name": "ipython",
    "version": 3
   },
   "file_extension": ".py",
   "mimetype": "text/x-python",
   "name": "python",
   "nbconvert_exporter": "python",
   "pygments_lexer": "ipython3",
   "version": "3.9.12"
  }
 },
 "nbformat": 4,
 "nbformat_minor": 1
}
