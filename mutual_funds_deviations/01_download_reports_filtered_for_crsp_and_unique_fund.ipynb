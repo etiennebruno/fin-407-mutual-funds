{
 "cells": [
  {
   "cell_type": "code",
   "execution_count": null,
   "metadata": {
    "pycharm": {
     "name": "#%%\n"
    }
   },
   "outputs": [],
   "source": [
    "import warnings\n",
    "warnings.filterwarnings('ignore')\n",
    "\n",
    "from IPython.core.display import display, HTML\n",
    "display(HTML(\"<style>.container { width:90% !important; }</style>\"))\n",
    "\n",
    "from sec_edgar_downloader import Downloader # https://pypi.org/project/sec-edgar-downloader/\n",
    "import pandas as pd\n",
    "import os"
   ]
  },
  {
   "cell_type": "code",
   "execution_count": null,
   "metadata": {
    "pycharm": {
     "name": "#%%\n"
    }
   },
   "outputs": [],
   "source": [
    "# Save row_data_index\n",
    "download_directory_root = os.path.join(os.getcwd(), 'data')\n",
    "download_directory_index = os.path.join(download_directory_root, 'row_data_index')"
   ]
  },
  {
   "cell_type": "code",
   "execution_count": null,
   "metadata": {
    "pycharm": {
     "name": "#%%\n"
    }
   },
   "outputs": [],
   "source": [
    "# Initialize a downloader instance. If no argument is passed\n",
    "# to the constructor, the package will download filings to\n",
    "# the current working directory.\n",
    "dl = Downloader(download_directory_root)"
   ]
  },
  {
   "cell_type": "markdown",
   "metadata": {},
   "source": [
    "## LOAD INDEX FILE"
   ]
  },
  {
   "cell_type": "code",
   "execution_count": null,
   "metadata": {
    "pycharm": {
     "name": "#%%\n"
    }
   },
   "outputs": [],
   "source": [
    "path = os.path.join(download_directory_root, 'mutual_funds_data.csv')\n",
    "df = pd.read_csv(path)"
   ]
  },
  {
   "cell_type": "code",
   "execution_count": null,
   "metadata": {
    "pycharm": {
     "name": "#%%\n"
    }
   },
   "outputs": [],
   "source": [
    "df.head()"
   ]
  },
  {
   "cell_type": "code",
   "execution_count": null,
   "metadata": {},
   "outputs": [],
   "source": [
    "df.CIK.unique().size"
   ]
  },
  {
   "cell_type": "markdown",
   "metadata": {},
   "source": [
    "<div class=\"alert alert-block alert-info\">\n",
    "<b>IMPROVEMENT COMPARED TO PREVIOUS VERSION:</b> In this situation, we check that the CIK of files we are going to downlaod are also available on the CRSP database. So we only download report for which we can find performances / returns online. In addition, we also filter out the companies which have more than 1 mutual fund. This is to ensure that we get the return of the fund for which we have performed the sentiment analysis.\n",
    "</div>"
   ]
  },
  {
   "cell_type": "code",
   "execution_count": null,
   "metadata": {},
   "outputs": [],
   "source": [
    "# Connection to WRDS\n",
    "import wrds\n",
    "db = wrds.Connection(wrds_username='etiennebruno')\n",
    "\n",
    "from utils import save_pkl"
   ]
  },
  {
   "cell_type": "code",
   "execution_count": null,
   "metadata": {
    "pycharm": {
     "name": "#%%\n"
    }
   },
   "outputs": [],
   "source": [
    "cik_list = df[\"CIK\"].unique()\n",
    "cik_list_sorted = sorted(cik_list, reverse=True)\n",
    "cik_list_sorted_str = ', '.join([str(i) for i in cik_list_sorted])"
   ]
  },
  {
   "cell_type": "code",
   "execution_count": null,
   "metadata": {},
   "outputs": [],
   "source": [
    "# Get all cik number available (intersection between our data and the data on CRSP)\n",
    "ciks_data = db.raw_sql(f'''\n",
    "        select distinct comp_cik\n",
    "        from crsp_q_mutualfunds.crsp_cik_map\n",
    "        where comp_cik in ({cik_list_sorted_str})\n",
    "''')\n",
    "cik_available = list(ciks_data.comp_cik)\n",
    "save_pkl(cik_available, 'data/cik_available_crsp.pkl')\n",
    "cik_available_str = ', '.join([str(i) for i in cik_available])\n",
    "\n",
    "print(f'Number of CIK available to download : {len(cik_available)}')"
   ]
  },
  {
   "cell_type": "code",
   "execution_count": null,
   "metadata": {},
   "outputs": [],
   "source": [
    "# With the mapping table of CRSP, get all companies' fund number\n",
    "crsp_fundno_available = db.raw_sql(f'''\n",
    "        select *\n",
    "        from crsp_q_mutualfunds.crsp_cik_map\n",
    "        where comp_cik in ({cik_available_str})\n",
    "''')\n",
    "crsp_fundno_available"
   ]
  },
  {
   "cell_type": "code",
   "execution_count": null,
   "metadata": {},
   "outputs": [],
   "source": [
    "print(len(crsp_fundno_available['crsp_fundno'].unique()))\n",
    "print(len(crsp_fundno_available['comp_cik'].unique()))\n",
    "\n",
    "ret = sum(crsp_fundno_available['comp_cik'].value_counts() == 1)\n",
    "print(f'Number of companies (CIK) having exactly 1 fund ({ret})')"
   ]
  },
  {
   "cell_type": "code",
   "execution_count": null,
   "metadata": {},
   "outputs": [],
   "source": [
    "# Filter by keeping only CIK which have exactly one fund\n",
    "\n",
    "# Solution 1\n",
    "#crsp_fundno_available[crsp_fundno_available.groupby(\"comp_cik\").transform(len)[\"crsp_fundno\"] == 1]\n",
    "\n",
    "# Solution 2 - more explicit\n",
    "s = crsp_fundno_available['comp_cik'].value_counts()\n",
    "crsp_fundno_available = crsp_fundno_available[crsp_fundno_available['comp_cik'].map(s) == 1]\n",
    "display(crsp_fundno_available)\n",
    "\n",
    "cik_list_sorted_to_download = sorted(list(crsp_fundno_available.comp_cik))\n",
    "cik_list_sorted_to_download_str = ['000'+str(int(i)) for i in cik_list_sorted_to_download]"
   ]
  },
  {
   "cell_type": "code",
   "execution_count": null,
   "metadata": {
    "pycharm": {
     "name": "#%%\n"
    }
   },
   "outputs": [],
   "source": [
    "%%time\n",
    "\n",
    "DS_STORE = '.DS_Store'\n",
    "\n",
    "try:\n",
    "    path = os.path.join('data', 'sec-edgar-filings')\n",
    "    fillings_cik = os.listdir(path)\n",
    "    if DS_STORE in fillings_cik : fillings_cik.remove(DS_STORE)\n",
    "    nb_elem = len(fillings_cik)\n",
    "except:\n",
    "    nb_elem = 0\n",
    "    \n",
    "print(nb_elem)\n",
    "\n",
    "\n",
    "from tqdm import tqdm\n",
    "for cik in tqdm(cik_list_sorted_to_download_str):\n",
    "    dl.get(\"N-CSR\", cik, amount=15, download_details=False)\n",
    "    dl.get(\"N-CSRS\", cik, amount=15, download_details=False)"
   ]
  }
 ],
 "metadata": {
  "kernelspec": {
   "display_name": "Python 3 (ipykernel)",
   "language": "python",
   "name": "python3"
  },
  "language_info": {
   "codemirror_mode": {
    "name": "ipython",
    "version": 3
   },
   "file_extension": ".py",
   "mimetype": "text/x-python",
   "name": "python",
   "nbconvert_exporter": "python",
   "pygments_lexer": "ipython3",
   "version": "3.9.12"
  }
 },
 "nbformat": 4,
 "nbformat_minor": 1
}
