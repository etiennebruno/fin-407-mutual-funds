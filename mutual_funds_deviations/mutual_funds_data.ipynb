{
 "cells": [
  {
   "cell_type": "code",
   "execution_count": 34,
   "outputs": [],
   "source": [
    "import edgar # https://github.com/edgarminers/python-edgar\n",
    "from sec_edgar_downloader import Downloader # https://pypi.org/project/sec-edgar-downloader/\n",
    "import pandas as pd\n",
    "import os"
   ],
   "metadata": {
    "collapsed": false,
    "pycharm": {
     "name": "#%%\n"
    }
   }
  },
  {
   "cell_type": "code",
   "execution_count": 30,
   "outputs": [],
   "source": [
    "# Save row_data_index\n",
    "download_directory_root = \"/Users/etiennebruno/Library/CloudStorage/OneDrive-epfl.ch/ETIENNE/EPFL/EPFL_Master/MA2_EPFL/fin_407_financial_econometrics/FINE_project/mutual_funds_deviations/data/\"\n",
    "download_directory = download_directory_root+\"row_data_index/\"\n",
    "\n",
    "# Download index of all SEC reports by quarter\n",
    "since_year=1993\n",
    "edgar.download_index(download_directory, since_year, user_agent='Etienne BRUNO etienne.bruno@epfl.ch', skip_all_present_except_last=False)"
   ],
   "metadata": {
    "collapsed": false,
    "pycharm": {
     "name": "#%%\n"
    }
   }
  },
  {
   "cell_type": "code",
   "execution_count": 33,
   "outputs": [],
   "source": [
    "def read_tsv(file_name):\n",
    "    col = ['CIK', 'CNAME', 'FORM_TYPE', 'FILLING_DATE', 'TXT_URL', 'HTML_URL']\n",
    "    return pd.read_csv(file_name,  sep=\"|\", names=col)\n",
    "\n",
    "filepaths = sorted(['data/row_data_index/' + path for path in os.listdir(download_directory)])\n",
    "df = pd.concat(map(read_tsv, filepaths), axis=0)\n",
    "form_to_keep = ['N-CSR', 'N-CSRS']\n",
    "df = df[df['FORM_TYPE'].isin(form_to_keep)]\n",
    "\n",
    "# Save to CSV the final dataframe on which we will work\n",
    "df.to_csv(\"./mutual_funds_data.csv\")"
   ],
   "metadata": {
    "collapsed": false,
    "pycharm": {
     "name": "#%%\n"
    }
   }
  },
  {
   "cell_type": "code",
   "execution_count": null,
   "outputs": [],
   "source": [],
   "metadata": {
    "collapsed": false,
    "pycharm": {
     "name": "#%%\n"
    }
   }
  },
  {
   "cell_type": "code",
   "execution_count": 51,
   "outputs": [],
   "source": [
    "# Initialize a downloader instance. If no argument is passed\n",
    "# to the constructor, the package will download filings to\n",
    "# the current working directory.\n",
    "dl = Downloader(download_directory_root)"
   ],
   "metadata": {
    "collapsed": false,
    "pycharm": {
     "name": "#%%\n"
    }
   }
  },
  {
   "cell_type": "code",
   "execution_count": null,
   "outputs": [
    {
     "name": "stdout",
     "output_type": "stream",
     "text": [
      "0/4655 0.00%\r"
     ]
    }
   ],
   "source": [
    "%%time\n",
    "import time\n",
    "\n",
    "cik_list = df[\"CIK\"].unique()\n",
    "n = len(cik_list)\n",
    "for i, cik in enumerate(cik_list):\n",
    "    dl.get(\"N-CSR\", cik)\n",
    "    dl.get(\"N-CSRS\", cik)\n",
    "    if i % 9 == 0:\n",
    "        time.sleep(1)\n",
    "        print(f'{i}/{n} {i/n*100:.2f}%', end='\\r')"
   ],
   "metadata": {
    "collapsed": false,
    "pycharm": {
     "name": "#%%\n",
     "is_executing": true
    }
   }
  },
  {
   "cell_type": "code",
   "execution_count": null,
   "outputs": [],
   "source": [],
   "metadata": {
    "collapsed": false,
    "pycharm": {
     "name": "#%%\n"
    }
   }
  }
 ],
 "metadata": {
  "kernelspec": {
   "display_name": "Python 3",
   "language": "python",
   "name": "python3"
  },
  "language_info": {
   "codemirror_mode": {
    "name": "ipython",
    "version": 2
   },
   "file_extension": ".py",
   "mimetype": "text/x-python",
   "name": "python",
   "nbconvert_exporter": "python",
   "pygments_lexer": "ipython2",
   "version": "2.7.6"
  }
 },
 "nbformat": 4,
 "nbformat_minor": 0
}