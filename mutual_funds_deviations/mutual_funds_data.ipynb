{
 "cells": [
  {
   "cell_type": "code",
   "execution_count": 1,
   "metadata": {
    "pycharm": {
     "name": "#%%\n"
    }
   },
   "outputs": [],
   "source": [
    "import edgar # https://github.com/edgarminers/python-edgar\n",
    "from sec_edgar_downloader import Downloader # https://pypi.org/project/sec-edgar-downloader/\n",
    "import pandas as pd\n",
    "import os"
   ]
  },
  {
   "cell_type": "code",
   "execution_count": 2,
   "metadata": {
    "pycharm": {
     "name": "#%%\n"
    }
   },
   "outputs": [],
   "source": [
    "# Save row_data_index\n",
    "download_directory_root = \"/Users/etiennebruno/Library/CloudStorage/OneDrive-epfl.ch/ETIENNE/EPFL/EPFL_Master/MA2_EPFL/fin_407_financial_econometrics/FINE_project/mutual_funds_deviations/data/\"\n",
    "download_directory_index = download_directory_root+\"row_data_index/\"\n",
    "\n",
    "# Download index of all SEC reports by quarter\n",
    "since_year=2010\n",
    "edgar.download_index(download_directory_index, since_year, user_agent='Etienne BRUNO etienne.bruno@epfl.ch', skip_all_present_except_last=False)"
   ]
  },
  {
   "cell_type": "code",
   "execution_count": 3,
   "metadata": {
    "pycharm": {
     "name": "#%%\n"
    }
   },
   "outputs": [],
   "source": [
    "def read_tsv(file_name):\n",
    "    col = ['CIK', 'CNAME', 'FORM_TYPE', 'FILLING_DATE', 'TXT_URL', 'HTML_URL']\n",
    "    return pd.read_csv(file_name,  sep=\"|\", names=col)\n",
    "\n",
    "filepaths = sorted(['data/row_data_index/' + path for path in os.listdir(download_directory_index)], reverse=True)\n",
    "df = pd.concat(map(read_tsv, filepaths), axis=0)\n",
    "form_to_keep = ['N-CSR', 'N-CSRS']\n",
    "df = df[df['FORM_TYPE'].isin(form_to_keep)]\n",
    "\n",
    "# Save to CSV the final dataframe on which we will work\n",
    "df.to_csv(download_directory_root+\"/mutual_funds_data.csv\", index=False)"
   ]
  },
  {
   "cell_type": "code",
   "execution_count": 20,
   "outputs": [
    {
     "data": {
      "text/plain": "          CIK                                    CNAME FORM_TYPE FILLING_DATE  \\\n1130  1021882                VANGUARD SCOTTSDALE FUNDS    N-CSRS   2022-04-27   \n1316  1027596                    ADVISORS SERIES TRUST    N-CSRS   2022-04-08   \n1340   102816                 EATON VANCE GROWTH TRUST    N-CSRS   2022-04-26   \n1341   102816                 EATON VANCE GROWTH TRUST     N-CSR   2022-04-26   \n1774  1038490  T. Rowe Price Tax-Efficient Funds, Inc.     N-CSR   2022-04-21   \n\n                                          TXT_URL  \\\n1130  edgar/data/1021882/0001104659-22-051082.txt   \n1316  edgar/data/1027596/0000898531-22-000154.txt   \n1340   edgar/data/102816/0001193125-22-119853.txt   \n1341   edgar/data/102816/0001193125-22-119859.txt   \n1774  edgar/data/1038490/0001206774-22-001167.txt   \n\n                                               HTML_URL  \n1130  edgar/data/1021882/0001104659-22-051082-index....  \n1316  edgar/data/1027596/0000898531-22-000154-index....  \n1340  edgar/data/102816/0001193125-22-119853-index.html  \n1341  edgar/data/102816/0001193125-22-119859-index.html  \n1774  edgar/data/1038490/0001206774-22-001167-index....  ",
      "text/html": "<div>\n<style scoped>\n    .dataframe tbody tr th:only-of-type {\n        vertical-align: middle;\n    }\n\n    .dataframe tbody tr th {\n        vertical-align: top;\n    }\n\n    .dataframe thead th {\n        text-align: right;\n    }\n</style>\n<table border=\"1\" class=\"dataframe\">\n  <thead>\n    <tr style=\"text-align: right;\">\n      <th></th>\n      <th>CIK</th>\n      <th>CNAME</th>\n      <th>FORM_TYPE</th>\n      <th>FILLING_DATE</th>\n      <th>TXT_URL</th>\n      <th>HTML_URL</th>\n    </tr>\n  </thead>\n  <tbody>\n    <tr>\n      <th>1130</th>\n      <td>1021882</td>\n      <td>VANGUARD SCOTTSDALE FUNDS</td>\n      <td>N-CSRS</td>\n      <td>2022-04-27</td>\n      <td>edgar/data/1021882/0001104659-22-051082.txt</td>\n      <td>edgar/data/1021882/0001104659-22-051082-index....</td>\n    </tr>\n    <tr>\n      <th>1316</th>\n      <td>1027596</td>\n      <td>ADVISORS SERIES TRUST</td>\n      <td>N-CSRS</td>\n      <td>2022-04-08</td>\n      <td>edgar/data/1027596/0000898531-22-000154.txt</td>\n      <td>edgar/data/1027596/0000898531-22-000154-index....</td>\n    </tr>\n    <tr>\n      <th>1340</th>\n      <td>102816</td>\n      <td>EATON VANCE GROWTH TRUST</td>\n      <td>N-CSRS</td>\n      <td>2022-04-26</td>\n      <td>edgar/data/102816/0001193125-22-119853.txt</td>\n      <td>edgar/data/102816/0001193125-22-119853-index.html</td>\n    </tr>\n    <tr>\n      <th>1341</th>\n      <td>102816</td>\n      <td>EATON VANCE GROWTH TRUST</td>\n      <td>N-CSR</td>\n      <td>2022-04-26</td>\n      <td>edgar/data/102816/0001193125-22-119859.txt</td>\n      <td>edgar/data/102816/0001193125-22-119859-index.html</td>\n    </tr>\n    <tr>\n      <th>1774</th>\n      <td>1038490</td>\n      <td>T. Rowe Price Tax-Efficient Funds, Inc.</td>\n      <td>N-CSR</td>\n      <td>2022-04-21</td>\n      <td>edgar/data/1038490/0001206774-22-001167.txt</td>\n      <td>edgar/data/1038490/0001206774-22-001167-index....</td>\n    </tr>\n  </tbody>\n</table>\n</div>"
     },
     "execution_count": 20,
     "metadata": {},
     "output_type": "execute_result"
    }
   ],
   "source": [
    "df.head()"
   ],
   "metadata": {
    "collapsed": false,
    "pycharm": {
     "name": "#%%\n"
    }
   }
  },
  {
   "cell_type": "code",
   "execution_count": 21,
   "metadata": {
    "pycharm": {
     "name": "#%%\n"
    }
   },
   "outputs": [],
   "source": [
    "# Initialize a downloader instance. If no argument is passed\n",
    "# to the constructor, the package will download filings to\n",
    "# the current working directory.\n",
    "dl = Downloader(download_directory_root)"
   ]
  },
  {
   "cell_type": "code",
   "execution_count": 22,
   "metadata": {
    "pycharm": {
     "name": "#%%\n"
    }
   },
   "outputs": [
    {
     "name": "stderr",
     "output_type": "stream",
     "text": [
      "100it [04:05,  2.45s/it]"
     ]
    },
    {
     "name": "stdout",
     "output_type": "stream",
     "text": [
      "CPU times: user 9.17 s, sys: 1.53 s, total: 10.7 s\n",
      "Wall time: 4min 5s\n"
     ]
    },
    {
     "name": "stderr",
     "output_type": "stream",
     "text": [
      "\n"
     ]
    }
   ],
   "source": [
    "%%time\n",
    "from tqdm import tqdm\n",
    "\n",
    "cik_list = df[\"CIK\"].unique()\n",
    "n = len(cik_list)\n",
    "for i, cik in tqdm(enumerate(sorted(cik_list, reverse=True)[:100])):\n",
    "    dl.get(\"N-CSR\", cik, amount=5, query=\"benchmark\", download_details=False)\n",
    "    dl.get(\"N-CSRS\", cik, amount=5, query=\"benchmark\", download_details=False)"
   ]
  },
  {
   "cell_type": "code",
   "execution_count": null,
   "metadata": {
    "pycharm": {
     "name": "#%%\n"
    }
   },
   "outputs": [],
   "source": [
    "import wrds"
   ]
  },
  {
   "cell_type": "code",
   "execution_count": null,
   "outputs": [],
   "source": [
    "db = wrds.Connection(wrds_username='etiennebruno')"
   ],
   "metadata": {
    "collapsed": false,
    "pycharm": {
     "name": "#%%\n"
    }
   }
  },
  {
   "cell_type": "code",
   "execution_count": null,
   "outputs": [],
   "source": [
    "db.list_libraries().sort()\n",
    "db.list_libraries()"
   ],
   "metadata": {
    "collapsed": false,
    "pycharm": {
     "name": "#%%\n"
    }
   }
  },
  {
   "cell_type": "code",
   "execution_count": null,
   "outputs": [],
   "source": [
    "# List the tables of a given library§\n",
    "db.list_tables(library='crsp')"
   ],
   "metadata": {
    "collapsed": false,
    "pycharm": {
     "name": "#%%\n"
    }
   }
  },
  {
   "cell_type": "code",
   "execution_count": null,
   "metadata": {
    "pycharm": {
     "name": "#%%\n"
    }
   },
   "outputs": [],
   "source": [
    "# Get data\n",
    "daily = db.get_table(library='crsp', table='fund_summary2', obs=10)\n",
    "daily"
   ]
  },
  {
   "cell_type": "code",
   "execution_count": null,
   "outputs": [],
   "source": [
    "temp = db.get_table(library='crsp', table='monthly_tna_ret_nav', obs=10)\n",
    "temp"
   ],
   "metadata": {
    "collapsed": false,
    "pycharm": {
     "name": "#%%\n"
    }
   }
  },
  {
   "cell_type": "code",
   "execution_count": null,
   "outputs": [],
   "source": [
    "keys = set()\n",
    "for table in db.list_tables(library='crsp'):\n",
    "\n",
    "    try:\n",
    "        l= list(filter(lambda x: 'bench' in x or 'bnc' in x or 'ben' in x or 'bch' in x, db.get_table(library='crsp', table=table, obs=1).keys()))\n",
    "    except:\n",
    "        pass\n",
    "    if len(l) > 0:\n",
    "        print(table, \"---\", l)"
   ],
   "metadata": {
    "collapsed": false,
    "pycharm": {
     "name": "#%%\n"
    }
   }
  },
  {
   "cell_type": "code",
   "execution_count": null,
   "outputs": [],
   "source": [
    "db.get_table(library='crsp', table='crsp_cik_map', obs=4)"
   ],
   "metadata": {
    "collapsed": false,
    "pycharm": {
     "name": "#%%\n"
    }
   }
  },
  {
   "cell_type": "code",
   "execution_count": null,
   "outputs": [],
   "source": [
    "db.raw_sql('''\n",
    "        select *\n",
    "        from crsp.portnomap p\n",
    "        inner join crsp.monthly_returns mr on p.crsp_fundno = mr.crsp_fundno\n",
    "        inner join crsp.crsp_cik_map ccm on ccm.crsp_fundno = p.crsp_fundno\n",
    "        --where p.m_fund = 'Y'\n",
    "        limit 100\n",
    "''')"
   ],
   "metadata": {
    "collapsed": false,
    "pycharm": {
     "name": "#%%\n"
    }
   }
  },
  {
   "cell_type": "code",
   "execution_count": null,
   "outputs": [],
   "source": [],
   "metadata": {
    "collapsed": false,
    "pycharm": {
     "name": "#%%\n"
    }
   }
  }
 ],
 "metadata": {
  "kernelspec": {
   "display_name": "Python 3 (ipykernel)",
   "language": "python",
   "name": "python3"
  },
  "language_info": {
   "codemirror_mode": {
    "name": "ipython",
    "version": 3
   },
   "file_extension": ".py",
   "mimetype": "text/x-python",
   "name": "python",
   "nbconvert_exporter": "python",
   "pygments_lexer": "ipython3",
   "version": "3.9.7"
  }
 },
 "nbformat": 4,
 "nbformat_minor": 1
}