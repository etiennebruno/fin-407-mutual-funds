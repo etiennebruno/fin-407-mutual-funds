{
 "cells": [
  {
   "cell_type": "code",
   "execution_count": 1,
   "metadata": {},
   "outputs": [],
   "source": [
    "import os\n",
    "import pandas as pd\n",
    "import numpy as np"
   ]
  },
  {
   "cell_type": "code",
   "execution_count": 3,
   "metadata": {},
   "outputs": [
    {
     "name": "stdout",
     "output_type": "stream",
     "text": [
      "465\n"
     ]
    }
   ],
   "source": [
    "fillings_cik_cleaned=[]\n",
    "try:\n",
    "    fillings_cik_cleaned = os.listdir('data/sec-edgar-filings-cleaned')\n",
    "    if DS_STORE in fillings_cik_cleaned : fillings_cik_cleaned.remove(DS_STORE)\n",
    "    nb_elem = len(fillings_cik_cleaned)\n",
    "except:\n",
    "    nb_elem = 0\n",
    "    \n",
    "print(nb_elem)"
   ]
  },
  {
   "cell_type": "code",
   "execution_count": 35,
   "metadata": {},
   "outputs": [
    {
     "name": "stdout",
     "output_type": "stream",
     "text": [
      "NB_CRS : 1577 - NB_CSRS 1374\n"
     ]
    }
   ],
   "source": [
    "fillings_cik = os.listdir('data/sec-edgar-filings')\n",
    "DS_STORE = '.DS_Store'\n",
    "\n",
    "nb_csr_s = 0\n",
    "nb_csr = 0\n",
    "\n",
    "if DS_STORE in fillings_cik : fillings_cik.remove(DS_STORE)\n",
    "n = len(fillings_cik)\n",
    "a = 0\n",
    "for i, cik in enumerate(sorted(fillings_cik)) : # all fillings\n",
    "    \n",
    "    path_cik = 'data/sec-edgar-filings/'+str(cik)\n",
    "    report_type = os.listdir(path_cik)\n",
    "    if DS_STORE in report_type : report_type.remove(DS_STORE)\n",
    "    \n",
    "    for rt in report_type : # N-CSR and N-CSRS\n",
    "        path_report_type = path_cik+'/'+str(rt)\n",
    "        report_folder = os.listdir(path_report_type)\n",
    "        if DS_STORE in report_folder : report_folder.remove(DS_STORE)\n",
    "        \n",
    "        for rf in report_folder: # report identity\n",
    "            path_report_folder = path_report_type+'/'+rf\n",
    "            filling = os.listdir(path_report_folder)\n",
    "            \n",
    "            for file in filling: # file submission text\n",
    "                path_file = path_report_folder+'/'+str(file)\n",
    "                if rt == 'N-CSR' :\n",
    "                    nb_csr+=1\n",
    "                else:\n",
    "                    nb_csr_s+=1\n",
    "                a+=1\n",
    "               \n",
    "print(f'NB_CRS : {nb_csr} - NB_CSRS {nb_csr_s}')"
   ]
  },
  {
   "cell_type": "code",
   "execution_count": null,
   "metadata": {},
   "outputs": [],
   "source": [
    "# nitial csrs and csrs \n",
    "# nb of reports after parsins and join after fund cik fundnb\n",
    "# nb funds"
   ]
  },
  {
   "cell_type": "code",
   "execution_count": 25,
   "metadata": {},
   "outputs": [],
   "source": [
    "from utils import *\n",
    "df = df_from_filings()"
   ]
  },
  {
   "cell_type": "code",
   "execution_count": 38,
   "metadata": {},
   "outputs": [
    {
     "name": "stdout",
     "output_type": "stream",
     "text": [
      "Loading library list...\n",
      "Done\n"
     ]
    }
   ],
   "source": [
    "import wrds\n",
    "db = wrds.Connection(wrds_username='etiennebruno')"
   ]
  },
  {
   "cell_type": "code",
   "execution_count": 44,
   "metadata": {},
   "outputs": [],
   "source": [
    "# Create a list of the ciks of our funds where data is also available online\n",
    "# on the CRSP database\n",
    "from utils import *\n",
    "ciks = ', '.join(list(df_from_filings().cik.unique()))\n",
    "\n",
    "ciks_data = db.raw_sql(f'''\n",
    "        select distinct comp_cik\n",
    "        from crsp_q_mutualfunds.crsp_cik_map\n",
    "        where comp_cik in ({ciks})\n",
    "        --limit 10\n",
    "''')\n",
    "\n",
    "ciks_available = list(ciks_data['comp_cik'])"
   ]
  },
  {
   "cell_type": "code",
   "execution_count": 52,
   "metadata": {},
   "outputs": [
    {
     "data": {
      "text/plain": [
       "183"
      ]
     },
     "execution_count": 52,
     "metadata": {},
     "output_type": "execute_result"
    }
   ],
   "source": [
    "len(ciks_available)"
   ]
  },
  {
   "cell_type": "code",
   "execution_count": 69,
   "metadata": {},
   "outputs": [
    {
     "data": {
      "text/plain": [
       "183"
      ]
     },
     "execution_count": 69,
     "metadata": {},
     "output_type": "execute_result"
    }
   ],
   "source": [
    "ciks_available = ['000'+str(int(_)) for _ in ciks_available]\n",
    "\n",
    "df[df.cik.isin(ciks_available)].cik.unique()"
   ]
  },
  {
   "cell_type": "code",
   "execution_count": 70,
   "metadata": {},
   "outputs": [
    {
     "data": {
      "text/plain": [
       "(1240, 5)"
      ]
     },
     "execution_count": 70,
     "metadata": {},
     "output_type": "execute_result"
    }
   ],
   "source": [
    "df[df.cik.isin(ciks_available)].shape"
   ]
  }
 ],
 "metadata": {
  "kernelspec": {
   "display_name": "Python 3 (ipykernel)",
   "language": "python",
   "name": "python3"
  },
  "language_info": {
   "codemirror_mode": {
    "name": "ipython",
    "version": 3
   },
   "file_extension": ".py",
   "mimetype": "text/x-python",
   "name": "python",
   "nbconvert_exporter": "python",
   "pygments_lexer": "ipython3",
   "version": "3.9.12"
  }
 },
 "nbformat": 4,
 "nbformat_minor": 1
}
