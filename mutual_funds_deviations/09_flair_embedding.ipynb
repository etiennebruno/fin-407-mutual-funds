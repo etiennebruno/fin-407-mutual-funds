{
 "cells": [
  {
   "cell_type": "code",
   "execution_count": null,
   "metadata": {
    "pycharm": {
     "name": "#%%\n"
    }
   },
   "outputs": [],
   "source": [
    "from flair.embeddings import WordEmbeddings\n",
    "from flair.data import Sentence\n",
    "\n",
    "# init embedding\n",
    "glove_embedding = WordEmbeddings('glove')"
   ]
  },
  {
   "cell_type": "code",
   "execution_count": null,
   "metadata": {
    "pycharm": {
     "name": "#%%\n"
    }
   },
   "outputs": [],
   "source": [
    "# create sentence.\n",
    "sentence = Sentence('The grass is green .')\n",
    "\n",
    "# embed a sentence using glove.\n",
    "glove_embedding.embed(sentence)\n",
    "\n",
    "# now check out the embedded tokens.\n",
    "for token in sentence:\n",
    "    print(token)\n",
    "    print(token.embedding)"
   ]
  },
  {
   "cell_type": "code",
   "execution_count": null,
   "metadata": {
    "pycharm": {
     "name": "#%%\n"
    }
   },
   "outputs": [],
   "source": [
    "from flair.embeddings import FlairEmbeddings\n",
    "\n",
    "# init embedding\n",
    "flair_embedding_forward = FlairEmbeddings('news-forward')\n",
    "\n",
    "# create a sentence\n",
    "sentence = Sentence('The grass is green .')\n",
    "\n",
    "# embed words in sentence\n",
    "flair_embedding_forward.embed(sentence)"
   ]
  },
  {
   "cell_type": "code",
   "execution_count": null,
   "metadata": {
    "pycharm": {
     "name": "#%%\n"
    }
   },
   "outputs": [],
   "source": [
    "from flair.models import TARSClassifier\n",
    "from flair.data import Sentence\n",
    "\n",
    "# 1. Load our pre-trained TARS model for English\n",
    "tars = TARSClassifier.load('tars-base')\n",
    "\n",
    "# 2. Prepare a test sentence\n",
    "sentence = Sentence(\"I am so glad you liked it!\")\n",
    "\n",
    "# 3. Define some classes that you want to predict using descriptive names\n",
    "classes = [\"happy\", \"sad\"]\n",
    "#4. Predict for these classes\n",
    "tars.predict_zero_shot(sentence, classes)\n",
    "\n",
    "# Print sentence with predicted labels\n",
    "print(sentence)"
   ]
  },
  {
   "cell_type": "code",
   "execution_count": null,
   "metadata": {
    "pycharm": {
     "name": "#%%\n"
    }
   },
   "outputs": [],
   "source": [
    "from flair.models import TARSClassifier\n",
    "from flair.data import Sentence\n",
    "\n",
    "# 1. Load our pre-trained TARS model for English\n",
    "tars = TARSClassifier.load('tars-base')\n",
    "\n",
    "# 2. Prepare a test sentence\n",
    "sentence = Sentence(\"I am so glad you liked it!\")\n",
    "\n",
    "# 3. Define some classes that you want to predict using descriptive names\n",
    "# classes = [\"happy\", \"sad\"]\n",
    "classes = ['assertive', \"hesitant\"]\n",
    "#4. Predict for these classes\n",
    "tars.predict_zero_shot(sentence, classes)\n",
    "\n",
    "# Print sentence with predicted labels\n",
    "print(sentence)"
   ]
  },
  {
   "cell_type": "code",
   "execution_count": null,
   "metadata": {
    "pycharm": {
     "name": "#%%\n"
    }
   },
   "outputs": [],
   "source": [
    "from flair.models import TARSTagger\n",
    "from flair.data import Sentence\n",
    "\n",
    "# 1. Load zero-shot NER tagger\n",
    "tars = TARSTagger.load('tars-ner')\n",
    "\n",
    "# 2. Prepare some test sentences\n",
    "sentences = [\n",
    "    Sentence('We outperformed the S&P\\'s 500\")'),\n",
    "    Sentence('Our benchmark is the LIBOR')\n",
    "\n",
    "    # Sentence(\"The Humboldt University of Berlin is situated near the Spree in Berlin, Germany\"),\n",
    "    # Sentence(\"Bayern Munich played against Real Madrid\"),\n",
    "    # Sentence(\"I flew with an Airbus A380 to Peru to pick up my Porsche Cayenne\"),\n",
    "    # Sentence(\"Game of Thrones is my favorite series\"),\n",
    "]\n",
    "\n",
    "# 3. Define some classes of named entities such as \"soccer teams\", \"TV shows\" and \"rivers\"\n",
    "labels = [\"Company\", \"Fund\", \"Mutual Fund\", \"Finance Instituion\" , 'Index', 'Index Fund', 'Benchmark']\n",
    "tars.add_and_switch_to_new_task('task 1', labels, label_type='ner')\n",
    "\n",
    "# 4. Predict for these classes and print results\n",
    "for sentence in sentences:\n",
    "    tars.predict(sentence)\n",
    "    print(sentence.to_tagged_string(\"ner\"))"
   ]
  },
  {
   "cell_type": "code",
   "execution_count": null,
   "metadata": {
    "pycharm": {
     "name": "#%%\n"
    }
   },
   "outputs": [],
   "source": [
    "from flair.data import Corpus\n",
    "from flair.datasets import TREC_6\n",
    "from flair.models import TARSClassifier\n",
    "from flair.trainers import ModelTrainer\n",
    "\n",
    "# 1. define label names in natural language since some datasets come with cryptic set of labels\n",
    "label_name_map = {'ENTY': 'question about entity',\n",
    "                  'DESC': 'question about description',\n",
    "                  'ABBR': 'question about abbreviation',\n",
    "                  'HUM': 'question about person',\n",
    "                  'NUM': 'question about number',\n",
    "                  'LOC': 'question about location'\n",
    "                  }\n",
    "\n",
    "# 2. get the corpus\n",
    "corpus: Corpus = TREC_6(label_name_map=label_name_map)\n",
    "\n",
    "# 3. what label do you want to predict?\n",
    "label_type = 'question_class'\n",
    "\n",
    "# 4. make a label dictionary\n",
    "label_dict = corpus.make_label_dictionary(label_type=label_type)\n",
    "\n",
    "# 5. start from our existing TARS base model for English\n",
    "tars = TARSClassifier.load(\"tars-base\")\n",
    "\n",
    "# 5a: alternatively, comment out previous line and comment in next line to train a new TARS model from scratch instead\n",
    "# tars = TARSClassifier(embeddings=\"bert-base-uncased\")\n",
    "\n",
    "# 6. switch to a new task (TARS can do multiple tasks so you must define one)\n",
    "tars.add_and_switch_to_new_task(task_name=\"question classification\",\n",
    "                                label_dictionary=label_dict,\n",
    "                                label_type=label_type,\n",
    "                                )\n",
    "\n",
    "# 7. initialize the text classifier trainer\n",
    "trainer = ModelTrainer(tars, corpus)\n",
    "\n",
    "# 8. start the training\n",
    "trainer.train(base_path='resources/taggers/trec',  # path to store the model artifacts\n",
    "              learning_rate=0.02,  # use very small learning rate\n",
    "              mini_batch_size=16,\n",
    "              mini_batch_chunk_size=4,  # optionally set this if transformer is too much for your machine\n",
    "              max_epochs=1,  # terminate after 10 epochs\n",
    "              )"
   ]
  }
 ],
 "metadata": {
  "kernelspec": {
   "display_name": "Python 3 (ipykernel)",
   "language": "python",
   "name": "python3"
  },
  "language_info": {
   "codemirror_mode": {
    "name": "ipython",
    "version": 3
   },
   "file_extension": ".py",
   "mimetype": "text/x-python",
   "name": "python",
   "nbconvert_exporter": "python",
   "pygments_lexer": "ipython3",
   "version": "3.9.12"
  }
 },
 "nbformat": 4,
 "nbformat_minor": 1
}
