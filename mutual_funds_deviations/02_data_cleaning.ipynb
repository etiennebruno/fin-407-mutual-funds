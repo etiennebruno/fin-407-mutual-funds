{
 "cells": [
  {
   "cell_type": "markdown",
   "id": "5cd73cf5",
   "metadata": {
    "pycharm": {
     "name": "#%% md\n"
    }
   },
   "source": [
    "#### Not working - need \"agent id\""
   ]
  },
  {
   "cell_type": "code",
   "execution_count": null,
   "id": "049cdbd2",
   "metadata": {
    "pycharm": {
     "name": "#%%\n"
    }
   },
   "outputs": [],
   "source": [
    "from bs4 import BeautifulSoup\n",
    "import requests"
   ]
  },
  {
   "cell_type": "code",
   "execution_count": null,
   "id": "0c5a7668",
   "metadata": {
    "pycharm": {
     "name": "#%%\n"
    }
   },
   "outputs": [],
   "source": [
    "url = \"https://www.sec.gov/Archives/edgar/data/1041673/0001193125-20-135785.txt\"\n",
    "req = requests.get(url)\n",
    "soup = BeautifulSoup(req.text, \"html.parser\")\n",
    "print(soup.title)"
   ]
  },
  {
   "cell_type": "code",
   "execution_count": null,
   "id": "af3741ba",
   "metadata": {
    "pycharm": {
     "name": "#%%\n"
    }
   },
   "outputs": [],
   "source": [
    "for link in soup.find_all('a'):\n",
    "    print(link.get('href'))"
   ]
  },
  {
   "cell_type": "markdown",
   "id": "bc06a238",
   "metadata": {
    "pycharm": {
     "name": "#%% md\n"
    }
   },
   "source": [
    "#### Iterate over each filling and clean html data to readible text"
   ]
  },
  {
   "cell_type": "code",
   "execution_count": null,
   "id": "e6da401d",
   "metadata": {
    "pycharm": {
     "name": "#%%\n"
    }
   },
   "outputs": [],
   "source": [
    "import os\n",
    "from bs4 import BeautifulSoup\n",
    "import re\n",
    "from utils import load_pkl"
   ]
  },
  {
   "cell_type": "code",
   "execution_count": null,
   "id": "1fbce4c7",
   "metadata": {},
   "outputs": [],
   "source": [
    "# Load file containing all available CIK on CRSP databse\n",
    "cik_available_pkl = load_pkl('cik_available_pkl.pkl')"
   ]
  },
  {
   "cell_type": "code",
   "execution_count": null,
   "id": "7d85dd57",
   "metadata": {
    "pycharm": {
     "name": "#%%\n"
    }
   },
   "outputs": [],
   "source": [
    "# Clean fillings by removing html tags, images and some characters\n",
    "def remove_tags(html):\n",
    "    search_filling = re.search(\"(?s)(?m)<TEXT>.*?(</TEXT>)\", html)\n",
    "    try:\n",
    "        data_processed = search_filling.group(0)\n",
    "\n",
    "        # delete formatting text used to identify specific section as its not relevant\n",
    "        data_processed = re.sub(pattern=\"((?i)<TYPE>).*?(?=<)\", repl='', string=data_processed)\n",
    "\n",
    "        # Five more formatting tags are deleted\n",
    "        data_processed = re.sub(pattern=\"((?i)<SEQUENCE>).*?(?=<)\", repl='', string=data_processed)\n",
    "        data_processed = re.sub(pattern=\"((?i)<FILENAME>).*?(?=<)\", repl='', string=data_processed)\n",
    "        data_processed = re.sub(pattern=\"((?i)<DESCRIPTION>).*?(?=<)\", repl='', string=data_processed)\n",
    "        data_processed = re.sub(pattern=\"(?s)(?i)<head>.*?</head>\", repl='', string=data_processed)\n",
    "        data_processed = re.sub(pattern=\"(?s)(?i)<(table).*?(</table>)\", repl='', string=data_processed)\n",
    "\n",
    "        # Removes all HTML tags\n",
    "        data_processed = re.sub(pattern=\"(?s)<.*?>\", repl=\" \", string=data_processed, count=0)\n",
    "\n",
    "        # Replaces all Unicode strings\n",
    "        data_processed = re.sub(pattern=\"&(.{2,6});\", repl=\" \", string=data_processed, count=0)\n",
    "\n",
    "        data_processed = re.sub(u'[\\t\\n\\xa0]', ' ', data_processed)\n",
    "\n",
    "        # Replaces multiple spaces with a single space\n",
    "        data_processed = re.sub(pattern=\"(?s) +\", repl=\" \", string=data_processed, count=0)\n",
    "        return data_processed\n",
    "    except :\n",
    "        return None"
   ]
  },
  {
   "cell_type": "code",
   "execution_count": null,
   "id": "0204cd64",
   "metadata": {
    "pycharm": {
     "name": "#%%\n"
    }
   },
   "outputs": [],
   "source": [
    "import warnings\n",
    "warnings.filterwarnings('ignore')"
   ]
  },
  {
   "cell_type": "code",
   "execution_count": null,
   "id": "04e880a3",
   "metadata": {
    "pycharm": {
     "name": "#%%\n"
    }
   },
   "outputs": [],
   "source": [
    "DS_STORE = '.DS_Store'\n",
    "\n",
    "fillings_cik_cleaned=[]\n",
    "try:\n",
    "    fillings_cik_cleaned = os.listdir('data/sec-edgar-filings-cleaned')\n",
    "    if DS_STORE in fillings_cik_cleaned : fillings_cik_cleaned.remove(DS_STORE)\n",
    "    nb_elem = len(fillings_cik_cleaned)\n",
    "except:\n",
    "    nb_elem = 0\n",
    "    \n",
    "print(nb_elem)"
   ]
  },
  {
   "cell_type": "code",
   "execution_count": null,
   "id": "a20915f1",
   "metadata": {
    "pycharm": {
     "name": "#%%\n"
    }
   },
   "outputs": [],
   "source": [
    "fillings_cik = os.listdir('data/sec-edgar-filings')\n",
    "DS_STORE = '.DS_Store'\n",
    "\n",
    "if DS_STORE in fillings_cik : fillings_cik.remove(DS_STORE)\n",
    "n = len(fillings_cik)\n",
    "for i, cik in enumerate(sorted(fillings_cik)) : # all fillings\n",
    "    if cik in fillings_cik_cleaned or cik not in cik_available_pkl:\n",
    "        continue\n",
    "    print(f\"{cik} --- {i}/{n} ({i/n*100:.4}%)\", end='\\r')\n",
    "    \n",
    "    path_cik = 'data/sec-edgar-filings/'+str(cik)\n",
    "    report_type = os.listdir(path_cik)\n",
    "    if DS_STORE in report_type : report_type.remove(DS_STORE)\n",
    "    \n",
    "    for rt in report_type : # N-CSR and N-CSRS\n",
    "        path_report_type = path_cik+'/'+str(rt)\n",
    "        report_folder = os.listdir(path_report_type)\n",
    "        if DS_STORE in report_folder : report_folder.remove(DS_STORE)\n",
    "        \n",
    "        for rf in report_folder: # report identity\n",
    "            path_report_folder = path_report_type+'/'+rf\n",
    "            filling = os.listdir(path_report_folder)\n",
    "            \n",
    "            for file in filling: # file submission text\n",
    "                path_file = path_report_folder+'/'+str(file)\n",
    "                with open(path_file, 'r') as f:\n",
    "                    # Prepare new directory where to save the clean / parsed version of the report\n",
    "                    path_clean = \"data/sec-edgar-filings-cleaned/\"+'/'.join(path_file.split('/')[2:-1])\n",
    "                    if not os.path.exists(path_clean):\n",
    "                         os.makedirs(path_clean)\n",
    "                    text = remove_tags(f.read())\n",
    "                    if text is not None:\n",
    "                        # Save in txt file the new SEC report filling\n",
    "                        with open(path_clean+\"/full-submission.txt\", 'w') as f:\n",
    "                            f.write(text)"
   ]
  },
  {
   "cell_type": "markdown",
   "id": "3e27d739",
   "metadata": {
    "pycharm": {
     "name": "#%% md\n"
    }
   },
   "source": [
    "#### Find benchmarks candidates"
   ]
  },
  {
   "cell_type": "code",
   "execution_count": null,
   "id": "89cb22b6",
   "metadata": {
    "pycharm": {
     "name": "#%%\n"
    }
   },
   "outputs": [],
   "source": [
    "with open('beautifulsoup.txt', 'w') as f:\n",
    "    f.write(text)"
   ]
  },
  {
   "cell_type": "code",
   "execution_count": null,
   "id": "2dd02883",
   "metadata": {
    "pycharm": {
     "name": "#%%\n"
    }
   },
   "outputs": [],
   "source": [
    "import numpy as np\n",
    "words = text.split()\n",
    "\n",
    "indices = [ i for i, w in enumerate(words) if w.lower() == 'benchmark']\n",
    "\n",
    "for i in indices:\n",
    "    potential = words[i-15:i+15]\n",
    "    potential = [p for p in potential if not p.islower() or p == 'benchmark']\n",
    "    print(' '.join(words[i-15:i+15]), end='\\n\\n')"
   ]
  },
  {
   "cell_type": "code",
   "execution_count": null,
   "id": "db2eb38c",
   "metadata": {
    "pycharm": {
     "name": "#%%\n"
    }
   },
   "outputs": [],
   "source": [
    "  # Print the extracted data\n",
    "print(remove_tags(req.content))"
   ]
  },
  {
   "cell_type": "markdown",
   "id": "6644facd",
   "metadata": {},
   "source": [
    "#### Test with one file"
   ]
  },
  {
   "cell_type": "code",
   "execution_count": null,
   "id": "61fecb81",
   "metadata": {},
   "outputs": [],
   "source": [
    "path = \"data/sec-edgar-filings/0001553197/N-CSR/0000051931-17-000292/full-submission.txt\"\n",
    "with open(path, 'r') as f:\n",
    "     text = remove_tags(f.read())"
   ]
  },
  {
   "cell_type": "code",
   "execution_count": null,
   "id": "d6170050",
   "metadata": {},
   "outputs": [],
   "source": [
    "path = \"data/sec-edgar-filings/0001553197/N-CSR/0000051931-17-000292/cleaned_draft.txt\"\n",
    "with open(path, 'w') as f:\n",
    "    if text is not None:\n",
    "        f.write(text)"
   ]
  }
 ],
 "metadata": {
  "kernelspec": {
   "display_name": "Python 3 (ipykernel)",
   "language": "python",
   "name": "python3"
  },
  "language_info": {
   "codemirror_mode": {
    "name": "ipython",
    "version": 3
   },
   "file_extension": ".py",
   "mimetype": "text/x-python",
   "name": "python",
   "nbconvert_exporter": "python",
   "pygments_lexer": "ipython3",
   "version": "3.9.12"
  }
 },
 "nbformat": 4,
 "nbformat_minor": 5
}
