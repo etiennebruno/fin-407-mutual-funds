{
 "cells": [
  {
   "cell_type": "code",
   "execution_count": null,
   "metadata": {
    "pycharm": {
     "name": "#%%\n"
    }
   },
   "outputs": [],
   "source": [
    "%load_ext ipython_clipboard\n",
    "import pandas as pd\n",
    "import numpy as np\n",
    "from utils import *"
   ]
  },
  {
   "cell_type": "code",
   "execution_count": null,
   "metadata": {},
   "outputs": [],
   "source": [
    "import warnings\n",
    "warnings.filterwarnings('ignore')"
   ]
  },
  {
   "cell_type": "code",
   "execution_count": null,
   "metadata": {
    "pycharm": {
     "name": "#%%\n"
    }
   },
   "outputs": [],
   "source": [
    "def year(ri):\n",
    "    year = ri.split('-')[1]\n",
    "    return '20' + year if int(year) <= 22 else '19' + year"
   ]
  },
  {
   "cell_type": "code",
   "execution_count": null,
   "metadata": {
    "pycharm": {
     "name": "#%%\n"
    }
   },
   "outputs": [],
   "source": [
    "finbert_predictions = load_pkl('data/sentiment_analysis/df_finbert_predictions.pkl')\n",
    "finbert_predictions"
   ]
  },
  {
   "cell_type": "code",
   "execution_count": null,
   "metadata": {
    "pycharm": {
     "name": "#%%\n"
    }
   },
   "outputs": [],
   "source": [
    "ris = finbert_predictions[~finbert_predictions.finbert_positive.isna()].report_identity"
   ]
  },
  {
   "cell_type": "code",
   "execution_count": null,
   "metadata": {
    "pycharm": {
     "name": "#%%\n"
    }
   },
   "outputs": [],
   "source": [
    "%clip\n",
    "finbert_predictions[['finbert_negative', 'finbert_neutral', 'finbert_positive']].describe().to_latex(float_format='%.3f', bold_rows=True, longtable=True, caption='Finbert prediction output', label='finbert', header=['Negative', 'Neutral', 'Positive'])\n"
   ]
  },
  {
   "cell_type": "code",
   "execution_count": null,
   "metadata": {
    "pycharm": {
     "name": "#%%\n"
    }
   },
   "outputs": [],
   "source": [
    "df = load_pkl('data/sentiment_analysis/df_vader.pkl')\n",
    "# df = df[df.report_identity.isin(ris)]\n",
    "df = df[~df.report_identity.isna()]"
   ]
  },
  {
   "cell_type": "code",
   "execution_count": null,
   "metadata": {
    "pycharm": {
     "name": "#%%\n"
    }
   },
   "outputs": [],
   "source": [
    "df['year'] = df.report_identity.apply(lambda ri: year(ri))\n",
    "df"
   ]
  },
  {
   "cell_type": "code",
   "execution_count": null,
   "metadata": {
    "pycharm": {
     "name": "#%%\n"
    }
   },
   "outputs": [],
   "source": [
    "%clip\n",
    "df[['vader_polarity_neg', 'vader_polarity_neu', 'vader_polarity_pos']].describe().to_latex(float_format='%.3f', bold_rows=True, longtable=True, caption='Vader predictions (without pre-processing)', label='vader_no_pre', header=['Negative', 'Neutral', 'Positive'])"
   ]
  },
  {
   "cell_type": "code",
   "execution_count": null,
   "metadata": {
    "pycharm": {
     "name": "#%%\n"
    }
   },
   "outputs": [],
   "source": [
    "%clip\n",
    "df[['vader_preprocessed_polarity_neg', 'vader_preprocessed_polarity_neu', 'vader_preprocessed_polarity_pos']].describe().to_latex(float_format='%.3f', bold_rows=True, longtable=True, caption='Vader predictions (with pre-processing)', label='vader_pre', header=['Negative', 'Neutral', 'Positive'])"
   ]
  },
  {
   "cell_type": "code",
   "execution_count": null,
   "metadata": {
    "pycharm": {
     "name": "#%%\n"
    }
   },
   "outputs": [],
   "source": [
    "df = load_pkl('data/sentiment_analysis/df_tb.pkl')\n",
    "# df = df[df.report_identity.isin(ris)]\n",
    "df = df[~df.report_identity.isna()]\n"
   ]
  },
  {
   "cell_type": "code",
   "execution_count": null,
   "metadata": {
    "pycharm": {
     "name": "#%%\n"
    }
   },
   "outputs": [],
   "source": [
    "%clip\n",
    "df[['textblob_sentiment_polarity', 'textblob_sentiment_subjectivity']].describe().to_latex(float_format='%.3f', bold_rows=True, longtable=True, caption='TextBlob predictions (without pre-processing)', label='textblob_no_pre', header=['Polarity', 'Subjectivity'])"
   ]
  },
  {
   "cell_type": "code",
   "execution_count": null,
   "metadata": {
    "pycharm": {
     "name": "#%%\n"
    }
   },
   "outputs": [],
   "source": [
    "%clip\n",
    "df[['textblob_preprocessed_sentiment_polarity', 'textblob_preprocessed_sentiment_subjectivity']].describe().to_latex(float_format='%.3f', bold_rows=True, longtable=True, caption='TextBlob predictions (with pre-processing)', label='textblob_pre', header=['Polarity', 'Subjectivity'])"
   ]
  },
  {
   "cell_type": "code",
   "execution_count": null,
   "metadata": {
    "pycharm": {
     "name": "#%%\n"
    }
   },
   "outputs": [],
   "source": [
    "df = load_pkl('data/sentiment_analysis/df_flair.pkl')\n",
    "# df = df[df.report_identity.isin(ris)]\n",
    "df = df[~df.report_identity.isna()]\n"
   ]
  },
  {
   "cell_type": "code",
   "execution_count": null,
   "metadata": {
    "pycharm": {
     "name": "#%%\n"
    }
   },
   "outputs": [],
   "source": [
    "df[['flair_sentiment_tag', ]].value_counts()"
   ]
  },
  {
   "cell_type": "code",
   "execution_count": null,
   "metadata": {
    "pycharm": {
     "name": "#%%\n"
    }
   },
   "outputs": [],
   "source": []
  },
  {
   "cell_type": "code",
   "execution_count": null,
   "metadata": {
    "pycharm": {
     "name": "#%%\n"
    }
   },
   "outputs": [],
   "source": [
    "%clip\n",
    "df[['flair_sentiment_tag', 'flair_preprocessed_sentiment_tag']].value_counts().to_latex(float_format='%.3f',  longtable=True, caption='TextBlob predictions (without pre-processing)', label='textblob_no_pre', header=[ 'Score'])"
   ]
  },
  {
   "cell_type": "code",
   "execution_count": null,
   "metadata": {
    "pycharm": {
     "name": "#%%\n"
    }
   },
   "outputs": [],
   "source": [
    "import os\n",
    "from transformers import pipeline\n",
    "from nltk.sentiment.vader import SentimentIntensityAnalyzer\n",
    "from textblob import TextBlob\n",
    "import flair\n",
    "\n",
    "vader = SentimentIntensityAnalyzer()\n",
    "flair_sentiment = flair.models.TextClassifier.load('en-sentiment')\n",
    "\n",
    "def get_flair_sentiment(text):\n",
    "    s = flair.data.Sentence(text)\n",
    "    flair_sentiment.predict(s)\n",
    "    return s.tag, s.score\n",
    "s = \"In Q4 2020, while the market was down 10%, our fund remarkably only lost 0.1%.\"\n",
    "classifier = pipeline('sentiment-analysis')\n",
    "\n",
    "# Simple test\n",
    "result = classifier(s)\n",
    "fin_classifier = pipeline('sentiment-analysis', model='ProsusAI/finbert')\n",
    "# Simple test as above with different and more realistic output\n",
    "fin_result = fin_classifier(s)\n"
   ]
  },
  {
   "cell_type": "code",
   "execution_count": null,
   "metadata": {
    "pycharm": {
     "name": "#%%\n"
    }
   },
   "outputs": [],
   "source": [
    "results = {'Vader': vader.polarity_scores(s),\n",
    " 'TextBlob': str(TextBlob(s).sentiment),\n",
    " 'LSTM (flair)': get_flair_sentiment(s),\n",
    " 'BERT': result,\n",
    " 'FinBERT': fin_result}\n",
    "\n",
    "results"
   ]
  },
  {
   "cell_type": "code",
   "execution_count": null,
   "metadata": {
    "pycharm": {
     "name": "#%%\n"
    }
   },
   "outputs": [],
   "source": [
    "df = pd.DataFrame([[k,v] for (k,v) in results.items()], columns=['model', 'output'])\n",
    "\n",
    "df['takeaway'] = ['Neutral', 'Neutral & Subjective', 'Negative', 'Negative', 'Positive']\n",
    "df.set_index('model', inplace=True, )\n",
    "#df.reset_index(inplace=True)\n",
    "df"
   ]
  },
  {
   "cell_type": "code",
   "execution_count": null,
   "metadata": {
    "pycharm": {
     "name": "#%%\n"
    }
   },
   "outputs": [],
   "source": [
    "%clip\n",
    "pd.set_option('display.max_colwidth', None)\n",
    "\n",
    "df.to_latex(float_format='%.3f', bold_rows=True, longtable=True, caption=f'Comparison of models for a simple input', label='sentiment_analysis_results')"
   ]
  },
  {
   "cell_type": "code",
   "execution_count": null,
   "metadata": {
    "pycharm": {
     "name": "#%%\n"
    }
   },
   "outputs": [],
   "source": [
    "# model         # output                                                # takeaway\n",
    "#vader #({'neg': 0.0, 'neu': 1.0, 'pos': 0.0, 'compound': 0.0} #neutal\n",
    "#finbert     # [{'label': 'positive', 'score': 0.9165573716163635}])    #positive"
   ]
  },
  {
   "cell_type": "code",
   "execution_count": null,
   "metadata": {
    "pycharm": {
     "name": "#%%\n"
    }
   },
   "outputs": [],
   "source": []
  },
  {
   "cell_type": "code",
   "execution_count": null,
   "metadata": {
    "pycharm": {
     "name": "#%%\n"
    }
   },
   "outputs": [],
   "source": [
    "df = finbert_predictions.filter(regex='finbert_')[~finbert_predictions.finbert_positive.isna()]\n"
   ]
  },
  {
   "cell_type": "code",
   "execution_count": null,
   "metadata": {
    "pycharm": {
     "name": "#%%\n"
    }
   },
   "outputs": [],
   "source": [
    "\n",
    "import matplotlib.pyplot as plt\n",
    "import seaborn as sns\n",
    "\n",
    "fig, ax = plt.subplots(1, 3, figsize=(30, 10))\n",
    "\n",
    "for i in range(ax.shape[0]):\n",
    "        sns.distplot(df[df.columns[i]], ax=ax[i])"
   ]
  },
  {
   "cell_type": "code",
   "execution_count": null,
   "metadata": {
    "pycharm": {
     "name": "#%%\n"
    }
   },
   "outputs": [],
   "source": [
    "df"
   ]
  },
  {
   "cell_type": "code",
   "execution_count": null,
   "metadata": {
    "pycharm": {
     "name": "#%%\n"
    }
   },
   "outputs": [],
   "source": [
    "sns.reset_orig()\n",
    "sns.set(style=\"darkgrid\")\n",
    "sns.set_style(\"whitegrid\", {'axes.grid' : False})\n",
    "sns.set(rc={\"figure.figsize\":(18, 8)})\n",
    "sns.displot(df.melt(), x='value',hue=\"variable\",kind=\"kde\", fill=True)"
   ]
  },
  {
   "cell_type": "code",
   "execution_count": null,
   "metadata": {
    "pycharm": {
     "name": "#%%\n"
    }
   },
   "outputs": [],
   "source": [
    "df.melt(var_name='Prediction').value.sum()/2155"
   ]
  },
  {
   "cell_type": "code",
   "execution_count": null,
   "metadata": {
    "pycharm": {
     "name": "#%%\n"
    }
   },
   "outputs": [],
   "source": []
  }
 ],
 "metadata": {
  "kernelspec": {
   "display_name": "Python 3 (ipykernel)",
   "language": "python",
   "name": "python3"
  },
  "language_info": {
   "codemirror_mode": {
    "name": "ipython",
    "version": 3
   },
   "file_extension": ".py",
   "mimetype": "text/x-python",
   "name": "python",
   "nbconvert_exporter": "python",
   "pygments_lexer": "ipython3",
   "version": "3.9.12"
  }
 },
 "nbformat": 4,
 "nbformat_minor": 1
}
