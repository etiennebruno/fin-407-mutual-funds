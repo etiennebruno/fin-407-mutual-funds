{
 "cells": [
  {
   "cell_type": "code",
   "execution_count": 1,
   "id": "ec18039b",
   "metadata": {
    "pycharm": {
     "name": "#%%\n"
    }
   },
   "outputs": [
    {
     "data": {
      "text/html": [
       "<style>.container { width:80% !important; }</style>"
      ],
      "text/plain": [
       "<IPython.core.display.HTML object>"
      ]
     },
     "metadata": {},
     "output_type": "display_data"
    }
   ],
   "source": [
    "from IPython.display import display, HTML\n",
    "display(HTML(\"<style>.container { width:80% !important; }</style>\"))"
   ]
  },
  {
   "cell_type": "code",
   "execution_count": 2,
   "id": "28e9c438",
   "metadata": {
    "pycharm": {
     "name": "#%%\n"
    }
   },
   "outputs": [],
   "source": [
    "%load_ext autoreload\n",
    "%autoreload 2"
   ]
  },
  {
   "cell_type": "markdown",
   "id": "42b07b34",
   "metadata": {
    "pycharm": {
     "name": "#%% md\n"
    }
   },
   "source": [
    "## GET (SEMI-)ANNUAL AVERAGE RETURNS OVER TIME OF THE AVAILABLE FUNDS"
   ]
  },
  {
   "cell_type": "code",
   "execution_count": 3,
   "id": "ba6a0c00",
   "metadata": {
    "pycharm": {
     "name": "#%%\n"
    }
   },
   "outputs": [],
   "source": [
    "import numpy as np\n",
    "import pandas as pd\n",
    "import os"
   ]
  },
  {
   "cell_type": "code",
   "execution_count": 4,
   "id": "013459b6",
   "metadata": {
    "pycharm": {
     "name": "#%%\n"
    }
   },
   "outputs": [
    {
     "name": "stdout",
     "output_type": "stream",
     "text": [
      "Loading library list...\n",
      "Done\n"
     ]
    }
   ],
   "source": [
    "# Connection to WRDS\n",
    "import wrds\n",
    "db = wrds.Connection(wrds_username='etiennebruno')\n",
    "#db = wrds.Connection(wrds_username='zadaf')"
   ]
  },
  {
   "cell_type": "code",
   "execution_count": 5,
   "id": "916c4f53",
   "metadata": {
    "pycharm": {
     "name": "#%%\n"
    }
   },
   "outputs": [],
   "source": [
    "# Import CIKs from the dataframe of all cleaned filings\n",
    "from utils import *\n",
    "ciks = ', '.join(list(df_from_filings().cik.unique()))"
   ]
  },
  {
   "cell_type": "code",
   "execution_count": 6,
   "id": "fd995a5a",
   "metadata": {
    "pycharm": {
     "name": "#%%\n"
    }
   },
   "outputs": [],
   "source": [
    "# Get all cik number available (intersection between our dataframe and the data on CRSP)\n",
    "ciks_data = db.raw_sql(f'''\n",
    "        select distinct comp_cik\n",
    "        from crsp_q_mutualfunds.crsp_cik_map\n",
    "        where comp_cik in ({ciks})\n",
    "''')\n",
    "cik_available = list(ciks_data.comp_cik)\n",
    "cik_available = ', '.join([str(i) for i in cik_available])"
   ]
  },
  {
   "cell_type": "code",
   "execution_count": 7,
   "id": "c826adef",
   "metadata": {
    "pycharm": {
     "name": "#%%\n"
    }
   },
   "outputs": [
    {
     "data": {
      "text/html": [
       "<div>\n",
       "<style scoped>\n",
       "    .dataframe tbody tr th:only-of-type {\n",
       "        vertical-align: middle;\n",
       "    }\n",
       "\n",
       "    .dataframe tbody tr th {\n",
       "        vertical-align: top;\n",
       "    }\n",
       "\n",
       "    .dataframe thead th {\n",
       "        text-align: right;\n",
       "    }\n",
       "</style>\n",
       "<table border=\"1\" class=\"dataframe\">\n",
       "  <thead>\n",
       "    <tr style=\"text-align: right;\">\n",
       "      <th></th>\n",
       "      <th>crsp_fundno</th>\n",
       "      <th>comp_cik</th>\n",
       "      <th>series_cik</th>\n",
       "      <th>contract_cik</th>\n",
       "    </tr>\n",
       "  </thead>\n",
       "  <tbody>\n",
       "    <tr>\n",
       "      <th>0</th>\n",
       "      <td>5.0</td>\n",
       "      <td>351895.0</td>\n",
       "      <td>S000004050</td>\n",
       "      <td>C000011336</td>\n",
       "    </tr>\n",
       "    <tr>\n",
       "      <th>1</th>\n",
       "      <td>357.0</td>\n",
       "      <td>883496.0</td>\n",
       "      <td>None</td>\n",
       "      <td>None</td>\n",
       "    </tr>\n",
       "    <tr>\n",
       "      <th>2</th>\n",
       "      <td>743.0</td>\n",
       "      <td>848012.0</td>\n",
       "      <td>S000006084</td>\n",
       "      <td>C000016714</td>\n",
       "    </tr>\n",
       "    <tr>\n",
       "      <th>3</th>\n",
       "      <td>3537.0</td>\n",
       "      <td>1311981.0</td>\n",
       "      <td>S000004764</td>\n",
       "      <td>C000012957</td>\n",
       "    </tr>\n",
       "    <tr>\n",
       "      <th>4</th>\n",
       "      <td>4456.0</td>\n",
       "      <td>1105877.0</td>\n",
       "      <td>S000005190</td>\n",
       "      <td>C000014168</td>\n",
       "    </tr>\n",
       "    <tr>\n",
       "      <th>...</th>\n",
       "      <td>...</td>\n",
       "      <td>...</td>\n",
       "      <td>...</td>\n",
       "      <td>...</td>\n",
       "    </tr>\n",
       "    <tr>\n",
       "      <th>181</th>\n",
       "      <td>98751.0</td>\n",
       "      <td>1848758.0</td>\n",
       "      <td>S000071907</td>\n",
       "      <td>None</td>\n",
       "    </tr>\n",
       "    <tr>\n",
       "      <th>182</th>\n",
       "      <td>98870.0</td>\n",
       "      <td>1760588.0</td>\n",
       "      <td>S000066608</td>\n",
       "      <td>None</td>\n",
       "    </tr>\n",
       "    <tr>\n",
       "      <th>183</th>\n",
       "      <td>99118.0</td>\n",
       "      <td>1508033.0</td>\n",
       "      <td>S000072822</td>\n",
       "      <td>C000229393</td>\n",
       "    </tr>\n",
       "    <tr>\n",
       "      <th>184</th>\n",
       "      <td>99243.0</td>\n",
       "      <td>1849998.0</td>\n",
       "      <td>S000074173</td>\n",
       "      <td>None</td>\n",
       "    </tr>\n",
       "    <tr>\n",
       "      <th>185</th>\n",
       "      <td>99523.0</td>\n",
       "      <td>1873280.0</td>\n",
       "      <td>S000073959</td>\n",
       "      <td>C000231235</td>\n",
       "    </tr>\n",
       "  </tbody>\n",
       "</table>\n",
       "<p>186 rows × 4 columns</p>\n",
       "</div>"
      ],
      "text/plain": [
       "     crsp_fundno   comp_cik  series_cik contract_cik\n",
       "0            5.0   351895.0  S000004050   C000011336\n",
       "1          357.0   883496.0        None         None\n",
       "2          743.0   848012.0  S000006084   C000016714\n",
       "3         3537.0  1311981.0  S000004764   C000012957\n",
       "4         4456.0  1105877.0  S000005190   C000014168\n",
       "..           ...        ...         ...          ...\n",
       "181      98751.0  1848758.0  S000071907         None\n",
       "182      98870.0  1760588.0  S000066608         None\n",
       "183      99118.0  1508033.0  S000072822   C000229393\n",
       "184      99243.0  1849998.0  S000074173         None\n",
       "185      99523.0  1873280.0  S000073959   C000231235\n",
       "\n",
       "[186 rows x 4 columns]"
      ]
     },
     "execution_count": 7,
     "metadata": {},
     "output_type": "execute_result"
    }
   ],
   "source": [
    "# With the mapping table of CRSP, get all companies' fund number\n",
    "crsp_fundno_available = db.raw_sql(f'''\n",
    "        select *\n",
    "        from crsp_q_mutualfunds.crsp_cik_map\n",
    "        where comp_cik in ({cik_available})\n",
    "''')\n",
    "crsp_fundno_available"
   ]
  },
  {
   "cell_type": "code",
   "execution_count": 8,
   "id": "90850dc7",
   "metadata": {
    "pycharm": {
     "name": "#%%\n"
    }
   },
   "outputs": [
    {
     "name": "stdout",
     "output_type": "stream",
     "text": [
      "186\n",
      "186\n"
     ]
    }
   ],
   "source": [
    "print(len(crsp_fundno_available['crsp_fundno'].unique()))\n",
    "\n",
    "print(len(crsp_fundno_available['comp_cik'].unique()))"
   ]
  },
  {
   "cell_type": "code",
   "execution_count": 9,
   "id": "bd71370d",
   "metadata": {},
   "outputs": [
    {
     "data": {
      "text/plain": [
       "0"
      ]
     },
     "execution_count": 9,
     "metadata": {},
     "output_type": "execute_result"
    }
   ],
   "source": [
    "sum(crsp_fundno_available['comp_cik'].value_counts() == 2)"
   ]
  },
  {
   "cell_type": "code",
   "execution_count": 10,
   "id": "38c6b42c",
   "metadata": {
    "pycharm": {
     "name": "#%%\n"
    }
   },
   "outputs": [],
   "source": [
    "# Convert the list of fund numbers to a list of string type for future SQL queries\n",
    "list_float_fundnos = list(crsp_fundno_available.crsp_fundno.unique())\n",
    "crsp_fundno_available_list_str = ', '.join([str(i) for i in list_float_fundnos])"
   ]
  },
  {
   "cell_type": "code",
   "execution_count": 11,
   "id": "d2350e42",
   "metadata": {
    "pycharm": {
     "name": "#%%\n"
    }
   },
   "outputs": [
    {
     "data": {
      "text/html": [
       "<div>\n",
       "<style scoped>\n",
       "    .dataframe tbody tr th:only-of-type {\n",
       "        vertical-align: middle;\n",
       "    }\n",
       "\n",
       "    .dataframe tbody tr th {\n",
       "        vertical-align: top;\n",
       "    }\n",
       "\n",
       "    .dataframe thead th {\n",
       "        text-align: right;\n",
       "    }\n",
       "</style>\n",
       "<table border=\"1\" class=\"dataframe\">\n",
       "  <thead>\n",
       "    <tr style=\"text-align: right;\">\n",
       "      <th></th>\n",
       "      <th>crsp_fundno</th>\n",
       "      <th>caldt</th>\n",
       "      <th>mret</th>\n",
       "      <th>comp_cik</th>\n",
       "      <th>series_cik</th>\n",
       "      <th>contract_cik</th>\n",
       "    </tr>\n",
       "  </thead>\n",
       "  <tbody>\n",
       "    <tr>\n",
       "      <th>0</th>\n",
       "      <td>38899.0</td>\n",
       "      <td>2022-03-31</td>\n",
       "      <td>-0.000767</td>\n",
       "      <td>1000249.0</td>\n",
       "      <td>S000011490</td>\n",
       "      <td>C000031720</td>\n",
       "    </tr>\n",
       "    <tr>\n",
       "      <th>1</th>\n",
       "      <td>38899.0</td>\n",
       "      <td>2022-02-28</td>\n",
       "      <td>-0.001149</td>\n",
       "      <td>1000249.0</td>\n",
       "      <td>S000011490</td>\n",
       "      <td>C000031720</td>\n",
       "    </tr>\n",
       "    <tr>\n",
       "      <th>2</th>\n",
       "      <td>38899.0</td>\n",
       "      <td>2022-01-31</td>\n",
       "      <td>-0.010614</td>\n",
       "      <td>1000249.0</td>\n",
       "      <td>S000011490</td>\n",
       "      <td>C000031720</td>\n",
       "    </tr>\n",
       "    <tr>\n",
       "      <th>3</th>\n",
       "      <td>38899.0</td>\n",
       "      <td>2021-12-31</td>\n",
       "      <td>0.037927</td>\n",
       "      <td>1000249.0</td>\n",
       "      <td>S000011490</td>\n",
       "      <td>C000031720</td>\n",
       "    </tr>\n",
       "    <tr>\n",
       "      <th>4</th>\n",
       "      <td>38899.0</td>\n",
       "      <td>2021-11-30</td>\n",
       "      <td>-0.032331</td>\n",
       "      <td>1000249.0</td>\n",
       "      <td>S000011490</td>\n",
       "      <td>C000031720</td>\n",
       "    </tr>\n",
       "    <tr>\n",
       "      <th>...</th>\n",
       "      <td>...</td>\n",
       "      <td>...</td>\n",
       "      <td>...</td>\n",
       "      <td>...</td>\n",
       "      <td>...</td>\n",
       "      <td>...</td>\n",
       "    </tr>\n",
       "    <tr>\n",
       "      <th>46417</th>\n",
       "      <td>34968.0</td>\n",
       "      <td>1977-12-30</td>\n",
       "      <td>-0.103429</td>\n",
       "      <td>80946.0</td>\n",
       "      <td>S000010007</td>\n",
       "      <td>None</td>\n",
       "    </tr>\n",
       "    <tr>\n",
       "      <th>46418</th>\n",
       "      <td>34968.0</td>\n",
       "      <td>1976-12-31</td>\n",
       "      <td>0.235968</td>\n",
       "      <td>80946.0</td>\n",
       "      <td>S000010007</td>\n",
       "      <td>None</td>\n",
       "    </tr>\n",
       "    <tr>\n",
       "      <th>46419</th>\n",
       "      <td>34968.0</td>\n",
       "      <td>1975-12-31</td>\n",
       "      <td>0.412130</td>\n",
       "      <td>80946.0</td>\n",
       "      <td>S000010007</td>\n",
       "      <td>None</td>\n",
       "    </tr>\n",
       "    <tr>\n",
       "      <th>46420</th>\n",
       "      <td>34968.0</td>\n",
       "      <td>1974-12-31</td>\n",
       "      <td>-0.290340</td>\n",
       "      <td>80946.0</td>\n",
       "      <td>S000010007</td>\n",
       "      <td>None</td>\n",
       "    </tr>\n",
       "    <tr>\n",
       "      <th>46421</th>\n",
       "      <td>34968.0</td>\n",
       "      <td>1973-12-31</td>\n",
       "      <td>-0.225324</td>\n",
       "      <td>80946.0</td>\n",
       "      <td>S000010007</td>\n",
       "      <td>None</td>\n",
       "    </tr>\n",
       "  </tbody>\n",
       "</table>\n",
       "<p>46422 rows × 6 columns</p>\n",
       "</div>"
      ],
      "text/plain": [
       "       crsp_fundno       caldt      mret   comp_cik  series_cik contract_cik\n",
       "0          38899.0  2022-03-31 -0.000767  1000249.0  S000011490   C000031720\n",
       "1          38899.0  2022-02-28 -0.001149  1000249.0  S000011490   C000031720\n",
       "2          38899.0  2022-01-31 -0.010614  1000249.0  S000011490   C000031720\n",
       "3          38899.0  2021-12-31  0.037927  1000249.0  S000011490   C000031720\n",
       "4          38899.0  2021-11-30 -0.032331  1000249.0  S000011490   C000031720\n",
       "...            ...         ...       ...        ...         ...          ...\n",
       "46417      34968.0  1977-12-30 -0.103429    80946.0  S000010007         None\n",
       "46418      34968.0  1976-12-31  0.235968    80946.0  S000010007         None\n",
       "46419      34968.0  1975-12-31  0.412130    80946.0  S000010007         None\n",
       "46420      34968.0  1974-12-31 -0.290340    80946.0  S000010007         None\n",
       "46421      34968.0  1973-12-31 -0.225324    80946.0  S000010007         None\n",
       "\n",
       "[46422 rows x 6 columns]"
      ]
     },
     "execution_count": 11,
     "metadata": {},
     "output_type": "execute_result"
    }
   ],
   "source": [
    "# Get all available returns for each fund\n",
    "monthly_returns_all_funds = db.raw_sql(f'''\n",
    "        select *\n",
    "        from crsp_q_mutualfunds.monthly_returns\n",
    "        where crsp_fundno in ({crsp_fundno_available_list_str})\n",
    "        order by caldt desc\n",
    "''')\n",
    "monthly_returns_all_funds = pd.merge(left=monthly_returns_all_funds,right=crsp_fundno_available, how='inner', left_on='crsp_fundno', right_on='crsp_fundno')\n",
    "monthly_returns_all_funds"
   ]
  },
  {
   "cell_type": "code",
   "execution_count": 12,
   "id": "38646a84",
   "metadata": {
    "pycharm": {
     "name": "#%%\n"
    }
   },
   "outputs": [
    {
     "data": {
      "text/html": [
       "<div>\n",
       "<style scoped>\n",
       "    .dataframe tbody tr th:only-of-type {\n",
       "        vertical-align: middle;\n",
       "    }\n",
       "\n",
       "    .dataframe tbody tr th {\n",
       "        vertical-align: top;\n",
       "    }\n",
       "\n",
       "    .dataframe thead th {\n",
       "        text-align: right;\n",
       "    }\n",
       "</style>\n",
       "<table border=\"1\" class=\"dataframe\">\n",
       "  <thead>\n",
       "    <tr style=\"text-align: right;\">\n",
       "      <th></th>\n",
       "      <th></th>\n",
       "      <th>count</th>\n",
       "      <th>mret</th>\n",
       "      <th>year</th>\n",
       "      <th>mret_add_1</th>\n",
       "      <th>cum_return</th>\n",
       "    </tr>\n",
       "    <tr>\n",
       "      <th>comp_cik</th>\n",
       "      <th>caldt</th>\n",
       "      <th></th>\n",
       "      <th></th>\n",
       "      <th></th>\n",
       "      <th></th>\n",
       "      <th></th>\n",
       "    </tr>\n",
       "  </thead>\n",
       "  <tbody>\n",
       "    <tr>\n",
       "      <th rowspan=\"5\" valign=\"top\">5100.0</th>\n",
       "      <th>1976-12-31</th>\n",
       "      <td>1</td>\n",
       "      <td>NaN</td>\n",
       "      <td>1976</td>\n",
       "      <td>NaN</td>\n",
       "      <td>NaN</td>\n",
       "    </tr>\n",
       "    <tr>\n",
       "      <th>1977-01-31</th>\n",
       "      <td>1</td>\n",
       "      <td>-0.041893</td>\n",
       "      <td>1977</td>\n",
       "      <td>0.958107</td>\n",
       "      <td>-0.041893</td>\n",
       "    </tr>\n",
       "    <tr>\n",
       "      <th>1977-02-28</th>\n",
       "      <td>1</td>\n",
       "      <td>-0.026721</td>\n",
       "      <td>1977</td>\n",
       "      <td>0.973279</td>\n",
       "      <td>-0.067494</td>\n",
       "    </tr>\n",
       "    <tr>\n",
       "      <th>1977-03-31</th>\n",
       "      <td>1</td>\n",
       "      <td>-0.016639</td>\n",
       "      <td>1977</td>\n",
       "      <td>0.983361</td>\n",
       "      <td>-0.083010</td>\n",
       "    </tr>\n",
       "    <tr>\n",
       "      <th>1977-04-29</th>\n",
       "      <td>1</td>\n",
       "      <td>-0.007614</td>\n",
       "      <td>1977</td>\n",
       "      <td>0.992386</td>\n",
       "      <td>-0.089992</td>\n",
       "    </tr>\n",
       "    <tr>\n",
       "      <th>...</th>\n",
       "      <th>...</th>\n",
       "      <td>...</td>\n",
       "      <td>...</td>\n",
       "      <td>...</td>\n",
       "      <td>...</td>\n",
       "      <td>...</td>\n",
       "    </tr>\n",
       "    <tr>\n",
       "      <th rowspan=\"2\" valign=\"top\">1849998.0</th>\n",
       "      <th>2022-02-28</th>\n",
       "      <td>1</td>\n",
       "      <td>-0.008032</td>\n",
       "      <td>2022</td>\n",
       "      <td>0.991968</td>\n",
       "      <td>-0.020258</td>\n",
       "    </tr>\n",
       "    <tr>\n",
       "      <th>2022-03-31</th>\n",
       "      <td>1</td>\n",
       "      <td>-0.017062</td>\n",
       "      <td>2022</td>\n",
       "      <td>0.982938</td>\n",
       "      <td>-0.036974</td>\n",
       "    </tr>\n",
       "    <tr>\n",
       "      <th rowspan=\"3\" valign=\"top\">1873280.0</th>\n",
       "      <th>2022-01-31</th>\n",
       "      <td>1</td>\n",
       "      <td>NaN</td>\n",
       "      <td>2022</td>\n",
       "      <td>NaN</td>\n",
       "      <td>NaN</td>\n",
       "    </tr>\n",
       "    <tr>\n",
       "      <th>2022-02-28</th>\n",
       "      <td>1</td>\n",
       "      <td>-0.016778</td>\n",
       "      <td>2022</td>\n",
       "      <td>0.983222</td>\n",
       "      <td>-0.016778</td>\n",
       "    </tr>\n",
       "    <tr>\n",
       "      <th>2022-03-31</th>\n",
       "      <td>1</td>\n",
       "      <td>0.043747</td>\n",
       "      <td>2022</td>\n",
       "      <td>1.043747</td>\n",
       "      <td>0.026235</td>\n",
       "    </tr>\n",
       "  </tbody>\n",
       "</table>\n",
       "<p>46422 rows × 5 columns</p>\n",
       "</div>"
      ],
      "text/plain": [
       "                      count      mret  year  mret_add_1  cum_return\n",
       "comp_cik  caldt                                                    \n",
       "5100.0    1976-12-31      1       NaN  1976         NaN         NaN\n",
       "          1977-01-31      1 -0.041893  1977    0.958107   -0.041893\n",
       "          1977-02-28      1 -0.026721  1977    0.973279   -0.067494\n",
       "          1977-03-31      1 -0.016639  1977    0.983361   -0.083010\n",
       "          1977-04-29      1 -0.007614  1977    0.992386   -0.089992\n",
       "...                     ...       ...   ...         ...         ...\n",
       "1849998.0 2022-02-28      1 -0.008032  2022    0.991968   -0.020258\n",
       "          2022-03-31      1 -0.017062  2022    0.982938   -0.036974\n",
       "1873280.0 2022-01-31      1       NaN  2022         NaN         NaN\n",
       "          2022-02-28      1 -0.016778  2022    0.983222   -0.016778\n",
       "          2022-03-31      1  0.043747  2022    1.043747    0.026235\n",
       "\n",
       "[46422 rows x 5 columns]"
      ]
     },
     "metadata": {},
     "output_type": "display_data"
    }
   ],
   "source": [
    "# Create a new dataframe with some statistic and the average return\n",
    "monthly_returns_all_funds_avg = monthly_returns_all_funds[['caldt', 'mret', 'comp_cik', 'crsp_fundno']].groupby(by=['comp_cik','caldt']).agg(\n",
    "    count=('crsp_fundno', 'count'),\n",
    "    mret=('mret', 'mean'),\n",
    ")\n",
    "\n",
    "monthly_returns_all_funds_avg.sort_values(by=['comp_cik', 'caldt'], inplace=True)\n",
    "monthly_returns_all_funds_avg['year'] = pd.to_datetime(monthly_returns_all_funds_avg.index.get_level_values(1))\n",
    "monthly_returns_all_funds_avg['year'] = monthly_returns_all_funds_avg['year'].dt.year\n",
    "\n",
    "# Create temporary column to compute later the cumulative return\n",
    "monthly_returns_all_funds_avg['mret_add_1']=monthly_returns_all_funds_avg['mret']+1\n",
    "\n",
    "# Compite the cumulative return of each CIK number\n",
    "monthly_returns_all_funds_avg['cum_return']=monthly_returns_all_funds_avg.groupby(['comp_cik', 'year'])['mret_add_1'].cumprod()-1\n",
    "\n",
    "# Display dataframe\n",
    "display(monthly_returns_all_funds_avg)\n",
    "monthly_returns_all_funds_avg.reset_index().to_pickle('data/funds_returns.pkl')"
   ]
  },
  {
   "cell_type": "code",
   "execution_count": 13,
   "id": "7d81dad6",
   "metadata": {
    "pycharm": {
     "name": "#%%\n"
    }
   },
   "outputs": [],
   "source": [
    "# Add specific columns to the aggregated dataframe\n",
    "# in order to be able to merge it with the df containing the filings\n",
    "all_funds_cum_ret = monthly_returns_all_funds_avg.reset_index()\n",
    "all_funds_cum_ret['caldt'] = pd.to_datetime(all_funds_cum_ret['caldt']) # add date\n",
    "all_funds_cum_ret = all_funds_cum_ret[all_funds_cum_ret['caldt'].dt.month.isin([6,12])] # only keep semi annual return and annual return\n",
    "all_funds_cum_ret['report_type'] = all_funds_cum_ret.caldt.apply(lambda caldt: 'N-CSR' if caldt.month == 12 else 'N-CSRS') # label if semi-annual or annual\n",
    "all_funds_cum_ret['year'] = all_funds_cum_ret.caldt.apply(lambda caldt: caldt.year) # add year\n",
    "all_funds_cum_ret['comp_cik'] = all_funds_cum_ret.comp_cik.apply(lambda comp_cik: '000'+str(int(comp_cik))) # reformat the cik\n",
    "\n",
    "# Process the the merge\n",
    "new_df = pd.merge(all_funds_cum_ret, df_from_filings(),  how='inner', left_on=['comp_cik','report_type', 'year'], right_on = ['cik','report_type', 'year'])"
   ]
  },
  {
   "cell_type": "code",
   "execution_count": 14,
   "id": "373b8a10",
   "metadata": {
    "pycharm": {
     "name": "#%%\n"
    }
   },
   "outputs": [],
   "source": [
    "# Save to pkl the new dataframe containing the texts, cumulative returns, date information and, other metadata\n",
    "path_save = os.path.join('data', 'data_frame_complete.pkl')\n",
    "save_pkl(new_df, path_save)"
   ]
  },
  {
   "cell_type": "code",
   "execution_count": 15,
   "id": "81922479",
   "metadata": {},
   "outputs": [],
   "source": [
    "path_finbert_df = os.path.join('data', 'sentiment_analysis', 'df_finbert_predictions.pkl')"
   ]
  }
 ],
 "metadata": {
  "kernelspec": {
   "display_name": "Python 3 (ipykernel)",
   "language": "python",
   "name": "python3"
  },
  "language_info": {
   "codemirror_mode": {
    "name": "ipython",
    "version": 3
   },
   "file_extension": ".py",
   "mimetype": "text/x-python",
   "name": "python",
   "nbconvert_exporter": "python",
   "pygments_lexer": "ipython3",
   "version": "3.9.12"
  }
 },
 "nbformat": 4,
 "nbformat_minor": 5
}
