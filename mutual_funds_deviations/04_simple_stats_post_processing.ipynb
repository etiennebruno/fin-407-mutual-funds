{
 "cells": [
  {
   "cell_type": "code",
   "execution_count": null,
   "metadata": {},
   "outputs": [],
   "source": [
    "import os\n",
    "import pandas as pd\n",
    "import numpy as np"
   ]
  },
  {
   "cell_type": "code",
   "execution_count": null,
   "metadata": {},
   "outputs": [],
   "source": [
    "DS_STORE = '.DS_Store'\n",
    "fillings_cik_cleaned=[]\n",
    "\n",
    "try:\n",
    "    fillings_cik_cleaned = os.listdir(os.path.join('data', 'sec-edgar-filings-cleaned'))\n",
    "    if DS_STORE in fillings_cik_cleaned :\n",
    "        fillings_cik_cleaned.remove(DS_STORE)\n",
    "    nb_elem = len(fillings_cik_cleaned)\n",
    "except:\n",
    "    print(\"error\")\n",
    "    nb_elem = 0\n",
    "    \n",
    "print(nb_elem)"
   ]
  },
  {
   "cell_type": "code",
   "execution_count": null,
   "metadata": {},
   "outputs": [],
   "source": [
    "fillings_cik = os.listdir('data/sec-edgar-filings')\n",
    "DS_STORE = '.DS_Store'\n",
    "\n",
    "nb_csr_s = 0\n",
    "nb_csr = 0\n",
    "\n",
    "if DS_STORE in fillings_cik : fillings_cik.remove(DS_STORE)\n",
    "n = len(fillings_cik)\n",
    "a = 0\n",
    "for i, cik in enumerate(sorted(fillings_cik)) : # all fillings\n",
    "    \n",
    "    path_cik = 'data/sec-edgar-filings/'+str(cik)\n",
    "    report_type = os.listdir(path_cik)\n",
    "    if DS_STORE in report_type : report_type.remove(DS_STORE)\n",
    "    \n",
    "    for rt in report_type : # N-CSR and N-CSRS\n",
    "        path_report_type = path_cik+'/'+str(rt)\n",
    "        report_folder = os.listdir(path_report_type)\n",
    "        if DS_STORE in report_folder : report_folder.remove(DS_STORE)\n",
    "        \n",
    "        for rf in report_folder: # report identity\n",
    "            path_report_folder = path_report_type+'/'+rf\n",
    "            filling = os.listdir(path_report_folder)\n",
    "            \n",
    "            for file in filling: # file submission text\n",
    "                path_file = path_report_folder+'/'+str(file)\n",
    "                if rt == 'N-CSR' :\n",
    "                    nb_csr+=1\n",
    "                else:\n",
    "                    nb_csr_s+=1\n",
    "                a+=1\n",
    "               \n",
    "print(f'NB_CRS : {nb_csr} - NB_CSRS {nb_csr_s}')"
   ]
  }
 ],
 "metadata": {
  "kernelspec": {
   "display_name": "Python 3 (ipykernel)",
   "language": "python",
   "name": "python3"
  },
  "language_info": {
   "codemirror_mode": {
    "name": "ipython",
    "version": 3
   },
   "file_extension": ".py",
   "mimetype": "text/x-python",
   "name": "python",
   "nbconvert_exporter": "python",
   "pygments_lexer": "ipython3",
   "version": "3.9.12"
  }
 },
 "nbformat": 4,
 "nbformat_minor": 1
}
