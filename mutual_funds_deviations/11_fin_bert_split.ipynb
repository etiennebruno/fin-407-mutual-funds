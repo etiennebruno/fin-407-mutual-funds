{
 "cells": [
  {
   "cell_type": "markdown",
   "metadata": {
    "pycharm": {
     "name": "#%% md\n"
    }
   },
   "source": [
    "Reference: [Apply Transformers to Any Length of Text](https://towardsdatascience.com/how-to-apply-transformers-to-any-length-of-text-a5601410af7f)"
   ]
  },
  {
   "cell_type": "markdown",
   "metadata": {
    "pycharm": {
     "name": "#%% md\n"
    }
   },
   "source": [
    "## IMPORT FIN-BERT MODEL"
   ]
  },
  {
   "cell_type": "code",
   "execution_count": 30,
   "metadata": {
    "pycharm": {
     "name": "#%%\n"
    }
   },
   "outputs": [],
   "source": [
    "from utils import *\n",
    "from transformers import BertForSequenceClassification, BertTokenizer\n",
    "import torch\n",
    "\n",
    "tokenizer = BertTokenizer.from_pretrained('ProsusAI/finbert')\n",
    "model = BertForSequenceClassification.from_pretrained('ProsusAI/finbert')"
   ]
  },
  {
   "cell_type": "code",
   "execution_count": 31,
   "metadata": {
    "pycharm": {
     "name": "#%%\n"
    }
   },
   "outputs": [],
   "source": [
    "def predict_finbert(txt):\n",
    "    # tokenizer = BertTokenizer.from_pretrained('ProsusAI/finbert')\n",
    "    # model = BertForSequenceClassification.from_pretrained('ProsusAI/finbert')\n",
    "    ### Tokenizer\n",
    "    # Standard way (does not split, not what we want)\n",
    "    # tokens = tokenizer.encode_plus(\n",
    "    #     txt, add_special_tokens=True,\n",
    "    #     max_length=512, truncation=True,\n",
    "    #     padding=\"max_length\"\n",
    "    # )\n",
    "    # Modified tokenizer (the one we need)\n",
    "    tokens = tokenizer.encode_plus(txt, add_special_tokens=False,\n",
    "                                   return_tensors='pt')\n",
    "\n",
    "    # print(len(tokens['input_ids'][0]))\n",
    "    # tokens\n",
    "    ### Split\n",
    "    #chunks of 510 not 512 to leave two places spare to add our [CLS] and [SEP] tokens.\n",
    "    # input_id_chunks = tokens['input_ids'][0].split(510)\n",
    "    # mask_chunks = tokens['attention_mask'][0].split(510)\n",
    "\n",
    "    # 'Chunk lengths: ' + ', '.join([str(len(_)) for _ in input_id_chunks])\n",
    "    ### Padding\n",
    "    # define target chunksize\n",
    "    chunksize = 512\n",
    "\n",
    "    # split into chunks of 510 tokens, we also convert to list (default is tuple which is immutable)\n",
    "    input_id_chunks = list(tokens['input_ids'][0].split(chunksize - 2))\n",
    "    mask_chunks = list(tokens['attention_mask'][0].split(chunksize - 2))\n",
    "\n",
    "    # loop through each chunk\n",
    "    for i in range(len(input_id_chunks)):\n",
    "        # add CLS and SEP tokens to input IDs\n",
    "        input_id_chunks[i] = torch.cat([\n",
    "            torch.tensor([101]), input_id_chunks[i], torch.tensor([102])\n",
    "        ])\n",
    "        # add attention tokens to attention mask\n",
    "        mask_chunks[i] = torch.cat([\n",
    "            torch.tensor([1]), mask_chunks[i], torch.tensor([1])\n",
    "        ])\n",
    "        # get required padding length\n",
    "        pad_len = chunksize - input_id_chunks[i].shape[0]\n",
    "        # check if tensor length satisfies required chunk size\n",
    "        if pad_len > 0:\n",
    "            # if padding length is more than 0, we must add padding\n",
    "            input_id_chunks[i] = torch.cat([\n",
    "                input_id_chunks[i], torch.Tensor([0] * pad_len)\n",
    "            ])\n",
    "            mask_chunks[i] = torch.cat([\n",
    "                mask_chunks[i], torch.Tensor([0] * pad_len)\n",
    "            ])\n",
    "\n",
    "    # check length of each tensor\n",
    "    # for chunk in input_id_chunks:\n",
    "    #     print(len(chunk))\n",
    "    # print final chunk so we can see 101, 102, and 0 (PAD) tokens are all correctly placed\n",
    "    # chunk\n",
    "    input_ids = torch.stack(input_id_chunks)\n",
    "    attention_mask = torch.stack(mask_chunks)\n",
    "\n",
    "    input_dict = {\n",
    "        'input_ids': input_ids.long(),\n",
    "        'attention_mask': attention_mask.int()\n",
    "    }\n",
    "    input_dict\n",
    "    outputs = model(**input_dict)\n",
    "    probs = torch.nn.functional.softmax(outputs[0], dim=-1)\n",
    "    probs = probs.mean(dim=0)\n",
    "    probs = probs.tolist() #outputs: positive negative neutral\n",
    "    print(probs)\n",
    "    return probs"
   ]
  },
  {
   "cell_type": "code",
   "execution_count": 40,
   "metadata": {},
   "outputs": [],
   "source": [
    "# \n",
    "\n",
    "#df = df_from_filings()\n",
    "#df['finbert_positive'], df['finbert_negative'], df['finbert_neutral'] = zip(*df.text.apply(lambda x : [None, None, None]))\n",
    "#df.to_pickle('df_finbert_predictions.pkl')"
   ]
  },
  {
   "cell_type": "code",
   "execution_count": 32,
   "metadata": {
    "pycharm": {
     "name": "#%%\n"
    }
   },
   "outputs": [],
   "source": [
    "# df = load_pkl('df_finbert_predictions.pkl')"
   ]
  },
  {
   "cell_type": "code",
   "execution_count": 33,
   "metadata": {
    "pycharm": {
     "is_executing": true,
     "name": "#%%\n"
    }
   },
   "outputs": [],
   "source": [
    "# %%time\n",
    "# df['finbert_positive'], df['finbert_negative'], df['finbert_neutral'] = zip(*df.text.apply(lambda txt: predict_finbert(txt)))"
   ]
  },
  {
   "cell_type": "code",
   "execution_count": 42,
   "metadata": {
    "pycharm": {
     "name": "#%%\n"
    }
   },
   "outputs": [
    {
     "name": "stdout",
     "output_type": "stream",
     "text": [
      "[0.06187935173511505, 0.12440332770347595, 0.8137173056602478]\n",
      "[0.05668359994888306, 0.15130901336669922, 0.7920073866844177]\n",
      "CPU times: user 5min 47s, sys: 45.3 s, total: 6min 32s\n",
      "Wall time: 5min 34s\n"
     ]
    }
   ],
   "source": [
    "%%time\n",
    "step = 5\n",
    "for i in range (0, 1300, step):\n",
    "    df = load_pkl('df_finbert_predictions.pkl')\n",
    "    mask = df.finbert_positive.isna()\n",
    "    mask = mask & mask.nlargest(step)\n",
    "    df.loc[mask,'finbert_positive'], df.loc[mask,'finbert_negative'], df.loc[mask,'finbert_neutral'] = zip(*df[mask].apply(lambda row: predict_finbert(row['text']) if not row['finbert_positive'] else [row['finbert_positive'], row['finbert_negative'], row['finbert_neutral']], axis=1))\n",
    "    df.to_pickle('df_finbert_predictions.pkl')"
   ]
  },
  {
   "cell_type": "code",
   "execution_count": 43,
   "metadata": {},
   "outputs": [
    {
     "data": {
      "text/html": [
       "<div>\n",
       "<style scoped>\n",
       "    .dataframe tbody tr th:only-of-type {\n",
       "        vertical-align: middle;\n",
       "    }\n",
       "\n",
       "    .dataframe tbody tr th {\n",
       "        vertical-align: top;\n",
       "    }\n",
       "\n",
       "    .dataframe thead th {\n",
       "        text-align: right;\n",
       "    }\n",
       "</style>\n",
       "<table border=\"1\" class=\"dataframe\">\n",
       "  <thead>\n",
       "    <tr style=\"text-align: right;\">\n",
       "      <th></th>\n",
       "      <th>cik</th>\n",
       "      <th>report_type</th>\n",
       "      <th>report_identity</th>\n",
       "      <th>year</th>\n",
       "      <th>file</th>\n",
       "      <th>text</th>\n",
       "      <th>finbert_positive</th>\n",
       "      <th>finbert_negative</th>\n",
       "      <th>finbert_neutral</th>\n",
       "    </tr>\n",
       "  </thead>\n",
       "  <tbody>\n",
       "    <tr>\n",
       "      <th>0</th>\n",
       "      <td>0001567101</td>\n",
       "      <td>N-CSR</td>\n",
       "      <td>0001193125-16-696397</td>\n",
       "      <td>2016</td>\n",
       "      <td>full-submission.txt</td>\n",
       "      <td>UNITED STATES SECURITIES AND EXCHANGE COMMISS...</td>\n",
       "      <td>0.061879</td>\n",
       "      <td>0.124403</td>\n",
       "      <td>0.813717</td>\n",
       "    </tr>\n",
       "    <tr>\n",
       "      <th>1</th>\n",
       "      <td>0001567101</td>\n",
       "      <td>N-CSR</td>\n",
       "      <td>0001193125-20-232534</td>\n",
       "      <td>2020</td>\n",
       "      <td>full-submission.txt</td>\n",
       "      <td>UNITED STATES SECURITIES AND EXCHANGE COMMISS...</td>\n",
       "      <td>0.056684</td>\n",
       "      <td>0.151309</td>\n",
       "      <td>0.792007</td>\n",
       "    </tr>\n",
       "    <tr>\n",
       "      <th>2</th>\n",
       "      <td>0001567101</td>\n",
       "      <td>N-CSR</td>\n",
       "      <td>0001193125-19-232573</td>\n",
       "      <td>2019</td>\n",
       "      <td>full-submission.txt</td>\n",
       "      <td>UNITED STATES SECURITIES AND EXCHANGE COMMISS...</td>\n",
       "      <td>None</td>\n",
       "      <td>None</td>\n",
       "      <td>None</td>\n",
       "    </tr>\n",
       "    <tr>\n",
       "      <th>3</th>\n",
       "      <td>0001567101</td>\n",
       "      <td>N-CSR</td>\n",
       "      <td>0001193125-21-260598</td>\n",
       "      <td>2021</td>\n",
       "      <td>full-submission.txt</td>\n",
       "      <td>UNITED STATES SECURITIES AND EXCHANGE COMMISS...</td>\n",
       "      <td>None</td>\n",
       "      <td>None</td>\n",
       "      <td>None</td>\n",
       "    </tr>\n",
       "    <tr>\n",
       "      <th>4</th>\n",
       "      <td>0001567101</td>\n",
       "      <td>N-CSR</td>\n",
       "      <td>0001193125-17-271972</td>\n",
       "      <td>2017</td>\n",
       "      <td>full-submission.txt</td>\n",
       "      <td>UNITED STATES SECURITIES AND EXCHANGE COMMISS...</td>\n",
       "      <td>None</td>\n",
       "      <td>None</td>\n",
       "      <td>None</td>\n",
       "    </tr>\n",
       "    <tr>\n",
       "      <th>...</th>\n",
       "      <td>...</td>\n",
       "      <td>...</td>\n",
       "      <td>...</td>\n",
       "      <td>...</td>\n",
       "      <td>...</td>\n",
       "      <td>...</td>\n",
       "      <td>...</td>\n",
       "      <td>...</td>\n",
       "      <td>...</td>\n",
       "    </tr>\n",
       "    <tr>\n",
       "      <th>1235</th>\n",
       "      <td>0001845809</td>\n",
       "      <td>N-CSRS</td>\n",
       "      <td>0000928816-22-000501</td>\n",
       "      <td>2022</td>\n",
       "      <td>full-submission.txt</td>\n",
       "      <td>Putnam Sustainable Future ETF Semiannual repo...</td>\n",
       "      <td>None</td>\n",
       "      <td>None</td>\n",
       "      <td>None</td>\n",
       "    </tr>\n",
       "    <tr>\n",
       "      <th>1236</th>\n",
       "      <td>0001845809</td>\n",
       "      <td>N-CSRS</td>\n",
       "      <td>0000928816-22-000498</td>\n",
       "      <td>2022</td>\n",
       "      <td>full-submission.txt</td>\n",
       "      <td>Putnam Focused Large Cap Growth ETF Semiannua...</td>\n",
       "      <td>None</td>\n",
       "      <td>None</td>\n",
       "      <td>None</td>\n",
       "    </tr>\n",
       "    <tr>\n",
       "      <th>1237</th>\n",
       "      <td>0001845809</td>\n",
       "      <td>N-CSRS</td>\n",
       "      <td>0000928816-22-000499</td>\n",
       "      <td>2022</td>\n",
       "      <td>full-submission.txt</td>\n",
       "      <td>Putnam Focused Large Cap Value ETF Semiannual...</td>\n",
       "      <td>None</td>\n",
       "      <td>None</td>\n",
       "      <td>None</td>\n",
       "    </tr>\n",
       "    <tr>\n",
       "      <th>1238</th>\n",
       "      <td>0001849998</td>\n",
       "      <td>N-CSR</td>\n",
       "      <td>0001623632-22-000554</td>\n",
       "      <td>2022</td>\n",
       "      <td>full-submission.txt</td>\n",
       "      <td>United States Securities and Exchange Commiss...</td>\n",
       "      <td>None</td>\n",
       "      <td>None</td>\n",
       "      <td>None</td>\n",
       "    </tr>\n",
       "    <tr>\n",
       "      <th>1239</th>\n",
       "      <td>0001860434</td>\n",
       "      <td>N-CSR</td>\n",
       "      <td>0001193125-21-365782</td>\n",
       "      <td>2021</td>\n",
       "      <td>full-submission.txt</td>\n",
       "      <td>UNITED STATES SECURITIES AND EXCHANGE COMMISS...</td>\n",
       "      <td>None</td>\n",
       "      <td>None</td>\n",
       "      <td>None</td>\n",
       "    </tr>\n",
       "  </tbody>\n",
       "</table>\n",
       "<p>1240 rows × 9 columns</p>\n",
       "</div>"
      ],
      "text/plain": [
       "             cik report_type       report_identity  year                 file  \\\n",
       "0     0001567101       N-CSR  0001193125-16-696397  2016  full-submission.txt   \n",
       "1     0001567101       N-CSR  0001193125-20-232534  2020  full-submission.txt   \n",
       "2     0001567101       N-CSR  0001193125-19-232573  2019  full-submission.txt   \n",
       "3     0001567101       N-CSR  0001193125-21-260598  2021  full-submission.txt   \n",
       "4     0001567101       N-CSR  0001193125-17-271972  2017  full-submission.txt   \n",
       "...          ...         ...                   ...   ...                  ...   \n",
       "1235  0001845809      N-CSRS  0000928816-22-000501  2022  full-submission.txt   \n",
       "1236  0001845809      N-CSRS  0000928816-22-000498  2022  full-submission.txt   \n",
       "1237  0001845809      N-CSRS  0000928816-22-000499  2022  full-submission.txt   \n",
       "1238  0001849998       N-CSR  0001623632-22-000554  2022  full-submission.txt   \n",
       "1239  0001860434       N-CSR  0001193125-21-365782  2021  full-submission.txt   \n",
       "\n",
       "                                                   text finbert_positive  \\\n",
       "0      UNITED STATES SECURITIES AND EXCHANGE COMMISS...         0.061879   \n",
       "1      UNITED STATES SECURITIES AND EXCHANGE COMMISS...         0.056684   \n",
       "2      UNITED STATES SECURITIES AND EXCHANGE COMMISS...             None   \n",
       "3      UNITED STATES SECURITIES AND EXCHANGE COMMISS...             None   \n",
       "4      UNITED STATES SECURITIES AND EXCHANGE COMMISS...             None   \n",
       "...                                                 ...              ...   \n",
       "1235   Putnam Sustainable Future ETF Semiannual repo...             None   \n",
       "1236   Putnam Focused Large Cap Growth ETF Semiannua...             None   \n",
       "1237   Putnam Focused Large Cap Value ETF Semiannual...             None   \n",
       "1238   United States Securities and Exchange Commiss...             None   \n",
       "1239   UNITED STATES SECURITIES AND EXCHANGE COMMISS...             None   \n",
       "\n",
       "     finbert_negative finbert_neutral  \n",
       "0            0.124403        0.813717  \n",
       "1            0.151309        0.792007  \n",
       "2                None            None  \n",
       "3                None            None  \n",
       "4                None            None  \n",
       "...               ...             ...  \n",
       "1235             None            None  \n",
       "1236             None            None  \n",
       "1237             None            None  \n",
       "1238             None            None  \n",
       "1239             None            None  \n",
       "\n",
       "[1240 rows x 9 columns]"
      ]
     },
     "execution_count": 43,
     "metadata": {},
     "output_type": "execute_result"
    }
   ],
   "source": [
    "df"
   ]
  },
  {
   "cell_type": "code",
   "execution_count": null,
   "metadata": {},
   "outputs": [],
   "source": []
  }
 ],
 "metadata": {
  "kernelspec": {
   "display_name": "Python 3 (ipykernel)",
   "language": "python",
   "name": "python3"
  },
  "language_info": {
   "codemirror_mode": {
    "name": "ipython",
    "version": 3
   },
   "file_extension": ".py",
   "mimetype": "text/x-python",
   "name": "python",
   "nbconvert_exporter": "python",
   "pygments_lexer": "ipython3",
   "version": "3.9.12"
  }
 },
 "nbformat": 4,
 "nbformat_minor": 1
}
