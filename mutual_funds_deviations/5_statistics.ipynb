{
 "cells": [
  {
   "cell_type": "code",
   "execution_count": 23,
   "outputs": [],
   "source": [
    "import pandas as pd\n",
    "import os\n",
    "from utils import *\n",
    "from utils import df_from_filings"
   ],
   "metadata": {
    "collapsed": false,
    "pycharm": {
     "name": "#%%\n"
    }
   }
  },
  {
   "cell_type": "code",
   "execution_count": 24,
   "outputs": [],
   "source": [
    "from textblob import TextBlob"
   ],
   "metadata": {
    "collapsed": false,
    "pycharm": {
     "name": "#%%\n"
    }
   }
  },
  {
   "cell_type": "code",
   "execution_count": 25,
   "outputs": [],
   "source": [
    "from nltk.sentiment.vader import SentimentIntensityAnalyzer\n",
    "\n",
    "vader = SentimentIntensityAnalyzer()"
   ],
   "metadata": {
    "collapsed": false,
    "pycharm": {
     "name": "#%%\n"
    }
   }
  },
  {
   "cell_type": "code",
   "execution_count": 26,
   "outputs": [],
   "source": [
    "\n",
    "# df = pd.DataFrame(data, columns=['cik', 'report_type', 'report_identity', 'file', 'text'])\n"
   ],
   "metadata": {
    "collapsed": false,
    "pycharm": {
     "name": "#%%\n"
    }
   }
  },
  {
   "cell_type": "code",
   "execution_count": 27,
   "outputs": [
    {
     "data": {
      "text/plain": "(100, 5)"
     },
     "execution_count": 27,
     "metadata": {},
     "output_type": "execute_result"
    }
   ],
   "source": [
    "df = df_from_filings()\n",
    "df = df.head(100)\n",
    "df.shape"
   ],
   "metadata": {
    "collapsed": false,
    "pycharm": {
     "name": "#%%\n"
    }
   }
  },
  {
   "cell_type": "code",
   "execution_count": 28,
   "outputs": [
    {
     "name": "stdout",
     "output_type": "stream",
     "text": [
      "CPU times: user 1min 24s, sys: 1.02 s, total: 1min 25s\n",
      "Wall time: 1min 26s\n"
     ]
    }
   ],
   "source": [
    "%%time\n",
    "vader_untrained_polarity = df.apply(lambda row: vader.polarity_scores(row['text']), axis=1)\n"
   ],
   "metadata": {
    "collapsed": false,
    "pycharm": {
     "name": "#%%\n"
    }
   }
  },
  {
   "cell_type": "code",
   "execution_count": 29,
   "outputs": [
    {
     "name": "stdout",
     "output_type": "stream",
     "text": [
      "CPU times: user 28.1 s, sys: 287 ms, total: 28.3 s\n",
      "Wall time: 28.5 s\n"
     ]
    }
   ],
   "source": [
    "%%time\n",
    "vader_untrained_preprocessed_polarity = df.apply(lambda row: vader.polarity_scores(preprocess(row['text'])), axis=1)\n"
   ],
   "metadata": {
    "collapsed": false,
    "pycharm": {
     "name": "#%%\n"
    }
   }
  },
  {
   "cell_type": "code",
   "execution_count": 30,
   "outputs": [],
   "source": [
    "vader_untrained_polarity = pd.DataFrame(vader_untrained_polarity.values.tolist())\n",
    "vader_untrained_polarity = vader_untrained_polarity.add_prefix('vader_untrained_polarity_');\n",
    "\n",
    "vader_untrained_preprocessed_polarity = pd.DataFrame(vader_untrained_preprocessed_polarity.values.tolist())\n",
    "vader_untrained_preprocessed_polarity = vader_untrained_preprocessed_polarity.add_prefix(\n",
    "    'vader_untrained_preprocessed_polarity_');"
   ],
   "metadata": {
    "collapsed": false,
    "pycharm": {
     "name": "#%%\n"
    }
   }
  },
  {
   "cell_type": "code",
   "execution_count": 31,
   "outputs": [],
   "source": [
    "df = pd.concat([df, vader_untrained_polarity, vader_untrained_preprocessed_polarity], axis=1);"
   ],
   "metadata": {
    "collapsed": false,
    "pycharm": {
     "name": "#%%\n"
    }
   }
  },
  {
   "cell_type": "code",
   "execution_count": 32,
   "outputs": [],
   "source": [
    "#TODO lemma, stem, check if remove frequent is good"
   ],
   "metadata": {
    "collapsed": false,
    "pycharm": {
     "name": "#%%\n"
    }
   }
  },
  {
   "cell_type": "code",
   "execution_count": 33,
   "outputs": [
    {
     "name": "stdout",
     "output_type": "stream",
     "text": [
      "CPU times: user 18.3 s, sys: 886 ms, total: 19.2 s\n",
      "Wall time: 20.4 s\n"
     ]
    }
   ],
   "source": [
    "%%time\n",
    "textblob_sentiment_polarity = df.apply(lambda row: TextBlob(row['text']).sentiment.polarity, axis=1)\n",
    "textblob_sentiment_subjectivity = df.apply(lambda row: TextBlob(row['text']).sentiment.subjectivity, axis=1)\n",
    "\n",
    "textblob_sentiment = pd.concat([textblob_sentiment_polarity, textblob_sentiment_subjectivity], axis=1)\n",
    "textblob_sentiment.columns = ['textblob_sentiment_polarity', 'textblob_sentiment_subjectivity']\n",
    "\n",
    "df = pd.concat([df, textblob_sentiment], axis=1);"
   ],
   "metadata": {
    "collapsed": false,
    "pycharm": {
     "name": "#%%\n"
    }
   }
  },
  {
   "cell_type": "code",
   "execution_count": 34,
   "outputs": [
    {
     "name": "stdout",
     "output_type": "stream",
     "text": [
      "CPU times: user 10.8 s, sys: 121 ms, total: 10.9 s\n",
      "Wall time: 11 s\n"
     ]
    }
   ],
   "source": [
    "%%time\n",
    "textblob_preprocessed_sentiment_polarity = df.apply(lambda row: TextBlob(preprocess(row['text'])).sentiment.polarity,\n",
    "                                                    axis=1)\n",
    "textblob_preprocessed_sentiment_subjectivity = df.apply(\n",
    "    lambda row: TextBlob(preprocess(row['text'])).sentiment.subjectivity, axis=1)\n",
    "\n",
    "textblob_preprocessed_sentiment = pd.concat(\n",
    "    [textblob_preprocessed_sentiment_polarity, textblob_preprocessed_sentiment_subjectivity], axis=1)\n",
    "textblob_preprocessed_sentiment.columns = ['textblob_preprocessed_sentiment_polarity',\n",
    "                                           'textblob_preprocessed_sentiment_subjectivity']\n",
    "\n",
    "df = pd.concat([df, textblob_preprocessed_sentiment], axis=1);"
   ],
   "metadata": {
    "collapsed": false,
    "pycharm": {
     "name": "#%%\n"
    }
   }
  },
  {
   "cell_type": "code",
   "execution_count": 35,
   "outputs": [
    {
     "data": {
      "text/plain": "       vader_untrained_polarity_neg  vader_untrained_polarity_neu  \\\ncount                    100.000000                    100.000000   \nmean                       0.031210                      0.811440   \nstd                        0.007296                      0.023794   \nmin                        0.015000                      0.762000   \n25%                        0.028000                      0.792000   \n50%                        0.030000                      0.813000   \n75%                        0.034000                      0.831000   \nmax                        0.068000                      0.869000   \n\n       vader_untrained_polarity_pos  vader_untrained_polarity_compound  \\\ncount                    100.000000                         100.000000   \nmean                       0.157260                           0.999998   \nstd                        0.021942                           0.000014   \nmin                        0.103000                           0.999900   \n25%                        0.141000                           1.000000   \n50%                        0.157500                           1.000000   \n75%                        0.177000                           1.000000   \nmax                        0.210000                           1.000000   \n\n       vader_untrained_preprocessed_polarity_neg  \\\ncount                                 100.000000   \nmean                                    0.050900   \nstd                                     0.013506   \nmin                                     0.021000   \n25%                                     0.043000   \n50%                                     0.053500   \n75%                                     0.058000   \nmax                                     0.095000   \n\n       vader_untrained_preprocessed_polarity_neu  \\\ncount                                 100.000000   \nmean                                    0.771100   \nstd                                     0.019027   \nmin                                     0.730000   \n25%                                     0.756750   \n50%                                     0.772000   \n75%                                     0.784000   \nmax                                     0.819000   \n\n       vader_untrained_preprocessed_polarity_pos  \\\ncount                                 100.000000   \nmean                                    0.177960   \nstd                                     0.019418   \nmin                                     0.136000   \n25%                                     0.162000   \n50%                                     0.176500   \n75%                                     0.191000   \nmax                                     0.224000   \n\n       vader_untrained_preprocessed_polarity_compound  \\\ncount                                      100.000000   \nmean                                         0.999973   \nstd                                          0.000080   \nmin                                          0.999400   \n25%                                          1.000000   \n50%                                          1.000000   \n75%                                          1.000000   \nmax                                          1.000000   \n\n       textblob_sentiment_polarity  textblob_sentiment_subjectivity  \\\ncount                   100.000000                       100.000000   \nmean                      0.059390                         0.360714   \nstd                       0.019802                         0.026531   \nmin                       0.020335                         0.306712   \n25%                       0.042871                         0.335443   \n50%                       0.061456                         0.357999   \n75%                       0.075336                         0.381375   \nmax                       0.102249                         0.441901   \n\n       textblob_preprocessed_sentiment_polarity  \\\ncount                                100.000000   \nmean                                   0.063683   \nstd                                    0.023524   \nmin                                    0.021328   \n25%                                    0.048572   \n50%                                    0.058710   \n75%                                    0.085782   \nmax                                    0.113533   \n\n       textblob_preprocessed_sentiment_subjectivity  \ncount                                    100.000000  \nmean                                       0.373841  \nstd                                        0.032236  \nmin                                        0.267308  \n25%                                        0.356683  \n50%                                        0.374307  \n75%                                        0.395459  \nmax                                        0.437323  ",
      "text/html": "<div>\n<style scoped>\n    .dataframe tbody tr th:only-of-type {\n        vertical-align: middle;\n    }\n\n    .dataframe tbody tr th {\n        vertical-align: top;\n    }\n\n    .dataframe thead th {\n        text-align: right;\n    }\n</style>\n<table border=\"1\" class=\"dataframe\">\n  <thead>\n    <tr style=\"text-align: right;\">\n      <th></th>\n      <th>vader_untrained_polarity_neg</th>\n      <th>vader_untrained_polarity_neu</th>\n      <th>vader_untrained_polarity_pos</th>\n      <th>vader_untrained_polarity_compound</th>\n      <th>vader_untrained_preprocessed_polarity_neg</th>\n      <th>vader_untrained_preprocessed_polarity_neu</th>\n      <th>vader_untrained_preprocessed_polarity_pos</th>\n      <th>vader_untrained_preprocessed_polarity_compound</th>\n      <th>textblob_sentiment_polarity</th>\n      <th>textblob_sentiment_subjectivity</th>\n      <th>textblob_preprocessed_sentiment_polarity</th>\n      <th>textblob_preprocessed_sentiment_subjectivity</th>\n    </tr>\n  </thead>\n  <tbody>\n    <tr>\n      <th>count</th>\n      <td>100.000000</td>\n      <td>100.000000</td>\n      <td>100.000000</td>\n      <td>100.000000</td>\n      <td>100.000000</td>\n      <td>100.000000</td>\n      <td>100.000000</td>\n      <td>100.000000</td>\n      <td>100.000000</td>\n      <td>100.000000</td>\n      <td>100.000000</td>\n      <td>100.000000</td>\n    </tr>\n    <tr>\n      <th>mean</th>\n      <td>0.031210</td>\n      <td>0.811440</td>\n      <td>0.157260</td>\n      <td>0.999998</td>\n      <td>0.050900</td>\n      <td>0.771100</td>\n      <td>0.177960</td>\n      <td>0.999973</td>\n      <td>0.059390</td>\n      <td>0.360714</td>\n      <td>0.063683</td>\n      <td>0.373841</td>\n    </tr>\n    <tr>\n      <th>std</th>\n      <td>0.007296</td>\n      <td>0.023794</td>\n      <td>0.021942</td>\n      <td>0.000014</td>\n      <td>0.013506</td>\n      <td>0.019027</td>\n      <td>0.019418</td>\n      <td>0.000080</td>\n      <td>0.019802</td>\n      <td>0.026531</td>\n      <td>0.023524</td>\n      <td>0.032236</td>\n    </tr>\n    <tr>\n      <th>min</th>\n      <td>0.015000</td>\n      <td>0.762000</td>\n      <td>0.103000</td>\n      <td>0.999900</td>\n      <td>0.021000</td>\n      <td>0.730000</td>\n      <td>0.136000</td>\n      <td>0.999400</td>\n      <td>0.020335</td>\n      <td>0.306712</td>\n      <td>0.021328</td>\n      <td>0.267308</td>\n    </tr>\n    <tr>\n      <th>25%</th>\n      <td>0.028000</td>\n      <td>0.792000</td>\n      <td>0.141000</td>\n      <td>1.000000</td>\n      <td>0.043000</td>\n      <td>0.756750</td>\n      <td>0.162000</td>\n      <td>1.000000</td>\n      <td>0.042871</td>\n      <td>0.335443</td>\n      <td>0.048572</td>\n      <td>0.356683</td>\n    </tr>\n    <tr>\n      <th>50%</th>\n      <td>0.030000</td>\n      <td>0.813000</td>\n      <td>0.157500</td>\n      <td>1.000000</td>\n      <td>0.053500</td>\n      <td>0.772000</td>\n      <td>0.176500</td>\n      <td>1.000000</td>\n      <td>0.061456</td>\n      <td>0.357999</td>\n      <td>0.058710</td>\n      <td>0.374307</td>\n    </tr>\n    <tr>\n      <th>75%</th>\n      <td>0.034000</td>\n      <td>0.831000</td>\n      <td>0.177000</td>\n      <td>1.000000</td>\n      <td>0.058000</td>\n      <td>0.784000</td>\n      <td>0.191000</td>\n      <td>1.000000</td>\n      <td>0.075336</td>\n      <td>0.381375</td>\n      <td>0.085782</td>\n      <td>0.395459</td>\n    </tr>\n    <tr>\n      <th>max</th>\n      <td>0.068000</td>\n      <td>0.869000</td>\n      <td>0.210000</td>\n      <td>1.000000</td>\n      <td>0.095000</td>\n      <td>0.819000</td>\n      <td>0.224000</td>\n      <td>1.000000</td>\n      <td>0.102249</td>\n      <td>0.441901</td>\n      <td>0.113533</td>\n      <td>0.437323</td>\n    </tr>\n  </tbody>\n</table>\n</div>"
     },
     "execution_count": 35,
     "metadata": {},
     "output_type": "execute_result"
    }
   ],
   "source": [
    "df.describe()\n"
   ],
   "metadata": {
    "collapsed": false,
    "pycharm": {
     "name": "#%%\n"
    }
   }
  },
  {
   "cell_type": "code",
   "execution_count": null,
   "outputs": [],
   "source": [],
   "metadata": {
    "collapsed": false,
    "pycharm": {
     "name": "#%%\n"
    }
   }
  },
  {
   "cell_type": "code",
   "execution_count": null,
   "outputs": [],
   "source": [],
   "metadata": {
    "collapsed": false,
    "pycharm": {
     "name": "#%%\n"
    }
   }
  },
  {
   "cell_type": "code",
   "execution_count": null,
   "outputs": [],
   "source": [
    "import flair\n",
    "\n",
    "flair_sentiment = flair.models.TextClassifier.load('en-sentiment')\n"
   ],
   "metadata": {
    "collapsed": false,
    "pycharm": {
     "name": "#%%\n"
    }
   }
  },
  {
   "cell_type": "code",
   "execution_count": null,
   "outputs": [],
   "source": [
    "%%time\n",
    "def get_flair_sentiment(row):\n",
    "    s = flair.data.Sentence(row['text'])\n",
    "    flair_sentiment.predict(s)\n",
    "    return s.tag, s.score\n",
    "\n",
    "df_flair_sentiment = df.apply(lambda row: get_flair_sentiment(row)  , axis=1, result_type='expand')\n",
    "\n",
    "\n",
    "df_flair_sentiment.columns = ['flair_sentiment_tag', 'flair_sentiment_score']\n",
    "\n",
    "df = pd.concat([df, df_flair_sentiment], axis=1);"
   ],
   "metadata": {
    "collapsed": false,
    "pycharm": {
     "name": "#%%\n"
    }
   }
  },
  {
   "cell_type": "code",
   "execution_count": null,
   "outputs": [],
   "source": [
    "df.shape"
   ],
   "metadata": {
    "collapsed": false,
    "pycharm": {
     "name": "#%%\n"
    }
   }
  },
  {
   "cell_type": "code",
   "execution_count": null,
   "outputs": [],
   "source": [
    "'pos', df.vader_untrained_polarity_pos.mean(), df.vader_untrained_preprocessed_polarity_pos.mean(), 'neg', df.vader_untrained_polarity_neg.mean(), df.vader_untrained_preprocessed_polarity_neg.mean(), 'neu', df.vader_untrained_polarity_neu.mean(), df.vader_untrained_preprocessed_polarity_neu.mean()"
   ],
   "metadata": {
    "collapsed": false,
    "pycharm": {
     "name": "#%%\n"
    }
   }
  },
  {
   "cell_type": "code",
   "execution_count": null,
   "outputs": [],
   "source": [
    "txt = \"\"\"The Board noted that the Fund outperformed its benchmark and ranked in the first quartile of its Performance Peer Group for the quarter-to-date\"\"\""
   ],
   "metadata": {
    "collapsed": false,
    "pycharm": {
     "name": "#%%\n"
    }
   }
  },
  {
   "cell_type": "code",
   "execution_count": 22,
   "outputs": [
    {
     "data": {
      "text/plain": "           cik report_type       report_identity                 file  \\\n0   0001566196       N-CSR  0001193125-13-485974  full-submission.txt   \n1   0001566196       N-CSR  0001193125-14-452923  full-submission.txt   \n2   0001566196       N-CSR  0001193125-16-805370  full-submission.txt   \n3   0001566196       N-CSR  0001193125-15-414451  full-submission.txt   \n4   0001566196       N-CSR  0001193125-17-380306  full-submission.txt   \n..         ...         ...                   ...                  ...   \n95  0001568194      N-CSRS  0001193125-17-271745  full-submission.txt   \n96  0001568292       N-CSR  0001193125-15-399658  full-submission.txt   \n97  0001568292       N-CSR  0001193125-17-363468  full-submission.txt   \n98  0001568292       N-CSR  0001193125-19-307865  full-submission.txt   \n99  0001568292       N-CSR  0001193125-18-344551  full-submission.txt   \n\n                                                 text  \\\n0    UNITED STATES SECURITIES AND EXCHANGE COMMISS...   \n1    UNITED STATES SECURITIES AND EXCHANGE COMMISS...   \n2    UNITED STATES SECURITIES AND EXCHANGE COMMISS...   \n3    UNITED STATES SECURITIES AND EXCHANGE COMMISS...   \n4    UNITED STATES SECURITIES AND EXCHANGE COMMISS...   \n..                                                ...   \n95   Table of Contents UNITED STATES SECURITIES AN...   \n96   Table of Contents UNITED STATES SECURITIES AN...   \n97   Table of Contents UNITED STATES SECURITIES AN...   \n98   Table of Contents UNITED STATES SECURITIES AN...   \n99   UNITED STATES SECURITIES AND EXCHANGE COMMISS...   \n\n    vader_untrained_polarity_neg  vader_untrained_polarity_neu  \\\n0                          0.018                         0.836   \n1                          0.020                         0.832   \n2                          0.022                         0.842   \n3                          0.022                         0.844   \n4                          0.029                         0.830   \n..                           ...                           ...   \n95                         0.028                         0.784   \n96                         0.039                         0.796   \n97                         0.036                         0.803   \n98                         0.038                         0.794   \n99                         0.037                         0.796   \n\n    vader_untrained_polarity_pos  vader_untrained_polarity_compound  \\\n0                          0.146                                1.0   \n1                          0.148                                1.0   \n2                          0.137                                1.0   \n3                          0.134                                1.0   \n4                          0.141                                1.0   \n..                           ...                                ...   \n95                         0.188                                1.0   \n96                         0.165                                1.0   \n97                         0.161                                1.0   \n98                         0.168                                1.0   \n99                         0.167                                1.0   \n\n    vader_untrained_preprocessed_polarity_neg  \\\n0                                       0.021   \n1                                       0.023   \n2                                       0.028   \n3                                       0.023   \n4                                       0.041   \n..                                        ...   \n95                                      0.058   \n96                                      0.056   \n97                                      0.054   \n98                                      0.059   \n99                                      0.055   \n\n    vader_untrained_preprocessed_polarity_neu  \\\n0                                       0.788   \n1                                       0.781   \n2                                       0.816   \n3                                       0.794   \n4                                       0.796   \n..                                        ...   \n95                                      0.754   \n96                                      0.749   \n97                                      0.735   \n98                                      0.737   \n99                                      0.739   \n\n    vader_untrained_preprocessed_polarity_pos  \\\n0                                       0.191   \n1                                       0.196   \n2                                       0.156   \n3                                       0.183   \n4                                       0.163   \n..                                        ...   \n95                                      0.187   \n96                                      0.195   \n97                                      0.211   \n98                                      0.204   \n99                                      0.206   \n\n    vader_untrained_preprocessed_polarity_compound  \\\n0                                           0.9999   \n1                                           0.9999   \n2                                           0.9999   \n3                                           0.9999   \n4                                           0.9999   \n..                                             ...   \n95                                          1.0000   \n96                                          1.0000   \n97                                          1.0000   \n98                                          1.0000   \n99                                          1.0000   \n\n    textblob_sentiment_polarity  textblob_sentiment_subjectivity  \\\n0                      0.063043                         0.334070   \n1                      0.068767                         0.338673   \n2                      0.042880                         0.306712   \n3                      0.045747                         0.312775   \n4                      0.049266                         0.326277   \n..                          ...                              ...   \n95                     0.041375                         0.341899   \n96                     0.056261                         0.376671   \n97                     0.056555                         0.374013   \n98                     0.051855                         0.371799   \n99                     0.053044                         0.373681   \n\n    textblob_preprocessed_sentiment_polarity  \\\n0                                   0.081047   \n1                                   0.090162   \n2                                   0.048577   \n3                                   0.056861   \n4                                   0.063275   \n..                                       ...   \n95                                  0.028375   \n96                                  0.058706   \n97                                  0.056633   \n98                                  0.058359   \n99                                  0.057580   \n\n    textblob_preprocessed_sentiment_subjectivity  \n0                                       0.304610  \n1                                       0.314530  \n2                                       0.267308  \n3                                       0.286745  \n4                                       0.335909  \n..                                           ...  \n95                                      0.323919  \n96                                      0.399615  \n97                                      0.395357  \n98                                      0.404039  \n99                                      0.391788  \n\n[100 rows x 17 columns]",
      "text/html": "<div>\n<style scoped>\n    .dataframe tbody tr th:only-of-type {\n        vertical-align: middle;\n    }\n\n    .dataframe tbody tr th {\n        vertical-align: top;\n    }\n\n    .dataframe thead th {\n        text-align: right;\n    }\n</style>\n<table border=\"1\" class=\"dataframe\">\n  <thead>\n    <tr style=\"text-align: right;\">\n      <th></th>\n      <th>cik</th>\n      <th>report_type</th>\n      <th>report_identity</th>\n      <th>file</th>\n      <th>text</th>\n      <th>vader_untrained_polarity_neg</th>\n      <th>vader_untrained_polarity_neu</th>\n      <th>vader_untrained_polarity_pos</th>\n      <th>vader_untrained_polarity_compound</th>\n      <th>vader_untrained_preprocessed_polarity_neg</th>\n      <th>vader_untrained_preprocessed_polarity_neu</th>\n      <th>vader_untrained_preprocessed_polarity_pos</th>\n      <th>vader_untrained_preprocessed_polarity_compound</th>\n      <th>textblob_sentiment_polarity</th>\n      <th>textblob_sentiment_subjectivity</th>\n      <th>textblob_preprocessed_sentiment_polarity</th>\n      <th>textblob_preprocessed_sentiment_subjectivity</th>\n    </tr>\n  </thead>\n  <tbody>\n    <tr>\n      <th>0</th>\n      <td>0001566196</td>\n      <td>N-CSR</td>\n      <td>0001193125-13-485974</td>\n      <td>full-submission.txt</td>\n      <td>UNITED STATES SECURITIES AND EXCHANGE COMMISS...</td>\n      <td>0.018</td>\n      <td>0.836</td>\n      <td>0.146</td>\n      <td>1.0</td>\n      <td>0.021</td>\n      <td>0.788</td>\n      <td>0.191</td>\n      <td>0.9999</td>\n      <td>0.063043</td>\n      <td>0.334070</td>\n      <td>0.081047</td>\n      <td>0.304610</td>\n    </tr>\n    <tr>\n      <th>1</th>\n      <td>0001566196</td>\n      <td>N-CSR</td>\n      <td>0001193125-14-452923</td>\n      <td>full-submission.txt</td>\n      <td>UNITED STATES SECURITIES AND EXCHANGE COMMISS...</td>\n      <td>0.020</td>\n      <td>0.832</td>\n      <td>0.148</td>\n      <td>1.0</td>\n      <td>0.023</td>\n      <td>0.781</td>\n      <td>0.196</td>\n      <td>0.9999</td>\n      <td>0.068767</td>\n      <td>0.338673</td>\n      <td>0.090162</td>\n      <td>0.314530</td>\n    </tr>\n    <tr>\n      <th>2</th>\n      <td>0001566196</td>\n      <td>N-CSR</td>\n      <td>0001193125-16-805370</td>\n      <td>full-submission.txt</td>\n      <td>UNITED STATES SECURITIES AND EXCHANGE COMMISS...</td>\n      <td>0.022</td>\n      <td>0.842</td>\n      <td>0.137</td>\n      <td>1.0</td>\n      <td>0.028</td>\n      <td>0.816</td>\n      <td>0.156</td>\n      <td>0.9999</td>\n      <td>0.042880</td>\n      <td>0.306712</td>\n      <td>0.048577</td>\n      <td>0.267308</td>\n    </tr>\n    <tr>\n      <th>3</th>\n      <td>0001566196</td>\n      <td>N-CSR</td>\n      <td>0001193125-15-414451</td>\n      <td>full-submission.txt</td>\n      <td>UNITED STATES SECURITIES AND EXCHANGE COMMISS...</td>\n      <td>0.022</td>\n      <td>0.844</td>\n      <td>0.134</td>\n      <td>1.0</td>\n      <td>0.023</td>\n      <td>0.794</td>\n      <td>0.183</td>\n      <td>0.9999</td>\n      <td>0.045747</td>\n      <td>0.312775</td>\n      <td>0.056861</td>\n      <td>0.286745</td>\n    </tr>\n    <tr>\n      <th>4</th>\n      <td>0001566196</td>\n      <td>N-CSR</td>\n      <td>0001193125-17-380306</td>\n      <td>full-submission.txt</td>\n      <td>UNITED STATES SECURITIES AND EXCHANGE COMMISS...</td>\n      <td>0.029</td>\n      <td>0.830</td>\n      <td>0.141</td>\n      <td>1.0</td>\n      <td>0.041</td>\n      <td>0.796</td>\n      <td>0.163</td>\n      <td>0.9999</td>\n      <td>0.049266</td>\n      <td>0.326277</td>\n      <td>0.063275</td>\n      <td>0.335909</td>\n    </tr>\n    <tr>\n      <th>...</th>\n      <td>...</td>\n      <td>...</td>\n      <td>...</td>\n      <td>...</td>\n      <td>...</td>\n      <td>...</td>\n      <td>...</td>\n      <td>...</td>\n      <td>...</td>\n      <td>...</td>\n      <td>...</td>\n      <td>...</td>\n      <td>...</td>\n      <td>...</td>\n      <td>...</td>\n      <td>...</td>\n      <td>...</td>\n    </tr>\n    <tr>\n      <th>95</th>\n      <td>0001568194</td>\n      <td>N-CSRS</td>\n      <td>0001193125-17-271745</td>\n      <td>full-submission.txt</td>\n      <td>Table of Contents UNITED STATES SECURITIES AN...</td>\n      <td>0.028</td>\n      <td>0.784</td>\n      <td>0.188</td>\n      <td>1.0</td>\n      <td>0.058</td>\n      <td>0.754</td>\n      <td>0.187</td>\n      <td>1.0000</td>\n      <td>0.041375</td>\n      <td>0.341899</td>\n      <td>0.028375</td>\n      <td>0.323919</td>\n    </tr>\n    <tr>\n      <th>96</th>\n      <td>0001568292</td>\n      <td>N-CSR</td>\n      <td>0001193125-15-399658</td>\n      <td>full-submission.txt</td>\n      <td>Table of Contents UNITED STATES SECURITIES AN...</td>\n      <td>0.039</td>\n      <td>0.796</td>\n      <td>0.165</td>\n      <td>1.0</td>\n      <td>0.056</td>\n      <td>0.749</td>\n      <td>0.195</td>\n      <td>1.0000</td>\n      <td>0.056261</td>\n      <td>0.376671</td>\n      <td>0.058706</td>\n      <td>0.399615</td>\n    </tr>\n    <tr>\n      <th>97</th>\n      <td>0001568292</td>\n      <td>N-CSR</td>\n      <td>0001193125-17-363468</td>\n      <td>full-submission.txt</td>\n      <td>Table of Contents UNITED STATES SECURITIES AN...</td>\n      <td>0.036</td>\n      <td>0.803</td>\n      <td>0.161</td>\n      <td>1.0</td>\n      <td>0.054</td>\n      <td>0.735</td>\n      <td>0.211</td>\n      <td>1.0000</td>\n      <td>0.056555</td>\n      <td>0.374013</td>\n      <td>0.056633</td>\n      <td>0.395357</td>\n    </tr>\n    <tr>\n      <th>98</th>\n      <td>0001568292</td>\n      <td>N-CSR</td>\n      <td>0001193125-19-307865</td>\n      <td>full-submission.txt</td>\n      <td>Table of Contents UNITED STATES SECURITIES AN...</td>\n      <td>0.038</td>\n      <td>0.794</td>\n      <td>0.168</td>\n      <td>1.0</td>\n      <td>0.059</td>\n      <td>0.737</td>\n      <td>0.204</td>\n      <td>1.0000</td>\n      <td>0.051855</td>\n      <td>0.371799</td>\n      <td>0.058359</td>\n      <td>0.404039</td>\n    </tr>\n    <tr>\n      <th>99</th>\n      <td>0001568292</td>\n      <td>N-CSR</td>\n      <td>0001193125-18-344551</td>\n      <td>full-submission.txt</td>\n      <td>UNITED STATES SECURITIES AND EXCHANGE COMMISS...</td>\n      <td>0.037</td>\n      <td>0.796</td>\n      <td>0.167</td>\n      <td>1.0</td>\n      <td>0.055</td>\n      <td>0.739</td>\n      <td>0.206</td>\n      <td>1.0000</td>\n      <td>0.053044</td>\n      <td>0.373681</td>\n      <td>0.057580</td>\n      <td>0.391788</td>\n    </tr>\n  </tbody>\n</table>\n<p>100 rows × 17 columns</p>\n</div>"
     },
     "execution_count": 22,
     "metadata": {},
     "output_type": "execute_result"
    }
   ],
   "source": [
    "df"
   ],
   "metadata": {
    "collapsed": false,
    "pycharm": {
     "name": "#%%\n"
    }
   }
  },
  {
   "cell_type": "code",
   "execution_count": null,
   "outputs": [],
   "source": [],
   "metadata": {
    "collapsed": false,
    "pycharm": {
     "name": "#%%\n"
    }
   }
  }
 ],
 "metadata": {
  "kernelspec": {
   "display_name": "Python 3",
   "language": "python",
   "name": "python3"
  },
  "language_info": {
   "codemirror_mode": {
    "name": "ipython",
    "version": 2
   },
   "file_extension": ".py",
   "mimetype": "text/x-python",
   "name": "python",
   "nbconvert_exporter": "python",
   "pygments_lexer": "ipython2",
   "version": "2.7.6"
  }
 },
 "nbformat": 4,
 "nbformat_minor": 0
}