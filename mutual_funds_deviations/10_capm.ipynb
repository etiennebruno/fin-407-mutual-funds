{
 "cells": [
  {
   "cell_type": "code",
   "execution_count": null,
   "metadata": {
    "pycharm": {
     "name": "#%%\n"
    }
   },
   "outputs": [],
   "source": [
    "import pandas as pd\n",
    "from utils import *"
   ]
  },
  {
   "cell_type": "code",
   "execution_count": null,
   "metadata": {
    "pycharm": {
     "name": "#%%\n"
    }
   },
   "outputs": [],
   "source": [
    "market_returns = load_pkl('market_returns.pkl')\n",
    "# funds_returns = load_pkl('funds_returns.pkl')\n",
    "funds_returns = load_pkl('data/data_frame_complete.pkl')\n",
    "funds_returns.rename(columns={'caldt':'date'}, inplace=True)\n",
    "funds_returns['date'] = pd.to_datetime(funds_returns.date)"
   ]
  },
  {
   "cell_type": "code",
   "execution_count": null,
   "metadata": {
    "pycharm": {
     "name": "#%%\n"
    }
   },
   "outputs": [],
   "source": [
    "df = pd.merge(funds_returns, market_returns, on='date')\n",
    "df['year'] = df.date.apply(lambda date: date.year)\n",
    "\n",
    "# add yearly returns per fund\n",
    "df.mret +=1\n",
    "df_yearly_fund_returns = df.groupby(['comp_cik', 'year']).prod().reset_index()[['year', 'comp_cik', 'mret']]\n",
    "df_yearly_fund_returns.rename(columns={'mret':'yret'}, inplace=True)\n",
    "df_yearly_fund_returns.yret -=1\n",
    "\n",
    "df.mret -=1\n",
    "\n",
    "# compute beta\n",
    "cov = df.groupby(['comp_cik', 'year']).cov().iloc[0::2,-1]\n",
    "var = df.groupby(['comp_cik', 'year']).vwretd.var()\n",
    "df = df.groupby(['comp_cik', 'year']).first().reset_index().drop(columns='mret')\n",
    "df['beta'] = cov.reset_index()['vwretd']/var.reset_index()['vwretd']\n",
    "df\n",
    "\n",
    "# add risk free rate\n",
    "risk_free = load_pkl('risk_free.pkl')\n",
    "risk_free.rename(columns={\"tmytm\": \"risk_free\"}, inplace=True)\n",
    "df = pd.merge(df, risk_free, on='year')\n",
    "df = pd.merge(df, df_yearly_fund_returns, on=['year', 'comp_cik'])\n",
    "# check\n",
    "# df[df.mcaldt != df.date]\n",
    "df"
   ]
  },
  {
   "cell_type": "code",
   "execution_count": null,
   "metadata": {
    "pycharm": {
     "name": "#%%\n"
    }
   },
   "outputs": [],
   "source": [
    "df['basis_points_delta'] = df.yret - df.vwretd\n"
   ]
  },
  {
   "cell_type": "code",
   "execution_count": null,
   "metadata": {
    "pycharm": {
     "name": "#%%\n"
    }
   },
   "outputs": [],
   "source": [
    "df[['comp_cik', 'year', 'vwretd', 'beta', 'risk_free', 'yret', 'basis_points_delta']]"
   ]
  },
  {
   "cell_type": "code",
   "execution_count": null,
   "metadata": {
    "pycharm": {
     "name": "#%%\n"
    }
   },
   "outputs": [],
   "source": [
    "df.comp_cik = df.comp_cik.astype(int)"
   ]
  },
  {
   "cell_type": "code",
   "execution_count": null,
   "metadata": {
    "pycharm": {
     "name": "#%%\n"
    }
   },
   "outputs": [],
   "source": [
    "finbert_predictions = pd.read_csv('df_finbert_predictions.csv', index_col=0)\n",
    "finbert_predictions = finbert_predictions[['cik', 'year', 'finbert_positive', 'finbert_negative', 'finbert_neutral']]\n",
    "finbert_predictions.rename(columns={'cik':'comp_cik'}, inplace=True)"
   ]
  },
  {
   "cell_type": "code",
   "execution_count": null,
   "metadata": {
    "pycharm": {
     "name": "#%%\n"
    }
   },
   "outputs": [],
   "source": [
    "df_final = pd.merge(df[['comp_cik', 'year', 'vwretd', 'yret', 'basis_points_delta']],\n",
    "         finbert_predictions[['comp_cik', 'year', 'finbert_positive', 'finbert_negative', 'finbert_neutral']],\n",
    "         on=['comp_cik', 'year'])"
   ]
  },
  {
   "cell_type": "code",
   "execution_count": null,
   "metadata": {
    "pycharm": {
     "name": "#%%\n"
    }
   },
   "outputs": [],
   "source": [
    "df_final.to_clipboard()"
   ]
  },
  {
   "cell_type": "code",
   "execution_count": null,
   "metadata": {
    "pycharm": {
     "name": "#%%\n"
    }
   },
   "outputs": [],
   "source": [
    "%load_ext ipython_clipboard"
   ]
  },
  {
   "cell_type": "code",
   "execution_count": null,
   "metadata": {
    "pycharm": {
     "name": "#%%\n"
    }
   },
   "outputs": [],
   "source": [
    "%pickle df_final"
   ]
  },
  {
   "cell_type": "code",
   "execution_count": null,
   "metadata": {
    "pycharm": {
     "name": "#%%\n"
    }
   },
   "outputs": [],
   "source": [
    "df_final.to_csv('df_final.csv')"
   ]
  },
  {
   "cell_type": "code",
   "execution_count": null,
   "metadata": {
    "pycharm": {
     "name": "#%%\n"
    }
   },
   "outputs": [],
   "source": [
    "%clip\n",
    "finbert_predictions.describe().drop(columns=['year', 'comp_cik']).to_latex(float_format='%.3f', bold_rows=True, longtable=True, caption='Finbert prediction output')"
   ]
  },
  {
   "cell_type": "code",
   "execution_count": null,
   "metadata": {
    "pycharm": {
     "name": "#%%\n"
    }
   },
   "outputs": [],
   "source": [
    "%clip\n",
    "finbert_predictions.describe().drop(columns=['year', 'comp_cik']).to_latex(float_format='%.3f', bold_rows=True, longtable=True, caption='Finbert prediction output')"
   ]
  }
 ],
 "metadata": {
  "kernelspec": {
   "display_name": "Python 3",
   "language": "python",
   "name": "python3"
  },
  "language_info": {
   "codemirror_mode": {
    "name": "ipython",
    "version": 2
   },
   "file_extension": ".py",
   "mimetype": "text/x-python",
   "name": "python",
   "nbconvert_exporter": "python",
   "pygments_lexer": "ipython2",
   "version": "2.7.6"
  }
 },
 "nbformat": 4,
 "nbformat_minor": 0
}
