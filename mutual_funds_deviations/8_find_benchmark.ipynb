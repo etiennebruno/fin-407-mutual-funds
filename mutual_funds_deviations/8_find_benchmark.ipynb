{
 "cells": [
  {
   "cell_type": "code",
   "execution_count": null,
   "id": "cfe521a7",
   "metadata": {
    "pycharm": {
     "name": "#%%\n"
    }
   },
   "outputs": [],
   "source": [
    "%load_ext autoreload\n",
    "%autoreload 2"
   ]
  },
  {
   "cell_type": "code",
   "execution_count": null,
   "id": "25f216b4",
   "metadata": {
    "pycharm": {
     "name": "#%%\n"
    }
   },
   "outputs": [],
   "source": [
    "from utils import *\n",
    "import pandas as pd\n",
    "from textblob import TextBlob"
   ]
  },
  {
   "cell_type": "code",
   "execution_count": null,
   "id": "5457abba",
   "metadata": {
    "pycharm": {
     "name": "#%%\n"
    }
   },
   "outputs": [],
   "source": [
    "df = df_from_filings()\n",
    "df = df.head(1)\n",
    "# df = df.tail(100)\n",
    "# df = df.sample(100)\n",
    "df.shape\n"
   ]
  },
  {
   "cell_type": "markdown",
   "id": "4890d207",
   "metadata": {
    "collapsed": false,
    "pycharm": {
     "name": "#%% md\n"
    }
   },
   "source": [
    "#### add potential benchmarks"
   ]
  },
  {
   "cell_type": "markdown",
   "id": "f46b327a",
   "metadata": {
    "collapsed": false,
    "pycharm": {
     "name": "#%% md\n"
    }
   },
   "source": [
    "look into textblob.classify"
   ]
  },
  {
   "cell_type": "code",
   "execution_count": null,
   "id": "3e8d736f",
   "metadata": {
    "pycharm": {
     "name": "#%%\n"
    }
   },
   "outputs": [],
   "source": [
    "from flair.models import TARSTagger\n",
    "from flair.data import Sentence\n",
    "\n",
    "# 1. Load zero-shot NER tagger\n",
    "tars = TARSTagger.load('tars-ner')\n",
    "\n",
    "# 2. Prepare some test sentences\n",
    "sentences = [\n",
    "    Sentence('We outperformed the S&P\\'s 500\")'),\n",
    "    Sentence('Our benchmark is the LIBOR')\n",
    "]\n",
    "\n",
    "# 3. Define some classes of named entities such as \"soccer teams\", \"TV shows\" and \"rivers\"\n",
    "labels = [\"Company\", \"Fund\", \"Mutual Fund\", \"Finance Instituion\" , 'Index', 'Index Fund', 'Benchmark']\n",
    "tars.add_and_switch_to_new_task('task 1', labels, label_type='ner')\n"
   ]
  },
  {
   "cell_type": "code",
   "execution_count": null,
   "id": "4803963b",
   "metadata": {
    "pycharm": {
     "name": "#%%\n"
    }
   },
   "outputs": [],
   "source": [
    "def benchmark_sentences(text):\n",
    "    # return list(filter(lambda sentence: 'benchmark' in sentence.lower(), TextBlob(text).sentences))\n",
    "    l =  [s for s in   TextBlob(text).sentences  if 'benchmark' in s.lower()]\n",
    "\n",
    "    for sentence in l:\n",
    "        tars.predict(sentence)\n",
    "\n",
    "    benchmark_sentences = [_.string if hasattr(_, 'string')  else None for _ in l]\n",
    "    # tags =  [sentence.to_tagged_string(\"ner\") for sentence in l]\n",
    "    return benchmark_sentences, benchmark_sentences\n",
    "\n",
    "df.apply(lambda x : benchmark_sentences(x['text']), axis=1, result_type='expand')"
   ]
  },
  {
   "cell_type": "code",
   "execution_count": null,
   "id": "579f96c6",
   "metadata": {
    "pycharm": {
     "name": "#%%\n"
    }
   },
   "outputs": [],
   "source": [
    "df"
   ]
  }
 ],
 "metadata": {
  "kernelspec": {
   "display_name": "Python 3 (ipykernel)",
   "language": "python",
   "name": "python3"
  },
  "language_info": {
   "codemirror_mode": {
    "name": "ipython",
    "version": 3
   },
   "file_extension": ".py",
   "mimetype": "text/x-python",
   "name": "python",
   "nbconvert_exporter": "python",
   "pygments_lexer": "ipython3",
   "version": "3.9.12"
  }
 },
 "nbformat": 4,
 "nbformat_minor": 5
}
