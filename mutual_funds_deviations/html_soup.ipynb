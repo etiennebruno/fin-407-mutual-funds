{
 "cells": [
  {
   "cell_type": "code",
   "execution_count": 1,
   "id": "049cdbd2",
   "metadata": {},
   "outputs": [],
   "source": [
    "from bs4 import BeautifulSoup\n",
    "import requests"
   ]
  },
  {
   "cell_type": "code",
   "execution_count": 15,
   "id": "0c5a7668",
   "metadata": {},
   "outputs": [
    {
     "name": "stdout",
     "output_type": "stream",
     "text": [
      "<title>SEC.gov | Request Rate Threshold Exceeded</title>\n"
     ]
    }
   ],
   "source": [
    "url = \"https://www.sec.gov/Archives/edgar/data/1041673/0001193125-20-135785.txt\"\n",
    "req = requests.get(url)\n",
    "soup = BeautifulSoup(req.text, \"html.parser\")\n",
    "print(soup.title)"
   ]
  },
  {
   "cell_type": "code",
   "execution_count": 10,
   "id": "1b7f48e3",
   "metadata": {},
   "outputs": [
    {
     "name": "stdout",
     "output_type": "stream",
     "text": [
      "https://www.sec.gov/developer\n",
      "https://public.govdelivery.com/accounts/USSEC/subscriber/new?topic_id=USSEC_260\n",
      "mailto:opendata@sec.gov\n",
      "#internet\n",
      "None\n"
     ]
    }
   ],
   "source": [
    "for link in soup.find_all('a'):\n",
    "    print(link.get('href'))"
   ]
  },
  {
   "cell_type": "code",
   "execution_count": 1,
   "id": "e6da401d",
   "metadata": {},
   "outputs": [],
   "source": [
    "import os"
   ]
  },
  {
   "cell_type": "code",
   "execution_count": 46,
   "id": "a20915f1",
   "metadata": {},
   "outputs": [
    {
     "name": "stdout",
     "output_type": "stream",
     "text": [
      "data/sec-edgar-filings/0001793129/N-CSR/0001821268-22-000019/full-submission.txt\n"
     ]
    },
    {
     "ename": "AssertionError",
     "evalue": "",
     "output_type": "error",
     "traceback": [
      "\u001b[0;31m---------------------------------------------------------------------------\u001b[0m",
      "\u001b[0;31mAssertionError\u001b[0m                            Traceback (most recent call last)",
      "Input \u001b[0;32mIn [46]\u001b[0m, in \u001b[0;36m<cell line: 5>\u001b[0;34m()\u001b[0m\n\u001b[1;32m     18\u001b[0m \u001b[38;5;28;01mwith\u001b[39;00m \u001b[38;5;28mopen\u001b[39m(path_file, \u001b[38;5;124m'\u001b[39m\u001b[38;5;124mr\u001b[39m\u001b[38;5;124m'\u001b[39m) \u001b[38;5;28;01mas\u001b[39;00m f:\n\u001b[1;32m     19\u001b[0m     text \u001b[38;5;241m=\u001b[39m remove_tags(f\u001b[38;5;241m.\u001b[39mread())\n\u001b[0;32m---> 20\u001b[0m \u001b[38;5;28;01massert\u001b[39;00m \u001b[38;5;28;01mFalse\u001b[39;00m\n",
      "\u001b[0;31mAssertionError\u001b[0m: "
     ]
    }
   ],
   "source": [
    "fillings_cik = os.listdir('data/sec-edgar-filings')\n",
    "DS_STORE = '.DS_Store'\n",
    "if DS_STORE in fillings_cik : fillings_cik.remove(DS_STORE)\n",
    "\n",
    "for cik in sorted(fillings_cik) : # all fillings\n",
    "    path_cik = 'data/sec-edgar-filings/'+str(cik)\n",
    "    report_type = os.listdir(path_cik)\n",
    "    if DS_STORE in report_type : report_type.remove(DS_STORE)\n",
    "    for rt in report_type : # N-CSR and N-CSRS\n",
    "        path_report_type = path_cik+'/'+str(rt)\n",
    "        report_folder = os.listdir(path_report_type)\n",
    "        for rf in report_folder: # report identity\n",
    "            path_report_folder = path_report_type+'/'+rf\n",
    "            filling = os.listdir(path_report_folder)\n",
    "            for file in filling: # file submission text\n",
    "                path_file = path_report_folder+'/'+str(file)\n",
    "                print(path_file)\n",
    "                with open(path_file, 'r') as f:\n",
    "                    text = remove_tags(f.read())\n",
    "                assert False\n",
    "        "
   ]
  },
  {
   "cell_type": "code",
   "execution_count": 63,
   "id": "89cb22b6",
   "metadata": {},
   "outputs": [],
   "source": [
    "with open('beautifulsoup.txt', 'w') as f:\n",
    "    f.write(text)"
   ]
  },
  {
   "cell_type": "code",
   "execution_count": 61,
   "id": "2dd02883",
   "metadata": {},
   "outputs": [
    {
     "name": "stdout",
     "output_type": "stream",
     "text": [
      "restrictions have eased. Buckeye Tobacco and COFINA also performed well, as large, well-known high yield benchmark names such as these generally do well when the market rises. There were few\n",
      "\n",
      "Common Share Price 16.65% 8.64% 7.89% S&P Municipal Bond Index 2.76% 3.33% 3.95% NVG Blended Benchmark 1,2 5.04% 4.17% 4.56% Past performance is not predictive of future results. Current performance\n",
      "\n",
      "For purposes of Fund performance, relative results are measured against this benchmark/index. 2 NVG Blended Benchmark consists of the returns of the S&P Municipal Bond Index prior to 4/11/16 and\n",
      "\n",
      "Common Share Price 19.05% 8.10% 7.47% S&P Municipal Bond Index 2.76% 3.33% 3.95% NZF Blended Benchmark 1,2 5.04% 4.17% 4.56% Past performance is not predictive of future results. Current performance\n",
      "\n",
      "For purposes of Fund performance, relative results are measured against this benchmark/index. 2 NZF Blended Benchmark consists of the returns of the S&P Municipal Bond Index prior to 4/11/16 and\n",
      "\n",
      "is to provide relief to companies that will be impacted by the expected change in benchmark interest rates, when participating banks will no longer be required to submit London Interbank\n",
      "\n",
      "companies to, provided the only change to existing contracts are a change to an approved benchmark interest rate, account for modifications as a continuance of the existing contract without additional\n",
      "\n",
      "more than 100% of the investment capital. • NVG and NZF Blended Benchmark: A blended benchmark consisting of the returns of the S&P Municipal Bond Index prior to 4/11/16 and\n",
      "\n",
      "on the facts and circumstances including any differences between the respective Nuveen fund and its benchmark and/or Performance Peer Group, the Board may be satisfied with a fund’s performance notwithstanding\n",
      "\n",
      "satisfied with a fund’s performance notwithstanding that its performance may be below that of its benchmark or peer group for certain periods. However, with respect to any Nuveen funds for\n",
      "\n",
      "(the “AMT-Free Credit Income Fund” ), the Board noted that the Fund outperformed its blended benchmark for the one-, three- and five-year periods ended December 31, 2020. The Fund also\n",
      "\n",
      "the three- and five-year periods ended December 31, 2020. Further, the Fund outperformed its blended benchmark and ranked in the first quartile of its Performance Peer Group for the one-,\n",
      "\n",
      "Fund (the “Credit Income Fund” ), the Board noted that the Fund outperformed its blended benchmark for the one-, three- and five-year periods ended December 31, 2020 and ranked in\n",
      "\n",
      "the three- and five-year periods ended December 31, 2020. The Fund also outperformed its blended benchmark and ranked in the first quartile of its Performance Peer Group for the one-,\n",
      "\n",
      "Fund”), the Board noted that although the Fund’s performance was below the performance of its benchmark for the one- and three-year periods ended December 31, 2020, the Fund outperformed its\n",
      "\n",
      "benchmark for the one- and three-year periods ended December 31, 2020, the Fund outperformed its benchmark for the five-year period ended December 31, 2020 and ranked in the second quartile\n",
      "\n",
      "Management Agreement Approval Process (continued) ods ended December 31, 2020. The Fund also outperformed its benchmark and ranked in the first quartile of its Performance Peer Group for the one-,\n",
      "\n",
      "Fund” ), the Board noted that the Fund’s performance was below the performance of its benchmark and the Fund ranked in the fourth quartile of its Performance Peer Group for\n",
      "\n",
      "Peer Group for the one-year period ended December 31, 2020. The Fund, however, outperformed its benchmark and ranked in the first quartile of its Performance Peer Group for the one-year\n",
      "\n",
      "on the facts and circumstances including any differences between the respective Nuveen fund and its benchmark and/or Performance Peer Group, the Board may be satisfied with a fund’s performance notwithstanding\n",
      "\n",
      "satisfied with a fund’s performance notwithstanding that its performance may be below that of its benchmark or peer group for certain periods. However, with respect to any Nuveen funds for\n",
      "\n",
      "awareness and deepen understanding of closed-end funds. The Board noted that the Fund outperformed its benchmark and ranked in the first quartile of its Performance Peer Group for the quarter-to-date\n",
      "\n",
      "an annual cash bonus that is based on three variables: risk-adjusted investment performance relative to benchmark generally measured over the most recent one, three and five year periods (unless the\n",
      "\n"
     ]
    }
   ],
   "source": [
    "import numpy as np\n",
    "words = text.split()\n",
    "\n",
    "indices = [ i for i, w in enumerate(words) if w.lower() == 'benchmark']\n",
    "\n",
    "for i in indices:\n",
    "    potential = words[i-15:i+15]\n",
    "    potential = [p for p in potential if not p.islower() or p == 'benchmark']\n",
    "    print(' '.join(words[i-15:i+15]), end='\\n\\n')"
   ]
  },
  {
   "cell_type": "code",
   "execution_count": 45,
   "id": "9cdc414b",
   "metadata": {},
   "outputs": [],
   "source": [
    "# Import Module\n",
    "from bs4 import BeautifulSoup\n",
    "\n",
    "# Function to remove tags\n",
    "def remove_tags(html):\n",
    "  \n",
    "    # parse html content\n",
    "    soup = BeautifulSoup(html, \"html.parser\")\n",
    "  \n",
    "    for data in soup(['style', 'script']):\n",
    "        # Remove tags\n",
    "        data.decompose()\n",
    "  \n",
    "    # return data by retrieving the tag content\n",
    "    return ' '.join(soup.stripped_strings)"
   ]
  },
  {
   "cell_type": "code",
   "execution_count": 29,
   "id": "6cb1cb92",
   "metadata": {},
   "outputs": [
    {
     "ename": "SyntaxError",
     "evalue": "unmatched ')' (3453888165.py, line 1)",
     "output_type": "error",
     "traceback": [
      "\u001b[0;36m  Input \u001b[0;32mIn [29]\u001b[0;36m\u001b[0m\n\u001b[0;31m    type(req.content))\u001b[0m\n\u001b[0m                     ^\u001b[0m\n\u001b[0;31mSyntaxError\u001b[0m\u001b[0;31m:\u001b[0m unmatched ')'\n"
     ]
    }
   ],
   "source": []
  },
  {
   "cell_type": "code",
   "execution_count": 28,
   "id": "db2eb38c",
   "metadata": {},
   "outputs": [
    {
     "name": "stdout",
     "output_type": "stream",
     "text": [
      "SEC.gov | Request Rate Threshold Exceeded U.S. Securities and Exchange Commission Your Request Originates from an Undeclared Automated Tool To allow for equitable access to all users, SEC reserves the right to limit requests originating from undeclared automated tools. Your request has been identified as part of a network of automated tools outside of the acceptable policy and will be managed until action is taken to declare your traffic. Please declare your traffic by updating your user agent to include company specific information. For best practices on efficiently downloading information from SEC.gov, including the latest EDGAR filings, visit sec.gov/developer . You can also sign up for email updates on the SEC open data program, including best practices that make it more efficient to download data, and SEC.gov enhancements that may impact scripted downloading processes. For more information, contact opendata@sec.gov . For more information, please see the SEC’s Web Site Privacy and Security Policy . Thank you for your interest in the U.S. Securities and Exchange Commission. Reference ID: 0.87ae0017.1651167755.2509b66a More Information Internet Security Policy By using this site, you are agreeing to security monitoring and auditing. For security purposes, and to ensure that the public service remains available to users, this government computer system employs programs to monitor network traffic to identify unauthorized attempts to upload or change information or to otherwise cause damage, including attempts to deny service to users. Unauthorized attempts to upload information and/or change information on any portion of this site are strictly prohibited and are subject to prosecution under the Computer Fraud and Abuse Act of 1986 and the National Information Infrastructure Protection Act of 1996 (see Title 18 U.S.C. §§ 1001 and 1030). To ensure our website performs well for all users, the SEC monitors the frequency of requests for SEC.gov content to ensure automated searches do not impact the ability of others to access SEC.gov content. We reserve the right to block IP addresses that submit excessive requests.  Current guidelines limit users to a total of no more than 10 requests per second, regardless of the number of machines used to submit requests. If a user or application submits more than 10 requests per second, further requests from the IP address(es) may be limited for a brief period. Once the rate of requests has dropped below the threshold for 10 minutes, the user may resume accessing content on SEC.gov. This SEC practice is designed to limit excessive automated searches on SEC.gov and is not intended or expected to impact individuals browsing the SEC.gov website. Note that this policy may change as the SEC manages SEC.gov to ensure that the website performs efficiently and remains available to all users. Note: We do not offer technical support for developing or debugging scripted downloading processes.\n"
     ]
    }
   ],
   "source": [
    "  \n",
    "# Print the extracted data\n",
    "print(remove_tags(req.content))"
   ]
  },
  {
   "cell_type": "code",
   "execution_count": null,
   "id": "c80e1567",
   "metadata": {},
   "outputs": [],
   "source": []
  }
 ],
 "metadata": {
  "kernelspec": {
   "display_name": "Python 3 (ipykernel)",
   "language": "python",
   "name": "python3"
  },
  "language_info": {
   "codemirror_mode": {
    "name": "ipython",
    "version": 3
   },
   "file_extension": ".py",
   "mimetype": "text/x-python",
   "name": "python",
   "nbconvert_exporter": "python",
   "pygments_lexer": "ipython3",
   "version": "3.9.12"
  }
 },
 "nbformat": 4,
 "nbformat_minor": 5
}
