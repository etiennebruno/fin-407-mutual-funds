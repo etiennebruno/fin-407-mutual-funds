{
 "cells": [
  {
   "cell_type": "code",
   "execution_count": 1,
   "id": "1e477698",
   "metadata": {
    "pycharm": {
     "name": "#%%\n"
    }
   },
   "outputs": [],
   "source": [
    "%load_ext autoreload\n",
    "%autoreload 2"
   ]
  },
  {
   "cell_type": "code",
   "execution_count": 2,
   "id": "1b5b869f",
   "metadata": {
    "pycharm": {
     "name": "#%%\n"
    }
   },
   "outputs": [],
   "source": [
    "# Import Module\n",
    "from bs4 import BeautifulSoup\n",
    "import os\n",
    "import re\n",
    "import pickle\n",
    "import pandas as pd\n",
    "import numpy as np\n",
    "import collections\n",
    "\n",
    "from utils import *\n",
    "\n",
    "def extract_benchmark(text):\n",
    "    words = text.split()\n",
    "    # indices = np.where(words in ('benchmark', 'Benchmark'))[0]\n",
    "    # indices = np.where(words == 'benchmark')[0]\n",
    "    indices = [i for i, word in enumerate(words) if word.lower() in (\"benchmark\", \"benchmarks\")]\n",
    "    potential_benchmarks = set()\n",
    "    for i in indices:\n",
    "        window = 15\n",
    "        window_words = words[i - window:i + window]\n",
    "        # print()\n",
    "        for w in re.findall(r'“(.*?)”', ' '.join(window_words)) + re.findall(r'\"(.*?)\"', ' '.join(window_words)):\n",
    "            potential_benchmarks.add(w)\n",
    "\n",
    "        potential_words = list(filter(lambda w:\n",
    "                                      any(c.isupper() for c in w),\n",
    "                                      window_words))\n",
    "\n",
    "        for i in range(1, 6):\n",
    "            for j in range(len(potential_words) - i):\n",
    "                pw = ' '.join(potential_words[j:j + i])  #todo check if indices are right\n",
    "                potential_benchmarks.add(pw)\n",
    "\n",
    "    return potential_benchmarks"
   ]
  },
  {
   "cell_type": "code",
   "execution_count": 3,
   "id": "789981ad",
   "metadata": {
    "pycharm": {
     "name": "#%%\n"
    }
   },
   "outputs": [
    {
     "data": {
      "text/plain": [
       "(4025, 6)"
      ]
     },
     "execution_count": 3,
     "metadata": {},
     "output_type": "execute_result"
    }
   ],
   "source": [
    "df = df_from_filings()\n",
    "# df = df.head(100)\n",
    "df.shape"
   ]
  },
  {
   "cell_type": "markdown",
   "id": "ba636ecf",
   "metadata": {
    "pycharm": {
     "name": "#%% md\n"
    }
   },
   "source": [
    "#### add potential benchmarks"
   ]
  },
  {
   "cell_type": "code",
   "execution_count": 4,
   "id": "e7788bad",
   "metadata": {
    "pycharm": {
     "name": "#%%\n"
    }
   },
   "outputs": [],
   "source": [
    "potential_benchmarks_raw = df.apply(lambda row: extract_benchmark(row['text']), axis=1)\n",
    "potential_benchmarks_all = pd.concat([potential_benchmarks_raw], axis=1)\n",
    "potential_benchmarks_all.columns = ['potential_benchmarks_all']\n",
    "df = pd.concat([df, potential_benchmarks_all], axis=1)"
   ]
  },
  {
   "cell_type": "code",
   "execution_count": 5,
   "id": "92214bc6",
   "metadata": {
    "pycharm": {
     "name": "#%%\n"
    }
   },
   "outputs": [],
   "source": [
    "#get union of all sets\n",
    "def groupby_occurences(sets):\n",
    "    return collections.Counter([item for sublist in sets for item in sublist])\n",
    "\n",
    "\n",
    "# cik_to_benchmarks = df.groupby('cik')['potential_benchmarks_all'].agg(lambda x: set.intersection(*x)).reset_index()\n",
    "# cik_to_benchmarks = df.groupby('cik')['potential_benchmarks_all'].agg(lambda x: set.union(*x)).reset_index()\n",
    "cik_to_benchmarks_occurrences = df.groupby('cik')['potential_benchmarks_all'].agg(lambda x: groupby_occurences(x)).reset_index()\n",
    "cik_to_benchmarks_occurrences.columns = ['cik', 'potential_benchmark_occurrences']\n",
    "\n",
    "\n",
    "\n"
   ]
  },
  {
   "cell_type": "code",
   "execution_count": 6,
   "id": "0b4dce6e",
   "metadata": {
    "pycharm": {
     "name": "#%%\n"
    }
   },
   "outputs": [],
   "source": [
    "def custom(dictionary):\n",
    "    l = dictionary.keys()\n",
    "    keys_to_keep = set([x for x in l if sum(1 for s in l if x in s) <= 1])\n",
    "    new_dict = {k: dictionary[k] for k in keys_to_keep}\n",
    "\n",
    "    tmp = {}\n",
    "    tmp_sets = []\n",
    "    for k, v in new_dict.items():\n",
    "        splitted_k = set(k.split())\n",
    "        if set(splitted_k) not in tmp_sets:\n",
    "            tmp_sets.append(splitted_k)\n",
    "            tmp[k] = v\n",
    "        else:\n",
    "            for i, j in tmp.items():\n",
    "                if set(i.split()).issubset(splitted_k) or set(i.split()).issuperset(splitted_k):\n",
    "                    tmp[i] += v\n",
    "                    break\n",
    "\n",
    "    return {k: v for k, v in sorted(tmp.items(), key=lambda item: item[1], reverse=True)}\n",
    "\n",
    "df = pd.concat([cik_to_benchmarks_occurrences], axis=1)\n",
    "cik_to_benchmarks_custom = df.potential_benchmark_occurrences.apply(lambda x: custom(x))\n",
    "\n",
    "df2 = pd.concat([cik_to_benchmarks_custom], axis=1)\n",
    "df2.columns=['benchmarks_custom']\n",
    "# cik_to_benchmarks_custom_preprocessed = cik_to_benchmarks_occurrences_preprocessed.apply(lambda x:custom(x))\n",
    "df = pd.concat([df, df2], axis=1)"
   ]
  },
  {
   "cell_type": "code",
   "execution_count": 7,
   "id": "5c76948c",
   "metadata": {
    "pycharm": {
     "name": "#%%\n"
    }
   },
   "outputs": [
    {
     "data": {
      "text/plain": [
       "Index(['cik', 'potential_benchmark_occurrences', 'benchmarks_custom'], dtype='object')"
      ]
     },
     "execution_count": 7,
     "metadata": {},
     "output_type": "execute_result"
    }
   ],
   "source": [
    "df.columns"
   ]
  },
  {
   "cell_type": "code",
   "execution_count": 8,
   "id": "f143a260",
   "metadata": {
    "pycharm": {
     "name": "#%%\n"
    }
   },
   "outputs": [],
   "source": [
    "# df = pd.concat([cik_to_benchmarks_occurrences, cik_to_benchmarks_occurrences_preprocessed], axis=1)"
   ]
  },
  {
   "cell_type": "code",
   "execution_count": 9,
   "id": "a77d8b24",
   "metadata": {
    "pycharm": {
     "name": "#%%\n"
    }
   },
   "outputs": [
    {
     "data": {
      "text/plain": [
       "Index(['cik', 'potential_benchmark_occurrences', 'benchmarks_custom'], dtype='object')"
      ]
     },
     "execution_count": 9,
     "metadata": {},
     "output_type": "execute_result"
    }
   ],
   "source": [
    "df.columns"
   ]
  },
  {
   "cell_type": "code",
   "execution_count": null,
   "id": "51c6642e",
   "metadata": {
    "pycharm": {
     "name": "#%%\n"
    }
   },
   "outputs": [],
   "source": [
    "df.to_pickle('data/find_benchmark_1')"
   ]
  },
  {
   "cell_type": "code",
   "execution_count": null,
   "id": "a9e1cd41",
   "metadata": {
    "pycharm": {
     "name": "#%%\n"
    }
   },
   "outputs": [],
   "source": [
    "load_pkl('data/find_benchmark_1.pkl')[:20].to_markdown()"
   ]
  },
  {
   "cell_type": "code",
   "execution_count": null,
   "id": "72036a63",
   "metadata": {
    "pycharm": {
     "name": "#%%\n"
    }
   },
   "outputs": [],
   "source": []
  }
 ],
 "metadata": {
  "kernelspec": {
   "display_name": "Python 3 (ipykernel)",
   "language": "python",
   "name": "python3"
  },
  "language_info": {
   "codemirror_mode": {
    "name": "ipython",
    "version": 3
   },
   "file_extension": ".py",
   "mimetype": "text/x-python",
   "name": "python",
   "nbconvert_exporter": "python",
   "pygments_lexer": "ipython3",
   "version": "3.9.12"
  }
 },
 "nbformat": 4,
 "nbformat_minor": 5
}
