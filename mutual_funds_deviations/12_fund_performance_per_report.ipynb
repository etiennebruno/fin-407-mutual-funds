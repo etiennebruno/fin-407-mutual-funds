{
 "cells": [
  {
   "cell_type": "code",
   "execution_count": null,
   "id": "ec18039b",
   "metadata": {
    "pycharm": {
     "name": "#%%\n"
    }
   },
   "outputs": [],
   "source": [
    "from IPython.display import display, HTML\n",
    "display(HTML(\"<style>.container { width:80% !important; }</style>\"))"
   ]
  },
  {
   "cell_type": "code",
   "execution_count": null,
   "id": "28e9c438",
   "metadata": {},
   "outputs": [],
   "source": [
    "%load_ext autoreload\n",
    "%autoreload 2"
   ]
  },
  {
   "cell_type": "markdown",
   "id": "42b07b34",
   "metadata": {
    "pycharm": {
     "name": "#%% md\n"
    }
   },
   "source": [
    "## GET (SEMI-)ANNUAL AVERAGE RETURNS OVER TIME OF THE AVAILABLE FUNDS"
   ]
  },
  {
   "cell_type": "code",
   "execution_count": null,
   "id": "ba6a0c00",
   "metadata": {
    "pycharm": {
     "name": "#%%\n"
    }
   },
   "outputs": [],
   "source": [
    "import numpy as np\n",
    "import pandas as pd\n",
    "import os"
   ]
  },
  {
   "cell_type": "code",
   "execution_count": null,
   "id": "013459b6",
   "metadata": {
    "pycharm": {
     "name": "#%%\n"
    }
   },
   "outputs": [],
   "source": [
    "# Connection to WRDS\n",
    "import wrds\n",
    "db = wrds.Connection(wrds_username='etiennebruno')\n",
    "#db = wrds.Connection(wrds_username='zadaf')"
   ]
  },
  {
   "cell_type": "code",
   "execution_count": null,
   "id": "916c4f53",
   "metadata": {
    "pycharm": {
     "name": "#%%\n"
    }
   },
   "outputs": [],
   "source": [
    "# Import CIKs from the dataframe of all cleaned filings\n",
    "from utils import *\n",
    "ciks = ', '.join(list(df_from_filings().cik.unique()))"
   ]
  },
  {
   "cell_type": "code",
   "execution_count": null,
   "id": "fd995a5a",
   "metadata": {
    "pycharm": {
     "name": "#%%\n"
    }
   },
   "outputs": [],
   "source": [
    "# Get all cik number available (intersection between our dataframe and the data on CRSP)\n",
    "ciks_data = db.raw_sql(f'''\n",
    "        select distinct comp_cik\n",
    "        from crsp_q_mutualfunds.crsp_cik_map\n",
    "        where comp_cik in ({ciks})\n",
    "''')\n",
    "cik_available = list(ciks_data.comp_cik)\n",
    "cik_available = ', '.join([str(i) for i in cik_available])"
   ]
  },
  {
   "cell_type": "code",
   "execution_count": null,
   "id": "c826adef",
   "metadata": {
    "pycharm": {
     "name": "#%%\n"
    }
   },
   "outputs": [],
   "source": [
    "# With the mapping table of CRSP, get all companies' fund number\n",
    "crsp_fundno_available = db.raw_sql(f'''\n",
    "        select *\n",
    "        from crsp_q_mutualfunds.crsp_cik_map\n",
    "        where comp_cik in ({cik_available})\n",
    "''')\n",
    "crsp_fundno_available"
   ]
  },
  {
   "cell_type": "code",
   "execution_count": null,
   "id": "90850dc7",
   "metadata": {
    "pycharm": {
     "name": "#%%\n"
    }
   },
   "outputs": [],
   "source": [
    "print(len(crsp_fundno_available['crsp_fundno'].unique()))\n",
    "\n",
    "print(len(crsp_fundno_available['comp_cik'].unique()))"
   ]
  },
  {
   "cell_type": "code",
   "execution_count": null,
   "id": "bd71370d",
   "metadata": {},
   "outputs": [],
   "source": [
    "sum(crsp_fundno_available['comp_cik'].value_counts() == 2)"
   ]
  },
  {
   "cell_type": "code",
   "execution_count": null,
   "id": "38c6b42c",
   "metadata": {
    "pycharm": {
     "name": "#%%\n"
    }
   },
   "outputs": [],
   "source": [
    "# Convert the list of fund numbers to a list of string type for future SQL queries\n",
    "list_float_fundnos = list(crsp_fundno_available.crsp_fundno.unique())\n",
    "crsp_fundno_available_list_str = ', '.join([str(i) for i in list_float_fundnos])"
   ]
  },
  {
   "cell_type": "code",
   "execution_count": null,
   "id": "d2350e42",
   "metadata": {
    "pycharm": {
     "name": "#%%\n"
    }
   },
   "outputs": [],
   "source": [
    "# Get all available returns for each fund\n",
    "monthly_returns_all_funds = db.raw_sql(f'''\n",
    "        select *\n",
    "        from crsp_q_mutualfunds.monthly_returns\n",
    "        where crsp_fundno in ({crsp_fundno_available_list_str})\n",
    "        order by caldt desc\n",
    "''')\n",
    "monthly_returns_all_funds = pd.merge(left=monthly_returns_all_funds,right=crsp_fundno_available, how='inner', left_on='crsp_fundno', right_on='crsp_fundno')\n",
    "monthly_returns_all_funds"
   ]
  },
  {
   "cell_type": "code",
   "execution_count": null,
   "id": "38646a84",
   "metadata": {
    "pycharm": {
     "name": "#%%\n"
    }
   },
   "outputs": [],
   "source": [
    "# Create a new dataframe with some statistic and the average return\n",
    "monthly_returns_all_funds_avg = monthly_returns_all_funds[['caldt', 'mret', 'comp_cik', 'crsp_fundno']].groupby(by=['comp_cik','caldt']).agg(\n",
    "    count=('crsp_fundno', 'count'),\n",
    "    mret=('mret', 'mean'),\n",
    ")\n",
    "\n",
    "monthly_returns_all_funds_avg.sort_values(by=['comp_cik', 'caldt'], inplace=True)\n",
    "monthly_returns_all_funds_avg['year'] = pd.to_datetime(monthly_returns_all_funds_avg.index.get_level_values(1))\n",
    "monthly_returns_all_funds_avg['year'] = monthly_returns_all_funds_avg['year'].dt.year\n",
    "\n",
    "# Create temporary column to compute later the cumulative return\n",
    "monthly_returns_all_funds_avg['mret_add_1']=monthly_returns_all_funds_avg['mret']+1\n",
    "\n",
    "# Compite the cumulative return of each CIK number\n",
    "monthly_returns_all_funds_avg['cum_return']=monthly_returns_all_funds_avg.groupby(['comp_cik', 'year'])['mret_add_1'].cumprod()-1\n",
    "\n",
    "# Display dataframe\n",
    "display(monthly_returns_all_funds_avg)"
   ]
  },
  {
   "cell_type": "code",
   "execution_count": null,
   "id": "7d81dad6",
   "metadata": {},
   "outputs": [],
   "source": [
    "# Add specific columns to the aggregated dataframe\n",
    "# in order to be able to merge it with the df containing the filings\n",
    "all_funds_cum_ret = monthly_returns_all_funds_avg.reset_index()\n",
    "all_funds_cum_ret['caldt'] = pd.to_datetime(all_funds_cum_ret['caldt']) # add date\n",
    "all_funds_cum_ret = all_funds_cum_ret[all_funds_cum_ret['caldt'].dt.month.isin([6,12])] # only keep semi annual return and annual return\n",
    "all_funds_cum_ret['report_type'] = all_funds_cum_ret.caldt.apply(lambda caldt: 'N-CSR' if caldt.month == 12 else 'N-CSRS') # label if semi-annual or annual\n",
    "all_funds_cum_ret['year'] = all_funds_cum_ret.caldt.apply(lambda caldt: caldt.year) # add year\n",
    "all_funds_cum_ret['comp_cik'] = all_funds_cum_ret.comp_cik.apply(lambda comp_cik: '000'+str(int(comp_cik))) # reformat the cik\n",
    "\n",
    "# Process the the merge\n",
    "new_df = pd.merge(all_funds_cum_ret, df_from_filings(),  how='inner', left_on=['comp_cik','report_type', 'year'], right_on = ['cik','report_type', 'year'])"
   ]
  },
  {
   "cell_type": "code",
   "execution_count": null,
   "id": "373b8a10",
   "metadata": {
    "pycharm": {
     "name": "#%%\n"
    }
   },
   "outputs": [],
   "source": [
    "# Save to pkl the new dataframe containing the texts, cumulative returns, date information and, other metadata\n",
    "path_save = os.path.join('data', 'data_frame_complete.pkl')\n",
    "save_pkl(new_df, path_save)"
   ]
  },
  {
   "cell_type": "code",
   "execution_count": null,
   "id": "81922479",
   "metadata": {},
   "outputs": [],
   "source": [
    "path_finbert_df = os.path.join('data', 'sentiment_analysis', 'df_finbert_predictions.pkl')"
   ]
  }
 ],
 "metadata": {
  "kernelspec": {
   "display_name": "Python 3 (ipykernel)",
   "language": "python",
   "name": "python3"
  },
  "language_info": {
   "codemirror_mode": {
    "name": "ipython",
    "version": 3
   },
   "file_extension": ".py",
   "mimetype": "text/x-python",
   "name": "python",
   "nbconvert_exporter": "python",
   "pygments_lexer": "ipython3",
   "version": "3.9.12"
  }
 },
 "nbformat": 4,
 "nbformat_minor": 5
}
