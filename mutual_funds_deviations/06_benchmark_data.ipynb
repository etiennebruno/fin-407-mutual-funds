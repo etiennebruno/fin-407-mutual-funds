{
 "cells": [
  {
   "cell_type": "code",
   "execution_count": null,
   "metadata": {
    "pycharm": {
     "name": "#%%\n"
    }
   },
   "outputs": [],
   "source": [
    "from IPython.display import display, HTML\n",
    "display(HTML(\"<style>.container { width:80% !important; }</style>\"))"
   ]
  },
  {
   "cell_type": "markdown",
   "metadata": {
    "pycharm": {
     "name": "#%% md\n"
    }
   },
   "source": [
    "## GET AVERAGE RETURNS OVER TIME OF THE AVAILABLE FUNDS"
   ]
  },
  {
   "cell_type": "code",
   "execution_count": null,
   "metadata": {
    "pycharm": {
     "name": "#%%\n"
    }
   },
   "outputs": [],
   "source": [
    "# Connection to WRDS\n",
    "import wrds\n",
    "db = wrds.Connection(wrds_username='etiennebruno')\n",
    "#db = wrds.Connection(wrds_username='zadaf')"
   ]
  },
  {
   "cell_type": "code",
   "execution_count": null,
   "metadata": {
    "pycharm": {
     "name": "#%%\n"
    }
   },
   "outputs": [],
   "source": [
    "# Import CIKs from the dataframe of all cleaned filings\n",
    "from utils import *\n",
    "ciks = ', '.join(list(df_from_filings().cik.unique()))"
   ]
  },
  {
   "cell_type": "code",
   "execution_count": null,
   "metadata": {
    "pycharm": {
     "name": "#%%\n"
    }
   },
   "outputs": [],
   "source": [
    "# Get all cik number available (intersection between our dataframe and the data on CRSP)\n",
    "ciks_data = db.raw_sql(f'''\n",
    "        select distinct comp_cik\n",
    "        from crsp_q_mutualfunds.crsp_cik_map\n",
    "        where comp_cik in ({ciks})\n",
    "''')\n",
    "cik_available = list(ciks_data.comp_cik)\n",
    "\n",
    "cik_available_crsp_pkl = ['000'+str(int(c)) for c in cik_available]\n",
    "save_pkl(cik_available_crsp_pkl, 'data/cik_available_crsp.pkl')\n",
    "\n",
    "cik_available = ', '.join([str(i) for i in cik_available])"
   ]
  },
  {
   "cell_type": "code",
   "execution_count": null,
   "metadata": {
    "pycharm": {
     "name": "#%%\n"
    }
   },
   "outputs": [],
   "source": [
    "# With the mapping table of CRSP, get all companies' fund number\n",
    "crsp_fundno_available = db.raw_sql(f'''\n",
    "        select *\n",
    "        from crsp_q_mutualfunds.crsp_cik_map\n",
    "        where comp_cik in ({cik_available})\n",
    "''')\n",
    "crsp_fundno_available"
   ]
  },
  {
   "cell_type": "code",
   "execution_count": null,
   "metadata": {
    "pycharm": {
     "name": "#%%\n"
    }
   },
   "outputs": [],
   "source": [
    "# Convert the list of fund numbers to a list of string type for future SQL queries\n",
    "list_float_fundnos = list(crsp_fundno_available.crsp_fundno.unique())\n",
    "crsp_fundno_available_list_str = ', '.join([str(i) for i in list_float_fundnos])"
   ]
  },
  {
   "cell_type": "code",
   "execution_count": null,
   "metadata": {
    "pycharm": {
     "name": "#%%\n"
    }
   },
   "outputs": [],
   "source": [
    "# Get all available returns for each fund\n",
    "monthly_returns_all_funds = db.raw_sql(f'''\n",
    "        select *\n",
    "        from crsp_q_mutualfunds.monthly_returns\n",
    "        where crsp_fundno in ({crsp_fundno_available_list_str})\n",
    "        order by caldt desc\n",
    "''')\n",
    "# monthly_returns_all_funds.to_pickle('monthly_returns_all_funds.pkl')"
   ]
  },
  {
   "cell_type": "code",
   "execution_count": null,
   "metadata": {
    "pycharm": {
     "name": "#%%\n"
    }
   },
   "outputs": [],
   "source": [
    "crsp_fundno_available[crsp_fundno_available.comp_cik == 1593547]"
   ]
  },
  {
   "cell_type": "code",
   "execution_count": null,
   "metadata": {
    "pycharm": {
     "name": "#%%\n"
    }
   },
   "outputs": [],
   "source": [
    "funds_returns = pd.merge(monthly_returns_all_funds, crsp_fundno_available)[['caldt', 'comp_cik','mret']]\n",
    "funds_returns['comp_cik'] = funds_returns.comp_cik.apply(lambda cik: '000'+str(int(cik)))\n",
    "funds_returns.to_pickle('data/funds_returns.pkl')"
   ]
  },
  {
   "cell_type": "code",
   "execution_count": null,
   "metadata": {},
   "outputs": [],
   "source": [
    "monthly_returns_all_funds = monthly_returns_all_funds[monthly_returns_all_funds['mret']<4]"
   ]
  },
  {
   "cell_type": "code",
   "execution_count": null,
   "metadata": {},
   "outputs": [],
   "source": [
    "monthly_returns_all_funds[monthly_returns_all_funds['mret']>=1]"
   ]
  },
  {
   "cell_type": "markdown",
   "metadata": {
    "pycharm": {
     "name": "#%% md\n"
    }
   },
   "source": [
    "## GET AVERAGE RETURNS OVER TIME OF THE AVAILABLE FUNDS - GROUPED BY MONTH"
   ]
  },
  {
   "cell_type": "code",
   "execution_count": null,
   "metadata": {
    "pycharm": {
     "name": "#%%\n"
    }
   },
   "outputs": [],
   "source": [
    "# Create a new dataframe with some statistic and the average return\n",
    "monthly_returns_all_funds_aggregated = monthly_returns_all_funds[['caldt', 'mret']].groupby('caldt').agg(\n",
    "    count=('mret', 'count'),\n",
    "    mret=('mret', 'mean'),\n",
    "    mret_max=('mret', 'max'),\n",
    "    mret_min=('mret', 'min'),\n",
    "    mret_sdt=('mret', 'std'),\n",
    ")"
   ]
  },
  {
   "cell_type": "code",
   "execution_count": null,
   "metadata": {
    "pycharm": {
     "name": "#%%\n"
    }
   },
   "outputs": [],
   "source": [
    "monthly_returns_all_funds_aggregated.reset_index(inplace=True)\n",
    "monthly_returns_all_funds_aggregated['caldt'] = pd.to_datetime(monthly_returns_all_funds_aggregated['caldt'], format= '%Y-%m-%d')"
   ]
  },
  {
   "cell_type": "code",
   "execution_count": null,
   "metadata": {
    "pycharm": {
     "name": "#%%\n"
    }
   },
   "outputs": [],
   "source": [
    "monthly_returns_all_funds_aggregated = monthly_returns_all_funds_aggregated.loc[monthly_returns_all_funds_aggregated['caldt'] >= '2000-01-01']\n",
    "monthly_returns_all_funds_aggregated"
   ]
  },
  {
   "cell_type": "markdown",
   "metadata": {
    "pycharm": {
     "name": "#%% md\n"
    }
   },
   "source": [
    "## GET RETURN OF THE MARKET"
   ]
  },
  {
   "cell_type": "code",
   "execution_count": null,
   "metadata": {
    "pycharm": {
     "name": "#%%\n"
    }
   },
   "outputs": [],
   "source": [
    "index_return_query = db.raw_sql(\"\"\"\n",
    "    select  \n",
    "    date,\n",
    "    vwretd \n",
    "    from crsp.msi\n",
    "    where \n",
    "    date>='2000-01-01'\"\"\", date_cols=['date']\n",
    "    )"
   ]
  },
  {
   "cell_type": "code",
   "execution_count": null,
   "metadata": {
    "pycharm": {
     "name": "#%%\n"
    }
   },
   "outputs": [],
   "source": [
    "left = monthly_returns_all_funds_aggregated[['mret', 'caldt', 'count']]\n",
    "right = index_return_query[['date', 'vwretd']]\n",
    "cumulative_data = pd.merge(left=left, right=right, how='inner', left_on='caldt', right_on='date')\n",
    "\n",
    "# Compute cumulative returns for both avg of funds and market\n",
    "cumulative_data['cum_ret_funds'] = (1 + cumulative_data['mret']).cumprod() - 1\n",
    "cumulative_data['cum_ret_mkt'] = (1 + cumulative_data['vwretd']).cumprod() - 1"
   ]
  },
  {
   "cell_type": "code",
   "execution_count": null,
   "metadata": {
    "pycharm": {
     "name": "#%%\n"
    }
   },
   "outputs": [],
   "source": [
    "index_return_query[['date', 'vwretd']].to_pickle('market_returns.pkl')"
   ]
  },
  {
   "cell_type": "code",
   "execution_count": null,
   "metadata": {},
   "outputs": [],
   "source": [
    "index_return_query"
   ]
  },
  {
   "cell_type": "markdown",
   "metadata": {
    "pycharm": {
     "name": "#%% md\n"
    }
   },
   "source": [
    "### Get Risk Free Rate"
   ]
  },
  {
   "cell_type": "code",
   "execution_count": null,
   "metadata": {
    "pycharm": {
     "name": "#%%\n"
    }
   },
   "outputs": [],
   "source": [
    "risk_free =db.raw_sql(\"\"\"select mcaldt, tmytm\n",
    "                                from crsp.tfz_mth_rf\n",
    "                                where kytreasnox = 2000001\n",
    "                                    and mcaldt>='2000-01-01'\n",
    "                                    --and mcaldt<='2021-12-31'\n",
    "                                \"\"\", date_cols=['mcaldt'])"
   ]
  },
  {
   "cell_type": "code",
   "execution_count": null,
   "metadata": {
    "pycharm": {
     "name": "#%%\n"
    }
   },
   "outputs": [],
   "source": [
    "risk_free.mcaldt.apply(lambda date: date.year)\n",
    "risk_free['year'] = risk_free.mcaldt.dt.year\n",
    "risk_free = risk_free.groupby('year').last().reset_index()\n",
    "risk_free.to_pickle('risk_free.pkl')"
   ]
  },
  {
   "cell_type": "markdown",
   "metadata": {
    "pycharm": {
     "name": "#%% md\n"
    }
   },
   "source": [
    "## GRAPH OF AVERAGE RETURNS OVER TIME WITH BENCHMARKS"
   ]
  },
  {
   "cell_type": "code",
   "execution_count": null,
   "metadata": {
    "pycharm": {
     "name": "#%%\n"
    }
   },
   "outputs": [],
   "source": [
    "# Rename df for better modularity\n",
    "data = monthly_returns_all_funds_aggregated.copy()"
   ]
  },
  {
   "cell_type": "code",
   "execution_count": null,
   "metadata": {
    "pycharm": {
     "name": "#%%\n"
    }
   },
   "outputs": [],
   "source": [
    "import matplotlib.pyplot as plt\n",
    "import numpy as np\n",
    "import seaborn as sns\n",
    "\n",
    "%matplotlib inline\n",
    "%config InlineBackend.figure_format='retina'\n",
    "\n",
    "sns.set(style=\"darkgrid\")\n",
    "sns.set_style(\"whitegrid\", {'axes.grid' : False})\n",
    "sns.set(rc={\"figure.figsize\":(18, 8)})\n",
    "#plt.rcParams['xtick.labelsize'] = 'medium'\n",
    "#plt.rcParams['ytick.labelsize'] = 'medium'"
   ]
  },
  {
   "cell_type": "code",
   "execution_count": null,
   "metadata": {
    "pycharm": {
     "name": "#%%\n"
    }
   },
   "outputs": [],
   "source": [
    "plt.tick_params(left=True,\n",
    "                bottom=True,\n",
    "                labelleft=True,\n",
    "                labelbottom=True)\n",
    "\n",
    "# Plot the average return of all mutual funds\n",
    "X=data['caldt'].dt.strftime('%Y-%m-%d')\n",
    "Y=data['mret']\n",
    "sns.lineplot(x=X, y=Y, linestyle='--')\n",
    "\n",
    "# Add variance\n",
    "lower_bound = data['mret'] + data['mret_sdt']\n",
    "upper_bound = data['mret'] - data['mret_sdt']\n",
    "\n",
    "plt.fill_between(X, lower_bound, upper_bound, alpha=.3)\n",
    "\n",
    "# Average Value Weighted Index - market\n",
    "X=index_return_query['date'].dt.strftime('%Y-%m-%d')\n",
    "Y=index_return_query['vwretd']\n",
    "sns.lineplot(x=X, y=Y, linestyle='--')\n",
    "\n",
    "plt.xlabel('Time')\n",
    "plt.ylabel('Average Monthly Return')\n",
    "plt.xticks(X[::12], rotation=45)\n",
    "\n",
    "plt.legend(['average monthly return of mutual funds', 'variance of the funds\\' returns', 'value weighted index of the market'])\n",
    "#plt.legend(['value weighted index of the market'])\n",
    "#plt.savefig('data/graphs/annual_return_market_plots.png', dpi=200)\n",
    "#plt.savefig('data/graphs/annual_return_plots.png', dpi=200)\n",
    "#plt.savefig('data/graphs/annual_return_plots_with_market.png', dpi=200)\n",
    "plt.show()"
   ]
  },
  {
   "cell_type": "code",
   "execution_count": null,
   "metadata": {},
   "outputs": [],
   "source": [
    "import statsmodels.api as sm\n",
    "\n",
    "endog = data['mret']\n",
    "exog = sm.add_constant(data['vwretd'], prepend=False)\n",
    "# Fit and summarize OLS model\n",
    "mod = sm.OLS(endog, exog)\n",
    "res = mod.fit()\n",
    "print(res.summary())\n",
    "#print(res.summary().as_latex())"
   ]
  },
  {
   "cell_type": "code",
   "execution_count": null,
   "metadata": {},
   "outputs": [],
   "source": [
    "from scipy import stats\n",
    "\n",
    "# Correlation betwwen the cumulatives returns of the market and of the funds\n",
    "Y=data['mret']\n",
    "Z=data['vwretd']\n",
    "print(stats.pearsonr(Y, Z))"
   ]
  },
  {
   "cell_type": "markdown",
   "metadata": {
    "pycharm": {
     "name": "#%% md\n"
    }
   },
   "source": [
    "### GET AND PLOT CUMULATIVE RETURNS"
   ]
  },
  {
   "cell_type": "code",
   "execution_count": null,
   "metadata": {
    "pycharm": {
     "name": "#%%\n"
    }
   },
   "outputs": [],
   "source": [
    "# Rename df for better modularity\n",
    "data = cumulative_data.copy()"
   ]
  },
  {
   "cell_type": "code",
   "execution_count": null,
   "metadata": {
    "pycharm": {
     "name": "#%%\n"
    }
   },
   "outputs": [],
   "source": [
    "fig = plt.figure(figsize=(15, 15))\n",
    "ax1 = plt.subplot(2, 1, 1)\n",
    "\n",
    "# Plot the cumulative return of all mutual funds\n",
    "X=data['caldt'].dt.strftime('%Y-%m-%d')\n",
    "Y=data['cum_ret_funds']*100\n",
    "sns.lineplot(x=X, y=Y, linestyle='--', ax=ax1)\n",
    "\n",
    "# Cumulative Value Weighted index return - market\n",
    "X=data['date'].dt.strftime('%Y-%m-%d')\n",
    "Y=data['cum_ret_mkt']*100\n",
    "sns.lineplot(x=X, y=Y, linestyle='--', ax=ax1)\n",
    "\n",
    "# Setting for both x-axes\n",
    "plt.xlabel('')\n",
    "plt.ylabel('Cumulative return (in %)')\n",
    "plt.title('Cumulative Return of the average return of the mutual funds and the value weighted market index')\n",
    "plt.xticks(X[::12], rotation=45)\n",
    "\n",
    "# Add number of funds per date\n",
    "ax2 = plt.subplot(2, 1, 2)\n",
    "X=data['caldt'].dt.strftime('%Y-%m-%d')\n",
    "ax2.grid(False)\n",
    "sns.lineplot(x=X, y='count', data=data, ax=ax2)\n",
    "lower_bound = [0]*len(data['caldt'])\n",
    "upper_bound = data['count']\n",
    "plt.fill_between(X, lower_bound, upper_bound, alpha=.3)\n",
    "ax2.set_ylim([0,175])\n",
    "\n",
    "# Setting for both x-axes\n",
    "plt.xlabel('Time')\n",
    "plt.ylabel('Number of funds')\n",
    "plt.title('Number of mutual funds taken into consideration at each time t')\n",
    "plt.xticks(X[::12], rotation=45)\n",
    "\n",
    "\n",
    "#plt.legend(['Average Performance of mutual funds', 'Value Weighted Market Index'])\n",
    "#plt.savefig('data/graphs/comparisons_with_vw_market_two_figures.png', dpi=200)\n",
    "# set the spacing between subplots\n",
    "#plt.subplots_adjust(hspace=0.4)\n",
    "fig.tight_layout()\n",
    "plt.show()"
   ]
  },
  {
   "cell_type": "code",
   "execution_count": null,
   "metadata": {},
   "outputs": [],
   "source": [
    "fig = plt.figure()\n",
    "ax1 = fig.add_subplot(111)\n",
    "\n",
    "# Plot the cumulative return of all mutual funds\n",
    "X=data['caldt'].dt.strftime('%Y-%m-%d')\n",
    "Y=data['cum_ret_funds']*100\n",
    "sns.lineplot(x=X, y=Y, linestyle='--', ax=ax1)\n",
    "\n",
    "# Cumulative Value Weighted index return - market\n",
    "X=data['date'].dt.strftime('%Y-%m-%d')\n",
    "Y=data['cum_ret_mkt']*100\n",
    "sns.lineplot(x=X, y=Y, linestyle='--', ax=ax1)\n",
    "\n",
    "# Setting for both x-axes\n",
    "plt.xlabel('Time')\n",
    "plt.ylabel('Cumulative return (in %)')\n",
    "plt.title('Cumulative Return of the average return of the mutual funds and the value weighted market index')\n",
    "plt.legend(['Average Performance of mutual funds', 'Value Weighted Market Index'])\n",
    "plt.xticks(X[::12], rotation=45)\n",
    "\n",
    "# Add number of funds per date\n",
    "ax2 = ax1.twinx()\n",
    "X=data['caldt'].dt.strftime('%Y-%m-%d')\n",
    "ax2.grid(False)\n",
    "sns.lineplot(x=X, y='count', data=data, ax=ax2, linestyle=':')\n",
    "#lower_bound = [0]*len(data['caldt'])\n",
    "#upper_bound = data['count']\n",
    "#plt.fill_between(X, lower_bound, upper_bound, alpha=.3)\n",
    "ax2.set_ylim([0,200])\n",
    "\n",
    "\n",
    "plt.legend(['Number of funds taken into consideration at each time t'])\n",
    "#plt.savefig('data/graphs/comparisons_with_vw_market_one_figure.png', dpi=200)\n",
    "plt.show()"
   ]
  },
  {
   "cell_type": "code",
   "execution_count": null,
   "metadata": {},
   "outputs": [],
   "source": [
    "# Plot the cumulative return of all mutual funds\n",
    "X=data['caldt'].dt.strftime('%Y-%m-%d')\n",
    "Y=data['cum_ret_funds']*100\n",
    "sns.lineplot(x=X, y=Y, linestyle='--')\n",
    "\n",
    "# Cumulative Value Weighted index return - market\n",
    "X=data['date'].dt.strftime('%Y-%m-%d')\n",
    "Y=data['cum_ret_mkt']*100\n",
    "sns.lineplot(x=X, y=Y, linestyle='--')\n",
    "\n",
    "# Setting for both x-axes\n",
    "plt.xlabel('')\n",
    "plt.ylabel('Cumulative return (in %)')\n",
    "plt.title('Cumulative Return of the average return of the mutual funds and the value weighted market index')\n",
    "plt.xticks(X[::12], rotation=45)\n",
    "\n",
    "# Setting for both x-axes\n",
    "plt.xlabel('Time')\n",
    "plt.ylabel('Number of funds')\n",
    "plt.title('Cumulative returns of mutual funds and of the market')\n",
    "plt.xticks(X[::12], rotation=45)\n",
    "\n",
    "\n",
    "plt.legend(['Cumulative return of the average monthly returns of mutuals funds', 'Cumulative return of the value weighted market index'])\n",
    "#plt.savefig('data/graphs/cumulative_returns.png', dpi=200)\n",
    "fig.tight_layout()\n",
    "plt.show()"
   ]
  },
  {
   "cell_type": "code",
   "execution_count": null,
   "metadata": {},
   "outputs": [],
   "source": [
    "import statsmodels.api as sm\n",
    "\n",
    "endog = data['cum_ret_funds']\n",
    "exog = sm.add_constant(data['cum_ret_mkt'], prepend=False)\n",
    "# Fit and summarize OLS model\n",
    "mod = sm.OLS(endog, exog)\n",
    "res = mod.fit()\n",
    "print(res.summary())\n",
    "#print(res.summary().as_latex())"
   ]
  },
  {
   "cell_type": "code",
   "execution_count": null,
   "metadata": {},
   "outputs": [],
   "source": [
    "# Correlation betwwen the cumulatives returns of the market and of the funds\n",
    "Y=data['cum_ret_funds']\n",
    "Z=data['cum_ret_mkt']\n",
    "print(stats.pearsonr(Y, Z))"
   ]
  },
  {
   "cell_type": "code",
   "execution_count": null,
   "metadata": {},
   "outputs": [],
   "source": [
    "# Add number of funds per date\n",
    "X=data['caldt'].dt.strftime('%Y-%m-%d')\n",
    "ax2.grid(False)\n",
    "sns.lineplot(x=X, y='count', data=data, ax=ax2)\n",
    "lower_bound = [0]*len(data['caldt'])\n",
    "upper_bound = data['count']\n",
    "plt.fill_between(X, lower_bound, upper_bound, alpha=.3)\n",
    "ax2.set_ylim([0,175])\n",
    "\n",
    "# Setting for both x-axes\n",
    "plt.xlabel('Time')\n",
    "plt.ylabel('Number of funds')\n",
    "plt.title('Number of mutual funds taken into consideration at each time t')\n",
    "plt.xticks(X[::12], rotation=45)\n",
    "\n",
    "#plt.savefig('data/graphs/number_of_funds_evoluation.png', dpi=200)\n",
    "fig.tight_layout()\n",
    "plt.show()"
   ]
  },
  {
   "cell_type": "markdown",
   "metadata": {
    "pycharm": {
     "name": "#%% md\n"
    }
   },
   "source": [
    "## FIND VARIABLE NAME IN SCHEMA"
   ]
  },
  {
   "cell_type": "code",
   "execution_count": null,
   "metadata": {
    "pycharm": {
     "name": "#%%\n"
    }
   },
   "outputs": [],
   "source": [
    "%%time\n",
    "for table in db.list_tables(library='crsp'):\n",
    "    try:\n",
    "        l= list(filter(lambda x: ('crsp_fundno' in x) and ('cik' in x), db.get_table(library='crsp_q_mutualfunds', table=table, obs=1).keys()))\n",
    "    except:\n",
    "        pass\n",
    "    if len(l) > 0:\n",
    "        print(table, \"---\", l)"
   ]
  },
  {
   "cell_type": "code",
   "execution_count": null,
   "metadata": {
    "pycharm": {
     "name": "#%%\n"
    }
   },
   "outputs": [],
   "source": [
    "%%time\n",
    "for table in db.list_tables(library='crsp'):\n",
    "    try:\n",
    "        tab_keys = db.get_table(library='crsp_q_mutualfunds', table=table, obs=1).keys()\n",
    "        l = list(filter(lambda x: 'cik' in x, tab_keys))\n",
    "    except:\n",
    "        pass\n",
    "    if len(l) > 0:\n",
    "        print(table, \"---\", l, tab_keys)"
   ]
  },
  {
   "cell_type": "code",
   "execution_count": null,
   "metadata": {
    "pycharm": {
     "name": "#%%\n"
    }
   },
   "outputs": [],
   "source": [
    "%%time\n",
    "for table in db.list_tables(library='crsp'):\n",
    "    try:\n",
    "        l= list(filter(lambda x: 'cik' in x, db.get_table(library='crsp', table=table, obs=1).keys()))\n",
    "    except:\n",
    "        pass\n",
    "    if len(l) > 0:\n",
    "        print(table, \"---\", l)"
   ]
  },
  {
   "cell_type": "markdown",
   "metadata": {
    "pycharm": {
     "name": "#%% md\n"
    }
   },
   "source": [
    "## TRY SOME QUERIES"
   ]
  },
  {
   "cell_type": "code",
   "execution_count": null,
   "metadata": {
    "pycharm": {
     "name": "#%%\n"
    }
   },
   "outputs": [],
   "source": [
    "# Connection to WRDS\n",
    "import wrds\n",
    "db = wrds.Connection(wrds_username='etiennebruno')"
   ]
  },
  {
   "cell_type": "code",
   "execution_count": null,
   "metadata": {
    "pycharm": {
     "name": "#%%\n"
    }
   },
   "outputs": [],
   "source": [
    "db.list_libraries().sort()\n",
    "db.list_libraries()"
   ]
  },
  {
   "cell_type": "code",
   "execution_count": null,
   "metadata": {
    "pycharm": {
     "name": "#%%\n"
    }
   },
   "outputs": [],
   "source": [
    "# List the tables of a given library\n",
    "db.list_tables(library='crsp')"
   ]
  },
  {
   "cell_type": "code",
   "execution_count": null,
   "metadata": {
    "pycharm": {
     "name": "#%%\n"
    }
   },
   "outputs": [],
   "source": [
    "# Get data\n",
    "daily = db.get_table(library='crsp', table='fund_summary2', obs=10)"
   ]
  },
  {
   "cell_type": "code",
   "execution_count": null,
   "metadata": {
    "pycharm": {
     "name": "#%%\n"
    }
   },
   "outputs": [],
   "source": [
    "# Get funds name over a given period\n",
    "df_funds_map = db.raw_sql('''\n",
    "        select distinct on (fund_name) fund_name, ticker, ncusip, cusip8\n",
    "        from crsp.portnomap\n",
    "        where begdt <= '2020-01-01' --and enddt >= '2022-01-01'\n",
    "        order by fund_name asc\n",
    "''')"
   ]
  },
  {
   "cell_type": "code",
   "execution_count": null,
   "metadata": {
    "pycharm": {
     "name": "#%%\n"
    }
   },
   "outputs": [],
   "source": [
    "# Get funds name over containing some strings of the S&P 500\n",
    "db.raw_sql('''\n",
    "        select distinct fund_name\n",
    "        from crsp.portnomap\n",
    "        where lower(fund_name::text) LIKE '%%s&p%%'\n",
    "            and lower(fund_name::text) LIKE '%%500%%'\n",
    "            --and lower(fund_name::text) LIKE '%%bond%%'\n",
    "            --and lower(fund_name::text) LIKE '%%national%%'\n",
    "            --and caldt >= '2010-01-31'\n",
    "     limit 100\n",
    "''')"
   ]
  },
  {
   "cell_type": "code",
   "execution_count": null,
   "metadata": {
    "pycharm": {
     "name": "#%%\n"
    }
   },
   "outputs": [],
   "source": [
    "db.raw_sql('''\n",
    "        select *\n",
    "        from crsp.fund_summary2\n",
    "        where fund_name LIKE '%%FundVantage Trust: Gotham Enhanced S&P 500 Index Fund; Institutional Class Shares%%'\n",
    "        --and caldt >= '2010-01-31'\n",
    "''')"
   ]
  },
  {
   "cell_type": "code",
   "execution_count": null,
   "metadata": {
    "pycharm": {
     "name": "#%%\n"
    }
   },
   "outputs": [],
   "source": [
    "db.raw_sql('''\n",
    "        select *\n",
    "        from crsp.portnomap\n",
    "        where (fund_name::text) LIKE '%%FundVantage Trust: Gotham Enhanced S&P 500 Index Fund; Institutional Class Shares%%'\n",
    "        --and caldt >= '2010-01-31'\n",
    "''')"
   ]
  },
  {
   "cell_type": "code",
   "execution_count": null,
   "metadata": {
    "pycharm": {
     "name": "#%%\n"
    }
   },
   "outputs": [],
   "source": [
    "db.raw_sql('''\n",
    "        select crsp_fundno, count(mret), max(mret), avg(mret)\n",
    "        from crsp_q_mutualfunds.monthly_tna_ret_nav\n",
    "        group by crsp_fundno\n",
    "        order by count(mret) desc\n",
    "     limit 10\n",
    "''')"
   ]
  }
 ],
 "metadata": {
  "kernelspec": {
   "display_name": "Python 3 (ipykernel)",
   "language": "python",
   "name": "python3"
  },
  "language_info": {
   "codemirror_mode": {
    "name": "ipython",
    "version": 3
   },
   "file_extension": ".py",
   "mimetype": "text/x-python",
   "name": "python",
   "nbconvert_exporter": "python",
   "pygments_lexer": "ipython3",
   "version": "3.9.12"
  }
 },
 "nbformat": 4,
 "nbformat_minor": 1
}
