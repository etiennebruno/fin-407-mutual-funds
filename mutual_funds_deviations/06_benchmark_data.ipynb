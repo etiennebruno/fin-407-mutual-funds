{
 "cells": [
  {
   "cell_type": "code",
   "execution_count": 1,
   "metadata": {
    "pycharm": {
     "name": "#%%\n"
    }
   },
   "outputs": [
    {
     "data": {
      "text/html": [
       "<style>.container { width:80% !important; }</style>"
      ],
      "text/plain": [
       "<IPython.core.display.HTML object>"
      ]
     },
     "metadata": {},
     "output_type": "display_data"
    }
   ],
   "source": [
    "from IPython.display import display, HTML\n",
    "display(HTML(\"<style>.container { width:80% !important; }</style>\"))"
   ]
  },
  {
   "cell_type": "markdown",
   "metadata": {
    "pycharm": {
     "name": "#%% md\n"
    }
   },
   "source": [
    "## GET AVERAGE RETURNS OVER TIME OF THE AVAILABLE FUNDS"
   ]
  },
  {
   "cell_type": "code",
   "execution_count": 2,
   "metadata": {
    "pycharm": {
     "name": "#%%\n"
    }
   },
   "outputs": [
    {
     "name": "stdout",
     "output_type": "stream",
     "text": [
      "Loading library list...\n",
      "Done\n"
     ]
    }
   ],
   "source": [
    "# Connection to WRDS\n",
    "import wrds\n",
    "db = wrds.Connection(wrds_username='etiennebruno')\n",
    "#db = wrds.Connection(wrds_username='zadaf')"
   ]
  },
  {
   "cell_type": "code",
   "execution_count": 3,
   "metadata": {
    "pycharm": {
     "name": "#%%\n"
    }
   },
   "outputs": [],
   "source": [
    "# Import CIKs from the dataframe of all cleaned filings\n",
    "from utils import *\n",
    "ciks = ', '.join(list(df_from_filings().cik.unique()))"
   ]
  },
  {
   "cell_type": "code",
   "execution_count": 4,
   "metadata": {
    "pycharm": {
     "name": "#%%\n"
    }
   },
   "outputs": [],
   "source": [
    "# Get all cik number available (intersection between our dataframe and the data on CRSP)\n",
    "ciks_data = db.raw_sql(f'''\n",
    "        select distinct comp_cik\n",
    "        from crsp_q_mutualfunds.crsp_cik_map\n",
    "        where comp_cik in ({ciks})\n",
    "''')\n",
    "cik_available = list(ciks_data.comp_cik)\n",
    "\n",
    "cik_available_crsp_pkl = ['000'+str(int(c)) for c in cik_available]\n",
    "save_pkl(cik_available_crsp_pkl, 'data/cik_available_crsp.pkl')\n",
    "\n",
    "cik_available = ', '.join([str(i) for i in cik_available])"
   ]
  },
  {
   "cell_type": "code",
   "execution_count": 5,
   "metadata": {
    "pycharm": {
     "name": "#%%\n"
    }
   },
   "outputs": [
    {
     "data": {
      "text/html": [
       "<div>\n",
       "<style scoped>\n",
       "    .dataframe tbody tr th:only-of-type {\n",
       "        vertical-align: middle;\n",
       "    }\n",
       "\n",
       "    .dataframe tbody tr th {\n",
       "        vertical-align: top;\n",
       "    }\n",
       "\n",
       "    .dataframe thead th {\n",
       "        text-align: right;\n",
       "    }\n",
       "</style>\n",
       "<table border=\"1\" class=\"dataframe\">\n",
       "  <thead>\n",
       "    <tr style=\"text-align: right;\">\n",
       "      <th></th>\n",
       "      <th>crsp_fundno</th>\n",
       "      <th>comp_cik</th>\n",
       "      <th>series_cik</th>\n",
       "      <th>contract_cik</th>\n",
       "    </tr>\n",
       "  </thead>\n",
       "  <tbody>\n",
       "    <tr>\n",
       "      <th>0</th>\n",
       "      <td>5.0</td>\n",
       "      <td>351895.0</td>\n",
       "      <td>S000004050</td>\n",
       "      <td>C000011336</td>\n",
       "    </tr>\n",
       "    <tr>\n",
       "      <th>1</th>\n",
       "      <td>357.0</td>\n",
       "      <td>883496.0</td>\n",
       "      <td>None</td>\n",
       "      <td>None</td>\n",
       "    </tr>\n",
       "    <tr>\n",
       "      <th>2</th>\n",
       "      <td>743.0</td>\n",
       "      <td>848012.0</td>\n",
       "      <td>S000006084</td>\n",
       "      <td>C000016714</td>\n",
       "    </tr>\n",
       "    <tr>\n",
       "      <th>3</th>\n",
       "      <td>3537.0</td>\n",
       "      <td>1311981.0</td>\n",
       "      <td>S000004764</td>\n",
       "      <td>C000012957</td>\n",
       "    </tr>\n",
       "    <tr>\n",
       "      <th>4</th>\n",
       "      <td>4456.0</td>\n",
       "      <td>1105877.0</td>\n",
       "      <td>S000005190</td>\n",
       "      <td>C000014168</td>\n",
       "    </tr>\n",
       "    <tr>\n",
       "      <th>...</th>\n",
       "      <td>...</td>\n",
       "      <td>...</td>\n",
       "      <td>...</td>\n",
       "      <td>...</td>\n",
       "    </tr>\n",
       "    <tr>\n",
       "      <th>181</th>\n",
       "      <td>98751.0</td>\n",
       "      <td>1848758.0</td>\n",
       "      <td>S000071907</td>\n",
       "      <td>None</td>\n",
       "    </tr>\n",
       "    <tr>\n",
       "      <th>182</th>\n",
       "      <td>98870.0</td>\n",
       "      <td>1760588.0</td>\n",
       "      <td>S000066608</td>\n",
       "      <td>None</td>\n",
       "    </tr>\n",
       "    <tr>\n",
       "      <th>183</th>\n",
       "      <td>99118.0</td>\n",
       "      <td>1508033.0</td>\n",
       "      <td>S000072822</td>\n",
       "      <td>C000229393</td>\n",
       "    </tr>\n",
       "    <tr>\n",
       "      <th>184</th>\n",
       "      <td>99243.0</td>\n",
       "      <td>1849998.0</td>\n",
       "      <td>S000074173</td>\n",
       "      <td>None</td>\n",
       "    </tr>\n",
       "    <tr>\n",
       "      <th>185</th>\n",
       "      <td>99523.0</td>\n",
       "      <td>1873280.0</td>\n",
       "      <td>S000073959</td>\n",
       "      <td>C000231235</td>\n",
       "    </tr>\n",
       "  </tbody>\n",
       "</table>\n",
       "<p>186 rows × 4 columns</p>\n",
       "</div>"
      ],
      "text/plain": [
       "     crsp_fundno   comp_cik  series_cik contract_cik\n",
       "0            5.0   351895.0  S000004050   C000011336\n",
       "1          357.0   883496.0        None         None\n",
       "2          743.0   848012.0  S000006084   C000016714\n",
       "3         3537.0  1311981.0  S000004764   C000012957\n",
       "4         4456.0  1105877.0  S000005190   C000014168\n",
       "..           ...        ...         ...          ...\n",
       "181      98751.0  1848758.0  S000071907         None\n",
       "182      98870.0  1760588.0  S000066608         None\n",
       "183      99118.0  1508033.0  S000072822   C000229393\n",
       "184      99243.0  1849998.0  S000074173         None\n",
       "185      99523.0  1873280.0  S000073959   C000231235\n",
       "\n",
       "[186 rows x 4 columns]"
      ]
     },
     "execution_count": 5,
     "metadata": {},
     "output_type": "execute_result"
    }
   ],
   "source": [
    "# With the mapping table of CRSP, get all companies' fund number\n",
    "crsp_fundno_available = db.raw_sql(f'''\n",
    "        select *\n",
    "        from crsp_q_mutualfunds.crsp_cik_map\n",
    "        where comp_cik in ({cik_available})\n",
    "''')\n",
    "crsp_fundno_available"
   ]
  },
  {
   "cell_type": "code",
   "execution_count": 6,
   "metadata": {
    "pycharm": {
     "name": "#%%\n"
    }
   },
   "outputs": [],
   "source": [
    "# Convert the list of fund numbers to a list of string type for future SQL queries\n",
    "list_float_fundnos = list(crsp_fundno_available.crsp_fundno.unique())\n",
    "crsp_fundno_available_list_str = ', '.join([str(i) for i in list_float_fundnos])"
   ]
  },
  {
   "cell_type": "code",
   "execution_count": 7,
   "metadata": {
    "pycharm": {
     "name": "#%%\n"
    }
   },
   "outputs": [],
   "source": [
    "# Get all available returns for each fund\n",
    "monthly_returns_all_funds = db.raw_sql(f'''\n",
    "        select *\n",
    "        from crsp_q_mutualfunds.monthly_returns\n",
    "        where crsp_fundno in ({crsp_fundno_available_list_str})\n",
    "        order by caldt desc\n",
    "''')\n",
    "# monthly_returns_all_funds.to_pickle('monthly_returns_all_funds.pkl')"
   ]
  },
  {
   "cell_type": "code",
   "execution_count": 8,
   "metadata": {
    "pycharm": {
     "name": "#%%\n"
    }
   },
   "outputs": [
    {
     "data": {
      "text/html": [
       "<div>\n",
       "<style scoped>\n",
       "    .dataframe tbody tr th:only-of-type {\n",
       "        vertical-align: middle;\n",
       "    }\n",
       "\n",
       "    .dataframe tbody tr th {\n",
       "        vertical-align: top;\n",
       "    }\n",
       "\n",
       "    .dataframe thead th {\n",
       "        text-align: right;\n",
       "    }\n",
       "</style>\n",
       "<table border=\"1\" class=\"dataframe\">\n",
       "  <thead>\n",
       "    <tr style=\"text-align: right;\">\n",
       "      <th></th>\n",
       "      <th>crsp_fundno</th>\n",
       "      <th>comp_cik</th>\n",
       "      <th>series_cik</th>\n",
       "      <th>contract_cik</th>\n",
       "    </tr>\n",
       "  </thead>\n",
       "  <tbody>\n",
       "  </tbody>\n",
       "</table>\n",
       "</div>"
      ],
      "text/plain": [
       "Empty DataFrame\n",
       "Columns: [crsp_fundno, comp_cik, series_cik, contract_cik]\n",
       "Index: []"
      ]
     },
     "execution_count": 8,
     "metadata": {},
     "output_type": "execute_result"
    }
   ],
   "source": [
    "crsp_fundno_available[crsp_fundno_available.comp_cik == 1593547]"
   ]
  },
  {
   "cell_type": "code",
   "execution_count": 9,
   "metadata": {
    "pycharm": {
     "name": "#%%\n"
    }
   },
   "outputs": [],
   "source": [
    "funds_returns = pd.merge(monthly_returns_all_funds, crsp_fundno_available)[['caldt', 'comp_cik','mret']]\n",
    "funds_returns['comp_cik'] = funds_returns.comp_cik.apply(lambda cik: '000'+str(int(cik)))\n",
    "funds_returns.to_pickle('data/funds_returns.pkl')"
   ]
  },
  {
   "cell_type": "code",
   "execution_count": 10,
   "metadata": {},
   "outputs": [],
   "source": [
    "monthly_returns_all_funds = monthly_returns_all_funds[monthly_returns_all_funds['mret']<4]"
   ]
  },
  {
   "cell_type": "code",
   "execution_count": 11,
   "metadata": {},
   "outputs": [
    {
     "data": {
      "text/html": [
       "<div>\n",
       "<style scoped>\n",
       "    .dataframe tbody tr th:only-of-type {\n",
       "        vertical-align: middle;\n",
       "    }\n",
       "\n",
       "    .dataframe tbody tr th {\n",
       "        vertical-align: top;\n",
       "    }\n",
       "\n",
       "    .dataframe thead th {\n",
       "        text-align: right;\n",
       "    }\n",
       "</style>\n",
       "<table border=\"1\" class=\"dataframe\">\n",
       "  <thead>\n",
       "    <tr style=\"text-align: right;\">\n",
       "      <th></th>\n",
       "      <th>crsp_fundno</th>\n",
       "      <th>caldt</th>\n",
       "      <th>mret</th>\n",
       "    </tr>\n",
       "  </thead>\n",
       "  <tbody>\n",
       "    <tr>\n",
       "      <th>15542</th>\n",
       "      <td>93941.0</td>\n",
       "      <td>2012-05-31</td>\n",
       "      <td>1.660611</td>\n",
       "    </tr>\n",
       "    <tr>\n",
       "      <th>16700</th>\n",
       "      <td>93941.0</td>\n",
       "      <td>2011-08-31</td>\n",
       "      <td>1.048365</td>\n",
       "    </tr>\n",
       "    <tr>\n",
       "      <th>18444</th>\n",
       "      <td>93941.0</td>\n",
       "      <td>2010-05-28</td>\n",
       "      <td>1.611057</td>\n",
       "    </tr>\n",
       "    <tr>\n",
       "      <th>20707</th>\n",
       "      <td>93941.0</td>\n",
       "      <td>2008-10-31</td>\n",
       "      <td>1.883233</td>\n",
       "    </tr>\n",
       "    <tr>\n",
       "      <th>20863</th>\n",
       "      <td>93941.0</td>\n",
       "      <td>2008-09-30</td>\n",
       "      <td>1.975570</td>\n",
       "    </tr>\n",
       "    <tr>\n",
       "      <th>25021</th>\n",
       "      <td>93941.0</td>\n",
       "      <td>2005-06-30</td>\n",
       "      <td>3.666667</td>\n",
       "    </tr>\n",
       "    <tr>\n",
       "      <th>30166</th>\n",
       "      <td>93941.0</td>\n",
       "      <td>2000-12-29</td>\n",
       "      <td>1.916404</td>\n",
       "    </tr>\n",
       "  </tbody>\n",
       "</table>\n",
       "</div>"
      ],
      "text/plain": [
       "       crsp_fundno       caldt      mret\n",
       "15542      93941.0  2012-05-31  1.660611\n",
       "16700      93941.0  2011-08-31  1.048365\n",
       "18444      93941.0  2010-05-28  1.611057\n",
       "20707      93941.0  2008-10-31  1.883233\n",
       "20863      93941.0  2008-09-30  1.975570\n",
       "25021      93941.0  2005-06-30  3.666667\n",
       "30166      93941.0  2000-12-29  1.916404"
      ]
     },
     "execution_count": 11,
     "metadata": {},
     "output_type": "execute_result"
    }
   ],
   "source": [
    "monthly_returns_all_funds[monthly_returns_all_funds['mret']>=1]"
   ]
  },
  {
   "cell_type": "markdown",
   "metadata": {
    "pycharm": {
     "name": "#%% md\n"
    }
   },
   "source": [
    "## GET AVERAGE RETURNS OVER TIME OF THE AVAILABLE FUNDS - GROUPED BY MONTH"
   ]
  },
  {
   "cell_type": "code",
   "execution_count": 12,
   "metadata": {
    "pycharm": {
     "name": "#%%\n"
    }
   },
   "outputs": [],
   "source": [
    "# Create a new dataframe with some statistic and the average return\n",
    "monthly_returns_all_funds_aggregated = monthly_returns_all_funds[['caldt', 'mret']].groupby('caldt').agg(\n",
    "    count=('mret', 'count'),\n",
    "    mret=('mret', 'mean'),\n",
    "    mret_max=('mret', 'max'),\n",
    "    mret_min=('mret', 'min'),\n",
    "    mret_sdt=('mret', 'std'),\n",
    ")"
   ]
  },
  {
   "cell_type": "code",
   "execution_count": 13,
   "metadata": {
    "pycharm": {
     "name": "#%%\n"
    }
   },
   "outputs": [],
   "source": [
    "monthly_returns_all_funds_aggregated.reset_index(inplace=True)\n",
    "monthly_returns_all_funds_aggregated['caldt'] = pd.to_datetime(monthly_returns_all_funds_aggregated['caldt'], format= '%Y-%m-%d')"
   ]
  },
  {
   "cell_type": "code",
   "execution_count": 14,
   "metadata": {
    "pycharm": {
     "name": "#%%\n"
    }
   },
   "outputs": [
    {
     "data": {
      "text/html": [
       "<div>\n",
       "<style scoped>\n",
       "    .dataframe tbody tr th:only-of-type {\n",
       "        vertical-align: middle;\n",
       "    }\n",
       "\n",
       "    .dataframe tbody tr th {\n",
       "        vertical-align: top;\n",
       "    }\n",
       "\n",
       "    .dataframe thead th {\n",
       "        text-align: right;\n",
       "    }\n",
       "</style>\n",
       "<table border=\"1\" class=\"dataframe\">\n",
       "  <thead>\n",
       "    <tr style=\"text-align: right;\">\n",
       "      <th></th>\n",
       "      <th>caldt</th>\n",
       "      <th>count</th>\n",
       "      <th>mret</th>\n",
       "      <th>mret_max</th>\n",
       "      <th>mret_min</th>\n",
       "      <th>mret_sdt</th>\n",
       "    </tr>\n",
       "  </thead>\n",
       "  <tbody>\n",
       "    <tr>\n",
       "      <th>456</th>\n",
       "      <td>2000-01-31</td>\n",
       "      <td>84</td>\n",
       "      <td>-0.010239</td>\n",
       "      <td>0.128821</td>\n",
       "      <td>-0.080595</td>\n",
       "      <td>0.031930</td>\n",
       "    </tr>\n",
       "    <tr>\n",
       "      <th>457</th>\n",
       "      <td>2000-02-29</td>\n",
       "      <td>84</td>\n",
       "      <td>0.027115</td>\n",
       "      <td>0.402302</td>\n",
       "      <td>-0.104092</td>\n",
       "      <td>0.085716</td>\n",
       "    </tr>\n",
       "    <tr>\n",
       "      <th>458</th>\n",
       "      <td>2000-03-31</td>\n",
       "      <td>85</td>\n",
       "      <td>0.031616</td>\n",
       "      <td>0.163592</td>\n",
       "      <td>-0.316574</td>\n",
       "      <td>0.060557</td>\n",
       "    </tr>\n",
       "    <tr>\n",
       "      <th>459</th>\n",
       "      <td>2000-04-28</td>\n",
       "      <td>85</td>\n",
       "      <td>-0.012203</td>\n",
       "      <td>0.103542</td>\n",
       "      <td>-0.116459</td>\n",
       "      <td>0.034927</td>\n",
       "    </tr>\n",
       "    <tr>\n",
       "      <th>460</th>\n",
       "      <td>2000-05-31</td>\n",
       "      <td>85</td>\n",
       "      <td>-0.011158</td>\n",
       "      <td>0.063172</td>\n",
       "      <td>-0.141604</td>\n",
       "      <td>0.036864</td>\n",
       "    </tr>\n",
       "    <tr>\n",
       "      <th>...</th>\n",
       "      <td>...</td>\n",
       "      <td>...</td>\n",
       "      <td>...</td>\n",
       "      <td>...</td>\n",
       "      <td>...</td>\n",
       "      <td>...</td>\n",
       "    </tr>\n",
       "    <tr>\n",
       "      <th>718</th>\n",
       "      <td>2021-11-30</td>\n",
       "      <td>115</td>\n",
       "      <td>-0.018170</td>\n",
       "      <td>0.037265</td>\n",
       "      <td>-0.096000</td>\n",
       "      <td>0.021549</td>\n",
       "    </tr>\n",
       "    <tr>\n",
       "      <th>719</th>\n",
       "      <td>2021-12-31</td>\n",
       "      <td>115</td>\n",
       "      <td>0.026225</td>\n",
       "      <td>0.091617</td>\n",
       "      <td>-0.323490</td>\n",
       "      <td>0.043390</td>\n",
       "    </tr>\n",
       "    <tr>\n",
       "      <th>720</th>\n",
       "      <td>2022-01-31</td>\n",
       "      <td>116</td>\n",
       "      <td>-0.038769</td>\n",
       "      <td>0.084479</td>\n",
       "      <td>-0.246550</td>\n",
       "      <td>0.044909</td>\n",
       "    </tr>\n",
       "    <tr>\n",
       "      <th>721</th>\n",
       "      <td>2022-02-28</td>\n",
       "      <td>117</td>\n",
       "      <td>-0.015448</td>\n",
       "      <td>0.116863</td>\n",
       "      <td>-0.078675</td>\n",
       "      <td>0.026021</td>\n",
       "    </tr>\n",
       "    <tr>\n",
       "      <th>722</th>\n",
       "      <td>2022-03-31</td>\n",
       "      <td>117</td>\n",
       "      <td>0.013323</td>\n",
       "      <td>0.094084</td>\n",
       "      <td>-0.037143</td>\n",
       "      <td>0.026505</td>\n",
       "    </tr>\n",
       "  </tbody>\n",
       "</table>\n",
       "<p>267 rows × 6 columns</p>\n",
       "</div>"
      ],
      "text/plain": [
       "         caldt  count      mret  mret_max  mret_min  mret_sdt\n",
       "456 2000-01-31     84 -0.010239  0.128821 -0.080595  0.031930\n",
       "457 2000-02-29     84  0.027115  0.402302 -0.104092  0.085716\n",
       "458 2000-03-31     85  0.031616  0.163592 -0.316574  0.060557\n",
       "459 2000-04-28     85 -0.012203  0.103542 -0.116459  0.034927\n",
       "460 2000-05-31     85 -0.011158  0.063172 -0.141604  0.036864\n",
       "..         ...    ...       ...       ...       ...       ...\n",
       "718 2021-11-30    115 -0.018170  0.037265 -0.096000  0.021549\n",
       "719 2021-12-31    115  0.026225  0.091617 -0.323490  0.043390\n",
       "720 2022-01-31    116 -0.038769  0.084479 -0.246550  0.044909\n",
       "721 2022-02-28    117 -0.015448  0.116863 -0.078675  0.026021\n",
       "722 2022-03-31    117  0.013323  0.094084 -0.037143  0.026505\n",
       "\n",
       "[267 rows x 6 columns]"
      ]
     },
     "execution_count": 14,
     "metadata": {},
     "output_type": "execute_result"
    }
   ],
   "source": [
    "monthly_returns_all_funds_aggregated = monthly_returns_all_funds_aggregated.loc[monthly_returns_all_funds_aggregated['caldt'] >= '2000-01-01']\n",
    "monthly_returns_all_funds_aggregated"
   ]
  },
  {
   "cell_type": "markdown",
   "metadata": {
    "pycharm": {
     "name": "#%% md\n"
    }
   },
   "source": [
    "## GET RETURN OF THE MARKET"
   ]
  },
  {
   "cell_type": "code",
   "execution_count": 15,
   "metadata": {
    "pycharm": {
     "name": "#%%\n"
    }
   },
   "outputs": [],
   "source": [
    "index_return_query = db.raw_sql(\"\"\"\n",
    "    select  \n",
    "    date,\n",
    "    vwretd \n",
    "    from crsp.msi\n",
    "    where \n",
    "    date>='2000-01-01'\"\"\", date_cols=['date']\n",
    "    )"
   ]
  },
  {
   "cell_type": "code",
   "execution_count": 16,
   "metadata": {
    "pycharm": {
     "name": "#%%\n"
    }
   },
   "outputs": [],
   "source": [
    "left = monthly_returns_all_funds_aggregated[['mret', 'caldt', 'count']]\n",
    "right = index_return_query[['date', 'vwretd']]\n",
    "cumulative_data = pd.merge(left=left, right=right, how='inner', left_on='caldt', right_on='date')\n",
    "\n",
    "# Compute cumulative returns for both avg of funds and market\n",
    "cumulative_data['cum_ret_funds'] = (1 + cumulative_data['mret']).cumprod() - 1\n",
    "cumulative_data['cum_ret_mkt'] = (1 + cumulative_data['vwretd']).cumprod() - 1"
   ]
  },
  {
   "cell_type": "code",
   "execution_count": 17,
   "metadata": {
    "pycharm": {
     "name": "#%%\n"
    }
   },
   "outputs": [],
   "source": [
    "index_return_query[['date', 'vwretd']].to_pickle('market_returns.pkl')"
   ]
  },
  {
   "cell_type": "code",
   "execution_count": 18,
   "metadata": {},
   "outputs": [
    {
     "data": {
      "text/html": [
       "<div>\n",
       "<style scoped>\n",
       "    .dataframe tbody tr th:only-of-type {\n",
       "        vertical-align: middle;\n",
       "    }\n",
       "\n",
       "    .dataframe tbody tr th {\n",
       "        vertical-align: top;\n",
       "    }\n",
       "\n",
       "    .dataframe thead th {\n",
       "        text-align: right;\n",
       "    }\n",
       "</style>\n",
       "<table border=\"1\" class=\"dataframe\">\n",
       "  <thead>\n",
       "    <tr style=\"text-align: right;\">\n",
       "      <th></th>\n",
       "      <th>date</th>\n",
       "      <th>vwretd</th>\n",
       "    </tr>\n",
       "  </thead>\n",
       "  <tbody>\n",
       "    <tr>\n",
       "      <th>0</th>\n",
       "      <td>2000-01-31</td>\n",
       "      <td>-0.039622</td>\n",
       "    </tr>\n",
       "    <tr>\n",
       "      <th>1</th>\n",
       "      <td>2000-02-29</td>\n",
       "      <td>0.031760</td>\n",
       "    </tr>\n",
       "    <tr>\n",
       "      <th>2</th>\n",
       "      <td>2000-03-31</td>\n",
       "      <td>0.053499</td>\n",
       "    </tr>\n",
       "    <tr>\n",
       "      <th>3</th>\n",
       "      <td>2000-04-28</td>\n",
       "      <td>-0.059519</td>\n",
       "    </tr>\n",
       "    <tr>\n",
       "      <th>4</th>\n",
       "      <td>2000-05-31</td>\n",
       "      <td>-0.038863</td>\n",
       "    </tr>\n",
       "    <tr>\n",
       "      <th>...</th>\n",
       "      <td>...</td>\n",
       "      <td>...</td>\n",
       "    </tr>\n",
       "    <tr>\n",
       "      <th>262</th>\n",
       "      <td>2021-11-30</td>\n",
       "      <td>-0.018347</td>\n",
       "    </tr>\n",
       "    <tr>\n",
       "      <th>263</th>\n",
       "      <td>2021-12-31</td>\n",
       "      <td>0.033345</td>\n",
       "    </tr>\n",
       "    <tr>\n",
       "      <th>264</th>\n",
       "      <td>2022-01-31</td>\n",
       "      <td>-0.059754</td>\n",
       "    </tr>\n",
       "    <tr>\n",
       "      <th>265</th>\n",
       "      <td>2022-02-28</td>\n",
       "      <td>-0.022027</td>\n",
       "    </tr>\n",
       "    <tr>\n",
       "      <th>266</th>\n",
       "      <td>2022-03-31</td>\n",
       "      <td>0.030696</td>\n",
       "    </tr>\n",
       "  </tbody>\n",
       "</table>\n",
       "<p>267 rows × 2 columns</p>\n",
       "</div>"
      ],
      "text/plain": [
       "          date    vwretd\n",
       "0   2000-01-31 -0.039622\n",
       "1   2000-02-29  0.031760\n",
       "2   2000-03-31  0.053499\n",
       "3   2000-04-28 -0.059519\n",
       "4   2000-05-31 -0.038863\n",
       "..         ...       ...\n",
       "262 2021-11-30 -0.018347\n",
       "263 2021-12-31  0.033345\n",
       "264 2022-01-31 -0.059754\n",
       "265 2022-02-28 -0.022027\n",
       "266 2022-03-31  0.030696\n",
       "\n",
       "[267 rows x 2 columns]"
      ]
     },
     "execution_count": 18,
     "metadata": {},
     "output_type": "execute_result"
    }
   ],
   "source": [
    "index_return_query"
   ]
  },
  {
   "cell_type": "markdown",
   "metadata": {
    "pycharm": {
     "name": "#%% md\n"
    }
   },
   "source": [
    "### Get Risk Free Rate"
   ]
  },
  {
   "cell_type": "code",
   "execution_count": null,
   "metadata": {
    "pycharm": {
     "name": "#%%\n"
    }
   },
   "outputs": [],
   "source": [
    "# risk_free_loaded =db.raw_sql(\"\"\"select caldt, tdyld--caldt, tmyld as tmyld\n",
    "#                                 --from crsp.tfz_mth_rf2\n",
    "#                                 from crsp.tfz_dly_rf2\n",
    "#                                 where kytreasnox = 2000062\n",
    "#                                     and caldt>='2000-01-01'\n",
    "#                                     --and mcaldt<='2021-12-31'\n",
    "#                                 \"\"\", date_cols=['mcaldt'])"
   ]
  },
  {
   "cell_type": "code",
   "execution_count": null,
   "metadata": {
    "pycharm": {
     "name": "#%%\n"
    }
   },
   "outputs": [],
   "source": [
    "risk_free =db.raw_sql(\"\"\"select mcaldt, tmytm\n",
    "                                from crsp.tfz_mth_rf\n",
    "                                where kytreasnox = 2000001\n",
    "                                    and mcaldt>='2000-01-01'\n",
    "                                    --and mcaldt<='2021-12-31'\n",
    "                                \"\"\", date_cols=['mcaldt'])"
   ]
  },
  {
   "cell_type": "code",
   "execution_count": null,
   "metadata": {
    "pycharm": {
     "name": "#%%\n"
    }
   },
   "outputs": [],
   "source": [
    "risk_free.mcaldt.apply(lambda date: date.year)\n",
    "risk_free['year'] = risk_free.mcaldt.dt.year\n",
    "risk_free = risk_free.groupby('year').last().reset_index()\n",
    "risk_free.to_pickle('risk_free.pkl')"
   ]
  },
  {
   "cell_type": "code",
   "execution_count": null,
   "metadata": {
    "pycharm": {
     "name": "#%%\n"
    }
   },
   "outputs": [],
   "source": [
    "# # compare to https://ycharts.com/indicators/1_year_treasury_rate#:~:text=1%20Year%20Treasury%20Rate%20is%20at%202.58%25%2C%20compared%20to%202.35,day%20and%200.05%25%20last%20year.\n",
    "# risk_free_loaded['caldt'] = risk_free_loaded.caldt.apply(lambda date: date.year)\n",
    "# risk_free_loaded['tdyld'] += 1\n",
    "# risk_free_loaded = risk_free_loaded.groupby('caldt').prod().reset_index()\n",
    "# risk_free_loaded['tdyld'] -= 1\n",
    "# risk_free_loaded['tdyld'] *=100\n",
    "# risk_free_loaded"
   ]
  },
  {
   "cell_type": "code",
   "execution_count": null,
   "metadata": {
    "pycharm": {
     "name": "#%%\n"
    }
   },
   "outputs": [],
   "source": [
    "# risk_free_loaded['tdyld']*100"
   ]
  },
  {
   "cell_type": "code",
   "execution_count": null,
   "metadata": {
    "pycharm": {
     "name": "#%%\n"
    }
   },
   "outputs": [],
   "source": [
    "# import numpy as np\n",
    "# risk_free_loaded['risk_free'] = (((risk_free_loaded['tmyld'] + 1) ** 365) - 1)\n",
    "# risk_free_loaded['risk_free1'] = np.log(1+risk_free_loaded['tmyld']*365)\n",
    "# risk_free_loaded"
   ]
  },
  {
   "cell_type": "markdown",
   "metadata": {
    "pycharm": {
     "name": "#%% md\n"
    }
   },
   "source": [
    "## GRAPH OF AVERAGE RETURNS OVER TIME WITH BENCHMARKS"
   ]
  },
  {
   "cell_type": "code",
   "execution_count": null,
   "metadata": {
    "pycharm": {
     "name": "#%%\n"
    }
   },
   "outputs": [],
   "source": [
    "# Rename df for better modularity\n",
    "data = monthly_returns_all_funds_aggregated.copy()"
   ]
  },
  {
   "cell_type": "code",
   "execution_count": null,
   "metadata": {
    "pycharm": {
     "name": "#%%\n"
    }
   },
   "outputs": [],
   "source": [
    "import matplotlib.pyplot as plt\n",
    "import numpy as np\n",
    "import seaborn as sns\n",
    "\n",
    "%matplotlib inline\n",
    "%config InlineBackend.figure_format='retina'\n",
    "\n",
    "sns.set(style=\"darkgrid\")\n",
    "sns.set_style(\"whitegrid\", {'axes.grid' : False})\n",
    "sns.set(rc={\"figure.figsize\":(18, 8)})\n",
    "#plt.rcParams['xtick.labelsize'] = 'medium'\n",
    "#plt.rcParams['ytick.labelsize'] = 'medium'"
   ]
  },
  {
   "cell_type": "code",
   "execution_count": null,
   "metadata": {
    "pycharm": {
     "name": "#%%\n"
    }
   },
   "outputs": [],
   "source": [
    "plt.tick_params(left=True,\n",
    "                bottom=True,\n",
    "                labelleft=True,\n",
    "                labelbottom=True)\n",
    "\n",
    "# Plot the average return of all mutual funds\n",
    "X=data['caldt'].dt.strftime('%Y-%m-%d')\n",
    "Y=data['mret']\n",
    "sns.lineplot(x=X, y=Y, linestyle='--')\n",
    "\n",
    "# Add variance\n",
    "lower_bound = data['mret'] + data['mret_sdt']\n",
    "upper_bound = data['mret'] - data['mret_sdt']\n",
    "\n",
    "plt.fill_between(X, lower_bound, upper_bound, alpha=.3)\n",
    "\n",
    "# Average Value Weighted Index - market\n",
    "X=index_return_query['date'].dt.strftime('%Y-%m-%d')\n",
    "Y=index_return_query['vwretd']\n",
    "sns.lineplot(x=X, y=Y, linestyle='--')\n",
    "\n",
    "plt.xlabel('Time')\n",
    "plt.ylabel('Average Monthly Return')\n",
    "plt.xticks(X[::12], rotation=45)\n",
    "\n",
    "plt.legend(['average monthly return of mutual funds', 'variance of the funds\\' returns', 'value weighted index of the market'])\n",
    "#plt.legend(['value weighted index of the market'])\n",
    "#plt.savefig('data/graphs/annual_return_market_plots.png', dpi=200)\n",
    "#plt.savefig('data/graphs/annual_return_plots.png', dpi=200)\n",
    "#plt.savefig('data/graphs/annual_return_plots_with_market.png', dpi=200)\n",
    "plt.show()"
   ]
  },
  {
   "cell_type": "code",
   "execution_count": null,
   "metadata": {},
   "outputs": [],
   "source": [
    "import statsmodels.api as sm\n",
    "\n",
    "endog = data['mret']\n",
    "exog = sm.add_constant(data['vwretd'], prepend=False)\n",
    "# Fit and summarize OLS model\n",
    "mod = sm.OLS(endog, exog)\n",
    "res = mod.fit()\n",
    "print(res.summary())\n",
    "#print(res.summary().as_latex())"
   ]
  },
  {
   "cell_type": "code",
   "execution_count": null,
   "metadata": {},
   "outputs": [],
   "source": [
    "from scipy import stats\n",
    "\n",
    "# Correlation betwwen the cumulatives returns of the market and of the funds\n",
    "Y=data['mret']\n",
    "Z=data['vwretd']\n",
    "print(stats.pearsonr(Y, Z))"
   ]
  },
  {
   "cell_type": "markdown",
   "metadata": {
    "pycharm": {
     "name": "#%% md\n"
    }
   },
   "source": [
    "### GET AND PLOT CUMULATIVE RETURNS"
   ]
  },
  {
   "cell_type": "code",
   "execution_count": null,
   "metadata": {
    "pycharm": {
     "name": "#%%\n"
    }
   },
   "outputs": [],
   "source": [
    "# Rename df for better modularity\n",
    "data = cumulative_data.copy()"
   ]
  },
  {
   "cell_type": "code",
   "execution_count": null,
   "metadata": {
    "pycharm": {
     "name": "#%%\n"
    }
   },
   "outputs": [],
   "source": [
    "fig = plt.figure(figsize=(15, 15))\n",
    "ax1 = plt.subplot(2, 1, 1)\n",
    "\n",
    "# Plot the cumulative return of all mutual funds\n",
    "X=data['caldt'].dt.strftime('%Y-%m-%d')\n",
    "Y=data['cum_ret_funds']*100\n",
    "sns.lineplot(x=X, y=Y, linestyle='--', ax=ax1)\n",
    "\n",
    "# Cumulative Value Weighted index return - market\n",
    "X=data['date'].dt.strftime('%Y-%m-%d')\n",
    "Y=data['cum_ret_mkt']*100\n",
    "sns.lineplot(x=X, y=Y, linestyle='--', ax=ax1)\n",
    "\n",
    "# Setting for both x-axes\n",
    "plt.xlabel('')\n",
    "plt.ylabel('Cumulative return (in %)')\n",
    "plt.title('Cumulative Return of the average return of the mutual funds and the value weighted market index')\n",
    "plt.xticks(X[::12], rotation=45)\n",
    "\n",
    "# Add number of funds per date\n",
    "ax2 = plt.subplot(2, 1, 2)\n",
    "X=data['caldt'].dt.strftime('%Y-%m-%d')\n",
    "ax2.grid(False)\n",
    "sns.lineplot(x=X, y='count', data=data, ax=ax2)\n",
    "lower_bound = [0]*len(data['caldt'])\n",
    "upper_bound = data['count']\n",
    "plt.fill_between(X, lower_bound, upper_bound, alpha=.3)\n",
    "ax2.set_ylim([0,175])\n",
    "\n",
    "# Setting for both x-axes\n",
    "plt.xlabel('Time')\n",
    "plt.ylabel('Number of funds')\n",
    "plt.title('Number of mutual funds taken into consideration at each time t')\n",
    "plt.xticks(X[::12], rotation=45)\n",
    "\n",
    "\n",
    "#plt.legend(['Average Performance of mutual funds', 'Value Weighted Market Index'])\n",
    "#plt.savefig('data/graphs/comparisons_with_vw_market_two_figures.png', dpi=200)\n",
    "# set the spacing between subplots\n",
    "#plt.subplots_adjust(hspace=0.4)\n",
    "fig.tight_layout()\n",
    "plt.show()"
   ]
  },
  {
   "cell_type": "code",
   "execution_count": null,
   "metadata": {},
   "outputs": [],
   "source": [
    "fig = plt.figure()\n",
    "ax1 = fig.add_subplot(111)\n",
    "\n",
    "# Plot the cumulative return of all mutual funds\n",
    "X=data['caldt'].dt.strftime('%Y-%m-%d')\n",
    "Y=data['cum_ret_funds']*100\n",
    "sns.lineplot(x=X, y=Y, linestyle='--', ax=ax1)\n",
    "\n",
    "# Cumulative Value Weighted index return - market\n",
    "X=data['date'].dt.strftime('%Y-%m-%d')\n",
    "Y=data['cum_ret_mkt']*100\n",
    "sns.lineplot(x=X, y=Y, linestyle='--', ax=ax1)\n",
    "\n",
    "# Setting for both x-axes\n",
    "plt.xlabel('Time')\n",
    "plt.ylabel('Cumulative return (in %)')\n",
    "plt.title('Cumulative Return of the average return of the mutual funds and the value weighted market index')\n",
    "plt.legend(['Average Performance of mutual funds', 'Value Weighted Market Index'])\n",
    "plt.xticks(X[::12], rotation=45)\n",
    "\n",
    "# Add number of funds per date\n",
    "ax2 = ax1.twinx()\n",
    "X=data['caldt'].dt.strftime('%Y-%m-%d')\n",
    "ax2.grid(False)\n",
    "sns.lineplot(x=X, y='count', data=data, ax=ax2, linestyle=':')\n",
    "#lower_bound = [0]*len(data['caldt'])\n",
    "#upper_bound = data['count']\n",
    "#plt.fill_between(X, lower_bound, upper_bound, alpha=.3)\n",
    "ax2.set_ylim([0,200])\n",
    "\n",
    "\n",
    "plt.legend(['Number of funds taken into consideration at each time t'])\n",
    "#plt.savefig('data/graphs/comparisons_with_vw_market_one_figure.png', dpi=200)\n",
    "plt.show()"
   ]
  },
  {
   "cell_type": "code",
   "execution_count": null,
   "metadata": {},
   "outputs": [],
   "source": [
    "# Plot the cumulative return of all mutual funds\n",
    "X=data['caldt'].dt.strftime('%Y-%m-%d')\n",
    "Y=data['cum_ret_funds']*100\n",
    "sns.lineplot(x=X, y=Y, linestyle='--')\n",
    "\n",
    "# Cumulative Value Weighted index return - market\n",
    "X=data['date'].dt.strftime('%Y-%m-%d')\n",
    "Y=data['cum_ret_mkt']*100\n",
    "sns.lineplot(x=X, y=Y, linestyle='--')\n",
    "\n",
    "# Setting for both x-axes\n",
    "plt.xlabel('')\n",
    "plt.ylabel('Cumulative return (in %)')\n",
    "plt.title('Cumulative Return of the average return of the mutual funds and the value weighted market index')\n",
    "plt.xticks(X[::12], rotation=45)\n",
    "\n",
    "# Setting for both x-axes\n",
    "plt.xlabel('Time')\n",
    "plt.ylabel('Number of funds')\n",
    "plt.title('Cumulative returns of mutual funds and of the market')\n",
    "plt.xticks(X[::12], rotation=45)\n",
    "\n",
    "\n",
    "plt.legend(['Cumulative return of the average monthly returns of mutuals funds', 'Cumulative return of the value weighted market index'])\n",
    "#plt.savefig('data/graphs/cumulative_returns.png', dpi=200)\n",
    "fig.tight_layout()\n",
    "plt.show()"
   ]
  },
  {
   "cell_type": "code",
   "execution_count": null,
   "metadata": {},
   "outputs": [],
   "source": [
    "import statsmodels.api as sm\n",
    "\n",
    "endog = data['cum_ret_funds']\n",
    "exog = sm.add_constant(data['cum_ret_mkt'], prepend=False)\n",
    "# Fit and summarize OLS model\n",
    "mod = sm.OLS(endog, exog)\n",
    "res = mod.fit()\n",
    "print(res.summary())\n",
    "#print(res.summary().as_latex())"
   ]
  },
  {
   "cell_type": "code",
   "execution_count": null,
   "metadata": {},
   "outputs": [],
   "source": [
    "# Correlation betwwen the cumulatives returns of the market and of the funds\n",
    "Y=data['cum_ret_funds']\n",
    "Z=data['cum_ret_mkt']\n",
    "print(stats.pearsonr(Y, Z))"
   ]
  },
  {
   "cell_type": "code",
   "execution_count": null,
   "metadata": {},
   "outputs": [],
   "source": [
    "# Add number of funds per date\n",
    "X=data['caldt'].dt.strftime('%Y-%m-%d')\n",
    "ax2.grid(False)\n",
    "sns.lineplot(x=X, y='count', data=data, ax=ax2)\n",
    "lower_bound = [0]*len(data['caldt'])\n",
    "upper_bound = data['count']\n",
    "plt.fill_between(X, lower_bound, upper_bound, alpha=.3)\n",
    "ax2.set_ylim([0,175])\n",
    "\n",
    "# Setting for both x-axes\n",
    "plt.xlabel('Time')\n",
    "plt.ylabel('Number of funds')\n",
    "plt.title('Number of mutual funds taken into consideration at each time t')\n",
    "plt.xticks(X[::12], rotation=45)\n",
    "\n",
    "#plt.savefig('data/graphs/number_of_funds_evoluation.png', dpi=200)\n",
    "fig.tight_layout()\n",
    "plt.show()"
   ]
  },
  {
   "cell_type": "markdown",
   "metadata": {
    "pycharm": {
     "name": "#%% md\n"
    }
   },
   "source": [
    "## FIND VARIABLE NAME IN SCHEMA"
   ]
  },
  {
   "cell_type": "code",
   "execution_count": null,
   "metadata": {
    "pycharm": {
     "name": "#%%\n"
    }
   },
   "outputs": [],
   "source": [
    "%%time\n",
    "for table in db.list_tables(library='crsp'):\n",
    "    try:\n",
    "        l= list(filter(lambda x: ('crsp_fundno' in x) and ('cik' in x), db.get_table(library='crsp_q_mutualfunds', table=table, obs=1).keys()))\n",
    "    except:\n",
    "        pass\n",
    "    if len(l) > 0:\n",
    "        print(table, \"---\", l)"
   ]
  },
  {
   "cell_type": "code",
   "execution_count": null,
   "metadata": {
    "pycharm": {
     "name": "#%%\n"
    }
   },
   "outputs": [],
   "source": [
    "%%time\n",
    "for table in db.list_tables(library='crsp'):\n",
    "    try:\n",
    "        tab_keys = db.get_table(library='crsp_q_mutualfunds', table=table, obs=1).keys()\n",
    "        l = list(filter(lambda x: 'cik' in x, tab_keys))\n",
    "    except:\n",
    "        pass\n",
    "    if len(l) > 0:\n",
    "        print(table, \"---\", l, tab_keys)"
   ]
  },
  {
   "cell_type": "code",
   "execution_count": null,
   "metadata": {
    "pycharm": {
     "name": "#%%\n"
    }
   },
   "outputs": [],
   "source": [
    "%%time\n",
    "for table in db.list_tables(library='crsp'):\n",
    "    try:\n",
    "        l= list(filter(lambda x: 'cik' in x, db.get_table(library='crsp', table=table, obs=1).keys()))\n",
    "    except:\n",
    "        pass\n",
    "    if len(l) > 0:\n",
    "        print(table, \"---\", l)"
   ]
  },
  {
   "cell_type": "markdown",
   "metadata": {
    "pycharm": {
     "name": "#%% md\n"
    }
   },
   "source": [
    "## TRY SOME QUERIES"
   ]
  },
  {
   "cell_type": "code",
   "execution_count": null,
   "metadata": {
    "pycharm": {
     "name": "#%%\n"
    }
   },
   "outputs": [],
   "source": [
    "# Connection to WRDS\n",
    "import wrds\n",
    "db = wrds.Connection(wrds_username='etiennebruno')"
   ]
  },
  {
   "cell_type": "code",
   "execution_count": null,
   "metadata": {
    "pycharm": {
     "name": "#%%\n"
    }
   },
   "outputs": [],
   "source": [
    "db.list_libraries().sort()\n",
    "db.list_libraries()"
   ]
  },
  {
   "cell_type": "code",
   "execution_count": null,
   "metadata": {
    "pycharm": {
     "name": "#%%\n"
    }
   },
   "outputs": [],
   "source": [
    "# List the tables of a given library\n",
    "db.list_tables(library='crsp')"
   ]
  },
  {
   "cell_type": "code",
   "execution_count": null,
   "metadata": {
    "pycharm": {
     "name": "#%%\n"
    }
   },
   "outputs": [],
   "source": [
    "# Get data\n",
    "daily = db.get_table(library='crsp', table='fund_summary2', obs=10)"
   ]
  },
  {
   "cell_type": "code",
   "execution_count": null,
   "metadata": {
    "pycharm": {
     "name": "#%%\n"
    }
   },
   "outputs": [],
   "source": [
    "# Get funds name over a given period\n",
    "df_funds_map = db.raw_sql('''\n",
    "        select distinct on (fund_name) fund_name, ticker, ncusip, cusip8\n",
    "        from crsp.portnomap\n",
    "        where begdt <= '2020-01-01' --and enddt >= '2022-01-01'\n",
    "        order by fund_name asc\n",
    "''')"
   ]
  },
  {
   "cell_type": "code",
   "execution_count": null,
   "metadata": {
    "pycharm": {
     "name": "#%%\n"
    }
   },
   "outputs": [],
   "source": [
    "# Get funds name over containing some strings of the S&P 500\n",
    "db.raw_sql('''\n",
    "        select distinct fund_name\n",
    "        from crsp.portnomap\n",
    "        where lower(fund_name::text) LIKE '%%s&p%%'\n",
    "            and lower(fund_name::text) LIKE '%%500%%'\n",
    "            --and lower(fund_name::text) LIKE '%%bond%%'\n",
    "            --and lower(fund_name::text) LIKE '%%national%%'\n",
    "            --and caldt >= '2010-01-31'\n",
    "     limit 100\n",
    "''')"
   ]
  },
  {
   "cell_type": "code",
   "execution_count": null,
   "metadata": {
    "pycharm": {
     "name": "#%%\n"
    }
   },
   "outputs": [],
   "source": [
    "db.raw_sql('''\n",
    "        select *\n",
    "        from crsp.fund_summary2\n",
    "        where fund_name LIKE '%%FundVantage Trust: Gotham Enhanced S&P 500 Index Fund; Institutional Class Shares%%'\n",
    "        --and caldt >= '2010-01-31'\n",
    "''')"
   ]
  },
  {
   "cell_type": "code",
   "execution_count": null,
   "metadata": {
    "pycharm": {
     "name": "#%%\n"
    }
   },
   "outputs": [],
   "source": [
    "db.raw_sql('''\n",
    "        select *\n",
    "        from crsp.portnomap\n",
    "        where (fund_name::text) LIKE '%%FundVantage Trust: Gotham Enhanced S&P 500 Index Fund; Institutional Class Shares%%'\n",
    "        --and caldt >= '2010-01-31'\n",
    "''')"
   ]
  },
  {
   "cell_type": "code",
   "execution_count": null,
   "metadata": {
    "pycharm": {
     "name": "#%%\n"
    }
   },
   "outputs": [],
   "source": [
    "db.raw_sql('''\n",
    "        select crsp_fundno, count(mret), max(mret), avg(mret)\n",
    "        from crsp_q_mutualfunds.monthly_tna_ret_nav\n",
    "        group by crsp_fundno\n",
    "        order by count(mret) desc\n",
    "     limit 10\n",
    "''')"
   ]
  }
 ],
 "metadata": {
  "kernelspec": {
   "display_name": "Python 3 (ipykernel)",
   "language": "python",
   "name": "python3"
  },
  "language_info": {
   "codemirror_mode": {
    "name": "ipython",
    "version": 3
   },
   "file_extension": ".py",
   "mimetype": "text/x-python",
   "name": "python",
   "nbconvert_exporter": "python",
   "pygments_lexer": "ipython3",
   "version": "3.9.12"
  }
 },
 "nbformat": 4,
 "nbformat_minor": 1
}
