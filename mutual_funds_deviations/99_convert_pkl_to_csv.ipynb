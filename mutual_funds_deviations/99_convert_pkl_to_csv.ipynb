{
 "cells": [
  {
   "cell_type": "markdown",
   "id": "51e4808d",
   "metadata": {},
   "source": [
    "## UTILITIES"
   ]
  },
  {
   "cell_type": "markdown",
   "id": "b0f76adb",
   "metadata": {},
   "source": [
    "### Convert Pickle to CSV"
   ]
  },
  {
   "cell_type": "code",
   "execution_count": null,
   "id": "0245331a",
   "metadata": {},
   "outputs": [],
   "source": [
    "import os\n",
    "import pandas as pd\n",
    "import pickle\n",
    "from utils import save_pkl, load_pkl"
   ]
  },
  {
   "cell_type": "code",
   "execution_count": null,
   "id": "c1ef8a0b",
   "metadata": {},
   "outputs": [],
   "source": [
    "folder = 'sentiment_analysis'\n",
    "path = os.path.join('data', folder)\n",
    "path_csv = os.path.join('data', folder, 'data_csv')\n",
    "DS_STORE = '.DS_Store'"
   ]
  },
  {
   "cell_type": "code",
   "execution_count": null,
   "id": "d296b4a0",
   "metadata": {},
   "outputs": [],
   "source": [
    "files = os.listdir(path)\n",
    "if DS_STORE in files:\n",
    "    files.remove(DS_STORE)\n",
    "\n",
    "# Only keep .pkl files\n",
    "pickle_files_names = [f for f in files if f.endswith('.pkl')]\n",
    "\n",
    "# Load all .pkl files and save it under a new folder in .csv\n",
    "for f in pickle_files_names:\n",
    "\n",
    "    path_pkl = os.path.join(path, f)\n",
    "    data = load_pkl(path_pkl)\n",
    "\n",
    "    if not os.path.exists(path_csv):\n",
    "        os.makedirs(path_csv)\n",
    "    \n",
    "    path_to_save = os.path.join(path_csv, f+'.csv')\n",
    "    data.to_csv(path_to_save)"
   ]
  }
 ],
 "metadata": {
  "kernelspec": {
   "display_name": "Python 3 (ipykernel)",
   "language": "python",
   "name": "python3"
  },
  "language_info": {
   "codemirror_mode": {
    "name": "ipython",
    "version": 3
   },
   "file_extension": ".py",
   "mimetype": "text/x-python",
   "name": "python",
   "nbconvert_exporter": "python",
   "pygments_lexer": "ipython3",
   "version": "3.9.12"
  }
 },
 "nbformat": 4,
 "nbformat_minor": 5
}
