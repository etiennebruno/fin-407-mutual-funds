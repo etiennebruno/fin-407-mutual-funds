{
 "cells": [
  {
   "cell_type": "code",
   "execution_count": 11,
   "metadata": {
    "collapsed": true
   },
   "outputs": [
    {
     "name": "stdout",
     "output_type": "stream",
     "text": [
      "Loading library list...\n",
      "Done\n"
     ]
    }
   ],
   "source": [
    "import pandas as pd\n",
    "import seaborn as sns\n",
    "import matplotlib.pyplot as plt\n",
    "import wrds\n",
    "db = wrds.Connection(wrds_username='etiennebruno')"
   ]
  },
  {
   "cell_type": "code",
   "execution_count": 12,
   "outputs": [
    {
     "data": {
      "text/plain": "['acti',\n 'asia',\n 'asib',\n 'asic',\n 'asio',\n 'asix',\n 'bmdebt',\n 'bmheader',\n 'bmpaymts',\n 'bmquotes',\n 'bmyield',\n 'bndprt06',\n 'bndprt12',\n 'bxcalind',\n 'bxdlyind',\n 'bxmthind',\n 'bxquotes',\n 'bxyield',\n 'cap',\n 'ccm_lookup',\n 'ccm_qvards',\n 'ccmxpf_linktable',\n 'ccmxpf_lnkhist',\n 'ccmxpf_lnkrng',\n 'ccmxpf_lnkused',\n 'comphead',\n 'comphist',\n 'compmaster',\n 'contact_info',\n 'crsp_cik_map',\n 'crsp_daily_data',\n 'crsp_header',\n 'crsp_monthly_data',\n 'crsp_names',\n 'crsp_portno_map',\n 'crsp_ziman_daily_index',\n 'crsp_ziman_monthly_index',\n 'cs20yr',\n 'cs5yr',\n 'cs90d',\n 'cst_hist',\n 'daily_nav',\n 'daily_nav_ret',\n 'daily_returns',\n 'dividends',\n 'dport1',\n 'dport2',\n 'dport3',\n 'dport4',\n 'dport5',\n 'dport6',\n 'dport7',\n 'dport8',\n 'dport9',\n 'dsbc',\n 'dsbo',\n 'dse',\n 'dse62',\n 'dse62delist',\n 'dse62dist',\n 'dse62exchdates',\n 'dse62names',\n 'dse62nasdin',\n 'dse62shares',\n 'dseall',\n 'dseall62',\n 'dsedelist',\n 'dsedist',\n 'dseexchdates',\n 'dsenames',\n 'dsenasdin',\n 'dseshares',\n 'dsf',\n 'dsf62',\n 'dsfhdr',\n 'dsfhdr62',\n 'dsi',\n 'dsi62',\n 'dsia',\n 'dsib',\n 'dsic',\n 'dsio',\n 'dsir',\n 'dsix',\n 'dsiy',\n 'dsp500',\n 'dsp500list',\n 'dsp500p',\n 'dssc',\n 'dsso',\n 'eod_cap',\n 'eod_sector',\n 'eod_vg',\n 'erdport1',\n 'erdport2',\n 'erdport3',\n 'erdport4',\n 'erdport5',\n 'erdport6',\n 'erdport7',\n 'erdport8',\n 'erdport9',\n 'ermport1',\n 'ermport2',\n 'ermport3',\n 'ermport4',\n 'ermport5',\n 'fbpri',\n 'fbyld',\n 'front_load',\n 'front_load_det',\n 'front_load_grp',\n 'fund_fees',\n 'fund_flows',\n 'fund_hdr',\n 'fund_hdr_hist',\n 'fund_names',\n 'fund_style',\n 'fund_summary',\n 'fund_summary2',\n 'fwdask06',\n 'fwdask12',\n 'fwdave06',\n 'fwdave12',\n 'fwdbid06',\n 'fwdbid12',\n 'hldask06',\n 'hldask12',\n 'hldave06',\n 'hldave12',\n 'hldbid06',\n 'hldbid12',\n 'holdings',\n 'holdings_co_info',\n 'index_descriptions',\n 'index_type_map',\n 'mbi',\n 'mbmdat',\n 'mbmhdr',\n 'mbx',\n 'mbxid',\n 'mcti',\n 'mfdbname',\n 'mhista',\n 'mhistn',\n 'mhistq',\n 'monthly_nav',\n 'monthly_returns',\n 'monthly_tna',\n 'monthly_tna_ret_nav',\n 'mport1',\n 'mport2',\n 'mport3',\n 'mport4',\n 'mport5',\n 'mse',\n 'mse62',\n 'mse62delist',\n 'mse62dist',\n 'mse62exchdates',\n 'mse62names',\n 'mse62nasdin',\n 'mse62shares',\n 'mseall',\n 'mseall62',\n 'msedelist',\n 'msedist',\n 'mseexchdates',\n 'msenames',\n 'msenasdin',\n 'mseshares',\n 'msf',\n 'msf62',\n 'msfhdr',\n 'msfhdr62',\n 'msi',\n 'msi62',\n 'msia',\n 'msib',\n 'msic',\n 'msio',\n 'msir',\n 'msix',\n 'msiy',\n 'msp500',\n 'msp500list',\n 'msp500p',\n 'portnomap',\n 'priask06',\n 'priask12',\n 'priave06',\n 'priave12',\n 'pribid06',\n 'pribid12',\n 'price_type',\n 'property_type',\n 'qcti',\n 'qsia',\n 'qsib',\n 'qsic',\n 'qsio',\n 'qsix',\n 'rear_load',\n 'rear_load_det',\n 'rear_load_grp',\n 'rebala',\n 'rebaln',\n 'rebalq',\n 'reit_type',\n 'riskfree',\n 's6z_agg_ann',\n 's6z_agg_mth',\n 's6z_agg_qtr',\n 's6z_del',\n 's6z_dind',\n 's6z_dis',\n 's6z_dp_dly',\n 's6z_ds_dly',\n 's6z_hdr',\n 's6z_indhdr',\n 's6z_mdel',\n 's6z_mind',\n 's6z_mth',\n 's6z_nam',\n 's6z_ndi',\n 's6z_shr',\n 'saz_agg_ann',\n 'saz_agg_mth',\n 'saz_agg_qtr',\n 'saz_del',\n 'saz_dind',\n 'saz_dis',\n 'saz_dp_dly',\n 'saz_ds_dly',\n 'saz_hdr',\n 'saz_indhdr',\n 'saz_mdel',\n 'saz_mind',\n 'saz_mth',\n 'saz_nam',\n 'saz_ndi',\n 'saz_shr',\n 'sechead',\n 'sechist',\n 'sector',\n 'sfz_dind',\n 'sfz_indhdr',\n 'sfz_mbr',\n 'sfz_mind',\n 'sfz_portd',\n 'sfz_portm',\n 'sfz_rb',\n 'stock_qvards',\n 'stocknames',\n 'stocknames62',\n 'sub_property_type',\n 'tfz_dly',\n 'tfz_dly_cd',\n 'tfz_dly_cpi',\n 'tfz_dly_ft',\n 'tfz_dly_rf2',\n 'tfz_dly_ts2',\n 'tfz_idx',\n 'tfz_iss',\n 'tfz_mast',\n 'tfz_mth',\n 'tfz_mth_bp',\n 'tfz_mth_cd',\n 'tfz_mth_cpi',\n 'tfz_mth_fb',\n 'tfz_mth_ft',\n 'tfz_mth_rf',\n 'tfz_mth_rf2',\n 'tfz_mth_ts',\n 'tfz_mth_ts2',\n 'tfz_pay',\n 'vg',\n 'yldask06',\n 'yldask12',\n 'yldave06',\n 'yldave12',\n 'yldbid06',\n 'yldbid12',\n 'ziman_reit_info',\n 'zr_hdrnames']"
     },
     "execution_count": 12,
     "metadata": {},
     "output_type": "execute_result"
    }
   ],
   "source": [
    "# List the libraries to which we have access\n",
    "db.list_libraries().sort()\n",
    "db.list_libraries()\n",
    "\n",
    "# List the tables of a given library\n",
    "db.list_tables(library='crsp')"
   ],
   "metadata": {
    "collapsed": false,
    "pycharm": {
     "name": "#%%\n"
    }
   }
  },
  {
   "cell_type": "code",
   "execution_count": 5,
   "outputs": [],
   "source": [
    "# Get daily data\n",
    "daily = db.get_table(library='crsp', table='dsp500', columns=['caldt', 'spindx'])"
   ],
   "metadata": {
    "collapsed": false,
    "pycharm": {
     "name": "#%%\n"
    }
   }
  },
  {
   "cell_type": "code",
   "execution_count": 13,
   "outputs": [],
   "source": [
    "daily = db.get_table(library='crsp_q_mutualfunds', table='fund_names')"
   ],
   "metadata": {
    "collapsed": false,
    "pycharm": {
     "name": "#%%\n"
    }
   }
  },
  {
   "cell_type": "code",
   "execution_count": 15,
   "outputs": [
    {
     "data": {
      "text/plain": "15832800"
     },
     "execution_count": 15,
     "metadata": {},
     "output_type": "execute_result"
    }
   ],
   "source": [
    "daily.size"
   ],
   "metadata": {
    "collapsed": false,
    "pycharm": {
     "name": "#%%\n"
    }
   }
  },
  {
   "cell_type": "code",
   "execution_count": 16,
   "outputs": [
    {
     "data": {
      "text/plain": "         cusip8  crsp_fundno       chgdt    chgenddt  crsp_portno  \\\n0          None          1.0  1997-02-01  1997-12-30          NaN   \n1          None          1.0  1997-12-31  1999-12-30          NaN   \n2      00036M30          1.0  1999-12-31  2000-07-31          NaN   \n3          None          2.0  1997-02-03  1997-12-30          NaN   \n4          None          2.0  1997-12-31  1999-12-30          NaN   \n...         ...          ...         ...         ...          ...   \n86395  19766Q76      99376.0  2021-12-21  2021-12-22          NaN   \n86396  19766Q76      99376.0  2021-12-23  2021-12-31          NaN   \n86397  19766Q79      99377.0  2021-12-15  2021-12-20          NaN   \n86398  19766Q79      99377.0  2021-12-21  2021-12-22          NaN   \n86399  19766Q79      99377.0  2021-12-23  2021-12-31          NaN   \n\n       crsp_cl_grp                                          fund_name ticker  \\\n0              NaN                     AARP Income Tr:Bond for Income  AABIX   \n1              NaN                     AARP Income Tr:Bond for Income  AABIX   \n2        2100941.0       AARP Income Trust: AARP Bond Fund for Income  AABIX   \n3              NaN           AARP Mngd Inv Port Tr:Diversified Growth  AADGX   \n4              NaN           AARP Mngd Inv Port Tr:Diversified Growth  AADGX   \n...            ...                                                ...    ...   \n86395    2016794.0  Columbia Funds Series Trust II: Columbia Pyrfo...  PISOX   \n86396    2016794.0  Columbia Funds Series Trust II: Columbia Pyrfo...  PISOX   \n86397    2016794.0  Columbia Funds Series Trust II: Columbia Pyrfo...  PISJX   \n86398    2016794.0  Columbia Funds Series Trust II: Columbia Pyrfo...  PISJX   \n86399    2016794.0  Columbia Funds Series Trust II: Columbia Pyrfo...  PISJX   \n\n          ncusip                          mgmt_name  ... m_fund  \\\n0           None            SCUDDER STEVENS & CLARK  ...      N   \n1           None            SCUDDER STEVENS & CLARK  ...      N   \n2      00036M307  AMERICAN ASSOC OF RETIRED PERSONS  ...      N   \n3           None            SCUDDER STEVENS & CLARK  ...      N   \n4           None            SCUDDER STEVENS & CLARK  ...      N   \n...          ...                                ...  ...    ...   \n86395  19766Q767     Columbia Funds Series Trust II  ...      N   \n86396  19766Q767     Columbia Funds Series Trust II  ...      N   \n86397  19766Q791     Columbia Funds Series Trust II  ...      N   \n86398  19766Q791     Columbia Funds Series Trust II  ...      N   \n86399  19766Q791     Columbia Funds Series Trust II  ...      N   \n\n      index_fund_flag vau_fund et_flag delist_cd header first_offer_dt  \\\n0                None        N    None      None    0.0     1997-02-01   \n1                None        N    None      None    0.0     1997-02-01   \n2                None        N    None         M    1.0     1997-02-01   \n3                None        N    None      None    0.0     1997-02-03   \n4                None        N    None      None    0.0     1997-02-03   \n...               ...      ...     ...       ...    ...            ...   \n86395            None        N    None      None    0.0     2021-12-15   \n86396            None        N    None      None    1.0     2021-12-15   \n86397            None        N    None      None    0.0     2021-12-15   \n86398            None        N    None      None    0.0     2021-12-15   \n86399            None        N    None      None    1.0     2021-12-15   \n\n           end_dt dead_flag merge_fundno  \n0      2000-07-31         Y       8441.0  \n1      2000-07-31         Y       8441.0  \n2      2000-07-31         Y       8441.0  \n3      2000-08-31         Y       8425.0  \n4      2000-08-31         Y       8425.0  \n...           ...       ...          ...  \n86395  2021-12-31         N          NaN  \n86396  2021-12-31         N          NaN  \n86397  2021-12-31         N          NaN  \n86398  2021-12-31         N          NaN  \n86399  2021-12-31         N          NaN  \n\n[586400 rows x 27 columns]",
      "text/html": "<div>\n<style scoped>\n    .dataframe tbody tr th:only-of-type {\n        vertical-align: middle;\n    }\n\n    .dataframe tbody tr th {\n        vertical-align: top;\n    }\n\n    .dataframe thead th {\n        text-align: right;\n    }\n</style>\n<table border=\"1\" class=\"dataframe\">\n  <thead>\n    <tr style=\"text-align: right;\">\n      <th></th>\n      <th>cusip8</th>\n      <th>crsp_fundno</th>\n      <th>chgdt</th>\n      <th>chgenddt</th>\n      <th>crsp_portno</th>\n      <th>crsp_cl_grp</th>\n      <th>fund_name</th>\n      <th>ticker</th>\n      <th>ncusip</th>\n      <th>mgmt_name</th>\n      <th>...</th>\n      <th>m_fund</th>\n      <th>index_fund_flag</th>\n      <th>vau_fund</th>\n      <th>et_flag</th>\n      <th>delist_cd</th>\n      <th>header</th>\n      <th>first_offer_dt</th>\n      <th>end_dt</th>\n      <th>dead_flag</th>\n      <th>merge_fundno</th>\n    </tr>\n  </thead>\n  <tbody>\n    <tr>\n      <th>0</th>\n      <td>None</td>\n      <td>1.0</td>\n      <td>1997-02-01</td>\n      <td>1997-12-30</td>\n      <td>NaN</td>\n      <td>NaN</td>\n      <td>AARP Income Tr:Bond for Income</td>\n      <td>AABIX</td>\n      <td>None</td>\n      <td>SCUDDER STEVENS &amp; CLARK</td>\n      <td>...</td>\n      <td>N</td>\n      <td>None</td>\n      <td>N</td>\n      <td>None</td>\n      <td>None</td>\n      <td>0.0</td>\n      <td>1997-02-01</td>\n      <td>2000-07-31</td>\n      <td>Y</td>\n      <td>8441.0</td>\n    </tr>\n    <tr>\n      <th>1</th>\n      <td>None</td>\n      <td>1.0</td>\n      <td>1997-12-31</td>\n      <td>1999-12-30</td>\n      <td>NaN</td>\n      <td>NaN</td>\n      <td>AARP Income Tr:Bond for Income</td>\n      <td>AABIX</td>\n      <td>None</td>\n      <td>SCUDDER STEVENS &amp; CLARK</td>\n      <td>...</td>\n      <td>N</td>\n      <td>None</td>\n      <td>N</td>\n      <td>None</td>\n      <td>None</td>\n      <td>0.0</td>\n      <td>1997-02-01</td>\n      <td>2000-07-31</td>\n      <td>Y</td>\n      <td>8441.0</td>\n    </tr>\n    <tr>\n      <th>2</th>\n      <td>00036M30</td>\n      <td>1.0</td>\n      <td>1999-12-31</td>\n      <td>2000-07-31</td>\n      <td>NaN</td>\n      <td>2100941.0</td>\n      <td>AARP Income Trust: AARP Bond Fund for Income</td>\n      <td>AABIX</td>\n      <td>00036M307</td>\n      <td>AMERICAN ASSOC OF RETIRED PERSONS</td>\n      <td>...</td>\n      <td>N</td>\n      <td>None</td>\n      <td>N</td>\n      <td>None</td>\n      <td>M</td>\n      <td>1.0</td>\n      <td>1997-02-01</td>\n      <td>2000-07-31</td>\n      <td>Y</td>\n      <td>8441.0</td>\n    </tr>\n    <tr>\n      <th>3</th>\n      <td>None</td>\n      <td>2.0</td>\n      <td>1997-02-03</td>\n      <td>1997-12-30</td>\n      <td>NaN</td>\n      <td>NaN</td>\n      <td>AARP Mngd Inv Port Tr:Diversified Growth</td>\n      <td>AADGX</td>\n      <td>None</td>\n      <td>SCUDDER STEVENS &amp; CLARK</td>\n      <td>...</td>\n      <td>N</td>\n      <td>None</td>\n      <td>N</td>\n      <td>None</td>\n      <td>None</td>\n      <td>0.0</td>\n      <td>1997-02-03</td>\n      <td>2000-08-31</td>\n      <td>Y</td>\n      <td>8425.0</td>\n    </tr>\n    <tr>\n      <th>4</th>\n      <td>None</td>\n      <td>2.0</td>\n      <td>1997-12-31</td>\n      <td>1999-12-30</td>\n      <td>NaN</td>\n      <td>NaN</td>\n      <td>AARP Mngd Inv Port Tr:Diversified Growth</td>\n      <td>AADGX</td>\n      <td>None</td>\n      <td>SCUDDER STEVENS &amp; CLARK</td>\n      <td>...</td>\n      <td>N</td>\n      <td>None</td>\n      <td>N</td>\n      <td>None</td>\n      <td>None</td>\n      <td>0.0</td>\n      <td>1997-02-03</td>\n      <td>2000-08-31</td>\n      <td>Y</td>\n      <td>8425.0</td>\n    </tr>\n    <tr>\n      <th>...</th>\n      <td>...</td>\n      <td>...</td>\n      <td>...</td>\n      <td>...</td>\n      <td>...</td>\n      <td>...</td>\n      <td>...</td>\n      <td>...</td>\n      <td>...</td>\n      <td>...</td>\n      <td>...</td>\n      <td>...</td>\n      <td>...</td>\n      <td>...</td>\n      <td>...</td>\n      <td>...</td>\n      <td>...</td>\n      <td>...</td>\n      <td>...</td>\n      <td>...</td>\n      <td>...</td>\n    </tr>\n    <tr>\n      <th>86395</th>\n      <td>19766Q76</td>\n      <td>99376.0</td>\n      <td>2021-12-21</td>\n      <td>2021-12-22</td>\n      <td>NaN</td>\n      <td>2016794.0</td>\n      <td>Columbia Funds Series Trust II: Columbia Pyrfo...</td>\n      <td>PISOX</td>\n      <td>19766Q767</td>\n      <td>Columbia Funds Series Trust II</td>\n      <td>...</td>\n      <td>N</td>\n      <td>None</td>\n      <td>N</td>\n      <td>None</td>\n      <td>None</td>\n      <td>0.0</td>\n      <td>2021-12-15</td>\n      <td>2021-12-31</td>\n      <td>N</td>\n      <td>NaN</td>\n    </tr>\n    <tr>\n      <th>86396</th>\n      <td>19766Q76</td>\n      <td>99376.0</td>\n      <td>2021-12-23</td>\n      <td>2021-12-31</td>\n      <td>NaN</td>\n      <td>2016794.0</td>\n      <td>Columbia Funds Series Trust II: Columbia Pyrfo...</td>\n      <td>PISOX</td>\n      <td>19766Q767</td>\n      <td>Columbia Funds Series Trust II</td>\n      <td>...</td>\n      <td>N</td>\n      <td>None</td>\n      <td>N</td>\n      <td>None</td>\n      <td>None</td>\n      <td>1.0</td>\n      <td>2021-12-15</td>\n      <td>2021-12-31</td>\n      <td>N</td>\n      <td>NaN</td>\n    </tr>\n    <tr>\n      <th>86397</th>\n      <td>19766Q79</td>\n      <td>99377.0</td>\n      <td>2021-12-15</td>\n      <td>2021-12-20</td>\n      <td>NaN</td>\n      <td>2016794.0</td>\n      <td>Columbia Funds Series Trust II: Columbia Pyrfo...</td>\n      <td>PISJX</td>\n      <td>19766Q791</td>\n      <td>Columbia Funds Series Trust II</td>\n      <td>...</td>\n      <td>N</td>\n      <td>None</td>\n      <td>N</td>\n      <td>None</td>\n      <td>None</td>\n      <td>0.0</td>\n      <td>2021-12-15</td>\n      <td>2021-12-31</td>\n      <td>N</td>\n      <td>NaN</td>\n    </tr>\n    <tr>\n      <th>86398</th>\n      <td>19766Q79</td>\n      <td>99377.0</td>\n      <td>2021-12-21</td>\n      <td>2021-12-22</td>\n      <td>NaN</td>\n      <td>2016794.0</td>\n      <td>Columbia Funds Series Trust II: Columbia Pyrfo...</td>\n      <td>PISJX</td>\n      <td>19766Q791</td>\n      <td>Columbia Funds Series Trust II</td>\n      <td>...</td>\n      <td>N</td>\n      <td>None</td>\n      <td>N</td>\n      <td>None</td>\n      <td>None</td>\n      <td>0.0</td>\n      <td>2021-12-15</td>\n      <td>2021-12-31</td>\n      <td>N</td>\n      <td>NaN</td>\n    </tr>\n    <tr>\n      <th>86399</th>\n      <td>19766Q79</td>\n      <td>99377.0</td>\n      <td>2021-12-23</td>\n      <td>2021-12-31</td>\n      <td>NaN</td>\n      <td>2016794.0</td>\n      <td>Columbia Funds Series Trust II: Columbia Pyrfo...</td>\n      <td>PISJX</td>\n      <td>19766Q791</td>\n      <td>Columbia Funds Series Trust II</td>\n      <td>...</td>\n      <td>N</td>\n      <td>None</td>\n      <td>N</td>\n      <td>None</td>\n      <td>None</td>\n      <td>1.0</td>\n      <td>2021-12-15</td>\n      <td>2021-12-31</td>\n      <td>N</td>\n      <td>NaN</td>\n    </tr>\n  </tbody>\n</table>\n<p>586400 rows × 27 columns</p>\n</div>"
     },
     "execution_count": 16,
     "metadata": {},
     "output_type": "execute_result"
    }
   ],
   "source": [
    "daily"
   ],
   "metadata": {
    "collapsed": false,
    "pycharm": {
     "name": "#%%\n"
    }
   }
  },
  {
   "cell_type": "code",
   "execution_count": null,
   "outputs": [],
   "source": [
    "# Larger figure\n",
    "sns.set(rc={'figure.figsize':(15,8)})\n",
    "\n",
    "# Plot daily\n",
    "daily.plot(x='caldt', y='spindx', title='DAILY')\n",
    "plt.show()\n",
    "\n",
    "# Plot daily\n",
    "monthly.plot(x='caldt', y='spindx', title='MONTHLY')\n",
    "plt.show()"
   ],
   "metadata": {
    "collapsed": false,
    "pycharm": {
     "name": "#%%\n"
    }
   }
  },
  {
   "cell_type": "code",
   "execution_count": null,
   "outputs": [],
   "source": [
    "ge = db.raw_sql(\"select date, ret from crsp.dsf where permco in (20792) and date>='1999-12-01' and date<='2021-12-31'\")"
   ],
   "metadata": {
    "collapsed": false,
    "pycharm": {
     "name": "#%%\n"
    }
   }
  }
 ],
 "metadata": {
  "kernelspec": {
   "display_name": "Python 3",
   "language": "python",
   "name": "python3"
  },
  "language_info": {
   "codemirror_mode": {
    "name": "ipython",
    "version": 2
   },
   "file_extension": ".py",
   "mimetype": "text/x-python",
   "name": "python",
   "nbconvert_exporter": "python",
   "pygments_lexer": "ipython2",
   "version": "2.7.6"
  }
 },
 "nbformat": 4,
 "nbformat_minor": 0
}