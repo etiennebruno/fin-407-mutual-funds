{
 "cells": [
  {
   "cell_type": "code",
   "execution_count": null,
   "metadata": {},
   "outputs": [],
   "source": [
    "from IPython.display import display, HTML\n",
    "display(HTML(\"<style>.container { width:80% !important; }</style>\"))"
   ]
  },
  {
   "cell_type": "code",
   "execution_count": null,
   "metadata": {
    "pycharm": {
     "name": "#%%\n"
    }
   },
   "outputs": [],
   "source": [
    "import pandas as pd\n",
    "import os\n",
    "from nltk.sentiment.vader import SentimentIntensityAnalyzer\n",
    "from textblob import TextBlob\n",
    "\n",
    "from utils import *"
   ]
  },
  {
   "cell_type": "code",
   "execution_count": null,
   "metadata": {
    "pycharm": {
     "name": "#%%\n"
    }
   },
   "outputs": [],
   "source": [
    "# Load dataframe with all texts\n",
    "df = df_from_filings()\n",
    "df.shape\n",
    "\n",
    "# Eliminate very short texts (due to cleaning)\n",
    "df = df[df['text'].map(len)>1000]"
   ]
  },
  {
   "cell_type": "markdown",
   "metadata": {},
   "source": [
    "## VADER ANALYSER"
   ]
  },
  {
   "cell_type": "code",
   "execution_count": null,
   "metadata": {
    "pycharm": {
     "name": "#%%\n"
    }
   },
   "outputs": [],
   "source": [
    "vader = SentimentIntensityAnalyzer()"
   ]
  },
  {
   "cell_type": "markdown",
   "metadata": {},
   "source": [
    "### VADER on non processed data (only cleaning described in previous notebook)"
   ]
  },
  {
   "cell_type": "code",
   "execution_count": null,
   "metadata": {
    "pycharm": {
     "name": "#%%\n"
    }
   },
   "outputs": [],
   "source": [
    "%%time\n",
    "vader_untrained_polarity = df.apply(lambda row: vader.polarity_scores(row['text']), axis=1)\n",
    "\n",
    "vader_untrained_polarity = pd.DataFrame(vader_untrained_polarity.values.tolist())\n",
    "vader_untrained_polarity = vader_untrained_polarity.add_prefix('vader_polarity_');"
   ]
  },
  {
   "cell_type": "markdown",
   "metadata": {},
   "source": [
    "### VADER on  preprocessed data (stopwords, punctuation and, most frequent removals)"
   ]
  },
  {
   "cell_type": "code",
   "execution_count": null,
   "metadata": {
    "pycharm": {
     "name": "#%%\n"
    }
   },
   "outputs": [],
   "source": [
    "%%time\n",
    "vader_untrained_preprocessed_polarity = df.apply(lambda row: vader.polarity_scores(preprocess(row['text'])), axis=1)\n",
    "\n",
    "vader_untrained_preprocessed_polarity = pd.DataFrame(vader_untrained_preprocessed_polarity.values.tolist())\n",
    "vader_untrained_preprocessed_polarity = vader_untrained_preprocessed_polarity.add_prefix('vader_preprocessed_polarity_');"
   ]
  },
  {
   "cell_type": "code",
   "execution_count": null,
   "metadata": {
    "pycharm": {
     "name": "#%%\n"
    }
   },
   "outputs": [],
   "source": [
    "# Merge all results for VADER and save it in pickle file\n",
    "df_vader = pd.concat([df[['cik', 'report_type', 'report_identity']], vader_untrained_polarity, vader_untrained_preprocessed_polarity], axis=1);\n",
    "\n",
    "# Save data\n",
    "df_vader.to_pickle(os.path.join('data', 'sentiment_analysis','df_vader.pkl'))"
   ]
  },
  {
   "cell_type": "code",
   "execution_count": null,
   "metadata": {
    "pycharm": {
     "name": "#%%\n"
    }
   },
   "outputs": [],
   "source": [
    "df_vader.describe()"
   ]
  },
  {
   "cell_type": "markdown",
   "metadata": {},
   "source": [
    "## TEXTBLOB ANALYSER"
   ]
  },
  {
   "cell_type": "markdown",
   "metadata": {},
   "source": [
    "### TextBlob on non processed data (only cleaning described in previous notebook)"
   ]
  },
  {
   "cell_type": "code",
   "execution_count": null,
   "metadata": {
    "pycharm": {
     "name": "#%%\n"
    }
   },
   "outputs": [],
   "source": [
    "%%time\n",
    "textblob_sentiment_polarity = df.apply(lambda row: TextBlob(row['text']).sentiment.polarity, axis=1)\n",
    "textblob_sentiment_subjectivity = df.apply(lambda row: TextBlob(row['text']).sentiment.subjectivity, axis=1)\n",
    "\n",
    "textblob_sentiment = pd.concat([textblob_sentiment_polarity, textblob_sentiment_subjectivity], axis=1)\n",
    "textblob_sentiment.columns = ['textblob_sentiment_polarity', 'textblob_sentiment_subjectivity']"
   ]
  },
  {
   "cell_type": "markdown",
   "metadata": {},
   "source": [
    "### TextBlob on preprocessed data (stopwords, punctuation and, most frequent removals)"
   ]
  },
  {
   "cell_type": "code",
   "execution_count": null,
   "metadata": {
    "pycharm": {
     "name": "#%%\n"
    }
   },
   "outputs": [],
   "source": [
    "%%time\n",
    "textblob_preprocessed_sentiment_polarity = df.apply(lambda row: TextBlob(preprocess(row['text'])).sentiment.polarity, axis=1)\n",
    "textblob_preprocessed_sentiment_subjectivity = df.apply(lambda row: TextBlob(preprocess(row['text'])).sentiment.subjectivity, axis=1)\n",
    "\n",
    "textblob_preprocessed_sentiment = pd.concat([textblob_preprocessed_sentiment_polarity, textblob_preprocessed_sentiment_subjectivity], axis=1)\n",
    "textblob_preprocessed_sentiment.columns = ['textblob_preprocessed_sentiment_polarity', 'textblob_preprocessed_sentiment_subjectivity']"
   ]
  },
  {
   "cell_type": "code",
   "execution_count": null,
   "metadata": {},
   "outputs": [],
   "source": [
    "# Merge all results for VADER and save it in pickle file\n",
    "df_tb = pd.concat([df[['cik', 'report_type', 'report_identity']], textblob_sentiment, textblob_preprocessed_sentiment], axis=1);\n",
    "\n",
    "# Save data\n",
    "df_tb.to_pickle(os.path.join('data', 'sentiment_analysis','df_tb.pkl'))"
   ]
  },
  {
   "cell_type": "code",
   "execution_count": null,
   "metadata": {
    "pycharm": {
     "name": "#%%\n"
    }
   },
   "outputs": [],
   "source": [
    "df_tb.describe()"
   ]
  },
  {
   "cell_type": "markdown",
   "metadata": {},
   "source": [
    "## FLAIR - LSTM"
   ]
  },
  {
   "cell_type": "code",
   "execution_count": null,
   "metadata": {
    "pycharm": {
     "name": "#%%\n"
    }
   },
   "outputs": [],
   "source": [
    "import flair\n",
    "flair_sentiment = flair.models.TextClassifier.load('en-sentiment')\n",
    "\n",
    "def get_flair_sentiment(text):\n",
    "    s = flair.data.Sentence(text)\n",
    "    flair_sentiment.predict(s)\n",
    "    return s.tag, s.score"
   ]
  },
  {
   "cell_type": "code",
   "execution_count": null,
   "metadata": {},
   "outputs": [],
   "source": [
    "### FLAIR on non processed data (only cleaning described in previous notebook)"
   ]
  },
  {
   "cell_type": "code",
   "execution_count": null,
   "metadata": {
    "pycharm": {
     "name": "#%%\n"
    }
   },
   "outputs": [],
   "source": [
    "%%time\n",
    "df_flair_sentiment = df.apply(lambda row: get_flair_sentiment(row['text'])  , axis=1, result_type='expand')\n",
    "df_flair_sentiment.columns = ['flair_sentiment_tag', 'flair_sentiment_score']\n",
    "\n",
    "# Save data\n",
    "df_flair_sentiment.to_pickle(os.path.join('data', 'sentiment_analysis','df_flair_wo_prep_backup.pkl'))"
   ]
  },
  {
   "cell_type": "markdown",
   "metadata": {},
   "source": [
    "### FLAIR on preprocessed data (stopwords, punctuation and, most frequent removals)"
   ]
  },
  {
   "cell_type": "code",
   "execution_count": null,
   "metadata": {
    "pycharm": {
     "name": "#%%\n"
    }
   },
   "outputs": [],
   "source": [
    "%%time\n",
    "df_flair_sentiment_preprocessed = df.apply(lambda row: get_flair_sentiment(preprocess(row['text'])), axis=1, result_type='expand')\n",
    "df_flair_sentiment_preprocessed.columns = ['flair_preprocessed_sentiment_tag', 'flair_preprocessed_sentiment_score']\n",
    "\n",
    "# Save data\n",
    "df_flair_sentiment_preprocessed.to_pickle(os.path.join('data', 'sentiment_analysis','df_flair_w_prep_backup.pkl'))"
   ]
  },
  {
   "cell_type": "code",
   "execution_count": null,
   "metadata": {
    "pycharm": {
     "name": "#%%\n"
    }
   },
   "outputs": [],
   "source": [
    "# Merge all results for VADER and save it in pickle file\n",
    "df_flair = pd.concat([df[['cik', 'report_type', 'report_identity']], df_flair_sentiment, df_flair_sentiment_preprocessed], axis=1);\n",
    "\n",
    "# Save data\n",
    "df_flair.to_pickle(os.path.join('data', 'sentiment_analysis','df_flair.pkl'))"
   ]
  },
  {
   "cell_type": "code",
   "execution_count": null,
   "metadata": {
    "pycharm": {
     "name": "#%%\n"
    }
   },
   "outputs": [],
   "source": [
    "# Get statistics for flair method WITHOUT preprocessing\n",
    "print(df_flair['flair_sentiment_tag'].value_counts())\n",
    "\n",
    "df_flair['flair_sentiment_score'].describe().to_frame()"
   ]
  },
  {
   "cell_type": "code",
   "execution_count": null,
   "metadata": {
    "pycharm": {
     "name": "#%%\n"
    }
   },
   "outputs": [],
   "source": [
    "# Get statistics for flair method WITH preprocessing\n",
    "print(df_flair['flair_preprocessed_sentiment_tag'].value_counts())\n",
    "\n",
    "df_flair['flair_preprocessed_sentiment_score'].describe().to_frame()"
   ]
  }
 ],
 "metadata": {
  "kernelspec": {
   "display_name": "Python 3 (ipykernel)",
   "language": "python",
   "name": "python3"
  },
  "language_info": {
   "codemirror_mode": {
    "name": "ipython",
    "version": 3
   },
   "file_extension": ".py",
   "mimetype": "text/x-python",
   "name": "python",
   "nbconvert_exporter": "python",
   "pygments_lexer": "ipython3",
   "version": "3.9.12"
  }
 },
 "nbformat": 4,
 "nbformat_minor": 1
}
