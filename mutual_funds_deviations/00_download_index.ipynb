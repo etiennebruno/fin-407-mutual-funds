{
 "cells": [
  {
   "cell_type": "code",
   "execution_count": null,
   "metadata": {
    "pycharm": {
     "name": "#%%\n"
    }
   },
   "outputs": [],
   "source": [
    "import edgar # https://github.com/edgarminers/python-edgar\n",
    "import pandas as pd\n",
    "import os"
   ]
  },
  {
   "cell_type": "code",
   "execution_count": null,
   "metadata": {
    "pycharm": {
     "name": "#%%\n"
    }
   },
   "outputs": [],
   "source": [
    "# Save row_data_index\n",
    "download_directory_root = os.path.join(os.getcwd(), 'data')\n",
    "download_directory_index = os.path.join(download_directory_root, 'row_data_index')"
   ]
  },
  {
   "cell_type": "code",
   "execution_count": null,
   "metadata": {
    "pycharm": {
     "name": "#%%\n"
    }
   },
   "outputs": [],
   "source": [
    "# Download index of all SEC reports by quarter\n",
    "since_year=2005\n",
    "edgar.download_index(download_directory_index, since_year, user_agent='Etienne BRUNO etienne.bruno@epfl.ch', skip_all_present_except_last=False)"
   ]
  },
  {
   "cell_type": "code",
   "execution_count": null,
   "metadata": {
    "pycharm": {
     "name": "#%%\n"
    }
   },
   "outputs": [],
   "source": [
    "def read_tsv(file_name):\n",
    "    col = ['CIK', 'CNAME', 'FORM_TYPE', 'FILLING_DATE', 'TXT_URL', 'HTML_URL']\n",
    "    return pd.read_csv(file_name,  sep=\"|\", names=col)\n",
    "\n",
    "filepaths = sorted(['data/row_data_index/' + path for path in os.listdir(download_directory_index)], reverse=True)\n",
    "df = pd.concat(map(read_tsv, filepaths), axis=0)\n",
    "form_to_keep = ['N-CSR', 'N-CSRS']\n",
    "df = df[df['FORM_TYPE'].isin(form_to_keep)]\n",
    "\n",
    "# Save to CSV the final dataframe on which we will work\n",
    "df.to_csv(download_directory_root+\"/mutual_funds_data.csv\", index=False)"
   ]
  }
 ],
 "metadata": {
  "kernelspec": {
   "display_name": "Python 3 (ipykernel)",
   "language": "python",
   "name": "python3"
  },
  "language_info": {
   "codemirror_mode": {
    "name": "ipython",
    "version": 3
   },
   "file_extension": ".py",
   "mimetype": "text/x-python",
   "name": "python",
   "nbconvert_exporter": "python",
   "pygments_lexer": "ipython3",
   "version": "3.9.12"
  }
 },
 "nbformat": 4,
 "nbformat_minor": 1
}
