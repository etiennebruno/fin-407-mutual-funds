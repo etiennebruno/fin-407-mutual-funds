{
 "cells": [
  {
   "cell_type": "code",
   "execution_count": null,
   "metadata": {
    "pycharm": {
     "name": "#%%\n"
    }
   },
   "outputs": [],
   "source": [
    "import wrds\n",
    "db = wrds.Connection(wrds_username='etiennebruno')"
   ]
  },
  {
   "cell_type": "code",
   "execution_count": null,
   "metadata": {
    "pycharm": {
     "name": "#%%\n"
    }
   },
   "outputs": [],
   "source": [
    "db.list_libraries().sort()\n",
    "db.list_libraries()"
   ]
  },
  {
   "cell_type": "code",
   "execution_count": null,
   "metadata": {
    "pycharm": {
     "name": "#%%\n"
    }
   },
   "outputs": [],
   "source": [
    "# List the tables of a given library§\n",
    "db.list_tables(library='crsp')"
   ]
  },
  {
   "cell_type": "code",
   "execution_count": null,
   "metadata": {
    "pycharm": {
     "name": "#%%\n"
    }
   },
   "outputs": [],
   "source": [
    "# Get data\n",
    "daily = db.get_table(library='crsp', table='fund_summary2', obs=10)\n",
    "daily"
   ]
  },
  {
   "cell_type": "code",
   "execution_count": null,
   "metadata": {
    "pycharm": {
     "name": "#%%\n"
    }
   },
   "outputs": [],
   "source": [
    "for table in db.list_tables(library='crsp'):\n",
    "    try:\n",
    "        l= list(filter(lambda x: 'fund_name' in x, db.get_table(library='crsp', table=table, obs=1).keys()))\n",
    "    except:\n",
    "        pass\n",
    "    if len(l) > 0:\n",
    "        print(table, \"---\", l)"
   ]
  },
  {
   "cell_type": "code",
   "execution_count": null,
   "metadata": {
    "pycharm": {
     "name": "#%%\n"
    }
   },
   "outputs": [],
   "source": [
    "%%time\n",
    "df_funds = db.get_table(library='crsp', table='portnomap', obs=5)\n",
    "df_funds"
   ]
  },
  {
   "cell_type": "code",
   "execution_count": null,
   "metadata": {
    "pycharm": {
     "name": "#%%\n"
    }
   },
   "outputs": [],
   "source": [
    "df_funds_map = db.raw_sql('''\n",
    "        select distinct on (fund_name) fund_name, ticker, ncusip, cusip8\n",
    "        from crsp.portnomap\n",
    "        where begdt <= '2020-01-01' --and enddt >= '2022-01-01'\n",
    "        order by fund_name asc\n",
    "''')"
   ]
  },
  {
   "cell_type": "code",
   "execution_count": null,
   "metadata": {
    "pycharm": {
     "name": "#%%\n"
    }
   },
   "outputs": [],
   "source": [
    "df_funds_map"
   ]
  },
  {
   "cell_type": "code",
   "execution_count": null,
   "metadata": {
    "pycharm": {
     "name": "#%%\n"
    }
   },
   "outputs": [],
   "source": []
  },
  {
   "cell_type": "code",
   "execution_count": null,
   "metadata": {
    "pycharm": {
     "name": "#%%\n"
    }
   },
   "outputs": [],
   "source": [
    "db.raw_sql('''\n",
    "        select distinct fund_name\n",
    "        from crsp.portnomap\n",
    "        where lower(fund_name::text) LIKE '%%s&p%%'\n",
    "            and lower(fund_name::text) LIKE '%%500%%'\n",
    "            --and lower(fund_name::text) LIKE '%%bond%%'\n",
    "            --and lower(fund_name::text) LIKE '%%national%%'\n",
    "            --and caldt >= '2010-01-31'\n",
    "     limit 100\n",
    "''')"
   ]
  },
  {
   "cell_type": "code",
   "execution_count": null,
   "metadata": {
    "pycharm": {
     "name": "#%%\n"
    }
   },
   "outputs": [],
   "source": [
    "db.raw_sql('''\n",
    "        select *\n",
    "        from crsp.fund_summary2\n",
    "        where fund_name LIKE '%%FundVantage Trust: Gotham Enhanced S&P 500 Index Fund; Institutional Class Shares%%'\n",
    "        --and caldt >= '2010-01-31'\n",
    "''')"
   ]
  },
  {
   "cell_type": "code",
   "execution_count": null,
   "metadata": {
    "pycharm": {
     "name": "#%%\n"
    }
   },
   "outputs": [],
   "source": [
    "db.raw_sql('''\n",
    "        select *\n",
    "        from crsp.portnomap\n",
    "        where (fund_name::text) LIKE '%%FundVantage Trust: Gotham Enhanced S&P 500 Index Fund; Institutional Class Shares%%'\n",
    "        --and caldt >= '2010-01-31'\n",
    "''')"
   ]
  },
  {
   "cell_type": "code",
   "execution_count": null,
   "metadata": {
    "pycharm": {
     "name": "#%%\n"
    }
   },
   "outputs": [],
   "source": []
  },
  {
   "cell_type": "code",
   "execution_count": null,
   "metadata": {
    "pycharm": {
     "name": "#%%\n"
    }
   },
   "outputs": [],
   "source": [
    "db.raw_sql('''\n",
    "        select crsp_fundno, count(mret), max(mret), avg(mret)\n",
    "        from crsp_q_mutualfunds.monthly_tna_ret_nav\n",
    "        group by crsp_fundno\n",
    "        order by count(mret) desc\n",
    "     limit 10\n",
    "''')"
   ]
  },
  {
   "cell_type": "code",
   "execution_count": null,
   "metadata": {
    "pycharm": {
     "name": "#%%\n"
    }
   },
   "outputs": [],
   "source": []
  }
 ],
 "metadata": {
  "kernelspec": {
   "display_name": "Python 3",
   "language": "python",
   "name": "python3"
  },
  "language_info": {
   "codemirror_mode": {
    "name": "ipython",
    "version": 2
   },
   "file_extension": ".py",
   "mimetype": "text/x-python",
   "name": "python",
   "nbconvert_exporter": "python",
   "pygments_lexer": "ipython2",
   "version": "2.7.6"
  }
 },
 "nbformat": 4,
 "nbformat_minor": 0
}
