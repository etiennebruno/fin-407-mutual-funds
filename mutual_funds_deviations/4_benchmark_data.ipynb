{
 "cells": [
  {
   "cell_type": "code",
   "execution_count": null,
   "metadata": {},
   "outputs": [],
   "source": [
    "from IPython.display import display, HTML\n",
    "display(HTML(\"<style>.container { width:80% !important; }</style>\"))"
   ]
  },
  {
   "cell_type": "markdown",
   "metadata": {},
   "source": [
    "## GET AVERAGE RETURNS OVER TIME OF THE AVAILABLE FUNDS"
   ]
  },
  {
   "cell_type": "code",
   "execution_count": null,
   "metadata": {},
   "outputs": [],
   "source": [
    "# Connection to WRDS\n",
    "import wrds\n",
    "db = wrds.Connection(wrds_username='etiennebruno')"
   ]
  },
  {
   "cell_type": "code",
   "execution_count": null,
   "metadata": {},
   "outputs": [],
   "source": [
    "# Import CIKs from the dataframe of all cleaned filings\n",
    "from utils import *\n",
    "ciks = ', '.join(list(df_from_filings().cik.unique()))"
   ]
  },
  {
   "cell_type": "code",
   "execution_count": null,
   "metadata": {},
   "outputs": [],
   "source": [
    "# Get all cik number available (intersection between our dataframe and the data on CRSP)\n",
    "ciks_data = db.raw_sql(f'''\n",
    "        select distinct comp_cik\n",
    "        from crsp_q_mutualfunds.crsp_cik_map\n",
    "        where comp_cik in ({ciks})\n",
    "''')\n",
    "cik_available = list(ciks_data.comp_cik)\n",
    "cik_available = ', '.join([str(i) for i in cik_available])"
   ]
  },
  {
   "cell_type": "code",
   "execution_count": null,
   "metadata": {},
   "outputs": [],
   "source": [
    "# With the mapping table of CRSP, get all companies' fund number\n",
    "crsp_fundno_available = db.raw_sql(f'''\n",
    "        select *\n",
    "        from crsp_q_mutualfunds.crsp_cik_map\n",
    "        where comp_cik in ({cik_available})\n",
    "''')\n",
    "crsp_fundno_available"
   ]
  },
  {
   "cell_type": "code",
   "execution_count": null,
   "metadata": {},
   "outputs": [],
   "source": [
    "# Convert the list of fund numbers to a list of string type for future SQL queries\n",
    "list_float_fundnos = list(crsp_fundno_available.crsp_fundno.unique())\n",
    "crsp_fundno_available_list_str = ', '.join([str(i) for i in list_float_fundnos])"
   ]
  },
  {
   "cell_type": "code",
   "execution_count": null,
   "metadata": {},
   "outputs": [],
   "source": [
    "# Get all available returns for each fund\n",
    "monthly_returns_all_funds = db.raw_sql(f'''\n",
    "        select *\n",
    "        from crsp_q_mutualfunds.monthly_returns\n",
    "        where crsp_fundno in ({crsp_fundno_available_list_str})\n",
    "        order by caldt desc\n",
    "''')\n",
    "monthly_returns_all_funds"
   ]
  },
  {
   "cell_type": "markdown",
   "metadata": {},
   "source": [
    "## GET AVERAGE RETURNS OVER TIME OF THE AVAILABLE FUNDS - GROUPED BY MONTH"
   ]
  },
  {
   "cell_type": "code",
   "execution_count": null,
   "metadata": {},
   "outputs": [],
   "source": [
    "# Create a new dataframe with some statistic and the average return\n",
    "monthly_returns_all_funds_aggregated = monthly_returns_all_funds[['caldt', 'mret']].groupby('caldt').agg(\n",
    "    count=('mret', 'count'),\n",
    "    mret=('mret', 'mean'),\n",
    "    mret_max=('mret', 'max'),\n",
    "    mret_min=('mret', 'min'),\n",
    "    mret_sdt=('mret', 'std'),\n",
    ")"
   ]
  },
  {
   "cell_type": "code",
   "execution_count": null,
   "metadata": {},
   "outputs": [],
   "source": [
    "monthly_returns_all_funds_aggregated.reset_index(inplace=True)\n",
    "monthly_returns_all_funds_aggregated['caldt'] = pd.to_datetime(monthly_returns_all_funds_aggregated['caldt'], format= '%Y-%m-%d')"
   ]
  },
  {
   "cell_type": "code",
   "execution_count": null,
   "metadata": {},
   "outputs": [],
   "source": [
    "monthly_returns_all_funds_aggregated = monthly_returns_all_funds_aggregated.loc[monthly_returns_all_funds_aggregated['caldt'] >= '2000-01-01']\n",
    "monthly_returns_all_funds_aggregated"
   ]
  },
  {
   "cell_type": "markdown",
   "metadata": {},
   "source": [
    "## GET AVERAGE RETURNS OVER TIME OF TRADITIONNAL BENCHMARKS"
   ]
  },
  {
   "cell_type": "code",
   "execution_count": null,
   "metadata": {},
   "outputs": [],
   "source": [
    "index_return_query = db.raw_sql(\"\"\"\n",
    "    select  \n",
    "    date,\n",
    "    vwretd \n",
    "    from crsp.msi\n",
    "    where \n",
    "    date>='2000-01-01'\"\"\", date_cols=['date']\n",
    "    )"
   ]
  },
  {
   "cell_type": "code",
   "execution_count": null,
   "metadata": {},
   "outputs": [],
   "source": [
    "left = monthly_returns_all_funds_aggregated[['mret', 'caldt']]\n",
    "right = index_return_query[['date', 'vwretd']]\n",
    "cumulative_data = pd.merge(left=left, right=right, how='inner', left_on='caldt', right_on='date')\n",
    "\n",
    "# Compute cumulative returns for both avg of funds and market\n",
    "cumulative_data['cum_ret_funds'] = (1 + cumulative_data['mret']).cumprod() - 1\n",
    "cumulative_data['cum_ret_mkt'] = (1 + cumulative_data['vwretd']).cumprod() - 1"
   ]
  },
  {
   "cell_type": "markdown",
   "metadata": {},
   "source": [
    "## GRAPH OF AVERAGE RETURNS OVER TIME WITH BENCHMARKS"
   ]
  },
  {
   "cell_type": "code",
   "execution_count": null,
   "metadata": {},
   "outputs": [],
   "source": [
    "# Rename df for better modularity\n",
    "data = monthly_returns_all_funds_aggregated.copy()"
   ]
  },
  {
   "cell_type": "code",
   "execution_count": null,
   "metadata": {},
   "outputs": [],
   "source": [
    "import matplotlib.pyplot as plt\n",
    "import numpy as np\n",
    "import seaborn as sns\n",
    "\n",
    "%matplotlib inline\n",
    "%config InlineBackend.figure_format='retina'\n",
    "\n",
    "sns.set(style=\"darkgrid\")\n",
    "sns.set_style(\"whitegrid\", {'axes.grid' : False})\n",
    "sns.set(rc={\"figure.figsize\":(18, 8)})"
   ]
  },
  {
   "cell_type": "code",
   "execution_count": null,
   "metadata": {},
   "outputs": [],
   "source": [
    "plt.tick_params(left=True,\n",
    "                bottom=True,\n",
    "                labelleft=True,\n",
    "                labelbottom=True)\n",
    "\n",
    "# Plot the average return of all mutual funds\n",
    "X=data['caldt'].dt.strftime('%Y-%m-%d')\n",
    "Y=data['mret']\n",
    "sns.lineplot(x=X, y=Y, linestyle='--')\n",
    "\n",
    "# Average Value Weighted Index - market\n",
    "X=index_return_query['date'].dt.strftime('%Y-%m-%d')\n",
    "Y=index_return_query['vwretd']\n",
    "sns.lineplot(x=X, y=Y, linestyle='--')\n",
    "\n",
    "lower_bound = data['mret'] + data['mret_sdt']\n",
    "upper_bound = data['mret'] - data['mret_sdt']\n",
    "\n",
    "plt.fill_between(X, lower_bound, upper_bound, alpha=.3)\n",
    "\n",
    "plt.xlabel('Time')\n",
    "plt.ylabel('Annual Return')\n",
    "plt.xticks(X[::12], rotation=45)\n",
    "\n",
    "plt.legend(['average monthly return of mutual funds', 'value weighted index of the market'])\n",
    "#plt.savefig('annual_return_plots.png', dpi=200)\n",
    "#plt.savefig('annual_return_plots_with_market.png', dpi=200)\n",
    "plt.show()"
   ]
  },
  {
   "cell_type": "markdown",
   "metadata": {},
   "source": [
    "### GET AND PLOT CUMULATIVE RETURNS"
   ]
  },
  {
   "cell_type": "code",
   "execution_count": null,
   "metadata": {},
   "outputs": [],
   "source": [
    "# Rename df for better modularity\n",
    "data = cumulative_data.copy()"
   ]
  },
  {
   "cell_type": "code",
   "execution_count": null,
   "metadata": {},
   "outputs": [],
   "source": [
    "# Plot the cumulative return of all mutual funds\n",
    "X=data['caldt'].dt.strftime('%Y-%m-%d')\n",
    "Y=data['cum_ret_funds']*100\n",
    "sns.lineplot(x=X, y=Y, linestyle='--')\n",
    "\n",
    "# Cumulative Value Weighted index return - market\n",
    "X=data['date'].dt.strftime('%Y-%m-%d')\n",
    "Y=data['cum_ret_mkt']*100\n",
    "sns.lineplot(x=X, y=Y, linestyle='--')\n",
    "\n",
    "plt.xlabel('Time')\n",
    "plt.ylabel('Cumulative return (in %)')\n",
    "plt.title('Cumulative Return of the average return of the mutual funds and the value weighted market index')\n",
    "plt.xticks(X[::12], rotation=45)\n",
    "\n",
    "plt.legend(['Average Performance of mutual funds', 'Value Weighted Market Index'])\n",
    "#plt.savefig('comparisons_with_vw_market.png', dpi=200)\n",
    "\n",
    "plt.show()"
   ]
  },
  {
   "cell_type": "markdown",
   "metadata": {},
   "source": [
    "## FIND VARIABLE NAME IN SCHEMA"
   ]
  },
  {
   "cell_type": "code",
   "execution_count": null,
   "metadata": {},
   "outputs": [],
   "source": [
    "%%time\n",
    "for table in db.list_tables(library='crsp'):\n",
    "    try:\n",
    "        l= list(filter(lambda x: ('crsp_fundno' in x) and ('cik' in x), db.get_table(library='crsp_q_mutualfunds', table=table, obs=1).keys()))\n",
    "    except:\n",
    "        pass\n",
    "    if len(l) > 0:\n",
    "        print(table, \"---\", l)"
   ]
  },
  {
   "cell_type": "code",
   "execution_count": null,
   "metadata": {},
   "outputs": [],
   "source": [
    "%%time\n",
    "for table in db.list_tables(library='crsp'):\n",
    "    try:\n",
    "        tab_keys = db.get_table(library='crsp_q_mutualfunds', table=table, obs=1).keys()\n",
    "        l = list(filter(lambda x: 'cik' in x, tab_keys))\n",
    "    except:\n",
    "        pass\n",
    "    if len(l) > 0:\n",
    "        print(table, \"---\", l, tab_keys)"
   ]
  },
  {
   "cell_type": "code",
   "execution_count": null,
   "metadata": {},
   "outputs": [],
   "source": [
    "%%time\n",
    "for table in db.list_tables(library='crsp'):\n",
    "    try:\n",
    "        l= list(filter(lambda x: 'cik' in x, db.get_table(library='crsp', table=table, obs=1).keys()))\n",
    "    except:\n",
    "        pass\n",
    "    if len(l) > 0:\n",
    "        print(table, \"---\", l)"
   ]
  },
  {
   "cell_type": "markdown",
   "metadata": {},
   "source": [
    "## TRY SOME QUERIES"
   ]
  },
  {
   "cell_type": "code",
   "execution_count": null,
   "metadata": {
    "pycharm": {
     "name": "#%%\n"
    }
   },
   "outputs": [],
   "source": [
    "# Connection to WRDS\n",
    "import wrds\n",
    "db = wrds.Connection(wrds_username='etiennebruno')"
   ]
  },
  {
   "cell_type": "code",
   "execution_count": null,
   "metadata": {
    "pycharm": {
     "name": "#%%\n"
    }
   },
   "outputs": [],
   "source": [
    "db.list_libraries().sort()\n",
    "db.list_libraries()"
   ]
  },
  {
   "cell_type": "code",
   "execution_count": null,
   "metadata": {
    "pycharm": {
     "name": "#%%\n"
    }
   },
   "outputs": [],
   "source": [
    "# List the tables of a given library\n",
    "db.list_tables(library='crsp')"
   ]
  },
  {
   "cell_type": "code",
   "execution_count": null,
   "metadata": {
    "pycharm": {
     "name": "#%%\n"
    }
   },
   "outputs": [],
   "source": [
    "# Get data\n",
    "daily = db.get_table(library='crsp', table='fund_summary2', obs=10)"
   ]
  },
  {
   "cell_type": "code",
   "execution_count": null,
   "metadata": {
    "pycharm": {
     "name": "#%%\n"
    }
   },
   "outputs": [],
   "source": [
    "# Get funds name over a given period\n",
    "df_funds_map = db.raw_sql('''\n",
    "        select distinct on (fund_name) fund_name, ticker, ncusip, cusip8\n",
    "        from crsp.portnomap\n",
    "        where begdt <= '2020-01-01' --and enddt >= '2022-01-01'\n",
    "        order by fund_name asc\n",
    "''')"
   ]
  },
  {
   "cell_type": "code",
   "execution_count": null,
   "metadata": {
    "pycharm": {
     "name": "#%%\n"
    }
   },
   "outputs": [],
   "source": [
    "# Get funds name over containing some strings of the S&P 500\n",
    "db.raw_sql('''\n",
    "        select distinct fund_name\n",
    "        from crsp.portnomap\n",
    "        where lower(fund_name::text) LIKE '%%s&p%%'\n",
    "            and lower(fund_name::text) LIKE '%%500%%'\n",
    "            --and lower(fund_name::text) LIKE '%%bond%%'\n",
    "            --and lower(fund_name::text) LIKE '%%national%%'\n",
    "            --and caldt >= '2010-01-31'\n",
    "     limit 100\n",
    "''')"
   ]
  },
  {
   "cell_type": "code",
   "execution_count": null,
   "metadata": {
    "pycharm": {
     "name": "#%%\n"
    }
   },
   "outputs": [],
   "source": [
    "db.raw_sql('''\n",
    "        select *\n",
    "        from crsp.fund_summary2\n",
    "        where fund_name LIKE '%%FundVantage Trust: Gotham Enhanced S&P 500 Index Fund; Institutional Class Shares%%'\n",
    "        --and caldt >= '2010-01-31'\n",
    "''')"
   ]
  },
  {
   "cell_type": "code",
   "execution_count": null,
   "metadata": {
    "pycharm": {
     "name": "#%%\n"
    }
   },
   "outputs": [],
   "source": [
    "db.raw_sql('''\n",
    "        select *\n",
    "        from crsp.portnomap\n",
    "        where (fund_name::text) LIKE '%%FundVantage Trust: Gotham Enhanced S&P 500 Index Fund; Institutional Class Shares%%'\n",
    "        --and caldt >= '2010-01-31'\n",
    "''')"
   ]
  },
  {
   "cell_type": "code",
   "execution_count": null,
   "metadata": {
    "pycharm": {
     "name": "#%%\n"
    }
   },
   "outputs": [],
   "source": [
    "db.raw_sql('''\n",
    "        select crsp_fundno, count(mret), max(mret), avg(mret)\n",
    "        from crsp_q_mutualfunds.monthly_tna_ret_nav\n",
    "        group by crsp_fundno\n",
    "        order by count(mret) desc\n",
    "     limit 10\n",
    "''')"
   ]
  }
 ],
 "metadata": {
  "kernelspec": {
   "display_name": "Python 3 (ipykernel)",
   "language": "python",
   "name": "python3"
  },
  "language_info": {
   "codemirror_mode": {
    "name": "ipython",
    "version": 3
   },
   "file_extension": ".py",
   "mimetype": "text/x-python",
   "name": "python",
   "nbconvert_exporter": "python",
   "pygments_lexer": "ipython3",
   "version": "3.9.12"
  }
 },
 "nbformat": 4,
 "nbformat_minor": 1
}
