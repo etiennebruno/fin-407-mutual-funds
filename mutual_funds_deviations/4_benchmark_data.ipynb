{
 "cells": [
  {
   "cell_type": "code",
   "execution_count": 1,
   "metadata": {
    "collapsed": true
   },
   "outputs": [
    {
     "name": "stdout",
     "output_type": "stream",
     "text": [
      "Loading library list...\n",
      "Done\n"
     ]
    }
   ],
   "source": [
    "import wrds\n",
    "db = wrds.Connection(wrds_username='etiennebruno')"
   ]
  },
  {
   "cell_type": "code",
   "execution_count": 2,
   "outputs": [
    {
     "data": {
      "text/plain": "['aha',\n 'aha_sample',\n 'ahasamp',\n 'audit',\n 'auditsmp',\n 'auditsmp_all',\n 'bank',\n 'blab',\n 'block',\n 'block_all',\n 'boardex',\n 'boardex_trial',\n 'boardsmp',\n 'bvd',\n 'bvdsamp',\n 'calcbench_trial',\n 'calcbnch',\n 'cboe',\n 'cboe_all',\n 'centris',\n 'ciq',\n 'ciqsamp',\n 'ciqsamp_common',\n 'ciqsamp_transcripts',\n 'cisdm',\n 'cisdmsmp',\n 'clrvt',\n 'clrvtsmp',\n 'columnar',\n 'comp',\n 'comp_bank',\n 'comp_bank_daily',\n 'comp_execucomp',\n 'comp_global',\n 'comp_global_daily',\n 'comp_na_annual_all',\n 'comp_na_daily_all',\n 'comp_na_monthly_all',\n 'comp_segments_hist',\n 'comp_segments_hist_daily',\n 'compa',\n 'compb',\n 'compbd',\n 'compdcur',\n 'compg',\n 'compgd',\n 'comph',\n 'compm',\n 'compmcur',\n 'compnad',\n 'compsamp',\n 'compsamp_snapshot',\n 'compseg',\n 'compsegd',\n 'compsnap',\n 'comscore',\n 'contrib',\n 'contrib_ceo_turnover',\n 'contrib_char_returns',\n 'contrib_general',\n 'contrib_intangible_value',\n 'contrib_kpss',\n 'contrib_liva',\n 'crsp',\n 'crsp_a_ccm',\n 'crsp_a_indexes',\n 'crsp_a_stock',\n 'crsp_a_treasuries',\n 'crsp_q_mutualfunds',\n 'crspa',\n 'crspm',\n 'crspq',\n 'crspsamp',\n 'csmar',\n 'cusipm',\n 'custom_jl',\n 'dealscan',\n 'djones',\n 'djones_all',\n 'dmef',\n 'dmef_all',\n 'doe',\n 'doe_all',\n 'emdb',\n 'etfg',\n 'etfg_samp',\n 'etfgsamp',\n 'eureka',\n 'eurekahedge_sample',\n 'eursamp',\n 'eventus',\n 'evts',\n 'execcomp',\n 'factsamp_all',\n 'factsamp_revere',\n 'factset',\n 'ff',\n 'ff_all',\n 'fisd',\n 'fisdsamp',\n 'fjc',\n 'fjc_linking',\n 'fjc_litigation',\n 'frb',\n 'frb_all',\n 'fssamp',\n 'ftse',\n 'ftsesamp',\n 'ginsight',\n 'gmi',\n 'govpx',\n 'govpxsmp',\n 'hbase',\n 'hbase_sample',\n 'hbsamp',\n 'hfr',\n 'hfrsamp',\n 'hfrsamp_hfrdb',\n 'ibes',\n 'ibescorp',\n 'ibeskpi',\n 'ifgr',\n 'ifgrsamp',\n 'ims',\n 'ims_obp_trial',\n 'imssamp',\n 'infogroupsamp_business',\n 'infogroupsamp_residential',\n 'iri',\n 'iss',\n 'iss_issrecs',\n 'iss_va_mf',\n 'iss_va_shareholder',\n 'iss_va_vote_us',\n 'issm',\n 'kld',\n 'ktmine',\n 'ktmine_patents_samp',\n 'ktsamp',\n 'levin',\n 'lspd',\n 'lspdsamp',\n 'lvnsamp',\n 'lvnsamp_all',\n 'macrofin',\n 'macrofin_comm_trade',\n 'markit',\n 'mfl',\n 'midas',\n 'mrktsamp',\n 'mrktsamp_cds',\n 'mrktsamp_cdx',\n 'mrktsamp_msf',\n 'msfanly',\n 'msfinst',\n 'msrb',\n 'msrb_all',\n 'msrbsamp',\n 'nastraq',\n 'omtrial',\n 'optionm',\n 'optionmsamp_europe',\n 'optionmsamp_us',\n 'otc',\n 'otc_endofday',\n 'pacap',\n 'phlx',\n 'phlx_all',\n 'pitchbk',\n 'pitchsmp',\n 'ppublica',\n 'ppubsamp',\n 'ppubsamp_d4d',\n 'preqin',\n 'preqsamp',\n 'preqsamp_all',\n 'public',\n 'public_all',\n 'pwt',\n 'pwt_all',\n 'ravenpack_trial',\n 'rent',\n 'reprisk',\n 'reprisk_sample',\n 'repsamp',\n 'revere',\n 'risk',\n 'risk_directors',\n 'risk_governance',\n 'risk_proposals',\n 'risksamp',\n 'risksamp_all',\n 'rpa',\n 'rpna',\n 'rpnasamp',\n 'rq_all',\n 'sdc',\n 'sdcsamp',\n 'secsamp',\n 'secsamp_all',\n 'snapsamp',\n 'snl',\n 'snlsamp',\n 'snlsamp_fig',\n 'sprat',\n 'sustain',\n 'sustainalyticssamp_all',\n 'sustsamp',\n 'taq',\n 'taqmsamp',\n 'taqmsamp_all',\n 'taqmsec',\n 'taqsamp',\n 'tass',\n 'tfn',\n 'totalq',\n 'totalq_all',\n 'toyo',\n 'toyosamp',\n 'toyosamp_all',\n 'tr_13f',\n 'tr_ds',\n 'tr_ds_comds',\n 'tr_ds_econ',\n 'tr_ds_equities',\n 'tr_ds_fut',\n 'tr_ibes',\n 'tr_insiders',\n 'tr_mutualfunds',\n 'tr_worldscope',\n 'trace',\n 'trace_enhanced',\n 'trace_standard',\n 'trcstsmp',\n 'trdssamp',\n 'trdstrm',\n 'tresg',\n 'tresgsmp',\n 'trown',\n 'trsamp',\n 'trsamp_ds_eq',\n 'trsamp_dscom',\n 'trsamp_dsecon',\n 'trsamp_dsfut',\n 'trsdcgs',\n 'trucost',\n 'trws',\n 'twoiq',\n 'twoiq_samp',\n 'twoiqsmp',\n 'wappsamp',\n 'wcai',\n 'wind',\n 'windsmp',\n 'wqa',\n 'wrds_lib_internal',\n 'wrdsapps',\n 'wrdsapps_backtest_basic',\n 'wrdsapps_backtest_plus',\n 'wrdsapps_eushort',\n 'wrdsapps_evtstudy_int_ginsight',\n 'wrdsapps_evtstudy_lr',\n 'wrdsapps_finratio',\n 'wrdsapps_finratio_ccm',\n 'wrdsapps_finratio_ibes',\n 'wrdsapps_finratio_ibes_ccm',\n 'wrdsapps_link_comp_eushort',\n 'wrdsapps_link_crsp_bond',\n 'wrdsapps_link_crsp_factset',\n 'wrdsapps_link_crsp_ibes',\n 'wrdsapps_link_crsp_taq',\n 'wrdsapps_link_datastream_wscope',\n 'wrdsapps_link_supplychain',\n 'wrdsapps_patents',\n 'wrdsapps_subsidiary',\n 'wrdsapps_windices',\n 'wrdsappssamp_all',\n 'wrdsrpts',\n 'wrdsrpts_rep_usage',\n 'wrdssec',\n 'wrdssec_midas',\n 'zacks',\n 'zacksamp',\n 'zacksamp_all']"
     },
     "execution_count": 2,
     "metadata": {},
     "output_type": "execute_result"
    }
   ],
   "source": [
    "db.list_libraries().sort()\n",
    "db.list_libraries()"
   ],
   "metadata": {
    "collapsed": false,
    "pycharm": {
     "name": "#%%\n"
    }
   }
  },
  {
   "cell_type": "code",
   "execution_count": 3,
   "outputs": [
    {
     "data": {
      "text/plain": "['acti',\n 'asia',\n 'asib',\n 'asic',\n 'asio',\n 'asix',\n 'bmdebt',\n 'bmheader',\n 'bmpaymts',\n 'bmquotes',\n 'bmyield',\n 'bndprt06',\n 'bndprt12',\n 'bxcalind',\n 'bxdlyind',\n 'bxmthind',\n 'bxquotes',\n 'bxyield',\n 'cap',\n 'ccm_lookup',\n 'ccm_qvards',\n 'ccmxpf_linktable',\n 'ccmxpf_lnkhist',\n 'ccmxpf_lnkrng',\n 'ccmxpf_lnkused',\n 'comphead',\n 'comphist',\n 'compmaster',\n 'contact_info',\n 'crsp_cik_map',\n 'crsp_daily_data',\n 'crsp_header',\n 'crsp_monthly_data',\n 'crsp_names',\n 'crsp_portno_map',\n 'crsp_ziman_daily_index',\n 'crsp_ziman_monthly_index',\n 'cs20yr',\n 'cs5yr',\n 'cs90d',\n 'cst_hist',\n 'daily_nav',\n 'daily_nav_ret',\n 'daily_returns',\n 'dividends',\n 'dport1',\n 'dport2',\n 'dport3',\n 'dport4',\n 'dport5',\n 'dport6',\n 'dport7',\n 'dport8',\n 'dport9',\n 'dsbc',\n 'dsbo',\n 'dse',\n 'dse62',\n 'dse62delist',\n 'dse62dist',\n 'dse62exchdates',\n 'dse62names',\n 'dse62nasdin',\n 'dse62shares',\n 'dseall',\n 'dseall62',\n 'dsedelist',\n 'dsedist',\n 'dseexchdates',\n 'dsenames',\n 'dsenasdin',\n 'dseshares',\n 'dsf',\n 'dsf62',\n 'dsfhdr',\n 'dsfhdr62',\n 'dsi',\n 'dsi62',\n 'dsia',\n 'dsib',\n 'dsic',\n 'dsio',\n 'dsir',\n 'dsix',\n 'dsiy',\n 'dsp500',\n 'dsp500list',\n 'dsp500p',\n 'dssc',\n 'dsso',\n 'eod_cap',\n 'eod_sector',\n 'eod_vg',\n 'erdport1',\n 'erdport2',\n 'erdport3',\n 'erdport4',\n 'erdport5',\n 'erdport6',\n 'erdport7',\n 'erdport8',\n 'erdport9',\n 'ermport1',\n 'ermport2',\n 'ermport3',\n 'ermport4',\n 'ermport5',\n 'fbpri',\n 'fbyld',\n 'front_load',\n 'front_load_det',\n 'front_load_grp',\n 'fund_fees',\n 'fund_flows',\n 'fund_hdr',\n 'fund_hdr_hist',\n 'fund_names',\n 'fund_style',\n 'fund_summary',\n 'fund_summary2',\n 'fwdask06',\n 'fwdask12',\n 'fwdave06',\n 'fwdave12',\n 'fwdbid06',\n 'fwdbid12',\n 'hldask06',\n 'hldask12',\n 'hldave06',\n 'hldave12',\n 'hldbid06',\n 'hldbid12',\n 'holdings',\n 'holdings_co_info',\n 'index_descriptions',\n 'index_type_map',\n 'mbi',\n 'mbmdat',\n 'mbmhdr',\n 'mbx',\n 'mbxid',\n 'mcti',\n 'mfdbname',\n 'mhista',\n 'mhistn',\n 'mhistq',\n 'monthly_nav',\n 'monthly_returns',\n 'monthly_tna',\n 'monthly_tna_ret_nav',\n 'mport1',\n 'mport2',\n 'mport3',\n 'mport4',\n 'mport5',\n 'mse',\n 'mse62',\n 'mse62delist',\n 'mse62dist',\n 'mse62exchdates',\n 'mse62names',\n 'mse62nasdin',\n 'mse62shares',\n 'mseall',\n 'mseall62',\n 'msedelist',\n 'msedist',\n 'mseexchdates',\n 'msenames',\n 'msenasdin',\n 'mseshares',\n 'msf',\n 'msf62',\n 'msfhdr',\n 'msfhdr62',\n 'msi',\n 'msi62',\n 'msia',\n 'msib',\n 'msic',\n 'msio',\n 'msir',\n 'msix',\n 'msiy',\n 'msp500',\n 'msp500list',\n 'msp500p',\n 'portnomap',\n 'priask06',\n 'priask12',\n 'priave06',\n 'priave12',\n 'pribid06',\n 'pribid12',\n 'price_type',\n 'property_type',\n 'qcti',\n 'qsia',\n 'qsib',\n 'qsic',\n 'qsio',\n 'qsix',\n 'rear_load',\n 'rear_load_det',\n 'rear_load_grp',\n 'rebala',\n 'rebaln',\n 'rebalq',\n 'reit_type',\n 'riskfree',\n 's6z_agg_ann',\n 's6z_agg_mth',\n 's6z_agg_qtr',\n 's6z_del',\n 's6z_dind',\n 's6z_dis',\n 's6z_dp_dly',\n 's6z_ds_dly',\n 's6z_hdr',\n 's6z_indhdr',\n 's6z_mdel',\n 's6z_mind',\n 's6z_mth',\n 's6z_nam',\n 's6z_ndi',\n 's6z_shr',\n 'saz_agg_ann',\n 'saz_agg_mth',\n 'saz_agg_qtr',\n 'saz_del',\n 'saz_dind',\n 'saz_dis',\n 'saz_dp_dly',\n 'saz_ds_dly',\n 'saz_hdr',\n 'saz_indhdr',\n 'saz_mdel',\n 'saz_mind',\n 'saz_mth',\n 'saz_nam',\n 'saz_ndi',\n 'saz_shr',\n 'sechead',\n 'sechist',\n 'sector',\n 'sfz_dind',\n 'sfz_indhdr',\n 'sfz_mbr',\n 'sfz_mind',\n 'sfz_portd',\n 'sfz_portm',\n 'sfz_rb',\n 'stock_qvards',\n 'stocknames',\n 'stocknames62',\n 'sub_property_type',\n 'tfz_dly',\n 'tfz_dly_cd',\n 'tfz_dly_cpi',\n 'tfz_dly_ft',\n 'tfz_dly_rf2',\n 'tfz_dly_ts2',\n 'tfz_idx',\n 'tfz_iss',\n 'tfz_mast',\n 'tfz_mth',\n 'tfz_mth_bp',\n 'tfz_mth_cd',\n 'tfz_mth_cpi',\n 'tfz_mth_fb',\n 'tfz_mth_ft',\n 'tfz_mth_rf',\n 'tfz_mth_rf2',\n 'tfz_mth_ts',\n 'tfz_mth_ts2',\n 'tfz_pay',\n 'vg',\n 'yldask06',\n 'yldask12',\n 'yldave06',\n 'yldave12',\n 'yldbid06',\n 'yldbid12',\n 'ziman_reit_info',\n 'zr_hdrnames']"
     },
     "execution_count": 3,
     "metadata": {},
     "output_type": "execute_result"
    }
   ],
   "source": [
    "# List the tables of a given library§\n",
    "db.list_tables(library='crsp')"
   ],
   "metadata": {
    "collapsed": false,
    "pycharm": {
     "name": "#%%\n"
    }
   }
  },
  {
   "cell_type": "code",
   "execution_count": 4,
   "outputs": [
    {
     "data": {
      "text/plain": "  summary_period2  crsp_fundno       caldt summary_period  nav_latest  \\\n0               A          1.0  1997-12-31              A       15.30   \n1               A          1.0  1998-12-31              A       15.07   \n2               Q          1.0  1999-03-31              Q       14.84   \n3               Q          1.0  1999-06-30              Q       14.40   \n4               Q          1.0  1999-09-30              Q       14.18   \n5              AQ          1.0  1999-12-31              Q       13.97   \n6               Q          1.0  2000-03-31              Q       13.89   \n7               Q          1.0  2000-06-30              Q       13.81   \n8               Q          1.0  2000-09-29              Q       12.19   \n9               A          2.0  1997-12-31              A       17.09   \n\n  nav_latest_dt  tna_latest tna_latest_dt     yield   div_ytd  ...  \\\n0    1997-12-31        81.0    1997-12-31  0.062007  0.948700  ...   \n1    1998-12-31       196.7    1998-12-31  0.067384  1.015472  ...   \n2    1999-03-31       217.2    1999-03-31  0.016527  0.245256  ...   \n3    1999-06-30       213.1    1999-06-30  0.034137  0.491576  ...   \n4    1999-09-30       208.4    1999-09-30  0.051997  0.737319  ...   \n5    1999-12-31       200.1    1999-12-31  0.070372  0.983104  ...   \n6    2000-03-31       185.9    2000-03-31  0.017938  0.249155  ...   \n7    2000-06-30       182.1    2000-06-30  0.034981  0.483094  ...   \n8    2000-07-31       183.7    2000-07-31  0.044742  0.545400  ...   \n9    1997-12-31        72.0    1997-12-31  0.018724  0.320000  ...   \n\n   accrual_fund  sales_restrict wbrger_obj_cd  policy lipper_class  \\\n0          None            None          None    None         None   \n1          None            None          None    None         None   \n2          None            None          None    None         None   \n3          None            None          None    None         None   \n4          None            None          None    None         None   \n5             Y               Y          None    None          BBB   \n6             Y               Y          None    None          BBB   \n7             Y               Y          None    None          BBB   \n8          None            None          None    None         None   \n9          None            None          None    None         None   \n\n                lipper_class_name lipper_obj_cd  \\\n0                            None          None   \n1                            None           BBB   \n2                            None           BBB   \n3                            None           BBB   \n4                            None           BBB   \n5  Corporate Debt Funds BBB-Rated           BBB   \n6  Corporate Debt Funds BBB-Rated           BBB   \n7  Corporate Debt Funds BBB-Rated           BBB   \n8                            None          None   \n9                            None          None   \n\n                  lipper_obj_name  lipper_asset_cd  lipper_tax_cd  \n0                            None             None           None  \n1  Corporate Debt Funds BBB-Rated             None           None  \n2  Corporate Debt Funds BBB-Rated             None           None  \n3  Corporate Debt Funds BBB-Rated             None           None  \n4  Corporate Debt Funds BBB-Rated             None           None  \n5  Corporate Debt Funds BBB-Rated               TX        Taxable  \n6  Corporate Debt Funds BBB-Rated               TX        Taxable  \n7  Corporate Debt Funds BBB-Rated               TX        Taxable  \n8                            None             None           None  \n9                            None             None           None  \n\n[10 rows x 75 columns]",
      "text/html": "<div>\n<style scoped>\n    .dataframe tbody tr th:only-of-type {\n        vertical-align: middle;\n    }\n\n    .dataframe tbody tr th {\n        vertical-align: top;\n    }\n\n    .dataframe thead th {\n        text-align: right;\n    }\n</style>\n<table border=\"1\" class=\"dataframe\">\n  <thead>\n    <tr style=\"text-align: right;\">\n      <th></th>\n      <th>summary_period2</th>\n      <th>crsp_fundno</th>\n      <th>caldt</th>\n      <th>summary_period</th>\n      <th>nav_latest</th>\n      <th>nav_latest_dt</th>\n      <th>tna_latest</th>\n      <th>tna_latest_dt</th>\n      <th>yield</th>\n      <th>div_ytd</th>\n      <th>...</th>\n      <th>accrual_fund</th>\n      <th>sales_restrict</th>\n      <th>wbrger_obj_cd</th>\n      <th>policy</th>\n      <th>lipper_class</th>\n      <th>lipper_class_name</th>\n      <th>lipper_obj_cd</th>\n      <th>lipper_obj_name</th>\n      <th>lipper_asset_cd</th>\n      <th>lipper_tax_cd</th>\n    </tr>\n  </thead>\n  <tbody>\n    <tr>\n      <th>0</th>\n      <td>A</td>\n      <td>1.0</td>\n      <td>1997-12-31</td>\n      <td>A</td>\n      <td>15.30</td>\n      <td>1997-12-31</td>\n      <td>81.0</td>\n      <td>1997-12-31</td>\n      <td>0.062007</td>\n      <td>0.948700</td>\n      <td>...</td>\n      <td>None</td>\n      <td>None</td>\n      <td>None</td>\n      <td>None</td>\n      <td>None</td>\n      <td>None</td>\n      <td>None</td>\n      <td>None</td>\n      <td>None</td>\n      <td>None</td>\n    </tr>\n    <tr>\n      <th>1</th>\n      <td>A</td>\n      <td>1.0</td>\n      <td>1998-12-31</td>\n      <td>A</td>\n      <td>15.07</td>\n      <td>1998-12-31</td>\n      <td>196.7</td>\n      <td>1998-12-31</td>\n      <td>0.067384</td>\n      <td>1.015472</td>\n      <td>...</td>\n      <td>None</td>\n      <td>None</td>\n      <td>None</td>\n      <td>None</td>\n      <td>None</td>\n      <td>None</td>\n      <td>BBB</td>\n      <td>Corporate Debt Funds BBB-Rated</td>\n      <td>None</td>\n      <td>None</td>\n    </tr>\n    <tr>\n      <th>2</th>\n      <td>Q</td>\n      <td>1.0</td>\n      <td>1999-03-31</td>\n      <td>Q</td>\n      <td>14.84</td>\n      <td>1999-03-31</td>\n      <td>217.2</td>\n      <td>1999-03-31</td>\n      <td>0.016527</td>\n      <td>0.245256</td>\n      <td>...</td>\n      <td>None</td>\n      <td>None</td>\n      <td>None</td>\n      <td>None</td>\n      <td>None</td>\n      <td>None</td>\n      <td>BBB</td>\n      <td>Corporate Debt Funds BBB-Rated</td>\n      <td>None</td>\n      <td>None</td>\n    </tr>\n    <tr>\n      <th>3</th>\n      <td>Q</td>\n      <td>1.0</td>\n      <td>1999-06-30</td>\n      <td>Q</td>\n      <td>14.40</td>\n      <td>1999-06-30</td>\n      <td>213.1</td>\n      <td>1999-06-30</td>\n      <td>0.034137</td>\n      <td>0.491576</td>\n      <td>...</td>\n      <td>None</td>\n      <td>None</td>\n      <td>None</td>\n      <td>None</td>\n      <td>None</td>\n      <td>None</td>\n      <td>BBB</td>\n      <td>Corporate Debt Funds BBB-Rated</td>\n      <td>None</td>\n      <td>None</td>\n    </tr>\n    <tr>\n      <th>4</th>\n      <td>Q</td>\n      <td>1.0</td>\n      <td>1999-09-30</td>\n      <td>Q</td>\n      <td>14.18</td>\n      <td>1999-09-30</td>\n      <td>208.4</td>\n      <td>1999-09-30</td>\n      <td>0.051997</td>\n      <td>0.737319</td>\n      <td>...</td>\n      <td>None</td>\n      <td>None</td>\n      <td>None</td>\n      <td>None</td>\n      <td>None</td>\n      <td>None</td>\n      <td>BBB</td>\n      <td>Corporate Debt Funds BBB-Rated</td>\n      <td>None</td>\n      <td>None</td>\n    </tr>\n    <tr>\n      <th>5</th>\n      <td>AQ</td>\n      <td>1.0</td>\n      <td>1999-12-31</td>\n      <td>Q</td>\n      <td>13.97</td>\n      <td>1999-12-31</td>\n      <td>200.1</td>\n      <td>1999-12-31</td>\n      <td>0.070372</td>\n      <td>0.983104</td>\n      <td>...</td>\n      <td>Y</td>\n      <td>Y</td>\n      <td>None</td>\n      <td>None</td>\n      <td>BBB</td>\n      <td>Corporate Debt Funds BBB-Rated</td>\n      <td>BBB</td>\n      <td>Corporate Debt Funds BBB-Rated</td>\n      <td>TX</td>\n      <td>Taxable</td>\n    </tr>\n    <tr>\n      <th>6</th>\n      <td>Q</td>\n      <td>1.0</td>\n      <td>2000-03-31</td>\n      <td>Q</td>\n      <td>13.89</td>\n      <td>2000-03-31</td>\n      <td>185.9</td>\n      <td>2000-03-31</td>\n      <td>0.017938</td>\n      <td>0.249155</td>\n      <td>...</td>\n      <td>Y</td>\n      <td>Y</td>\n      <td>None</td>\n      <td>None</td>\n      <td>BBB</td>\n      <td>Corporate Debt Funds BBB-Rated</td>\n      <td>BBB</td>\n      <td>Corporate Debt Funds BBB-Rated</td>\n      <td>TX</td>\n      <td>Taxable</td>\n    </tr>\n    <tr>\n      <th>7</th>\n      <td>Q</td>\n      <td>1.0</td>\n      <td>2000-06-30</td>\n      <td>Q</td>\n      <td>13.81</td>\n      <td>2000-06-30</td>\n      <td>182.1</td>\n      <td>2000-06-30</td>\n      <td>0.034981</td>\n      <td>0.483094</td>\n      <td>...</td>\n      <td>Y</td>\n      <td>Y</td>\n      <td>None</td>\n      <td>None</td>\n      <td>BBB</td>\n      <td>Corporate Debt Funds BBB-Rated</td>\n      <td>BBB</td>\n      <td>Corporate Debt Funds BBB-Rated</td>\n      <td>TX</td>\n      <td>Taxable</td>\n    </tr>\n    <tr>\n      <th>8</th>\n      <td>Q</td>\n      <td>1.0</td>\n      <td>2000-09-29</td>\n      <td>Q</td>\n      <td>12.19</td>\n      <td>2000-07-31</td>\n      <td>183.7</td>\n      <td>2000-07-31</td>\n      <td>0.044742</td>\n      <td>0.545400</td>\n      <td>...</td>\n      <td>None</td>\n      <td>None</td>\n      <td>None</td>\n      <td>None</td>\n      <td>None</td>\n      <td>None</td>\n      <td>None</td>\n      <td>None</td>\n      <td>None</td>\n      <td>None</td>\n    </tr>\n    <tr>\n      <th>9</th>\n      <td>A</td>\n      <td>2.0</td>\n      <td>1997-12-31</td>\n      <td>A</td>\n      <td>17.09</td>\n      <td>1997-12-31</td>\n      <td>72.0</td>\n      <td>1997-12-31</td>\n      <td>0.018724</td>\n      <td>0.320000</td>\n      <td>...</td>\n      <td>None</td>\n      <td>None</td>\n      <td>None</td>\n      <td>None</td>\n      <td>None</td>\n      <td>None</td>\n      <td>None</td>\n      <td>None</td>\n      <td>None</td>\n      <td>None</td>\n    </tr>\n  </tbody>\n</table>\n<p>10 rows × 75 columns</p>\n</div>"
     },
     "execution_count": 4,
     "metadata": {},
     "output_type": "execute_result"
    }
   ],
   "source": [
    "# Get data\n",
    "daily = db.get_table(library='crsp', table='fund_summary2', obs=10)\n",
    "daily"
   ],
   "metadata": {
    "collapsed": false,
    "pycharm": {
     "name": "#%%\n"
    }
   }
  },
  {
   "cell_type": "code",
   "execution_count": 5,
   "outputs": [
    {
     "name": "stdout",
     "output_type": "stream",
     "text": [
      "fund_hdr --- ['fund_name']\n",
      "fund_hdr_hist --- ['fund_name']\n",
      "fund_names --- ['fund_name']\n",
      "fund_summary2 --- ['fund_name']\n",
      "mfdbname --- ['fund_name']\n",
      "portnomap --- ['fund_name']\n"
     ]
    }
   ],
   "source": [
    "for table in db.list_tables(library='crsp'):\n",
    "    try:\n",
    "        l= list(filter(lambda x: 'fund_name' in x, db.get_table(library='crsp', table=table, obs=1).keys()))\n",
    "    except:\n",
    "        pass\n",
    "    if len(l) > 0:\n",
    "        print(table, \"---\", l)"
   ],
   "metadata": {
    "collapsed": false,
    "pycharm": {
     "name": "#%%\n"
    }
   }
  },
  {
   "cell_type": "code",
   "execution_count": 31,
   "outputs": [
    {
     "name": "stdout",
     "output_type": "stream",
     "text": [
      "CPU times: user 2.46 ms, sys: 756 µs, total: 3.22 ms\n",
      "Wall time: 96.9 ms\n"
     ]
    },
    {
     "data": {
      "text/plain": "   crsp_fundno  crsp_portno       begdt       enddt    cusip8  crsp_cl_grp  \\\n0       4273.0    1000001.0  2003-07-31  2010-05-31  01877E10    2000866.0   \n1       4274.0    1000001.0  2003-07-31  2010-05-31  01877E20    2000866.0   \n2       4275.0    1000001.0  2003-07-31  2010-05-31  01877E40    2000866.0   \n3       4276.0    1000001.0  2003-07-31  2010-05-31  01877E50    2000866.0   \n4       4277.0    1000001.0  2005-03-31  2010-05-31  01877E60    2000866.0   \n\n                                           fund_name ticker     ncusip  \\\n0  AB Cap Fund, Inc: AB Small Cap Growth Portfoli...  QUASX  01877E107   \n1  AB Cap Fund, Inc: AB Small Cap Growth Portfoli...  QUABX  01877E206   \n2  AB Cap Fund, Inc: AB Small Cap Growth Portfoli...  QUACX  01877E404   \n3  AB Cap Fund, Inc: AB Small Cap Growth Portfoli...  QUAYX  01877E503   \n4  AB Cap Fund, Inc: AB Small Cap Growth Portfoli...  QUARX  01877E602   \n\n  first_offer_dt  ... retail_fund inst_fund m_fund index_fund_flag vau_fund  \\\n0     1969-02-12  ...           Y         N      N            None        N   \n1     1990-09-17  ...           Y         N      N            None        N   \n2     1993-05-03  ...           Y         N      N            None        N   \n3     1996-10-01  ...           N         Y      N            None        N   \n4     2005-03-01  ...           N         Y      N            None        N   \n\n  et_flag      end_dt dead_flag delist_cd merge_fundno  \n0    None  2021-12-31         N      None          NaN  \n1    None  2019-10-31         Y         M       4273.0  \n2    None  2021-12-31         N      None          NaN  \n3    None  2021-12-31         N      None          NaN  \n4    None  2021-12-31         N      None          NaN  \n\n[5 rows x 26 columns]",
      "text/html": "<div>\n<style scoped>\n    .dataframe tbody tr th:only-of-type {\n        vertical-align: middle;\n    }\n\n    .dataframe tbody tr th {\n        vertical-align: top;\n    }\n\n    .dataframe thead th {\n        text-align: right;\n    }\n</style>\n<table border=\"1\" class=\"dataframe\">\n  <thead>\n    <tr style=\"text-align: right;\">\n      <th></th>\n      <th>crsp_fundno</th>\n      <th>crsp_portno</th>\n      <th>begdt</th>\n      <th>enddt</th>\n      <th>cusip8</th>\n      <th>crsp_cl_grp</th>\n      <th>fund_name</th>\n      <th>ticker</th>\n      <th>ncusip</th>\n      <th>first_offer_dt</th>\n      <th>...</th>\n      <th>retail_fund</th>\n      <th>inst_fund</th>\n      <th>m_fund</th>\n      <th>index_fund_flag</th>\n      <th>vau_fund</th>\n      <th>et_flag</th>\n      <th>end_dt</th>\n      <th>dead_flag</th>\n      <th>delist_cd</th>\n      <th>merge_fundno</th>\n    </tr>\n  </thead>\n  <tbody>\n    <tr>\n      <th>0</th>\n      <td>4273.0</td>\n      <td>1000001.0</td>\n      <td>2003-07-31</td>\n      <td>2010-05-31</td>\n      <td>01877E10</td>\n      <td>2000866.0</td>\n      <td>AB Cap Fund, Inc: AB Small Cap Growth Portfoli...</td>\n      <td>QUASX</td>\n      <td>01877E107</td>\n      <td>1969-02-12</td>\n      <td>...</td>\n      <td>Y</td>\n      <td>N</td>\n      <td>N</td>\n      <td>None</td>\n      <td>N</td>\n      <td>None</td>\n      <td>2021-12-31</td>\n      <td>N</td>\n      <td>None</td>\n      <td>NaN</td>\n    </tr>\n    <tr>\n      <th>1</th>\n      <td>4274.0</td>\n      <td>1000001.0</td>\n      <td>2003-07-31</td>\n      <td>2010-05-31</td>\n      <td>01877E20</td>\n      <td>2000866.0</td>\n      <td>AB Cap Fund, Inc: AB Small Cap Growth Portfoli...</td>\n      <td>QUABX</td>\n      <td>01877E206</td>\n      <td>1990-09-17</td>\n      <td>...</td>\n      <td>Y</td>\n      <td>N</td>\n      <td>N</td>\n      <td>None</td>\n      <td>N</td>\n      <td>None</td>\n      <td>2019-10-31</td>\n      <td>Y</td>\n      <td>M</td>\n      <td>4273.0</td>\n    </tr>\n    <tr>\n      <th>2</th>\n      <td>4275.0</td>\n      <td>1000001.0</td>\n      <td>2003-07-31</td>\n      <td>2010-05-31</td>\n      <td>01877E40</td>\n      <td>2000866.0</td>\n      <td>AB Cap Fund, Inc: AB Small Cap Growth Portfoli...</td>\n      <td>QUACX</td>\n      <td>01877E404</td>\n      <td>1993-05-03</td>\n      <td>...</td>\n      <td>Y</td>\n      <td>N</td>\n      <td>N</td>\n      <td>None</td>\n      <td>N</td>\n      <td>None</td>\n      <td>2021-12-31</td>\n      <td>N</td>\n      <td>None</td>\n      <td>NaN</td>\n    </tr>\n    <tr>\n      <th>3</th>\n      <td>4276.0</td>\n      <td>1000001.0</td>\n      <td>2003-07-31</td>\n      <td>2010-05-31</td>\n      <td>01877E50</td>\n      <td>2000866.0</td>\n      <td>AB Cap Fund, Inc: AB Small Cap Growth Portfoli...</td>\n      <td>QUAYX</td>\n      <td>01877E503</td>\n      <td>1996-10-01</td>\n      <td>...</td>\n      <td>N</td>\n      <td>Y</td>\n      <td>N</td>\n      <td>None</td>\n      <td>N</td>\n      <td>None</td>\n      <td>2021-12-31</td>\n      <td>N</td>\n      <td>None</td>\n      <td>NaN</td>\n    </tr>\n    <tr>\n      <th>4</th>\n      <td>4277.0</td>\n      <td>1000001.0</td>\n      <td>2005-03-31</td>\n      <td>2010-05-31</td>\n      <td>01877E60</td>\n      <td>2000866.0</td>\n      <td>AB Cap Fund, Inc: AB Small Cap Growth Portfoli...</td>\n      <td>QUARX</td>\n      <td>01877E602</td>\n      <td>2005-03-01</td>\n      <td>...</td>\n      <td>N</td>\n      <td>Y</td>\n      <td>N</td>\n      <td>None</td>\n      <td>N</td>\n      <td>None</td>\n      <td>2021-12-31</td>\n      <td>N</td>\n      <td>None</td>\n      <td>NaN</td>\n    </tr>\n  </tbody>\n</table>\n<p>5 rows × 26 columns</p>\n</div>"
     },
     "execution_count": 31,
     "metadata": {},
     "output_type": "execute_result"
    }
   ],
   "source": [
    "%%time\n",
    "df_funds = db.get_table(library='crsp', table='portnomap', obs=5)\n",
    "df_funds"
   ],
   "metadata": {
    "collapsed": false,
    "pycharm": {
     "name": "#%%\n"
    }
   }
  },
  {
   "cell_type": "code",
   "execution_count": 41,
   "outputs": [],
   "source": [
    "df_funds_map = db.raw_sql('''\n",
    "        select distinct on (fund_name) fund_name, ticker, ncusip, cusip8\n",
    "        from crsp.portnomap\n",
    "        where begdt <= '2020-01-01' --and enddt >= '2022-01-01'\n",
    "        order by fund_name asc\n",
    "''')"
   ],
   "metadata": {
    "collapsed": false,
    "pycharm": {
     "name": "#%%\n"
    }
   }
  },
  {
   "cell_type": "code",
   "execution_count": 42,
   "outputs": [
    {
     "data": {
      "text/plain": "                                               fund_name ticker     ncusip  \\\n0      1290 Funds: 1290 Convertible Securities Fund; ...  TNFAX  68246A793   \n1      1290 Funds: 1290 Convertible Securities Fund; ...  TNFIX  68246A777   \n2      1290 Funds: 1290 Convertible Securities Fund; ...  TNFRX  68246A769   \n3      1290 Funds: 1290 Diversified Bond Fund; Class ...  TNUAX  68246A710   \n4      1290 Funds: 1290 Diversified Bond Fund; Class ...  TNUIX  68246A686   \n...                                                  ...    ...        ...   \n53857  YieldQuest Funds Trust: YieldQuest Tax-Exempt ...  YQTEX  98584A303   \n53858  YieldQuest Funds Trust: YieldQuest Tax-Exempt ...  YTEIX  98584A881   \n53859  YieldQuest Funds Trust: YieldQuest Total Retur...  YQTRX  98584A204   \n53860  YieldQuest Funds Trust: YieldQuest Total Retur...  YTRIX  98584A808   \n53861  Ziegler Exchange Traded Trust: NYSE Arca Tech ...    NXT  98951C106   \n\n         cusip8  \n0      68246A79  \n1      68246A77  \n2      68246A76  \n3      68246A71  \n4      68246A68  \n...         ...  \n53857  98584A30  \n53858  98584A88  \n53859  98584A20  \n53860  98584A80  \n53861  98951C10  \n\n[53862 rows x 4 columns]",
      "text/html": "<div>\n<style scoped>\n    .dataframe tbody tr th:only-of-type {\n        vertical-align: middle;\n    }\n\n    .dataframe tbody tr th {\n        vertical-align: top;\n    }\n\n    .dataframe thead th {\n        text-align: right;\n    }\n</style>\n<table border=\"1\" class=\"dataframe\">\n  <thead>\n    <tr style=\"text-align: right;\">\n      <th></th>\n      <th>fund_name</th>\n      <th>ticker</th>\n      <th>ncusip</th>\n      <th>cusip8</th>\n    </tr>\n  </thead>\n  <tbody>\n    <tr>\n      <th>0</th>\n      <td>1290 Funds: 1290 Convertible Securities Fund; ...</td>\n      <td>TNFAX</td>\n      <td>68246A793</td>\n      <td>68246A79</td>\n    </tr>\n    <tr>\n      <th>1</th>\n      <td>1290 Funds: 1290 Convertible Securities Fund; ...</td>\n      <td>TNFIX</td>\n      <td>68246A777</td>\n      <td>68246A77</td>\n    </tr>\n    <tr>\n      <th>2</th>\n      <td>1290 Funds: 1290 Convertible Securities Fund; ...</td>\n      <td>TNFRX</td>\n      <td>68246A769</td>\n      <td>68246A76</td>\n    </tr>\n    <tr>\n      <th>3</th>\n      <td>1290 Funds: 1290 Diversified Bond Fund; Class ...</td>\n      <td>TNUAX</td>\n      <td>68246A710</td>\n      <td>68246A71</td>\n    </tr>\n    <tr>\n      <th>4</th>\n      <td>1290 Funds: 1290 Diversified Bond Fund; Class ...</td>\n      <td>TNUIX</td>\n      <td>68246A686</td>\n      <td>68246A68</td>\n    </tr>\n    <tr>\n      <th>...</th>\n      <td>...</td>\n      <td>...</td>\n      <td>...</td>\n      <td>...</td>\n    </tr>\n    <tr>\n      <th>53857</th>\n      <td>YieldQuest Funds Trust: YieldQuest Tax-Exempt ...</td>\n      <td>YQTEX</td>\n      <td>98584A303</td>\n      <td>98584A30</td>\n    </tr>\n    <tr>\n      <th>53858</th>\n      <td>YieldQuest Funds Trust: YieldQuest Tax-Exempt ...</td>\n      <td>YTEIX</td>\n      <td>98584A881</td>\n      <td>98584A88</td>\n    </tr>\n    <tr>\n      <th>53859</th>\n      <td>YieldQuest Funds Trust: YieldQuest Total Retur...</td>\n      <td>YQTRX</td>\n      <td>98584A204</td>\n      <td>98584A20</td>\n    </tr>\n    <tr>\n      <th>53860</th>\n      <td>YieldQuest Funds Trust: YieldQuest Total Retur...</td>\n      <td>YTRIX</td>\n      <td>98584A808</td>\n      <td>98584A80</td>\n    </tr>\n    <tr>\n      <th>53861</th>\n      <td>Ziegler Exchange Traded Trust: NYSE Arca Tech ...</td>\n      <td>NXT</td>\n      <td>98951C106</td>\n      <td>98951C10</td>\n    </tr>\n  </tbody>\n</table>\n<p>53862 rows × 4 columns</p>\n</div>"
     },
     "execution_count": 42,
     "metadata": {},
     "output_type": "execute_result"
    }
   ],
   "source": [
    "df_funds_map"
   ],
   "metadata": {
    "collapsed": false,
    "pycharm": {
     "name": "#%%\n"
    }
   }
  },
  {
   "cell_type": "code",
   "execution_count": null,
   "outputs": [],
   "source": [],
   "metadata": {
    "collapsed": false,
    "pycharm": {
     "name": "#%%\n"
    }
   }
  },
  {
   "cell_type": "code",
   "execution_count": 44,
   "outputs": [
    {
     "data": {
      "text/plain": "                                            fund_name\n0   Advisors' Inner Circle Fund: Toews S&P 500 Hed...\n1   Advisors' Inner Circle Fund: Toews S&P 500 Hed...\n2   Advisors' Inner Circle Fund: United Associatio...\n3   Advisors' Inner Circle Fund: United Associatio...\n4   AIM Counselor Series Trust (Invesco Counselor ...\n..                                                ...\n95  Global X Funds: Global X S&P 500 Quality Divid...\n96  Global X Funds: Global X S&P 500 Risk Managed ...\n97     Global X Funds: Global X S&P 500 Tail Risk ETF\n98  Great West Fund, Inc: Great West S&P 500 Index...\n99  Great West Fund, Inc: Great West S&P 500 Index...\n\n[100 rows x 1 columns]",
      "text/html": "<div>\n<style scoped>\n    .dataframe tbody tr th:only-of-type {\n        vertical-align: middle;\n    }\n\n    .dataframe tbody tr th {\n        vertical-align: top;\n    }\n\n    .dataframe thead th {\n        text-align: right;\n    }\n</style>\n<table border=\"1\" class=\"dataframe\">\n  <thead>\n    <tr style=\"text-align: right;\">\n      <th></th>\n      <th>fund_name</th>\n    </tr>\n  </thead>\n  <tbody>\n    <tr>\n      <th>0</th>\n      <td>Advisors' Inner Circle Fund: Toews S&amp;P 500 Hed...</td>\n    </tr>\n    <tr>\n      <th>1</th>\n      <td>Advisors' Inner Circle Fund: Toews S&amp;P 500 Hed...</td>\n    </tr>\n    <tr>\n      <th>2</th>\n      <td>Advisors' Inner Circle Fund: United Associatio...</td>\n    </tr>\n    <tr>\n      <th>3</th>\n      <td>Advisors' Inner Circle Fund: United Associatio...</td>\n    </tr>\n    <tr>\n      <th>4</th>\n      <td>AIM Counselor Series Trust (Invesco Counselor ...</td>\n    </tr>\n    <tr>\n      <th>...</th>\n      <td>...</td>\n    </tr>\n    <tr>\n      <th>95</th>\n      <td>Global X Funds: Global X S&amp;P 500 Quality Divid...</td>\n    </tr>\n    <tr>\n      <th>96</th>\n      <td>Global X Funds: Global X S&amp;P 500 Risk Managed ...</td>\n    </tr>\n    <tr>\n      <th>97</th>\n      <td>Global X Funds: Global X S&amp;P 500 Tail Risk ETF</td>\n    </tr>\n    <tr>\n      <th>98</th>\n      <td>Great West Fund, Inc: Great West S&amp;P 500 Index...</td>\n    </tr>\n    <tr>\n      <th>99</th>\n      <td>Great West Fund, Inc: Great West S&amp;P 500 Index...</td>\n    </tr>\n  </tbody>\n</table>\n<p>100 rows × 1 columns</p>\n</div>"
     },
     "execution_count": 44,
     "metadata": {},
     "output_type": "execute_result"
    }
   ],
   "source": [
    "db.raw_sql('''\n",
    "        select distinct fund_name\n",
    "        from crsp.portnomap\n",
    "        where lower(fund_name::text) LIKE '%%s&p%%'\n",
    "            and lower(fund_name::text) LIKE '%%500%%'\n",
    "            --and lower(fund_name::text) LIKE '%%bond%%'\n",
    "            --and lower(fund_name::text) LIKE '%%national%%'\n",
    "            --and caldt >= '2010-01-31'\n",
    "     limit 100\n",
    "''')"
   ],
   "metadata": {
    "collapsed": false,
    "pycharm": {
     "name": "#%%\n"
    }
   }
  },
  {
   "cell_type": "code",
   "execution_count": 66,
   "outputs": [
    {
     "data": {
      "text/plain": "   summary_period2  crsp_fundno       caldt summary_period  nav_latest  \\\n0                Q      90300.0  2017-03-31              Q       10.63   \n1                Q      90300.0  2017-06-30              Q       10.80   \n2                Q      90300.0  2017-09-29              Q       11.53   \n3               AQ      90300.0  2017-12-29              Q       12.08   \n4                Q      90300.0  2018-03-29              Q       12.16   \n5                Q      90300.0  2018-06-29              Q       12.68   \n6                Q      90300.0  2018-09-28              Q       13.70   \n7               AQ      90300.0  2018-12-31              Q        9.98   \n8                Q      90300.0  2019-03-29              Q       11.30   \n9                Q      90300.0  2019-06-28              Q       11.64   \n10               Q      90300.0  2019-09-30              Q       11.93   \n11              AQ      90300.0  2019-12-31              Q       12.43   \n12               Q      90300.0  2020-03-31              Q        9.99   \n13               Q      90300.0  2020-06-30              Q       11.92   \n14               Q      90300.0  2020-09-30              Q       12.86   \n15              AQ      90300.0  2020-12-31              Q       13.97   \n16               Q      90300.0  2021-03-31              Q       14.91   \n17               Q      90300.0  2021-06-30              Q       16.12   \n18               Q      90300.0  2021-09-30              Q       16.07   \n19              AQ      90300.0  2021-12-31              Q       16.71   \n\n   nav_latest_dt  tna_latest tna_latest_dt     yield   div_ytd  ...  \\\n0     2017-03-31         2.1    2017-03-31       NaN       NaN  ...   \n1     2017-06-30         2.7    2017-06-30       NaN       NaN  ...   \n2     2017-09-29         2.9    2017-09-29       NaN       NaN  ...   \n3     2017-12-29         3.2    2017-12-29  0.013083  0.158048  ...   \n4     2018-03-29         3.1    2018-03-29       NaN       NaN  ...   \n5     2018-06-29         3.3    2018-06-29       NaN       NaN  ...   \n6     2018-09-28         3.5    2018-09-28       NaN       NaN  ...   \n7     2018-12-31         3.1    2018-12-31  0.020723  0.206817  ...   \n8     2019-03-29         3.5    2019-03-29       NaN       NaN  ...   \n9     2019-06-28         3.7    2019-06-28       NaN       NaN  ...   \n10    2019-09-30         6.5    2019-09-30       NaN       NaN  ...   \n11    2019-12-31         8.2    2019-12-31  0.012256  0.152347  ...   \n12    2020-03-31         6.3    2020-03-31       NaN       NaN  ...   \n13    2020-06-30         4.9    2020-06-30       NaN       NaN  ...   \n14    2020-09-30         6.3    2020-09-30       NaN       NaN  ...   \n15    2020-12-31        12.2    2020-12-31  0.009515  0.132926  ...   \n16    2021-03-31        13.3    2021-03-31       NaN       NaN  ...   \n17    2021-06-30        14.9    2021-06-30       NaN       NaN  ...   \n18    2021-09-30        15.6    2021-09-30       NaN       NaN  ...   \n19    2021-12-31        17.7    2021-12-31  0.010397  0.173740  ...   \n\n    accrual_fund  sales_restrict wbrger_obj_cd  policy lipper_class  \\\n0              N               N          None    None         SPSP   \n1              N               N          None    None         SPSP   \n2              N               N          None    None         SPSP   \n3              N               N          None    None         LCCE   \n4              N               N          None    None         LCCE   \n5              N               N          None    None         LCCE   \n6              N               N          None    None         LCCE   \n7              N               N          None    None         LCCE   \n8              N               N          None    None         LCCE   \n9              N               N          None    None         LCCE   \n10             N               N          None    None         LCCE   \n11             N               N          None    None         LCCE   \n12             N               N          None    None         LCCE   \n13             N               N          None    None         LCCE   \n14             N               N          None    None         LCCE   \n15             N               N          None    None         LCCE   \n16             N               N          None    None         LCCE   \n17             N               N          None    None         LCCE   \n18             N               N          None    None         LCCE   \n19             N               N          None    None         LCCE   \n\n       lipper_class_name lipper_obj_cd                lipper_obj_name  \\\n0    S&P 500 Index Funds            SP  S&P 500 INDEX OBJECTIVE FUNDS   \n1    S&P 500 Index Funds            SP  S&P 500 INDEX OBJECTIVE FUNDS   \n2    S&P 500 Index Funds            SP  S&P 500 INDEX OBJECTIVE FUNDS   \n3   Large-Cap Core Funds             G                   GROWTH FUNDS   \n4   Large-Cap Core Funds             G                   GROWTH FUNDS   \n5   Large-Cap Core Funds             G                   GROWTH FUNDS   \n6   Large-Cap Core Funds             G                   GROWTH FUNDS   \n7   Large-Cap Core Funds             G                   GROWTH FUNDS   \n8   Large-Cap Core Funds             G                   GROWTH FUNDS   \n9   Large-Cap Core Funds             G                   GROWTH FUNDS   \n10  Large-Cap Core Funds             G                   GROWTH FUNDS   \n11  Large-Cap Core Funds             G                   GROWTH FUNDS   \n12  Large-Cap Core Funds             G                   GROWTH FUNDS   \n13  Large-Cap Core Funds             G                   GROWTH FUNDS   \n14  Large-Cap Core Funds             G                   GROWTH FUNDS   \n15  Large-Cap Core Funds             G                   GROWTH FUNDS   \n16  Large-Cap Core Funds             G                   GROWTH FUNDS   \n17  Large-Cap Core Funds             G                   GROWTH FUNDS   \n18  Large-Cap Core Funds             G                   GROWTH FUNDS   \n19  Large-Cap Core Funds             G                   GROWTH FUNDS   \n\n    lipper_asset_cd  lipper_tax_cd  \n0                EQ        Taxable  \n1                EQ        Taxable  \n2                EQ        Taxable  \n3                EQ        Taxable  \n4                EQ        Taxable  \n5                EQ        Taxable  \n6                EQ        Taxable  \n7                EQ        Taxable  \n8                EQ        Taxable  \n9                EQ        Taxable  \n10               EQ        Taxable  \n11               EQ        Taxable  \n12               EQ        Taxable  \n13               EQ        Taxable  \n14               EQ        Taxable  \n15               EQ        Taxable  \n16               EQ        Taxable  \n17               EQ        Taxable  \n18               EQ        Taxable  \n19               EQ        Taxable  \n\n[20 rows x 75 columns]",
      "text/html": "<div>\n<style scoped>\n    .dataframe tbody tr th:only-of-type {\n        vertical-align: middle;\n    }\n\n    .dataframe tbody tr th {\n        vertical-align: top;\n    }\n\n    .dataframe thead th {\n        text-align: right;\n    }\n</style>\n<table border=\"1\" class=\"dataframe\">\n  <thead>\n    <tr style=\"text-align: right;\">\n      <th></th>\n      <th>summary_period2</th>\n      <th>crsp_fundno</th>\n      <th>caldt</th>\n      <th>summary_period</th>\n      <th>nav_latest</th>\n      <th>nav_latest_dt</th>\n      <th>tna_latest</th>\n      <th>tna_latest_dt</th>\n      <th>yield</th>\n      <th>div_ytd</th>\n      <th>...</th>\n      <th>accrual_fund</th>\n      <th>sales_restrict</th>\n      <th>wbrger_obj_cd</th>\n      <th>policy</th>\n      <th>lipper_class</th>\n      <th>lipper_class_name</th>\n      <th>lipper_obj_cd</th>\n      <th>lipper_obj_name</th>\n      <th>lipper_asset_cd</th>\n      <th>lipper_tax_cd</th>\n    </tr>\n  </thead>\n  <tbody>\n    <tr>\n      <th>0</th>\n      <td>Q</td>\n      <td>90300.0</td>\n      <td>2017-03-31</td>\n      <td>Q</td>\n      <td>10.63</td>\n      <td>2017-03-31</td>\n      <td>2.1</td>\n      <td>2017-03-31</td>\n      <td>NaN</td>\n      <td>NaN</td>\n      <td>...</td>\n      <td>N</td>\n      <td>N</td>\n      <td>None</td>\n      <td>None</td>\n      <td>SPSP</td>\n      <td>S&amp;P 500 Index Funds</td>\n      <td>SP</td>\n      <td>S&amp;P 500 INDEX OBJECTIVE FUNDS</td>\n      <td>EQ</td>\n      <td>Taxable</td>\n    </tr>\n    <tr>\n      <th>1</th>\n      <td>Q</td>\n      <td>90300.0</td>\n      <td>2017-06-30</td>\n      <td>Q</td>\n      <td>10.80</td>\n      <td>2017-06-30</td>\n      <td>2.7</td>\n      <td>2017-06-30</td>\n      <td>NaN</td>\n      <td>NaN</td>\n      <td>...</td>\n      <td>N</td>\n      <td>N</td>\n      <td>None</td>\n      <td>None</td>\n      <td>SPSP</td>\n      <td>S&amp;P 500 Index Funds</td>\n      <td>SP</td>\n      <td>S&amp;P 500 INDEX OBJECTIVE FUNDS</td>\n      <td>EQ</td>\n      <td>Taxable</td>\n    </tr>\n    <tr>\n      <th>2</th>\n      <td>Q</td>\n      <td>90300.0</td>\n      <td>2017-09-29</td>\n      <td>Q</td>\n      <td>11.53</td>\n      <td>2017-09-29</td>\n      <td>2.9</td>\n      <td>2017-09-29</td>\n      <td>NaN</td>\n      <td>NaN</td>\n      <td>...</td>\n      <td>N</td>\n      <td>N</td>\n      <td>None</td>\n      <td>None</td>\n      <td>SPSP</td>\n      <td>S&amp;P 500 Index Funds</td>\n      <td>SP</td>\n      <td>S&amp;P 500 INDEX OBJECTIVE FUNDS</td>\n      <td>EQ</td>\n      <td>Taxable</td>\n    </tr>\n    <tr>\n      <th>3</th>\n      <td>AQ</td>\n      <td>90300.0</td>\n      <td>2017-12-29</td>\n      <td>Q</td>\n      <td>12.08</td>\n      <td>2017-12-29</td>\n      <td>3.2</td>\n      <td>2017-12-29</td>\n      <td>0.013083</td>\n      <td>0.158048</td>\n      <td>...</td>\n      <td>N</td>\n      <td>N</td>\n      <td>None</td>\n      <td>None</td>\n      <td>LCCE</td>\n      <td>Large-Cap Core Funds</td>\n      <td>G</td>\n      <td>GROWTH FUNDS</td>\n      <td>EQ</td>\n      <td>Taxable</td>\n    </tr>\n    <tr>\n      <th>4</th>\n      <td>Q</td>\n      <td>90300.0</td>\n      <td>2018-03-29</td>\n      <td>Q</td>\n      <td>12.16</td>\n      <td>2018-03-29</td>\n      <td>3.1</td>\n      <td>2018-03-29</td>\n      <td>NaN</td>\n      <td>NaN</td>\n      <td>...</td>\n      <td>N</td>\n      <td>N</td>\n      <td>None</td>\n      <td>None</td>\n      <td>LCCE</td>\n      <td>Large-Cap Core Funds</td>\n      <td>G</td>\n      <td>GROWTH FUNDS</td>\n      <td>EQ</td>\n      <td>Taxable</td>\n    </tr>\n    <tr>\n      <th>5</th>\n      <td>Q</td>\n      <td>90300.0</td>\n      <td>2018-06-29</td>\n      <td>Q</td>\n      <td>12.68</td>\n      <td>2018-06-29</td>\n      <td>3.3</td>\n      <td>2018-06-29</td>\n      <td>NaN</td>\n      <td>NaN</td>\n      <td>...</td>\n      <td>N</td>\n      <td>N</td>\n      <td>None</td>\n      <td>None</td>\n      <td>LCCE</td>\n      <td>Large-Cap Core Funds</td>\n      <td>G</td>\n      <td>GROWTH FUNDS</td>\n      <td>EQ</td>\n      <td>Taxable</td>\n    </tr>\n    <tr>\n      <th>6</th>\n      <td>Q</td>\n      <td>90300.0</td>\n      <td>2018-09-28</td>\n      <td>Q</td>\n      <td>13.70</td>\n      <td>2018-09-28</td>\n      <td>3.5</td>\n      <td>2018-09-28</td>\n      <td>NaN</td>\n      <td>NaN</td>\n      <td>...</td>\n      <td>N</td>\n      <td>N</td>\n      <td>None</td>\n      <td>None</td>\n      <td>LCCE</td>\n      <td>Large-Cap Core Funds</td>\n      <td>G</td>\n      <td>GROWTH FUNDS</td>\n      <td>EQ</td>\n      <td>Taxable</td>\n    </tr>\n    <tr>\n      <th>7</th>\n      <td>AQ</td>\n      <td>90300.0</td>\n      <td>2018-12-31</td>\n      <td>Q</td>\n      <td>9.98</td>\n      <td>2018-12-31</td>\n      <td>3.1</td>\n      <td>2018-12-31</td>\n      <td>0.020723</td>\n      <td>0.206817</td>\n      <td>...</td>\n      <td>N</td>\n      <td>N</td>\n      <td>None</td>\n      <td>None</td>\n      <td>LCCE</td>\n      <td>Large-Cap Core Funds</td>\n      <td>G</td>\n      <td>GROWTH FUNDS</td>\n      <td>EQ</td>\n      <td>Taxable</td>\n    </tr>\n    <tr>\n      <th>8</th>\n      <td>Q</td>\n      <td>90300.0</td>\n      <td>2019-03-29</td>\n      <td>Q</td>\n      <td>11.30</td>\n      <td>2019-03-29</td>\n      <td>3.5</td>\n      <td>2019-03-29</td>\n      <td>NaN</td>\n      <td>NaN</td>\n      <td>...</td>\n      <td>N</td>\n      <td>N</td>\n      <td>None</td>\n      <td>None</td>\n      <td>LCCE</td>\n      <td>Large-Cap Core Funds</td>\n      <td>G</td>\n      <td>GROWTH FUNDS</td>\n      <td>EQ</td>\n      <td>Taxable</td>\n    </tr>\n    <tr>\n      <th>9</th>\n      <td>Q</td>\n      <td>90300.0</td>\n      <td>2019-06-28</td>\n      <td>Q</td>\n      <td>11.64</td>\n      <td>2019-06-28</td>\n      <td>3.7</td>\n      <td>2019-06-28</td>\n      <td>NaN</td>\n      <td>NaN</td>\n      <td>...</td>\n      <td>N</td>\n      <td>N</td>\n      <td>None</td>\n      <td>None</td>\n      <td>LCCE</td>\n      <td>Large-Cap Core Funds</td>\n      <td>G</td>\n      <td>GROWTH FUNDS</td>\n      <td>EQ</td>\n      <td>Taxable</td>\n    </tr>\n    <tr>\n      <th>10</th>\n      <td>Q</td>\n      <td>90300.0</td>\n      <td>2019-09-30</td>\n      <td>Q</td>\n      <td>11.93</td>\n      <td>2019-09-30</td>\n      <td>6.5</td>\n      <td>2019-09-30</td>\n      <td>NaN</td>\n      <td>NaN</td>\n      <td>...</td>\n      <td>N</td>\n      <td>N</td>\n      <td>None</td>\n      <td>None</td>\n      <td>LCCE</td>\n      <td>Large-Cap Core Funds</td>\n      <td>G</td>\n      <td>GROWTH FUNDS</td>\n      <td>EQ</td>\n      <td>Taxable</td>\n    </tr>\n    <tr>\n      <th>11</th>\n      <td>AQ</td>\n      <td>90300.0</td>\n      <td>2019-12-31</td>\n      <td>Q</td>\n      <td>12.43</td>\n      <td>2019-12-31</td>\n      <td>8.2</td>\n      <td>2019-12-31</td>\n      <td>0.012256</td>\n      <td>0.152347</td>\n      <td>...</td>\n      <td>N</td>\n      <td>N</td>\n      <td>None</td>\n      <td>None</td>\n      <td>LCCE</td>\n      <td>Large-Cap Core Funds</td>\n      <td>G</td>\n      <td>GROWTH FUNDS</td>\n      <td>EQ</td>\n      <td>Taxable</td>\n    </tr>\n    <tr>\n      <th>12</th>\n      <td>Q</td>\n      <td>90300.0</td>\n      <td>2020-03-31</td>\n      <td>Q</td>\n      <td>9.99</td>\n      <td>2020-03-31</td>\n      <td>6.3</td>\n      <td>2020-03-31</td>\n      <td>NaN</td>\n      <td>NaN</td>\n      <td>...</td>\n      <td>N</td>\n      <td>N</td>\n      <td>None</td>\n      <td>None</td>\n      <td>LCCE</td>\n      <td>Large-Cap Core Funds</td>\n      <td>G</td>\n      <td>GROWTH FUNDS</td>\n      <td>EQ</td>\n      <td>Taxable</td>\n    </tr>\n    <tr>\n      <th>13</th>\n      <td>Q</td>\n      <td>90300.0</td>\n      <td>2020-06-30</td>\n      <td>Q</td>\n      <td>11.92</td>\n      <td>2020-06-30</td>\n      <td>4.9</td>\n      <td>2020-06-30</td>\n      <td>NaN</td>\n      <td>NaN</td>\n      <td>...</td>\n      <td>N</td>\n      <td>N</td>\n      <td>None</td>\n      <td>None</td>\n      <td>LCCE</td>\n      <td>Large-Cap Core Funds</td>\n      <td>G</td>\n      <td>GROWTH FUNDS</td>\n      <td>EQ</td>\n      <td>Taxable</td>\n    </tr>\n    <tr>\n      <th>14</th>\n      <td>Q</td>\n      <td>90300.0</td>\n      <td>2020-09-30</td>\n      <td>Q</td>\n      <td>12.86</td>\n      <td>2020-09-30</td>\n      <td>6.3</td>\n      <td>2020-09-30</td>\n      <td>NaN</td>\n      <td>NaN</td>\n      <td>...</td>\n      <td>N</td>\n      <td>N</td>\n      <td>None</td>\n      <td>None</td>\n      <td>LCCE</td>\n      <td>Large-Cap Core Funds</td>\n      <td>G</td>\n      <td>GROWTH FUNDS</td>\n      <td>EQ</td>\n      <td>Taxable</td>\n    </tr>\n    <tr>\n      <th>15</th>\n      <td>AQ</td>\n      <td>90300.0</td>\n      <td>2020-12-31</td>\n      <td>Q</td>\n      <td>13.97</td>\n      <td>2020-12-31</td>\n      <td>12.2</td>\n      <td>2020-12-31</td>\n      <td>0.009515</td>\n      <td>0.132926</td>\n      <td>...</td>\n      <td>N</td>\n      <td>N</td>\n      <td>None</td>\n      <td>None</td>\n      <td>LCCE</td>\n      <td>Large-Cap Core Funds</td>\n      <td>G</td>\n      <td>GROWTH FUNDS</td>\n      <td>EQ</td>\n      <td>Taxable</td>\n    </tr>\n    <tr>\n      <th>16</th>\n      <td>Q</td>\n      <td>90300.0</td>\n      <td>2021-03-31</td>\n      <td>Q</td>\n      <td>14.91</td>\n      <td>2021-03-31</td>\n      <td>13.3</td>\n      <td>2021-03-31</td>\n      <td>NaN</td>\n      <td>NaN</td>\n      <td>...</td>\n      <td>N</td>\n      <td>N</td>\n      <td>None</td>\n      <td>None</td>\n      <td>LCCE</td>\n      <td>Large-Cap Core Funds</td>\n      <td>G</td>\n      <td>GROWTH FUNDS</td>\n      <td>EQ</td>\n      <td>Taxable</td>\n    </tr>\n    <tr>\n      <th>17</th>\n      <td>Q</td>\n      <td>90300.0</td>\n      <td>2021-06-30</td>\n      <td>Q</td>\n      <td>16.12</td>\n      <td>2021-06-30</td>\n      <td>14.9</td>\n      <td>2021-06-30</td>\n      <td>NaN</td>\n      <td>NaN</td>\n      <td>...</td>\n      <td>N</td>\n      <td>N</td>\n      <td>None</td>\n      <td>None</td>\n      <td>LCCE</td>\n      <td>Large-Cap Core Funds</td>\n      <td>G</td>\n      <td>GROWTH FUNDS</td>\n      <td>EQ</td>\n      <td>Taxable</td>\n    </tr>\n    <tr>\n      <th>18</th>\n      <td>Q</td>\n      <td>90300.0</td>\n      <td>2021-09-30</td>\n      <td>Q</td>\n      <td>16.07</td>\n      <td>2021-09-30</td>\n      <td>15.6</td>\n      <td>2021-09-30</td>\n      <td>NaN</td>\n      <td>NaN</td>\n      <td>...</td>\n      <td>N</td>\n      <td>N</td>\n      <td>None</td>\n      <td>None</td>\n      <td>LCCE</td>\n      <td>Large-Cap Core Funds</td>\n      <td>G</td>\n      <td>GROWTH FUNDS</td>\n      <td>EQ</td>\n      <td>Taxable</td>\n    </tr>\n    <tr>\n      <th>19</th>\n      <td>AQ</td>\n      <td>90300.0</td>\n      <td>2021-12-31</td>\n      <td>Q</td>\n      <td>16.71</td>\n      <td>2021-12-31</td>\n      <td>17.7</td>\n      <td>2021-12-31</td>\n      <td>0.010397</td>\n      <td>0.173740</td>\n      <td>...</td>\n      <td>N</td>\n      <td>N</td>\n      <td>None</td>\n      <td>None</td>\n      <td>LCCE</td>\n      <td>Large-Cap Core Funds</td>\n      <td>G</td>\n      <td>GROWTH FUNDS</td>\n      <td>EQ</td>\n      <td>Taxable</td>\n    </tr>\n  </tbody>\n</table>\n<p>20 rows × 75 columns</p>\n</div>"
     },
     "execution_count": 66,
     "metadata": {},
     "output_type": "execute_result"
    }
   ],
   "source": [
    "db.raw_sql('''\n",
    "        select *\n",
    "        from crsp.fund_summary2\n",
    "        where fund_name LIKE '%%FundVantage Trust: Gotham Enhanced S&P 500 Index Fund; Institutional Class Shares%%'\n",
    "        --and caldt >= '2010-01-31'\n",
    "''')"
   ],
   "metadata": {
    "collapsed": false,
    "pycharm": {
     "name": "#%%\n"
    }
   }
  },
  {
   "cell_type": "code",
   "execution_count": 64,
   "outputs": [
    {
     "data": {
      "text/plain": "   crsp_fundno  crsp_portno       begdt       enddt    cusip8  crsp_cl_grp  \\\n0      90300.0    1049570.0  2017-01-01  2021-12-31  36087532    2103780.0   \n\n                                           fund_name ticker     ncusip  \\\n0  FundVantage Trust: Gotham Enhanced S&P 500 Ind...  GSPFX  360875322   \n\n  first_offer_dt  ... retail_fund inst_fund m_fund index_fund_flag vau_fund  \\\n0     2016-12-30  ...           N         Y      N               B        N   \n\n  et_flag      end_dt dead_flag delist_cd merge_fundno  \n0    None  2021-12-31         N      None         None  \n\n[1 rows x 26 columns]",
      "text/html": "<div>\n<style scoped>\n    .dataframe tbody tr th:only-of-type {\n        vertical-align: middle;\n    }\n\n    .dataframe tbody tr th {\n        vertical-align: top;\n    }\n\n    .dataframe thead th {\n        text-align: right;\n    }\n</style>\n<table border=\"1\" class=\"dataframe\">\n  <thead>\n    <tr style=\"text-align: right;\">\n      <th></th>\n      <th>crsp_fundno</th>\n      <th>crsp_portno</th>\n      <th>begdt</th>\n      <th>enddt</th>\n      <th>cusip8</th>\n      <th>crsp_cl_grp</th>\n      <th>fund_name</th>\n      <th>ticker</th>\n      <th>ncusip</th>\n      <th>first_offer_dt</th>\n      <th>...</th>\n      <th>retail_fund</th>\n      <th>inst_fund</th>\n      <th>m_fund</th>\n      <th>index_fund_flag</th>\n      <th>vau_fund</th>\n      <th>et_flag</th>\n      <th>end_dt</th>\n      <th>dead_flag</th>\n      <th>delist_cd</th>\n      <th>merge_fundno</th>\n    </tr>\n  </thead>\n  <tbody>\n    <tr>\n      <th>0</th>\n      <td>90300.0</td>\n      <td>1049570.0</td>\n      <td>2017-01-01</td>\n      <td>2021-12-31</td>\n      <td>36087532</td>\n      <td>2103780.0</td>\n      <td>FundVantage Trust: Gotham Enhanced S&amp;P 500 Ind...</td>\n      <td>GSPFX</td>\n      <td>360875322</td>\n      <td>2016-12-30</td>\n      <td>...</td>\n      <td>N</td>\n      <td>Y</td>\n      <td>N</td>\n      <td>B</td>\n      <td>N</td>\n      <td>None</td>\n      <td>2021-12-31</td>\n      <td>N</td>\n      <td>None</td>\n      <td>None</td>\n    </tr>\n  </tbody>\n</table>\n<p>1 rows × 26 columns</p>\n</div>"
     },
     "execution_count": 64,
     "metadata": {},
     "output_type": "execute_result"
    }
   ],
   "source": [
    "db.raw_sql('''\n",
    "        select *\n",
    "        from crsp.portnomap\n",
    "        where (fund_name::text) LIKE '%%FundVantage Trust: Gotham Enhanced S&P 500 Index Fund; Institutional Class Shares%%'\n",
    "        --and caldt >= '2010-01-31'\n",
    "''')"
   ],
   "metadata": {
    "collapsed": false,
    "pycharm": {
     "name": "#%%\n"
    }
   }
  },
  {
   "cell_type": "code",
   "execution_count": null,
   "outputs": [],
   "source": [],
   "metadata": {
    "collapsed": false,
    "pycharm": {
     "name": "#%%\n"
    }
   }
  },
  {
   "cell_type": "code",
   "execution_count": 76,
   "outputs": [
    {
     "data": {
      "text/plain": "   crsp_fundno  count       max       avg\n0      11972.0    724  0.116549  0.008918\n1      11893.0    722  0.182182  0.009561\n2      12884.0    720  0.191419  0.007158\n3       5254.0    720  0.134024  0.009214\n4      30976.0    720  0.428390  0.010923\n5      22030.0    720  0.183365  0.009411\n6      12883.0    720  0.223485  0.007752\n7      18675.0    720  0.147430  0.006090\n8      24797.0    720  0.202020  0.009152\n9      31276.0    720  0.186667  0.009923",
      "text/html": "<div>\n<style scoped>\n    .dataframe tbody tr th:only-of-type {\n        vertical-align: middle;\n    }\n\n    .dataframe tbody tr th {\n        vertical-align: top;\n    }\n\n    .dataframe thead th {\n        text-align: right;\n    }\n</style>\n<table border=\"1\" class=\"dataframe\">\n  <thead>\n    <tr style=\"text-align: right;\">\n      <th></th>\n      <th>crsp_fundno</th>\n      <th>count</th>\n      <th>max</th>\n      <th>avg</th>\n    </tr>\n  </thead>\n  <tbody>\n    <tr>\n      <th>0</th>\n      <td>11972.0</td>\n      <td>724</td>\n      <td>0.116549</td>\n      <td>0.008918</td>\n    </tr>\n    <tr>\n      <th>1</th>\n      <td>11893.0</td>\n      <td>722</td>\n      <td>0.182182</td>\n      <td>0.009561</td>\n    </tr>\n    <tr>\n      <th>2</th>\n      <td>12884.0</td>\n      <td>720</td>\n      <td>0.191419</td>\n      <td>0.007158</td>\n    </tr>\n    <tr>\n      <th>3</th>\n      <td>5254.0</td>\n      <td>720</td>\n      <td>0.134024</td>\n      <td>0.009214</td>\n    </tr>\n    <tr>\n      <th>4</th>\n      <td>30976.0</td>\n      <td>720</td>\n      <td>0.428390</td>\n      <td>0.010923</td>\n    </tr>\n    <tr>\n      <th>5</th>\n      <td>22030.0</td>\n      <td>720</td>\n      <td>0.183365</td>\n      <td>0.009411</td>\n    </tr>\n    <tr>\n      <th>6</th>\n      <td>12883.0</td>\n      <td>720</td>\n      <td>0.223485</td>\n      <td>0.007752</td>\n    </tr>\n    <tr>\n      <th>7</th>\n      <td>18675.0</td>\n      <td>720</td>\n      <td>0.147430</td>\n      <td>0.006090</td>\n    </tr>\n    <tr>\n      <th>8</th>\n      <td>24797.0</td>\n      <td>720</td>\n      <td>0.202020</td>\n      <td>0.009152</td>\n    </tr>\n    <tr>\n      <th>9</th>\n      <td>31276.0</td>\n      <td>720</td>\n      <td>0.186667</td>\n      <td>0.009923</td>\n    </tr>\n  </tbody>\n</table>\n</div>"
     },
     "execution_count": 76,
     "metadata": {},
     "output_type": "execute_result"
    }
   ],
   "source": [
    "db.raw_sql('''\n",
    "        select crsp_fundno, count(mret), max(mret), avg(mret)\n",
    "        from crsp_q_mutualfunds.monthly_tna_ret_nav\n",
    "        group by crsp_fundno\n",
    "        order by count(mret) desc\n",
    "     limit 10\n",
    "''')"
   ],
   "metadata": {
    "collapsed": false,
    "pycharm": {
     "name": "#%%\n"
    }
   }
  },
  {
   "cell_type": "code",
   "execution_count": null,
   "outputs": [],
   "source": [],
   "metadata": {
    "collapsed": false,
    "pycharm": {
     "name": "#%%\n"
    }
   }
  }
 ],
 "metadata": {
  "kernelspec": {
   "display_name": "Python 3",
   "language": "python",
   "name": "python3"
  },
  "language_info": {
   "codemirror_mode": {
    "name": "ipython",
    "version": 2
   },
   "file_extension": ".py",
   "mimetype": "text/x-python",
   "name": "python",
   "nbconvert_exporter": "python",
   "pygments_lexer": "ipython2",
   "version": "2.7.6"
  }
 },
 "nbformat": 4,
 "nbformat_minor": 0
}