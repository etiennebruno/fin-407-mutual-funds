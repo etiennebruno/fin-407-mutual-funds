{
 "cells": [
  {
   "cell_type": "code",
   "execution_count": 1,
   "metadata": {},
   "outputs": [
    {
     "data": {
      "text/html": [
       "<style>.container { width:80% !important; }</style>"
      ],
      "text/plain": [
       "<IPython.core.display.HTML object>"
      ]
     },
     "metadata": {},
     "output_type": "display_data"
    }
   ],
   "source": [
    "from IPython.display import display, HTML\n",
    "display(HTML(\"<style>.container { width:80% !important; }</style>\"))"
   ]
  },
  {
   "cell_type": "markdown",
   "metadata": {},
   "source": [
    "## GET AVERAGE RETURNS OVER TIME OF THE AVAILABLE FUNDS"
   ]
  },
  {
   "cell_type": "code",
   "execution_count": 2,
   "metadata": {},
   "outputs": [
    {
     "name": "stdout",
     "output_type": "stream",
     "text": [
      "Loading library list...\n",
      "Done\n"
     ]
    }
   ],
   "source": [
    "# Connection to WRDS\n",
    "import wrds\n",
    "db = wrds.Connection(wrds_username='etiennebruno')"
   ]
  },
  {
   "cell_type": "code",
   "execution_count": 7,
   "metadata": {},
   "outputs": [],
   "source": [
    "# Import CIKs from the dataframe of all cleaned filings\n",
    "from utils import *\n",
    "ciks = ', '.join(list(df_from_filings().cik.unique()))"
   ]
  },
  {
   "cell_type": "code",
   "execution_count": 9,
   "metadata": {},
   "outputs": [],
   "source": [
    "# Get all cik number available (intersection between our dataframe and the data on CRSP)\n",
    "ciks_data = db.raw_sql(f'''\n",
    "        select distinct comp_cik\n",
    "        from crsp_q_mutualfunds.crsp_cik_map\n",
    "        where comp_cik in ({ciks})\n",
    "''')\n",
    "cik_available = list(ciks_data.comp_cik)\n",
    "cik_available = ', '.join([str(i) for i in cik_available])"
   ]
  },
  {
   "cell_type": "code",
   "execution_count": 10,
   "metadata": {},
   "outputs": [
    {
     "data": {
      "text/html": [
       "<div>\n",
       "<style scoped>\n",
       "    .dataframe tbody tr th:only-of-type {\n",
       "        vertical-align: middle;\n",
       "    }\n",
       "\n",
       "    .dataframe tbody tr th {\n",
       "        vertical-align: top;\n",
       "    }\n",
       "\n",
       "    .dataframe thead th {\n",
       "        text-align: right;\n",
       "    }\n",
       "</style>\n",
       "<table border=\"1\" class=\"dataframe\">\n",
       "  <thead>\n",
       "    <tr style=\"text-align: right;\">\n",
       "      <th></th>\n",
       "      <th>crsp_fundno</th>\n",
       "      <th>comp_cik</th>\n",
       "      <th>series_cik</th>\n",
       "      <th>contract_cik</th>\n",
       "    </tr>\n",
       "  </thead>\n",
       "  <tbody>\n",
       "    <tr>\n",
       "      <th>0</th>\n",
       "      <td>3569.0</td>\n",
       "      <td>1830437.0</td>\n",
       "      <td>S000074043</td>\n",
       "      <td>C000231400</td>\n",
       "    </tr>\n",
       "    <tr>\n",
       "      <th>1</th>\n",
       "      <td>3691.0</td>\n",
       "      <td>1576367.0</td>\n",
       "      <td>S000013666</td>\n",
       "      <td>C000037424</td>\n",
       "    </tr>\n",
       "    <tr>\n",
       "      <th>2</th>\n",
       "      <td>3966.0</td>\n",
       "      <td>1707560.0</td>\n",
       "      <td>S000066202</td>\n",
       "      <td>C000213944</td>\n",
       "    </tr>\n",
       "    <tr>\n",
       "      <th>3</th>\n",
       "      <td>5463.0</td>\n",
       "      <td>1650149.0</td>\n",
       "      <td>S000054431</td>\n",
       "      <td>C000170953</td>\n",
       "    </tr>\n",
       "    <tr>\n",
       "      <th>4</th>\n",
       "      <td>5669.0</td>\n",
       "      <td>1750821.0</td>\n",
       "      <td>S000070728</td>\n",
       "      <td>C000224837</td>\n",
       "    </tr>\n",
       "    <tr>\n",
       "      <th>...</th>\n",
       "      <td>...</td>\n",
       "      <td>...</td>\n",
       "      <td>...</td>\n",
       "      <td>...</td>\n",
       "    </tr>\n",
       "    <tr>\n",
       "      <th>1782</th>\n",
       "      <td>99514.0</td>\n",
       "      <td>1587551.0</td>\n",
       "      <td>S000074761</td>\n",
       "      <td>C000232932</td>\n",
       "    </tr>\n",
       "    <tr>\n",
       "      <th>1783</th>\n",
       "      <td>99591.0</td>\n",
       "      <td>1810747.0</td>\n",
       "      <td>S000075090</td>\n",
       "      <td>C000233895</td>\n",
       "    </tr>\n",
       "    <tr>\n",
       "      <th>1784</th>\n",
       "      <td>99710.0</td>\n",
       "      <td>1587551.0</td>\n",
       "      <td>S000060087</td>\n",
       "      <td>C000206947</td>\n",
       "    </tr>\n",
       "    <tr>\n",
       "      <th>1785</th>\n",
       "      <td>99711.0</td>\n",
       "      <td>1587551.0</td>\n",
       "      <td>S000060087</td>\n",
       "      <td>C000225339</td>\n",
       "    </tr>\n",
       "    <tr>\n",
       "      <th>1786</th>\n",
       "      <td>99712.0</td>\n",
       "      <td>1587551.0</td>\n",
       "      <td>S000063935</td>\n",
       "      <td>C000206937</td>\n",
       "    </tr>\n",
       "  </tbody>\n",
       "</table>\n",
       "<p>1787 rows × 4 columns</p>\n",
       "</div>"
      ],
      "text/plain": [
       "      crsp_fundno   comp_cik  series_cik contract_cik\n",
       "0          3569.0  1830437.0  S000074043   C000231400\n",
       "1          3691.0  1576367.0  S000013666   C000037424\n",
       "2          3966.0  1707560.0  S000066202   C000213944\n",
       "3          5463.0  1650149.0  S000054431   C000170953\n",
       "4          5669.0  1750821.0  S000070728   C000224837\n",
       "...           ...        ...         ...          ...\n",
       "1782      99514.0  1587551.0  S000074761   C000232932\n",
       "1783      99591.0  1810747.0  S000075090   C000233895\n",
       "1784      99710.0  1587551.0  S000060087   C000206947\n",
       "1785      99711.0  1587551.0  S000060087   C000225339\n",
       "1786      99712.0  1587551.0  S000063935   C000206937\n",
       "\n",
       "[1787 rows x 4 columns]"
      ]
     },
     "execution_count": 10,
     "metadata": {},
     "output_type": "execute_result"
    }
   ],
   "source": [
    "# With the mapping table of CRSP, get all companies' fund number\n",
    "crsp_fundno_available = db.raw_sql(f'''\n",
    "        select *\n",
    "        from crsp_q_mutualfunds.crsp_cik_map\n",
    "        where comp_cik in ({cik_available})\n",
    "''')\n",
    "crsp_fundno_available"
   ]
  },
  {
   "cell_type": "code",
   "execution_count": 11,
   "metadata": {},
   "outputs": [],
   "source": [
    "# Convert the list of fund numbers to a list of string type for future SQL queries\n",
    "list_float_fundnos = list(crsp_fundno_available.crsp_fundno.unique())\n",
    "crsp_fundno_available_list_str = ', '.join([str(i) for i in list_float_fundnos])"
   ]
  },
  {
   "cell_type": "code",
   "execution_count": 12,
   "metadata": {},
   "outputs": [
    {
     "data": {
      "text/html": [
       "<div>\n",
       "<style scoped>\n",
       "    .dataframe tbody tr th:only-of-type {\n",
       "        vertical-align: middle;\n",
       "    }\n",
       "\n",
       "    .dataframe tbody tr th {\n",
       "        vertical-align: top;\n",
       "    }\n",
       "\n",
       "    .dataframe thead th {\n",
       "        text-align: right;\n",
       "    }\n",
       "</style>\n",
       "<table border=\"1\" class=\"dataframe\">\n",
       "  <thead>\n",
       "    <tr style=\"text-align: right;\">\n",
       "      <th></th>\n",
       "      <th>crsp_fundno</th>\n",
       "      <th>caldt</th>\n",
       "      <th>mret</th>\n",
       "    </tr>\n",
       "  </thead>\n",
       "  <tbody>\n",
       "    <tr>\n",
       "      <th>0</th>\n",
       "      <td>88660.0</td>\n",
       "      <td>2022-03-31</td>\n",
       "      <td>0.025914</td>\n",
       "    </tr>\n",
       "    <tr>\n",
       "      <th>1</th>\n",
       "      <td>6172.0</td>\n",
       "      <td>2022-03-31</td>\n",
       "      <td>-0.028180</td>\n",
       "    </tr>\n",
       "    <tr>\n",
       "      <th>2</th>\n",
       "      <td>59199.0</td>\n",
       "      <td>2022-03-31</td>\n",
       "      <td>-0.011579</td>\n",
       "    </tr>\n",
       "    <tr>\n",
       "      <th>3</th>\n",
       "      <td>90323.0</td>\n",
       "      <td>2022-03-31</td>\n",
       "      <td>-0.005836</td>\n",
       "    </tr>\n",
       "    <tr>\n",
       "      <th>4</th>\n",
       "      <td>87870.0</td>\n",
       "      <td>2022-03-31</td>\n",
       "      <td>0.021689</td>\n",
       "    </tr>\n",
       "    <tr>\n",
       "      <th>...</th>\n",
       "      <td>...</td>\n",
       "      <td>...</td>\n",
       "      <td>...</td>\n",
       "    </tr>\n",
       "    <tr>\n",
       "      <th>90891</th>\n",
       "      <td>10962.0</td>\n",
       "      <td>1962-04-30</td>\n",
       "      <td>-0.045333</td>\n",
       "    </tr>\n",
       "    <tr>\n",
       "      <th>90892</th>\n",
       "      <td>10962.0</td>\n",
       "      <td>1962-03-30</td>\n",
       "      <td>NaN</td>\n",
       "    </tr>\n",
       "    <tr>\n",
       "      <th>90893</th>\n",
       "      <td>10962.0</td>\n",
       "      <td>1962-02-28</td>\n",
       "      <td>NaN</td>\n",
       "    </tr>\n",
       "    <tr>\n",
       "      <th>90894</th>\n",
       "      <td>10962.0</td>\n",
       "      <td>1962-01-31</td>\n",
       "      <td>NaN</td>\n",
       "    </tr>\n",
       "    <tr>\n",
       "      <th>90895</th>\n",
       "      <td>10962.0</td>\n",
       "      <td>1961-12-29</td>\n",
       "      <td>NaN</td>\n",
       "    </tr>\n",
       "  </tbody>\n",
       "</table>\n",
       "<p>90896 rows × 3 columns</p>\n",
       "</div>"
      ],
      "text/plain": [
       "       crsp_fundno       caldt      mret\n",
       "0          88660.0  2022-03-31  0.025914\n",
       "1           6172.0  2022-03-31 -0.028180\n",
       "2          59199.0  2022-03-31 -0.011579\n",
       "3          90323.0  2022-03-31 -0.005836\n",
       "4          87870.0  2022-03-31  0.021689\n",
       "...            ...         ...       ...\n",
       "90891      10962.0  1962-04-30 -0.045333\n",
       "90892      10962.0  1962-03-30       NaN\n",
       "90893      10962.0  1962-02-28       NaN\n",
       "90894      10962.0  1962-01-31       NaN\n",
       "90895      10962.0  1961-12-29       NaN\n",
       "\n",
       "[90896 rows x 3 columns]"
      ]
     },
     "execution_count": 12,
     "metadata": {},
     "output_type": "execute_result"
    }
   ],
   "source": [
    "# Get all available returns for each fund\n",
    "monthly_returns_all_funds = db.raw_sql(f'''\n",
    "        select *\n",
    "        from crsp_q_mutualfunds.monthly_returns\n",
    "        where crsp_fundno in ({crsp_fundno_available_list_str})\n",
    "        order by caldt desc\n",
    "''')\n",
    "monthly_returns_all_funds"
   ]
  },
  {
   "cell_type": "markdown",
   "metadata": {},
   "source": [
    "## GET AVERAGE RETURNS OVER TIME OF THE AVAILABLE FUNDS - GROUPED BY MONTH"
   ]
  },
  {
   "cell_type": "code",
   "execution_count": 13,
   "metadata": {},
   "outputs": [],
   "source": [
    "# Create a new dataframe with some statistic and the average return\n",
    "monthly_returns_all_funds_aggregated = monthly_returns_all_funds[['caldt', 'mret']].groupby('caldt').agg(\n",
    "    count=('mret', 'count'),\n",
    "    mret=('mret', 'mean'),\n",
    "    mret_max=('mret', 'max'),\n",
    "    mret_min=('mret', 'min'),\n",
    "    mret_sdt=('mret', 'std'),\n",
    ")"
   ]
  },
  {
   "cell_type": "code",
   "execution_count": 14,
   "metadata": {},
   "outputs": [],
   "source": [
    "monthly_returns_all_funds_aggregated.reset_index(inplace=True)\n",
    "monthly_returns_all_funds_aggregated['caldt'] = pd.to_datetime(monthly_returns_all_funds_aggregated['caldt'], format= '%Y-%m-%d')"
   ]
  },
  {
   "cell_type": "code",
   "execution_count": 15,
   "metadata": {},
   "outputs": [
    {
     "data": {
      "text/html": [
       "<div>\n",
       "<style scoped>\n",
       "    .dataframe tbody tr th:only-of-type {\n",
       "        vertical-align: middle;\n",
       "    }\n",
       "\n",
       "    .dataframe tbody tr th {\n",
       "        vertical-align: top;\n",
       "    }\n",
       "\n",
       "    .dataframe thead th {\n",
       "        text-align: right;\n",
       "    }\n",
       "</style>\n",
       "<table border=\"1\" class=\"dataframe\">\n",
       "  <thead>\n",
       "    <tr style=\"text-align: right;\">\n",
       "      <th></th>\n",
       "      <th>caldt</th>\n",
       "      <th>count</th>\n",
       "      <th>mret</th>\n",
       "      <th>mret_max</th>\n",
       "      <th>mret_min</th>\n",
       "      <th>mret_sdt</th>\n",
       "    </tr>\n",
       "  </thead>\n",
       "  <tbody>\n",
       "    <tr>\n",
       "      <th>457</th>\n",
       "      <td>2000-01-31</td>\n",
       "      <td>19</td>\n",
       "      <td>-0.024617</td>\n",
       "      <td>0.043946</td>\n",
       "      <td>-0.080595</td>\n",
       "      <td>0.035926</td>\n",
       "    </tr>\n",
       "    <tr>\n",
       "      <th>458</th>\n",
       "      <td>2000-02-29</td>\n",
       "      <td>19</td>\n",
       "      <td>0.032752</td>\n",
       "      <td>0.193975</td>\n",
       "      <td>-0.052006</td>\n",
       "      <td>0.076678</td>\n",
       "    </tr>\n",
       "    <tr>\n",
       "      <th>459</th>\n",
       "      <td>2000-03-31</td>\n",
       "      <td>19</td>\n",
       "      <td>0.020806</td>\n",
       "      <td>0.125203</td>\n",
       "      <td>-0.059077</td>\n",
       "      <td>0.048786</td>\n",
       "    </tr>\n",
       "    <tr>\n",
       "      <th>460</th>\n",
       "      <td>2000-04-28</td>\n",
       "      <td>19</td>\n",
       "      <td>-0.026431</td>\n",
       "      <td>0.003075</td>\n",
       "      <td>-0.107775</td>\n",
       "      <td>0.032489</td>\n",
       "    </tr>\n",
       "    <tr>\n",
       "      <th>461</th>\n",
       "      <td>2000-05-31</td>\n",
       "      <td>19</td>\n",
       "      <td>-0.015760</td>\n",
       "      <td>0.028455</td>\n",
       "      <td>-0.065211</td>\n",
       "      <td>0.027456</td>\n",
       "    </tr>\n",
       "    <tr>\n",
       "      <th>...</th>\n",
       "      <td>...</td>\n",
       "      <td>...</td>\n",
       "      <td>...</td>\n",
       "      <td>...</td>\n",
       "      <td>...</td>\n",
       "      <td>...</td>\n",
       "    </tr>\n",
       "    <tr>\n",
       "      <th>719</th>\n",
       "      <td>2021-11-30</td>\n",
       "      <td>1329</td>\n",
       "      <td>-0.020885</td>\n",
       "      <td>0.104516</td>\n",
       "      <td>-0.204944</td>\n",
       "      <td>0.024752</td>\n",
       "    </tr>\n",
       "    <tr>\n",
       "      <th>720</th>\n",
       "      <td>2021-12-31</td>\n",
       "      <td>1336</td>\n",
       "      <td>0.023558</td>\n",
       "      <td>0.160748</td>\n",
       "      <td>-0.231065</td>\n",
       "      <td>0.032606</td>\n",
       "    </tr>\n",
       "    <tr>\n",
       "      <th>721</th>\n",
       "      <td>2022-01-31</td>\n",
       "      <td>1355</td>\n",
       "      <td>-0.039980</td>\n",
       "      <td>0.268421</td>\n",
       "      <td>-0.250790</td>\n",
       "      <td>0.044322</td>\n",
       "    </tr>\n",
       "    <tr>\n",
       "      <th>722</th>\n",
       "      <td>2022-02-28</td>\n",
       "      <td>1357</td>\n",
       "      <td>-0.015859</td>\n",
       "      <td>0.146912</td>\n",
       "      <td>-0.405151</td>\n",
       "      <td>0.028031</td>\n",
       "    </tr>\n",
       "    <tr>\n",
       "      <th>723</th>\n",
       "      <td>2022-03-31</td>\n",
       "      <td>1350</td>\n",
       "      <td>0.004644</td>\n",
       "      <td>0.156997</td>\n",
       "      <td>-0.118245</td>\n",
       "      <td>0.028715</td>\n",
       "    </tr>\n",
       "  </tbody>\n",
       "</table>\n",
       "<p>267 rows × 6 columns</p>\n",
       "</div>"
      ],
      "text/plain": [
       "         caldt  count      mret  mret_max  mret_min  mret_sdt\n",
       "457 2000-01-31     19 -0.024617  0.043946 -0.080595  0.035926\n",
       "458 2000-02-29     19  0.032752  0.193975 -0.052006  0.076678\n",
       "459 2000-03-31     19  0.020806  0.125203 -0.059077  0.048786\n",
       "460 2000-04-28     19 -0.026431  0.003075 -0.107775  0.032489\n",
       "461 2000-05-31     19 -0.015760  0.028455 -0.065211  0.027456\n",
       "..         ...    ...       ...       ...       ...       ...\n",
       "719 2021-11-30   1329 -0.020885  0.104516 -0.204944  0.024752\n",
       "720 2021-12-31   1336  0.023558  0.160748 -0.231065  0.032606\n",
       "721 2022-01-31   1355 -0.039980  0.268421 -0.250790  0.044322\n",
       "722 2022-02-28   1357 -0.015859  0.146912 -0.405151  0.028031\n",
       "723 2022-03-31   1350  0.004644  0.156997 -0.118245  0.028715\n",
       "\n",
       "[267 rows x 6 columns]"
      ]
     },
     "execution_count": 15,
     "metadata": {},
     "output_type": "execute_result"
    }
   ],
   "source": [
    "monthly_returns_all_funds_aggregated = monthly_returns_all_funds_aggregated.loc[monthly_returns_all_funds_aggregated['caldt'] >= '2000-01-01']\n",
    "monthly_returns_all_funds_aggregated"
   ]
  },
  {
   "cell_type": "markdown",
   "metadata": {},
   "source": [
    "## GET AVERAGE RETURNS OVER TIME OF TRADITIONNAL BENCHMARKS"
   ]
  },
  {
   "cell_type": "code",
   "execution_count": null,
   "metadata": {},
   "outputs": [],
   "source": [
    "index_return_query = db.raw_sql(\"\"\"\n",
    "    select  \n",
    "    date,\n",
    "    vwretd \n",
    "    from crsp.msi\n",
    "    where \n",
    "    date>='2000-01-01'\"\"\", date_cols=['date']\n",
    "    )"
   ]
  },
  {
   "cell_type": "code",
   "execution_count": null,
   "metadata": {},
   "outputs": [],
   "source": [
    "left = monthly_returns_all_funds_aggregated[['mret', 'caldt']]\n",
    "right = index_return_query[['date', 'vwretd']]\n",
    "cumulative_data = pd.merge(left=left, right=right, how='inner', left_on='caldt', right_on='date')\n",
    "\n",
    "# Compute cumulative returns for both avg of funds and market\n",
    "cumulative_data['cum_ret_funds'] = (1 + cumulative_data['mret']).cumprod() - 1\n",
    "cumulative_data['cum_ret_mkt'] = (1 + cumulative_data['vwretd']).cumprod() - 1"
   ]
  },
  {
   "cell_type": "markdown",
   "metadata": {},
   "source": [
    "## GRAPH OF AVERAGE RETURNS OVER TIME WITH BENCHMARKS"
   ]
  },
  {
   "cell_type": "code",
   "execution_count": null,
   "metadata": {},
   "outputs": [],
   "source": [
    "# Rename df for better modularity\n",
    "data = monthly_returns_all_funds_aggregated.copy()"
   ]
  },
  {
   "cell_type": "code",
   "execution_count": null,
   "metadata": {},
   "outputs": [],
   "source": [
    "import matplotlib.pyplot as plt\n",
    "import numpy as np\n",
    "import seaborn as sns\n",
    "\n",
    "%matplotlib inline\n",
    "%config InlineBackend.figure_format='retina'\n",
    "\n",
    "sns.set(style=\"darkgrid\")\n",
    "sns.set_style(\"whitegrid\", {'axes.grid' : False})\n",
    "sns.set(rc={\"figure.figsize\":(18, 8)})"
   ]
  },
  {
   "cell_type": "code",
   "execution_count": null,
   "metadata": {},
   "outputs": [],
   "source": [
    "plt.tick_params(left=True,\n",
    "                bottom=True,\n",
    "                labelleft=True,\n",
    "                labelbottom=True)\n",
    "\n",
    "# Plot the average return of all mutual funds\n",
    "X=data['caldt'].dt.strftime('%Y-%m-%d')\n",
    "Y=data['mret']\n",
    "sns.lineplot(x=X, y=Y, linestyle='--')\n",
    "\n",
    "# Average Value Weighted Index - market\n",
    "X=index_return_query['date'].dt.strftime('%Y-%m-%d')\n",
    "Y=index_return_query['vwretd']\n",
    "sns.lineplot(x=X, y=Y, linestyle='--')\n",
    "\n",
    "lower_bound = data['mret'] + data['mret_sdt']\n",
    "upper_bound = data['mret'] - data['mret_sdt']\n",
    "\n",
    "plt.fill_between(X, lower_bound, upper_bound, alpha=.3)\n",
    "\n",
    "plt.xlabel('Time')\n",
    "plt.ylabel('Annual Return')\n",
    "plt.xticks(X[::12], rotation=45)\n",
    "\n",
    "plt.legend(['average monthly return of mutual funds', 'value weighted index of the market'])\n",
    "#plt.savefig('annual_return_plots.png', dpi=200)\n",
    "#plt.savefig('annual_return_plots_with_market.png', dpi=200)\n",
    "plt.show()"
   ]
  },
  {
   "cell_type": "markdown",
   "metadata": {},
   "source": [
    "### GET AND PLOT CUMULATIVE RETURNS"
   ]
  },
  {
   "cell_type": "code",
   "execution_count": null,
   "metadata": {},
   "outputs": [],
   "source": [
    "# Rename df for better modularity\n",
    "data = cumulative_data.copy()"
   ]
  },
  {
   "cell_type": "code",
   "execution_count": null,
   "metadata": {},
   "outputs": [],
   "source": [
    "# Plot the cumulative return of all mutual funds\n",
    "X=data['caldt'].dt.strftime('%Y-%m-%d')\n",
    "Y=data['cum_ret_funds']*100\n",
    "sns.lineplot(x=X, y=Y, linestyle='--')\n",
    "\n",
    "# Cumulative Value Weighted index return - market\n",
    "X=data['date'].dt.strftime('%Y-%m-%d')\n",
    "Y=data['cum_ret_mkt']*100\n",
    "sns.lineplot(x=X, y=Y, linestyle='--')\n",
    "\n",
    "plt.xlabel('Time')\n",
    "plt.ylabel('Cumulative return (in %)')\n",
    "plt.title('Cumulative Return of the average return of the mutual funds and the value weighted market index')\n",
    "plt.xticks(X[::12], rotation=45)\n",
    "\n",
    "plt.legend(['Average Performance of mutual funds', 'Value Weighted Market Index'])\n",
    "#plt.savefig('comparisons_with_vw_market.png', dpi=200)\n",
    "\n",
    "plt.show()"
   ]
  },
  {
   "cell_type": "markdown",
   "metadata": {},
   "source": [
    "## FIND VARIABLE NAME IN SCHEMA"
   ]
  },
  {
   "cell_type": "code",
   "execution_count": null,
   "metadata": {},
   "outputs": [],
   "source": [
    "%%time\n",
    "for table in db.list_tables(library='crsp'):\n",
    "    try:\n",
    "        l= list(filter(lambda x: ('crsp_fundno' in x) and ('cik' in x), db.get_table(library='crsp_q_mutualfunds', table=table, obs=1).keys()))\n",
    "    except:\n",
    "        pass\n",
    "    if len(l) > 0:\n",
    "        print(table, \"---\", l)"
   ]
  },
  {
   "cell_type": "code",
   "execution_count": null,
   "metadata": {},
   "outputs": [],
   "source": [
    "%%time\n",
    "for table in db.list_tables(library='crsp'):\n",
    "    try:\n",
    "        tab_keys = db.get_table(library='crsp_q_mutualfunds', table=table, obs=1).keys()\n",
    "        l = list(filter(lambda x: 'cik' in x, tab_keys))\n",
    "    except:\n",
    "        pass\n",
    "    if len(l) > 0:\n",
    "        print(table, \"---\", l, tab_keys)"
   ]
  },
  {
   "cell_type": "code",
   "execution_count": null,
   "metadata": {},
   "outputs": [],
   "source": [
    "%%time\n",
    "for table in db.list_tables(library='crsp'):\n",
    "    try:\n",
    "        l= list(filter(lambda x: 'cik' in x, db.get_table(library='crsp', table=table, obs=1).keys()))\n",
    "    except:\n",
    "        pass\n",
    "    if len(l) > 0:\n",
    "        print(table, \"---\", l)"
   ]
  },
  {
   "cell_type": "markdown",
   "metadata": {},
   "source": [
    "## TRY SOME QUERIES"
   ]
  },
  {
   "cell_type": "code",
   "execution_count": null,
   "metadata": {
    "pycharm": {
     "name": "#%%\n"
    }
   },
   "outputs": [],
   "source": [
    "# Connection to WRDS\n",
    "import wrds\n",
    "db = wrds.Connection(wrds_username='etiennebruno')"
   ]
  },
  {
   "cell_type": "code",
   "execution_count": null,
   "metadata": {
    "pycharm": {
     "name": "#%%\n"
    }
   },
   "outputs": [],
   "source": [
    "db.list_libraries().sort()\n",
    "db.list_libraries()"
   ]
  },
  {
   "cell_type": "code",
   "execution_count": null,
   "metadata": {
    "pycharm": {
     "name": "#%%\n"
    }
   },
   "outputs": [],
   "source": [
    "# List the tables of a given library\n",
    "db.list_tables(library='crsp')"
   ]
  },
  {
   "cell_type": "code",
   "execution_count": null,
   "metadata": {
    "pycharm": {
     "name": "#%%\n"
    }
   },
   "outputs": [],
   "source": [
    "# Get data\n",
    "daily = db.get_table(library='crsp', table='fund_summary2', obs=10)"
   ]
  },
  {
   "cell_type": "code",
   "execution_count": null,
   "metadata": {
    "pycharm": {
     "name": "#%%\n"
    }
   },
   "outputs": [],
   "source": [
    "# Get funds name over a given period\n",
    "df_funds_map = db.raw_sql('''\n",
    "        select distinct on (fund_name) fund_name, ticker, ncusip, cusip8\n",
    "        from crsp.portnomap\n",
    "        where begdt <= '2020-01-01' --and enddt >= '2022-01-01'\n",
    "        order by fund_name asc\n",
    "''')"
   ]
  },
  {
   "cell_type": "code",
   "execution_count": null,
   "metadata": {
    "pycharm": {
     "name": "#%%\n"
    }
   },
   "outputs": [],
   "source": [
    "# Get funds name over containing some strings of the S&P 500\n",
    "db.raw_sql('''\n",
    "        select distinct fund_name\n",
    "        from crsp.portnomap\n",
    "        where lower(fund_name::text) LIKE '%%s&p%%'\n",
    "            and lower(fund_name::text) LIKE '%%500%%'\n",
    "            --and lower(fund_name::text) LIKE '%%bond%%'\n",
    "            --and lower(fund_name::text) LIKE '%%national%%'\n",
    "            --and caldt >= '2010-01-31'\n",
    "     limit 100\n",
    "''')"
   ]
  },
  {
   "cell_type": "code",
   "execution_count": null,
   "metadata": {
    "pycharm": {
     "name": "#%%\n"
    }
   },
   "outputs": [],
   "source": [
    "db.raw_sql('''\n",
    "        select *\n",
    "        from crsp.fund_summary2\n",
    "        where fund_name LIKE '%%FundVantage Trust: Gotham Enhanced S&P 500 Index Fund; Institutional Class Shares%%'\n",
    "        --and caldt >= '2010-01-31'\n",
    "''')"
   ]
  },
  {
   "cell_type": "code",
   "execution_count": null,
   "metadata": {
    "pycharm": {
     "name": "#%%\n"
    }
   },
   "outputs": [],
   "source": [
    "db.raw_sql('''\n",
    "        select *\n",
    "        from crsp.portnomap\n",
    "        where (fund_name::text) LIKE '%%FundVantage Trust: Gotham Enhanced S&P 500 Index Fund; Institutional Class Shares%%'\n",
    "        --and caldt >= '2010-01-31'\n",
    "''')"
   ]
  },
  {
   "cell_type": "code",
   "execution_count": null,
   "metadata": {
    "pycharm": {
     "name": "#%%\n"
    }
   },
   "outputs": [],
   "source": [
    "db.raw_sql('''\n",
    "        select crsp_fundno, count(mret), max(mret), avg(mret)\n",
    "        from crsp_q_mutualfunds.monthly_tna_ret_nav\n",
    "        group by crsp_fundno\n",
    "        order by count(mret) desc\n",
    "     limit 10\n",
    "''')"
   ]
  }
 ],
 "metadata": {
  "kernelspec": {
   "display_name": "Python 3 (ipykernel)",
   "language": "python",
   "name": "python3"
  },
  "language_info": {
   "codemirror_mode": {
    "name": "ipython",
    "version": 3
   },
   "file_extension": ".py",
   "mimetype": "text/x-python",
   "name": "python",
   "nbconvert_exporter": "python",
   "pygments_lexer": "ipython3",
   "version": "3.9.12"
  }
 },
 "nbformat": 4,
 "nbformat_minor": 1
}
